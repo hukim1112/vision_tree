{
 "cells": [
  {
   "cell_type": "code",
   "execution_count": 1,
   "metadata": {},
   "outputs": [],
   "source": [
    "import treelib\n",
    "import numpy as np\n",
    "import plotly"
   ]
  },
  {
   "cell_type": "code",
   "execution_count": 2,
   "metadata": {},
   "outputs": [],
   "source": [
    "L4 = np.load(\"1-17.npy\")\n",
    "L3 = np.load(\"1-12.npy\")\n",
    "L2 = np.load(\"1-7.npy\")\n",
    "L1 = np.load(\"1-2.npy\")"
   ]
  },
  {
   "cell_type": "code",
   "execution_count": 3,
   "metadata": {},
   "outputs": [
    {
     "name": "stdout",
     "output_type": "stream",
     "text": [
      "(1, 16) (16, 16) (16, 16) (16, 3)\n"
     ]
    }
   ],
   "source": [
    "print(L1.shape, L2.shape, L3.shape, L4.shape)"
   ]
  },
  {
   "cell_type": "code",
   "execution_count": null,
   "metadata": {},
   "outputs": [],
   "source": []
  },
  {
   "cell_type": "code",
   "execution_count": null,
   "metadata": {},
   "outputs": [],
   "source": [
    "from treelib import Node, Tree\n",
    "\n",
    "tree = Tree()\n",
    "tree.create_node(\"class0\", \"L4-1\")"
   ]
  },
  {
   "cell_type": "code",
   "execution_count": null,
   "metadata": {},
   "outputs": [],
   "source": []
  },
  {
   "cell_type": "code",
   "execution_count": 4,
   "metadata": {},
   "outputs": [
    {
     "name": "stdout",
     "output_type": "stream",
     "text": [
      "[[  0 -19   0]\n",
      " [  0  -3   0]\n",
      " [  0   0   0]\n",
      " [  0 -20   0]\n",
      " [  0 -29   0]\n",
      " [  0 -34   0]\n",
      " [  0   0   0]\n",
      " [  0 -20   0]\n",
      " [  0 -15   0]\n",
      " [  0 -12   0]\n",
      " [  0   0   0]\n",
      " [  0  94   0]\n",
      " [  0  41   0]\n",
      " [  0  58   0]\n",
      " [  0  22   0]\n",
      " [  0  -2   0]]\n"
     ]
    }
   ],
   "source": [
    "print(((1-L4)*100).astype(np.int32))"
   ]
  },
  {
   "cell_type": "code",
   "execution_count": 5,
   "metadata": {},
   "outputs": [
    {
     "name": "stdout",
     "output_type": "stream",
     "text": [
      "[[ 10   0  -3   4   0  -6  -4  -1   1   4  -3  16   4  10   5  -7]\n",
      " [  5  -6  -8   0  -4   7   1  -3   1   1   0  13   6  14  18   1]\n",
      " [  1   0  -1   4  13   1  -1   0   0  -5  -2 -10  -2  -2   9   5]\n",
      " [ -2  -3   4   0   7  12 -10   0   0   0  -7 -17   4  -1  -1   4]\n",
      " [  0  -3  -6  10   9  -1  -6  14   0   4   0   3  15  -5   2 -13]\n",
      " [  0   8 -20  18  26  17  -7  11   9   3  -5   6  12  10   3  -3]\n",
      " [  3  -5  -5   3  -2  -1  -2  12  -3   6  -4   9  -1   6  11   8]\n",
      " [ -4  11  -8  12   5  -5   0   8  -1   8  -1   9  -3   1  10  11]\n",
      " [  5 -11   0  -4  -3   6   0  -7   0  -1   1   8   0  13   8 -11]\n",
      " [ 11  -3 -12   0  -5   0  -9  -9  10   4   0  31  18  10   9   1]\n",
      " [ -1   7  -6  33  -1   9   0  16  19   4  -9   6  -7   0 -11   6]\n",
      " [ 10   4 -12   1   4  23   6  24  11   1  -7  10 -13  -2  -8  14]\n",
      " [  3  -3  -6   9   8   6  -6   3   0  -1  -5   1   4   3  -1   4]\n",
      " [  3  -1  -2   4  -9   0  -4 -14  -1   1   0   5  16  24   7  -7]\n",
      " [  2  -5  -1   4   7   4  -3  -1  -4  -4  -1   3   0   1   0  -2]\n",
      " [  0  10  -3   2   3  -6  -2   0  -2   4  -5  11   5   3   4   3]]\n"
     ]
    }
   ],
   "source": [
    "print(((1-L3)*1000).astype(np.int32))"
   ]
  },
  {
   "cell_type": "code",
   "execution_count": 6,
   "metadata": {},
   "outputs": [
    {
     "name": "stdout",
     "output_type": "stream",
     "text": [
      "[[ -8 -10 -14  -4  15   7  25  17  -1   9  35   4  -8  -5  16  18]\n",
      " [  0  23   4   3  17  37  16  21   0  19   9  -6  20 -21  -2  15]\n",
      " [  3   2  -3   1   2   0  -3  -2   5   7   0   2   0   2   0   1]\n",
      " [  3  -8  -5   2   8  -9   1  19   2   9  15   7  -7   2  -7   8]\n",
      " [ 13  17  -1  -9  -4   0   1  14  11  16  -3 -15 -10   4  -4  13]\n",
      " [  0 -16   2   5   9   1   5  15 -11 -10   4  16   2 -11  -8  -3]\n",
      " [ 11   0  13   6  21  30  19  19  -9   5  32   6  12  10  25 -11]\n",
      " [  6   3   7   0  10  25   3 -13  27  13   2   1   9  -5   7  17]\n",
      " [ 36   7  24 -25  18  10   0  28 -29  -8  58  53  45  28   2  -2]\n",
      " [  6  -4   0   6  -1  -2   0  15  -1   1   2   4   3   2  -1  -1]\n",
      " [  1  -7   6   5   9  29  13  16  -4  -3  24   6  12   6  15   9]\n",
      " [ -3  -3  -6   4  34  31  14  21 -15   0   1  36   4   2  -2  13]\n",
      " [  9  26 -11   0 -25  10  -7 -13  22  30 -10   9  -7  18  -4  -5]\n",
      " [ 23  12   0   4  31  13  11   7  -1   2  18   9   7  17  22   2]\n",
      " [ -1   0  -3 -10   2  10   4  -1   5  15  -4   8   4   2  17   5]\n",
      " [ -3 -20  16  34  19  33   0   6  10  -9  17  12  12  -6   4  -2]]\n"
     ]
    }
   ],
   "source": [
    "print(((1-L2)*10000).astype(np.int32))"
   ]
  },
  {
   "cell_type": "code",
   "execution_count": null,
   "metadata": {},
   "outputs": [],
   "source": []
  }
 ],
 "metadata": {
  "kernelspec": {
   "display_name": "Python 3",
   "language": "python",
   "name": "python3"
  },
  "language_info": {
   "codemirror_mode": {
    "name": "ipython",
    "version": 3
   },
   "file_extension": ".py",
   "mimetype": "text/x-python",
   "name": "python",
   "nbconvert_exporter": "python",
   "pygments_lexer": "ipython3",
   "version": "3.6.9"
  }
 },
 "nbformat": 4,
 "nbformat_minor": 4
}
