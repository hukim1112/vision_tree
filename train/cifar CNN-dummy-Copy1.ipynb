{
 "cells": [
  {
   "cell_type": "code",
   "execution_count": 1,
   "metadata": {},
   "outputs": [],
   "source": [
    "%load_ext autoreload\n",
    "%autoreload 2\n",
    "\n",
    "import os, sys\n",
    "import tensorflow as tf\n",
    "import cv2\n",
    "import numpy as np\n",
    "from matplotlib import pyplot as plt\n",
    "import seaborn as sns\n",
    "sys.path.append(\"/home/files/vision_tree\")\n",
    "from utils.session_config import setup_gpus"
   ]
  },
  {
   "cell_type": "code",
   "execution_count": 2,
   "metadata": {},
   "outputs": [
    {
     "name": "stdout",
     "output_type": "stream",
     "text": [
      "1 Physical GPUs, 1 Logical GPUs\n"
     ]
    }
   ],
   "source": [
    "os.environ[\"CUDA_VISIBLE_DEVICES\"]=\"1\"\n",
    "setup_gpus(memory_fraction=0.7)"
   ]
  },
  {
   "cell_type": "code",
   "execution_count": 3,
   "metadata": {},
   "outputs": [
    {
     "name": "stdout",
     "output_type": "stream",
     "text": [
      "(50000, 32, 32, 3)\n",
      "(10000, 32, 32, 3)\n"
     ]
    }
   ],
   "source": [
    "# mnist classification\n",
    "(train_x, train_y), (test_x, test_y) = tf.keras.datasets.cifar10.load_data()\n",
    "train_x = tf.cast(train_x/255., tf.float32)\n",
    "test_x = tf.cast(test_x/255., tf.float32)\n",
    "print(train_x.shape)\n",
    "print(test_x.shape)"
   ]
  },
  {
   "cell_type": "code",
   "execution_count": 4,
   "metadata": {},
   "outputs": [],
   "source": [
    "train_ds = tf.data.Dataset.from_tensor_slices((train_x,train_y)).shuffle(50000, reshuffle_each_iteration=False)"
   ]
  },
  {
   "cell_type": "code",
   "execution_count": 5,
   "metadata": {},
   "outputs": [],
   "source": [
    "train_ds = train_ds.shuffle(1000).batch(64).prefetch(tf.data.experimental.AUTOTUNE)"
   ]
  },
  {
   "cell_type": "code",
   "execution_count": 6,
   "metadata": {},
   "outputs": [],
   "source": [
    "from tensorflow.keras.layers import InputLayer, Conv2D, MaxPool2D, Flatten, Dense, ReLU, BatchNormalization, GlobalAveragePooling2D\n",
    "\n",
    "model = tf.keras.Sequential()\n",
    "model.add(Conv2D(512, (3,3)))\n",
    "model.add(ReLU())\n",
    "model.add(Conv2D(512, (3,3)))\n",
    "model.add(ReLU())\n",
    "model.add(Conv2D(512, (3,3)))\n",
    "model.add(ReLU())\n",
    "model.add(Conv2D(512, (3,3)))\n",
    "model.add(ReLU())\n",
    "model.add(Conv2D(512, (3,3)))\n",
    "model.add(ReLU())\n",
    "model.add(Conv2D(512, (3,3)))\n",
    "model.add(ReLU())\n",
    "model.add(Conv2D(512, (3,3)))\n",
    "model.add(ReLU())\n",
    "model.add(Conv2D(512, (3,3)))\n",
    "model.add(ReLU())\n",
    "model.add(Conv2D(512, (3,3)))\n",
    "model.add(ReLU())\n",
    "model.add(Conv2D(512, (3,3)))\n",
    "model.add(ReLU())\n",
    "model.add(Conv2D(512, (3,3)))\n",
    "model.add(ReLU())\n",
    "model.add(Conv2D(512, (3,3)))\n",
    "model.add(ReLU())\n",
    "model.add(GlobalAveragePooling2D())\n",
    "model.add(Dense(10, activation='softmax'))\n",
    "\n",
    "model.compile(optimizer='Adam', loss=tf.keras.losses.SparseCategoricalCrossentropy(), metrics=['acc'])"
   ]
  },
  {
   "cell_type": "code",
   "execution_count": null,
   "metadata": {},
   "outputs": [
    {
     "name": "stdout",
     "output_type": "stream",
     "text": [
      "Epoch 1/100000\n",
      "  2/782 [..............................] - ETA: 41s - loss: 2.6414 - acc: 0.1172WARNING:tensorflow:Callbacks method `on_train_batch_end` is slow compared to the batch time (batch time: 0.0346s vs `on_train_batch_end` time: 0.0705s). Check your callbacks.\n",
      "782/782 [==============================] - 88s 113ms/step - loss: 2.3082 - acc: 0.0982 - val_loss: 2.3026 - val_acc: 0.1000\n",
      "Epoch 2/100000\n",
      "782/782 [==============================] - 87s 111ms/step - loss: 2.3027 - acc: 0.0965 - val_loss: 2.3026 - val_acc: 0.1000\n",
      "Epoch 3/100000\n",
      "782/782 [==============================] - 86s 110ms/step - loss: 2.3027 - acc: 0.0969 - val_loss: 2.3026 - val_acc: 0.1000\n",
      "Epoch 4/100000\n",
      "782/782 [==============================] - 86s 111ms/step - loss: 2.3027 - acc: 0.0968 - val_loss: 2.3026 - val_acc: 0.1000\n",
      "Epoch 5/100000\n",
      "782/782 [==============================] - 87s 111ms/step - loss: 2.3028 - acc: 0.0982 - val_loss: 2.3026 - val_acc: 0.1000\n",
      "Epoch 6/100000\n",
      "130/782 [===>..........................] - ETA: 1:07 - loss: 2.3028 - acc: 0.0970"
     ]
    }
   ],
   "source": [
    "model.fit(train_ds, epochs=100000, validation_data=(test_x, test_y))\n",
    "model.evaluate(test_x, test_y)"
   ]
  },
  {
   "cell_type": "code",
   "execution_count": null,
   "metadata": {},
   "outputs": [],
   "source": [
    "model.save(\"ckpt/dummy.h5\")"
   ]
  },
  {
   "cell_type": "code",
   "execution_count": null,
   "metadata": {},
   "outputs": [],
   "source": []
  }
 ],
 "metadata": {
  "kernelspec": {
   "display_name": "Python 3",
   "language": "python",
   "name": "python3"
  },
  "language_info": {
   "codemirror_mode": {
    "name": "ipython",
    "version": 3
   },
   "file_extension": ".py",
   "mimetype": "text/x-python",
   "name": "python",
   "nbconvert_exporter": "python",
   "pygments_lexer": "ipython3",
   "version": "3.6.9"
  }
 },
 "nbformat": 4,
 "nbformat_minor": 4
}
