{
 "cells": [
  {
   "cell_type": "code",
   "execution_count": null,
   "metadata": {},
   "outputs": [],
   "source": [
    "%load_ext autoreload\n",
    "%autoreload 2\n",
    "\n",
    "import os, sys\n",
    "import tensorflow as tf\n",
    "import cv2\n",
    "import numpy as np\n",
    "from matplotlib import pyplot as plt\n",
    "import seaborn as sns\n",
    "sys.path.append(\"/home/files/feature_orthogonality\")\n",
    "from utils.session_config import setup_gpus"
   ]
  },
  {
   "cell_type": "code",
   "execution_count": null,
   "metadata": {},
   "outputs": [],
   "source": [
    "os.environ[\"CUDA_VISIBLE_DEVICES\"]=\"1\"\n",
    "setup_gpus(memory_fraction=0.2)"
   ]
  },
  {
   "cell_type": "code",
   "execution_count": null,
   "metadata": {},
   "outputs": [],
   "source": [
    "from tensorflow.keras.layers import Conv2D, MaxPool2D, Flatten, Dense, ReLU, BatchNormalization, GlobalAveragePooling2D\n",
    "from utils.losses import L2_Orthogonal"
   ]
  },
  {
   "cell_type": "code",
   "execution_count": null,
   "metadata": {},
   "outputs": [],
   "source": [
    "data_0 = np.load(\"0.npy\")\n",
    "label_0 = np.zeros(len(data_0), np.int32)\n",
    "data_5 = np.load(\"5.npy\")\n",
    "label_5 = np.ones(len(data_5), np.int32)\n",
    "data_7 = np.load(\"7.npy\")\n",
    "label_7 = np.ones(len(data_7), np.int32)*2\n",
    "\n",
    "train_x = tf.concat([data_0, data_5, data_7], axis=0)\n",
    "train_x = tf.cast(train_x, tf.float32)\n",
    "train_x = train_x[:,:,:,tf.newaxis]/255.\n",
    "train_y = tf.concat([label_0, label_5, label_7], axis=0)\n",
    "\n",
    "x = tf.data.Dataset.from_tensor_slices(train_x)\n",
    "y = tf.data.Dataset.from_tensor_slices(train_y)\n",
    "ds = tf.data.Dataset.zip((x, y))\n",
    "ds = ds.shuffle(len(train_x), reshuffle_each_iteration=False).shuffle(1000).batch(32).prefetch(tf.data.experimental.AUTOTUNE)\n",
    "\n",
    "model = tf.keras.Sequential()\n",
    "model.add(Conv2D(16, (3,3), kernel_regularizer=L2_Orthogonal()))\n",
    "model.add(ReLU())\n",
    "model.add(MaxPool2D())\n",
    "model.add(Conv2D(16, (3,3), kernel_regularizer=L2_Orthogonal()))\n",
    "model.add(ReLU())\n",
    "model.add(MaxPool2D())\n",
    "model.add(Conv2D(16, (3,3), kernel_regularizer=L2_Orthogonal()))\n",
    "model.add(ReLU())\n",
    "model.add(GlobalAveragePooling2D())\n",
    "model.add(Dense(3, activation='softmax', kernel_regularizer='l2'))"
   ]
  },
  {
   "cell_type": "code",
   "execution_count": null,
   "metadata": {},
   "outputs": [],
   "source": []
  }
 ],
 "metadata": {
  "kernelspec": {
   "display_name": "Python 3",
   "language": "python",
   "name": "python3"
  },
  "language_info": {
   "codemirror_mode": {
    "name": "ipython",
    "version": 3
   },
   "file_extension": ".py",
   "mimetype": "text/x-python",
   "name": "python",
   "nbconvert_exporter": "python",
   "pygments_lexer": "ipython3",
   "version": "3.6.9"
  }
 },
 "nbformat": 4,
 "nbformat_minor": 4
}
