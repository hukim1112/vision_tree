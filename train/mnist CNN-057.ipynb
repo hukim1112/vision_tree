{
 "cells": [
  {
   "cell_type": "code",
   "execution_count": 1,
   "metadata": {},
   "outputs": [],
   "source": [
    "%load_ext autoreload\n",
    "%autoreload 2\n",
    "\n",
    "import os, sys\n",
    "import tensorflow as tf\n",
    "import cv2\n",
    "import numpy as np\n",
    "from matplotlib import pyplot as plt\n",
    "import seaborn as sns\n",
    "sys.path.append(\"/home/files/vision_tree\")\n",
    "from utils.session_config import setup_gpus"
   ]
  },
  {
   "cell_type": "code",
   "execution_count": 2,
   "metadata": {},
   "outputs": [
    {
     "name": "stdout",
     "output_type": "stream",
     "text": [
      "1 Physical GPUs, 1 Logical GPUs\n"
     ]
    }
   ],
   "source": [
    "os.environ[\"CUDA_VISIBLE_DEVICES\"]=\"1\"\n",
    "setup_gpus(memory_fraction=0.2)"
   ]
  },
  {
   "cell_type": "code",
   "execution_count": 3,
   "metadata": {},
   "outputs": [],
   "source": [
    "from tensorflow.keras.layers import Conv2D, MaxPool2D, Flatten, Dense, ReLU, BatchNormalization, GlobalAveragePooling2D\n",
    "from utils.losses import L2_Orthogonal"
   ]
  },
  {
   "cell_type": "code",
   "execution_count": 4,
   "metadata": {},
   "outputs": [
    {
     "name": "stdout",
     "output_type": "stream",
     "text": [
      "Epoch 1/5\n",
      "551/551 [==============================] - 2s 4ms/step - loss: 0.3012 - acc: 0.9349\n",
      "Epoch 2/5\n",
      "551/551 [==============================] - 2s 4ms/step - loss: 0.1208 - acc: 0.9899\n",
      "Epoch 3/5\n",
      "551/551 [==============================] - 2s 4ms/step - loss: 0.1074 - acc: 0.9924\n",
      "Epoch 4/5\n",
      "551/551 [==============================] - 2s 4ms/step - loss: 0.1011 - acc: 0.9920\n",
      "Epoch 5/5\n",
      "551/551 [==============================] - 2s 4ms/step - loss: 0.0940 - acc: 0.9936\n"
     ]
    },
    {
     "ename": "NameError",
     "evalue": "name 'test_x' is not defined",
     "output_type": "error",
     "traceback": [
      "\u001b[0;31m---------------------------------------------------------------------------\u001b[0m",
      "\u001b[0;31mNameError\u001b[0m                                 Traceback (most recent call last)",
      "\u001b[0;32m<ipython-input-4-35a96cb29e52>\u001b[0m in \u001b[0;36m<module>\u001b[0;34m\u001b[0m\n\u001b[1;32m     30\u001b[0m \u001b[0mmodel\u001b[0m\u001b[0;34m.\u001b[0m\u001b[0mcompile\u001b[0m\u001b[0;34m(\u001b[0m\u001b[0moptimizer\u001b[0m\u001b[0;34m=\u001b[0m\u001b[0;34m'Adam'\u001b[0m\u001b[0;34m,\u001b[0m \u001b[0mloss\u001b[0m\u001b[0;34m=\u001b[0m\u001b[0mtf\u001b[0m\u001b[0;34m.\u001b[0m\u001b[0mkeras\u001b[0m\u001b[0;34m.\u001b[0m\u001b[0mlosses\u001b[0m\u001b[0;34m.\u001b[0m\u001b[0mSparseCategoricalCrossentropy\u001b[0m\u001b[0;34m(\u001b[0m\u001b[0;34m)\u001b[0m\u001b[0;34m,\u001b[0m \u001b[0mmetrics\u001b[0m\u001b[0;34m=\u001b[0m\u001b[0;34m[\u001b[0m\u001b[0;34m'acc'\u001b[0m\u001b[0;34m]\u001b[0m\u001b[0;34m)\u001b[0m\u001b[0;34m\u001b[0m\u001b[0;34m\u001b[0m\u001b[0m\n\u001b[1;32m     31\u001b[0m \u001b[0mmodel\u001b[0m\u001b[0;34m.\u001b[0m\u001b[0mfit\u001b[0m\u001b[0;34m(\u001b[0m\u001b[0mds\u001b[0m\u001b[0;34m,\u001b[0m \u001b[0mepochs\u001b[0m\u001b[0;34m=\u001b[0m\u001b[0;36m5\u001b[0m\u001b[0;34m)\u001b[0m\u001b[0;34m\u001b[0m\u001b[0;34m\u001b[0m\u001b[0m\n\u001b[0;32m---> 32\u001b[0;31m \u001b[0mmodel\u001b[0m\u001b[0;34m.\u001b[0m\u001b[0mevaluate\u001b[0m\u001b[0;34m(\u001b[0m\u001b[0mtest_x\u001b[0m\u001b[0;34m,\u001b[0m \u001b[0mtest_y\u001b[0m\u001b[0;34m)\u001b[0m\u001b[0;34m\u001b[0m\u001b[0;34m\u001b[0m\u001b[0m\n\u001b[0m",
      "\u001b[0;31mNameError\u001b[0m: name 'test_x' is not defined"
     ]
    }
   ],
   "source": [
    "data_0 = np.load(\"/home/files/datasets/mnist/0.npy\")\n",
    "label_0 = np.zeros(len(data_0), np.int32)\n",
    "data_5 = np.load(\"/home/files/datasets/mnist/5.npy\")\n",
    "label_5 = np.ones(len(data_5), np.int32)\n",
    "data_7 = np.load(\"/home/files/datasets/mnist/7.npy\")\n",
    "label_7 = np.ones(len(data_7), np.int32)*2\n",
    "\n",
    "train_x = tf.concat([data_0, data_5, data_7], axis=0)\n",
    "train_x = tf.cast(train_x, tf.float32)\n",
    "train_x = train_x[:,:,:,tf.newaxis]/255.\n",
    "train_y = tf.concat([label_0, label_5, label_7], axis=0)\n",
    "\n",
    "x = tf.data.Dataset.from_tensor_slices(train_x)\n",
    "y = tf.data.Dataset.from_tensor_slices(train_y)\n",
    "ds = tf.data.Dataset.zip((x, y))\n",
    "ds = ds.shuffle(len(train_x), reshuffle_each_iteration=False).shuffle(1000).batch(32).prefetch(tf.data.experimental.AUTOTUNE)\n",
    "\n",
    "model = tf.keras.Sequential()\n",
    "model.add(Conv2D(16, (3,3), kernel_regularizer=L2_Orthogonal()))\n",
    "model.add(ReLU())\n",
    "model.add(MaxPool2D())\n",
    "model.add(Conv2D(16, (3,3), kernel_regularizer=L2_Orthogonal()))\n",
    "model.add(ReLU())\n",
    "model.add(MaxPool2D())\n",
    "model.add(Conv2D(16, (3,3), kernel_regularizer=L2_Orthogonal()))\n",
    "model.add(ReLU())\n",
    "model.add(GlobalAveragePooling2D())\n",
    "model.add(Dense(3, activation='softmax', kernel_regularizer='l2'))\n",
    "\n",
    "model.compile(optimizer='Adam', loss=tf.keras.losses.SparseCategoricalCrossentropy(), metrics=['acc'])\n",
    "model.fit(ds, epochs=5)"
   ]
  },
  {
   "cell_type": "code",
   "execution_count": 5,
   "metadata": {},
   "outputs": [],
   "source": [
    "model.save(\"ckpt/mnist_cnn/orthogonal_057.h5\")"
   ]
  },
  {
   "cell_type": "code",
   "execution_count": 6,
   "metadata": {},
   "outputs": [
    {
     "name": "stdout",
     "output_type": "stream",
     "text": [
      "Epoch 1/5\n",
      "551/551 [==============================] - 1s 2ms/step - loss: 0.2094 - acc: 0.9347\n",
      "Epoch 2/5\n",
      "551/551 [==============================] - 1s 2ms/step - loss: 0.0371 - acc: 0.9886\n",
      "Epoch 3/5\n",
      "551/551 [==============================] - 1s 2ms/step - loss: 0.0261 - acc: 0.9920\n",
      "Epoch 4/5\n",
      "551/551 [==============================] - 1s 2ms/step - loss: 0.0197 - acc: 0.9934\n",
      "Epoch 5/5\n",
      "551/551 [==============================] - 1s 2ms/step - loss: 0.0172 - acc: 0.9945\n"
     ]
    },
    {
     "data": {
      "text/plain": [
       "<tensorflow.python.keras.callbacks.History at 0x7fab7463c518>"
      ]
     },
     "execution_count": 6,
     "metadata": {},
     "output_type": "execute_result"
    }
   ],
   "source": [
    "\n",
    "model = tf.keras.Sequential()\n",
    "model.add(Conv2D(16, (3,3)))\n",
    "model.add(ReLU())\n",
    "model.add(MaxPool2D())\n",
    "model.add(Conv2D(16, (3,3)))\n",
    "model.add(ReLU())\n",
    "model.add(MaxPool2D())\n",
    "model.add(Conv2D(16, (3,3)))\n",
    "model.add(ReLU())\n",
    "model.add(GlobalAveragePooling2D())\n",
    "model.add(Dense(3, activation='softmax'))\n",
    "\n",
    "model.compile(optimizer='Adam', loss=tf.keras.losses.SparseCategoricalCrossentropy(), metrics=['acc'])\n",
    "model.fit(ds, epochs=5)"
   ]
  },
  {
   "cell_type": "code",
   "execution_count": 7,
   "metadata": {},
   "outputs": [],
   "source": [
    "model.save(\"ckpt/mnist_cnn/057.h5\")"
   ]
  },
  {
   "cell_type": "code",
   "execution_count": null,
   "metadata": {},
   "outputs": [],
   "source": []
  }
 ],
 "metadata": {
  "kernelspec": {
   "display_name": "Python 3",
   "language": "python",
   "name": "python3"
  },
  "language_info": {
   "codemirror_mode": {
    "name": "ipython",
    "version": 3
   },
   "file_extension": ".py",
   "mimetype": "text/x-python",
   "name": "python",
   "nbconvert_exporter": "python",
   "pygments_lexer": "ipython3",
   "version": "3.6.9"
  }
 },
 "nbformat": 4,
 "nbformat_minor": 4
}
