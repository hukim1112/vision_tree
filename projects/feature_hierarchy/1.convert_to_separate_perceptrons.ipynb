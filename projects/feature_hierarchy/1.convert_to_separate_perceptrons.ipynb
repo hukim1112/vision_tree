{
 "cells": [
  {
   "cell_type": "code",
   "execution_count": 1,
   "metadata": {},
   "outputs": [],
   "source": [
    "%load_ext autoreload\n",
    "%autoreload 2\n",
    "\n",
    "import os, sys\n",
    "sys.path.append(\"/home/files/feature_orthogonality\")\n",
    "from utils.session_config import setup_gpus"
   ]
  },
  {
   "cell_type": "code",
   "execution_count": 2,
   "metadata": {},
   "outputs": [],
   "source": [
    "import tensorflow as tf\n",
    "import cv2\n",
    "import numpy as np\n",
    "from matplotlib import pyplot as plt\n",
    "import seaborn as sns"
   ]
  },
  {
   "cell_type": "code",
   "execution_count": 3,
   "metadata": {},
   "outputs": [
    {
     "name": "stdout",
     "output_type": "stream",
     "text": [
      "1 Physical GPUs, 1 Logical GPUs\n"
     ]
    }
   ],
   "source": [
    "os.environ[\"CUDA_VISIBLE_DEVICES\"]=\"1\"\n",
    "setup_gpus(memory_fraction=0.2)"
   ]
  },
  {
   "cell_type": "code",
   "execution_count": 4,
   "metadata": {},
   "outputs": [],
   "source": [
    "from tensorflow.keras.layers import InputLayer, Conv2D, MaxPool2D, Flatten, Dense, ReLU, BatchNormalization, GlobalAveragePooling2D\n",
    "from utils.losses import L2_Orthogonal"
   ]
  },
  {
   "cell_type": "code",
   "execution_count": null,
   "metadata": {},
   "outputs": [],
   "source": []
  },
  {
   "cell_type": "code",
   "execution_count": 5,
   "metadata": {},
   "outputs": [],
   "source": [
    "model = tf.keras.models.load_model(\"mnist-3-cat-classifier.h5\")"
   ]
  },
  {
   "cell_type": "code",
   "execution_count": 6,
   "metadata": {},
   "outputs": [
    {
     "data": {
      "text/plain": [
       "0"
      ]
     },
     "execution_count": 6,
     "metadata": {},
     "output_type": "execute_result"
    }
   ],
   "source": [
    "len(model.layers[2].weights)"
   ]
  },
  {
   "cell_type": "code",
   "execution_count": 7,
   "metadata": {},
   "outputs": [
    {
     "name": "stdout",
     "output_type": "stream",
     "text": [
      "2 layer name :  conv2d\n",
      "0 layer name :  re_lu\n",
      "0 layer name :  max_pooling2d\n",
      "2 layer name :  conv2d_1\n",
      "0 layer name :  re_lu_1\n",
      "0 layer name :  max_pooling2d_1\n",
      "2 layer name :  conv2d_2\n",
      "0 layer name :  re_lu_2\n",
      "0 layer name :  global_average_pooling2d\n",
      "2 layer name :  dense\n"
     ]
    }
   ],
   "source": [
    "for layer in model.layers:\n",
    "    print(len(layer.get_weights()), \"layer name : \", layer.name)"
   ]
  },
  {
   "cell_type": "code",
   "execution_count": 8,
   "metadata": {},
   "outputs": [
    {
     "data": {
      "text/plain": [
       "'Conv2D'"
      ]
     },
     "execution_count": 8,
     "metadata": {},
     "output_type": "execute_result"
    }
   ],
   "source": [
    "model.layers[0].__class__.__name__"
   ]
  },
  {
   "cell_type": "code",
   "execution_count": 9,
   "metadata": {},
   "outputs": [],
   "source": [
    "conv = model.layers[3]"
   ]
  },
  {
   "cell_type": "code",
   "execution_count": 10,
   "metadata": {},
   "outputs": [
    {
     "data": {
      "text/plain": [
       "(3, 3, 16, 16)"
      ]
     },
     "execution_count": 10,
     "metadata": {},
     "output_type": "execute_result"
    }
   ],
   "source": [
    "conv.get_weights()[0].shape"
   ]
  },
  {
   "cell_type": "code",
   "execution_count": 11,
   "metadata": {},
   "outputs": [
    {
     "data": {
      "text/plain": [
       "(16,)"
      ]
     },
     "execution_count": 11,
     "metadata": {},
     "output_type": "execute_result"
    }
   ],
   "source": [
    "conv.get_weights()[1].shape"
   ]
  },
  {
   "cell_type": "code",
   "execution_count": 12,
   "metadata": {},
   "outputs": [
    {
     "data": {
      "text/plain": [
       "TensorShape([None, 13, 13, 16])"
      ]
     },
     "execution_count": 12,
     "metadata": {},
     "output_type": "execute_result"
    }
   ],
   "source": [
    "conv.input.shape"
   ]
  },
  {
   "cell_type": "code",
   "execution_count": 13,
   "metadata": {},
   "outputs": [
    {
     "data": {
      "text/plain": [
       "16"
      ]
     },
     "execution_count": 13,
     "metadata": {},
     "output_type": "execute_result"
    }
   ],
   "source": [
    "num_filters = conv.filters\n",
    "num_filters"
   ]
  },
  {
   "cell_type": "code",
   "execution_count": 14,
   "metadata": {},
   "outputs": [
    {
     "data": {
      "text/plain": [
       "TensorShape([16, 13, 13, 16])"
      ]
     },
     "execution_count": 14,
     "metadata": {},
     "output_type": "execute_result"
    }
   ],
   "source": [
    "num_filters + conv.input.shape[1:]"
   ]
  },
  {
   "cell_type": "code",
   "execution_count": 15,
   "metadata": {},
   "outputs": [],
   "source": [
    "input_layer = tf.keras.Input(conv.input.shape[1:]+[4])"
   ]
  },
  {
   "cell_type": "code",
   "execution_count": 16,
   "metadata": {},
   "outputs": [
    {
     "data": {
      "text/plain": [
       "<tf.Tensor 'input_1:0' shape=(None, 13, 13, 16, 4) dtype=float32>"
      ]
     },
     "execution_count": 16,
     "metadata": {},
     "output_type": "execute_result"
    }
   ],
   "source": [
    "input_layer"
   ]
  },
  {
   "cell_type": "code",
   "execution_count": 17,
   "metadata": {},
   "outputs": [
    {
     "data": {
      "text/plain": [
       "[<tf.Tensor 'split:0' shape=(None, 13, 13, 16, 1) dtype=float32>,\n",
       " <tf.Tensor 'split:1' shape=(None, 13, 13, 16, 1) dtype=float32>,\n",
       " <tf.Tensor 'split:2' shape=(None, 13, 13, 16, 1) dtype=float32>,\n",
       " <tf.Tensor 'split:3' shape=(None, 13, 13, 16, 1) dtype=float32>]"
      ]
     },
     "execution_count": 17,
     "metadata": {},
     "output_type": "execute_result"
    }
   ],
   "source": [
    "sub_features = tf.split(input_layer, 4 ,axis=-1)\n",
    "sub_features"
   ]
  },
  {
   "cell_type": "code",
   "execution_count": null,
   "metadata": {},
   "outputs": [],
   "source": []
  },
  {
   "cell_type": "code",
   "execution_count": 18,
   "metadata": {},
   "outputs": [],
   "source": [
    "outputs = []\n",
    "for sub_feature in sub_features:\n",
    "    sub_feature = tf.squeeze(sub_feature, axis=-1)\n",
    "    outputs.append(Conv2D(1, (3,3))(sub_feature))\n",
    "layer_output = tf.concat(outputs, axis=-1)"
   ]
  },
  {
   "cell_type": "code",
   "execution_count": 19,
   "metadata": {},
   "outputs": [
    {
     "data": {
      "text/plain": [
       "TensorShape([None, 11, 11, 4])"
      ]
     },
     "execution_count": 19,
     "metadata": {},
     "output_type": "execute_result"
    }
   ],
   "source": [
    "layer_output.shape"
   ]
  },
  {
   "cell_type": "code",
   "execution_count": 20,
   "metadata": {},
   "outputs": [],
   "source": [
    "x = tf.keras.Model(inputs=input_layer, outputs=[outputs, layer_output])"
   ]
  },
  {
   "cell_type": "code",
   "execution_count": 21,
   "metadata": {},
   "outputs": [
    {
     "data": {
      "image/png": "[encoded data removed]",
      "text/plain": [
       "<IPython.core.display.Image object>"
      ]
     },
     "execution_count": 21,
     "metadata": {},
     "output_type": "execute_result"
    }
   ],
   "source": [
    "tf.keras.utils.plot_model(x)"
   ]
  },
  {
   "cell_type": "code",
   "execution_count": 25,
   "metadata": {},
   "outputs": [
    {
     "data": {
      "text/plain": [
       "(3, 3, 16, 1)"
      ]
     },
     "execution_count": 25,
     "metadata": {},
     "output_type": "execute_result"
    }
   ],
   "source": [
    "x.layers[-2].get_weights()[0].shape"
   ]
  },
  {
   "cell_type": "code",
   "execution_count": 26,
   "metadata": {},
   "outputs": [
    {
     "data": {
      "text/plain": [
       "(3, 3, 16, 16)"
      ]
     },
     "execution_count": 26,
     "metadata": {},
     "output_type": "execute_result"
    }
   ],
   "source": [
    "conv.get_weights()[0].shape"
   ]
  },
  {
   "cell_type": "code",
   "execution_count": 28,
   "metadata": {},
   "outputs": [
    {
     "data": {
      "text/plain": [
       "(3, 16, 16)"
      ]
     },
     "execution_count": 28,
     "metadata": {},
     "output_type": "execute_result"
    }
   ],
   "source": [
    "conv.get_weights()[0][0].shape"
   ]
  },
  {
   "cell_type": "code",
   "execution_count": 40,
   "metadata": {},
   "outputs": [],
   "source": [
    "x.layers[-2].set_weights([conv.get_weights()[0][...,0:1], conv.get_weights()[1][0:1]])"
   ]
  },
  {
   "cell_type": "code",
   "execution_count": 37,
   "metadata": {},
   "outputs": [
    {
     "data": {
      "text/plain": [
       "(3, 3, 16, 1)"
      ]
     },
     "execution_count": 37,
     "metadata": {},
     "output_type": "execute_result"
    }
   ],
   "source": [
    "conv.get_weights()[0][...,0:1].shape"
   ]
  },
  {
   "cell_type": "code",
   "execution_count": 39,
   "metadata": {},
   "outputs": [
    {
     "data": {
      "text/plain": [
       "(1,)"
      ]
     },
     "execution_count": 39,
     "metadata": {},
     "output_type": "execute_result"
    }
   ],
   "source": [
    "conv.get_weights()[1][0:1].shape"
   ]
  },
  {
   "cell_type": "code",
   "execution_count": null,
   "metadata": {},
   "outputs": [],
   "source": [
    "model.layers[-1].__class__.__name__"
   ]
  },
  {
   "cell_type": "code",
   "execution_count": null,
   "metadata": {},
   "outputs": [],
   "source": [
    "fc = model.layers[-1]"
   ]
  },
  {
   "cell_type": "code",
   "execution_count": null,
   "metadata": {},
   "outputs": [],
   "source": [
    "num_perceptrons = fc.units"
   ]
  },
  {
   "cell_type": "code",
   "execution_count": null,
   "metadata": {},
   "outputs": [],
   "source": [
    "input_layer = tf.keras.Input(fc.units + fc.input.shape[1:])\n",
    "input_layer"
   ]
  },
  {
   "cell_type": "code",
   "execution_count": null,
   "metadata": {},
   "outputs": [],
   "source": [
    "sub_features = tf.split(input_layer, num_perceptrons ,axis=1)\n",
    "sub_features"
   ]
  },
  {
   "cell_type": "code",
   "execution_count": null,
   "metadata": {},
   "outputs": [],
   "source": [
    "weight_shape = fc.get_weights()[0].shape[0]"
   ]
  },
  {
   "cell_type": "code",
   "execution_count": null,
   "metadata": {},
   "outputs": [],
   "source": [
    "weight_shape"
   ]
  },
  {
   "cell_type": "code",
   "execution_count": null,
   "metadata": {},
   "outputs": [],
   "source": [
    "outputs = []\n",
    "for sub_feature in sub_features:\n",
    "    sub_feature = tf.squeeze(sub_feature, axis=1)\n",
    "    outputs.append(Dense(1)(sub_feature))\n",
    "layer_output = tf.concat(outputs, axis=-1)"
   ]
  },
  {
   "cell_type": "code",
   "execution_count": null,
   "metadata": {},
   "outputs": [],
   "source": [
    "layer_output"
   ]
  },
  {
   "cell_type": "code",
   "execution_count": null,
   "metadata": {},
   "outputs": [],
   "source": [
    "x = tf.keras.Model(inputs=input_layer, outputs=[outputs, layer_output])\n",
    "tf.keras.utils.plot_model(x)"
   ]
  },
  {
   "cell_type": "code",
   "execution_count": null,
   "metadata": {},
   "outputs": [],
   "source": [
    "def convert_convolution(conv):\n",
    "    num_filters = conv.filters\n",
    "    weight_shape = conv.get_weights()[0].shape[:-2]\n",
    "    input_layer = tf.keras.Input(num_filters + conv.input.shape[1:]) # [B,N,H,W,D]. B:batch size, N:feature maps of previous layer\n",
    "    sub_features = tf.split(input_layer, num_filters ,axis=1) #[B,1,H,W,D] x N\n",
    "    \n",
    "    outputs = []\n",
    "    for sub_feature in sub_features:\n",
    "        sub_feature = tf.squeeze(sub_feature, axis=1)\n",
    "        outputs.append(Conv2D(1, weight_shape)(sub_feature))\n",
    "    layer_output = tf.concat(outputs, axis=-1)    \n",
    "    x = tf.keras.Model(inputs=input_layer, outputs=[layer_output, outputs])\n",
    "    return x\n",
    "def convert_dense(fc)\n",
    "    num_perceptrons = fc.units\n",
    "    weight_shape = fc.get_weights()[0].shape[:-2]\n",
    "    input_layer = tf.keras.Input(fc.units + fc.input.shape[1:]) # [B,N,D]. B:batch size, N:feature maps of previous layer\n",
    "    sub_features = tf.split(input_layer, num_filters ,axis=1) #[B,1,D] x N\n",
    "    \n",
    "    outputs = []\n",
    "    for sub_feature in sub_features:\n",
    "        sub_feature = tf.squeeze(sub_feature, axis=1)\n",
    "        outputs.append(Dense(1)(sub_feature))\n",
    "    layer_output = tf.concat(outputs, axis=-1)\n",
    "    x = tf.keras.Model(inputs=input_layer, outputs=[layer_output, outputs])\n",
    "    return x\n",
    "\n",
    "def convert_to_separate_perceptrons(layer):\n",
    "    layer_type = layer.__class__.name\n",
    "    if layer_type == 'Conv2D':\n",
    "        converted = convert_convolution(layer)\n",
    "    elif layer_type == 'Dense':\n",
    "        converted = convert_dense(layer)\n",
    "    else:\n",
    "        raise NotImplementedError(\"This type of layer is not implemented yet.\")"
   ]
  },
  {
   "cell_type": "code",
   "execution_count": null,
   "metadata": {},
   "outputs": [],
   "source": []
  },
  {
   "cell_type": "code",
   "execution_count": null,
   "metadata": {},
   "outputs": [],
   "source": []
  },
  {
   "cell_type": "code",
   "execution_count": null,
   "metadata": {},
   "outputs": [],
   "source": []
  },
  {
   "cell_type": "code",
   "execution_count": null,
   "metadata": {},
   "outputs": [],
   "source": []
  },
  {
   "cell_type": "code",
   "execution_count": null,
   "metadata": {},
   "outputs": [],
   "source": [
    "from tensorflow.keras.layers import InputLayer, Conv2D, MaxPool2D, Flatten, Dense, ReLU, BatchNormalization, GlobalAveragePooling2D\n",
    "\n",
    "# def etching_weighted_layer(layer, input_tensor):\n",
    "#     if layer.__class__name == 'Conv2D':\n",
    "#         _layer = etching_weighted_conv2d(layer, input_tensor)\n",
    "#     return _layer\n",
    "\n",
    "# def etching_weighted_conv2d(layer):\n",
    "#     input_shape = layer.input.shape[1:]\n",
    "#     input_layer = InputLayer(input_shape)\n",
    "    \n",
    "#     weights = layer.get_weights()\n",
    "#     kernel_shape = weights.shape[0]\n",
    "#     bias_shape = weights.shape[1]\n",
    "    \n",
    "#     for w,b in \n",
    "    \n",
    "    \n",
    "    "
   ]
  },
  {
   "cell_type": "code",
   "execution_count": null,
   "metadata": {},
   "outputs": [],
   "source": [
    "conv.filters"
   ]
  },
  {
   "cell_type": "code",
   "execution_count": null,
   "metadata": {},
   "outputs": [],
   "source": []
  }
 ],
 "metadata": {
  "kernelspec": {
   "display_name": "Python 3",
   "language": "python",
   "name": "python3"
  },
  "language_info": {
   "codemirror_mode": {
    "name": "ipython",
    "version": 3
   },
   "file_extension": ".py",
   "mimetype": "text/x-python",
   "name": "python",
   "nbconvert_exporter": "python",
   "pygments_lexer": "ipython3",
   "version": "3.6.9"
  }
 },
 "nbformat": 4,
 "nbformat_minor": 4
}
