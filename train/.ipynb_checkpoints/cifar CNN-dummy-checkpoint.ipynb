{
 "cells": [
  {
   "cell_type": "code",
   "execution_count": 1,
   "metadata": {},
   "outputs": [],
   "source": [
    "%load_ext autoreload\n",
    "%autoreload 2\n",
    "\n",
    "import os, sys\n",
    "import tensorflow as tf\n",
    "import cv2\n",
    "import numpy as np\n",
    "from matplotlib import pyplot as plt\n",
    "import seaborn as sns\n",
    "sys.path.append(\"/home/files/vision_tree\")\n",
    "from utils.session_config import setup_gpus"
   ]
  },
  {
   "cell_type": "code",
   "execution_count": 2,
   "metadata": {},
   "outputs": [
    {
     "name": "stdout",
     "output_type": "stream",
     "text": [
      "1 Physical GPUs, 1 Logical GPUs\n"
     ]
    }
   ],
   "source": [
    "os.environ[\"CUDA_VISIBLE_DEVICES\"]=\"1\"\n",
    "setup_gpus(memory_fraction=0.2)"
   ]
  },
  {
   "cell_type": "code",
   "execution_count": 3,
   "metadata": {},
   "outputs": [
    {
     "name": "stdout",
     "output_type": "stream",
     "text": [
      "(50000, 32, 32, 3)\n",
      "(10000, 32, 32, 3)\n"
     ]
    }
   ],
   "source": [
    "# mnist classification\n",
    "(train_x, train_y), (test_x, test_y) = tf.keras.datasets.cifar10.load_data()\n",
    "train_x = tf.cast(train_x/255., tf.float32)\n",
    "test_x = tf.cast(test_x/255., tf.float32)\n",
    "print(train_x.shape)\n",
    "print(test_x.shape)"
   ]
  },
  {
   "cell_type": "code",
   "execution_count": 4,
   "metadata": {},
   "outputs": [],
   "source": [
    "train_ds = tf.data.Dataset.from_tensor_slices((train_x,train_y)).shuffle(50000, reshuffle_each_iteration=False)"
   ]
  },
  {
   "cell_type": "code",
   "execution_count": 5,
   "metadata": {},
   "outputs": [],
   "source": [
    "train_ds = train_ds.shuffle(1000).batch(64).prefetch(tf.data.experimental.AUTOTUNE)"
   ]
  },
  {
   "cell_type": "code",
   "execution_count": 6,
   "metadata": {},
   "outputs": [],
   "source": [
    "from tensorflow.keras.layers import InputLayer, Conv2D, MaxPool2D, Flatten, Dense, ReLU, BatchNormalization, GlobalAveragePooling2D\n",
    "\n",
    "model = tf.keras.Sequential()\n",
    "model.add(Conv2D(32, (3,3)))\n",
    "model.add(ReLU())\n",
    "model.add(Conv2D(32, (3,3)))\n",
    "model.add(ReLU())\n",
    "model.add(Conv2D(32, (3,3)))\n",
    "model.add(ReLU())\n",
    "model.add(Conv2D(32, (3,3)))\n",
    "model.add(ReLU())\n",
    "model.add(MaxPool2D())\n",
    "model.add(Conv2D(32, (3,3)))\n",
    "model.add(ReLU())\n",
    "model.add(Conv2D(32, (3,3)))\n",
    "model.add(ReLU())\n",
    "model.add(GlobalAveragePooling2D())\n",
    "model.add(Dense(10, activation='softmax'))\n",
    "\n",
    "model.compile(optimizer='Adam', loss=tf.keras.losses.SparseCategoricalCrossentropy(), metrics=['acc'])"
   ]
  },
  {
   "cell_type": "code",
   "execution_count": 7,
   "metadata": {},
   "outputs": [
    {
     "name": "stdout",
     "output_type": "stream",
     "text": [
      "Epoch 1/50\n",
      "782/782 [==============================] - 4s 5ms/step - loss: 1.7824 - acc: 0.3210 - val_loss: 1.6153 - val_acc: 0.4074\n",
      "Epoch 2/50\n",
      "782/782 [==============================] - 4s 5ms/step - loss: 1.4967 - acc: 0.4515 - val_loss: 1.4323 - val_acc: 0.4915\n",
      "Epoch 3/50\n",
      "782/782 [==============================] - 4s 5ms/step - loss: 1.3379 - acc: 0.5155 - val_loss: 1.2985 - val_acc: 0.5405\n",
      "Epoch 4/50\n",
      "782/782 [==============================] - 4s 5ms/step - loss: 1.2290 - acc: 0.5596 - val_loss: 1.1956 - val_acc: 0.5718\n",
      "Epoch 5/50\n",
      "782/782 [==============================] - 3s 4ms/step - loss: 1.1569 - acc: 0.5879 - val_loss: 1.1557 - val_acc: 0.5868\n",
      "Epoch 6/50\n",
      "782/782 [==============================] - 3s 4ms/step - loss: 1.1095 - acc: 0.6060 - val_loss: 1.0870 - val_acc: 0.6083\n",
      "Epoch 7/50\n",
      "782/782 [==============================] - 3s 4ms/step - loss: 1.0530 - acc: 0.6250 - val_loss: 1.0942 - val_acc: 0.6112\n",
      "Epoch 8/50\n",
      "782/782 [==============================] - 4s 5ms/step - loss: 1.0134 - acc: 0.6406 - val_loss: 1.0193 - val_acc: 0.6403\n",
      "Epoch 9/50\n",
      "782/782 [==============================] - 3s 4ms/step - loss: 0.9742 - acc: 0.6541 - val_loss: 1.0087 - val_acc: 0.6434\n",
      "Epoch 10/50\n",
      "782/782 [==============================] - 3s 4ms/step - loss: 0.9403 - acc: 0.6672 - val_loss: 0.9562 - val_acc: 0.6615\n",
      "Epoch 11/50\n",
      "782/782 [==============================] - 3s 4ms/step - loss: 0.9168 - acc: 0.6755 - val_loss: 0.9593 - val_acc: 0.6614\n",
      "Epoch 12/50\n",
      "782/782 [==============================] - 4s 5ms/step - loss: 0.8865 - acc: 0.6828 - val_loss: 0.9669 - val_acc: 0.6633\n",
      "Epoch 13/50\n",
      "782/782 [==============================] - 3s 4ms/step - loss: 0.8706 - acc: 0.6926 - val_loss: 0.9131 - val_acc: 0.6765\n",
      "Epoch 14/50\n",
      "782/782 [==============================] - 4s 5ms/step - loss: 0.8363 - acc: 0.7023 - val_loss: 0.8865 - val_acc: 0.6879\n",
      "Epoch 15/50\n",
      "782/782 [==============================] - 4s 5ms/step - loss: 0.8207 - acc: 0.7103 - val_loss: 0.9542 - val_acc: 0.6682\n",
      "Epoch 16/50\n",
      "782/782 [==============================] - 4s 4ms/step - loss: 0.7989 - acc: 0.7185 - val_loss: 0.8835 - val_acc: 0.6927\n",
      "Epoch 17/50\n",
      "782/782 [==============================] - 4s 5ms/step - loss: 0.7807 - acc: 0.7236 - val_loss: 0.8427 - val_acc: 0.7045\n",
      "Epoch 18/50\n",
      "782/782 [==============================] - 4s 5ms/step - loss: 0.7653 - acc: 0.7293 - val_loss: 0.8494 - val_acc: 0.7099\n",
      "Epoch 19/50\n",
      "782/782 [==============================] - 4s 5ms/step - loss: 0.7464 - acc: 0.7361 - val_loss: 0.8790 - val_acc: 0.6933\n",
      "Epoch 20/50\n",
      "782/782 [==============================] - 4s 5ms/step - loss: 0.7334 - acc: 0.7412 - val_loss: 0.8508 - val_acc: 0.7015\n",
      "Epoch 21/50\n",
      "782/782 [==============================] - 4s 5ms/step - loss: 0.7155 - acc: 0.7457 - val_loss: 0.8298 - val_acc: 0.7141\n",
      "Epoch 22/50\n",
      "782/782 [==============================] - 4s 4ms/step - loss: 0.7043 - acc: 0.7500 - val_loss: 0.8380 - val_acc: 0.7101\n",
      "Epoch 23/50\n",
      "782/782 [==============================] - 3s 4ms/step - loss: 0.6891 - acc: 0.7576 - val_loss: 0.8089 - val_acc: 0.7236\n",
      "Epoch 24/50\n",
      "782/782 [==============================] - 4s 5ms/step - loss: 0.6798 - acc: 0.7586 - val_loss: 0.8229 - val_acc: 0.7173\n",
      "Epoch 25/50\n",
      "782/782 [==============================] - 4s 5ms/step - loss: 0.6588 - acc: 0.7680 - val_loss: 0.7775 - val_acc: 0.7317\n",
      "Epoch 26/50\n",
      "782/782 [==============================] - 3s 4ms/step - loss: 0.6492 - acc: 0.7697 - val_loss: 0.8107 - val_acc: 0.7302\n",
      "Epoch 27/50\n",
      "782/782 [==============================] - 4s 4ms/step - loss: 0.6354 - acc: 0.7753 - val_loss: 0.8279 - val_acc: 0.7235\n",
      "Epoch 28/50\n",
      "782/782 [==============================] - 3s 4ms/step - loss: 0.6247 - acc: 0.7808 - val_loss: 0.7837 - val_acc: 0.7318\n",
      "Epoch 29/50\n",
      "782/782 [==============================] - 3s 4ms/step - loss: 0.6150 - acc: 0.7815 - val_loss: 0.7980 - val_acc: 0.7349\n",
      "Epoch 30/50\n",
      "782/782 [==============================] - 4s 5ms/step - loss: 0.6061 - acc: 0.7868 - val_loss: 0.8491 - val_acc: 0.7236\n",
      "Epoch 31/50\n",
      "782/782 [==============================] - 3s 4ms/step - loss: 0.5941 - acc: 0.7922 - val_loss: 0.7863 - val_acc: 0.7362\n",
      "Epoch 32/50\n",
      "782/782 [==============================] - 3s 4ms/step - loss: 0.5826 - acc: 0.7934 - val_loss: 0.8326 - val_acc: 0.7236\n",
      "Epoch 33/50\n",
      "782/782 [==============================] - 3s 4ms/step - loss: 0.5738 - acc: 0.7980 - val_loss: 0.7959 - val_acc: 0.7380\n",
      "Epoch 34/50\n",
      "782/782 [==============================] - 4s 5ms/step - loss: 0.5651 - acc: 0.8015 - val_loss: 0.7960 - val_acc: 0.7380\n",
      "Epoch 35/50\n",
      "782/782 [==============================] - 3s 4ms/step - loss: 0.5546 - acc: 0.8038 - val_loss: 0.7847 - val_acc: 0.7419\n",
      "Epoch 36/50\n",
      "782/782 [==============================] - 4s 5ms/step - loss: 0.5426 - acc: 0.8079 - val_loss: 0.8414 - val_acc: 0.7258\n",
      "Epoch 37/50\n",
      "782/782 [==============================] - 4s 4ms/step - loss: 0.5372 - acc: 0.8093 - val_loss: 0.8583 - val_acc: 0.7223\n",
      "Epoch 38/50\n",
      "782/782 [==============================] - 4s 5ms/step - loss: 0.5260 - acc: 0.8136 - val_loss: 0.8292 - val_acc: 0.7323\n",
      "Epoch 39/50\n",
      "782/782 [==============================] - 3s 4ms/step - loss: 0.5207 - acc: 0.8162 - val_loss: 0.8032 - val_acc: 0.7370\n",
      "Epoch 40/50\n",
      "782/782 [==============================] - 4s 5ms/step - loss: 0.5159 - acc: 0.8161 - val_loss: 0.8206 - val_acc: 0.7302\n",
      "Epoch 41/50\n",
      "782/782 [==============================] - 4s 4ms/step - loss: 0.5050 - acc: 0.8215 - val_loss: 0.8188 - val_acc: 0.7380\n",
      "Epoch 42/50\n",
      "782/782 [==============================] - 4s 5ms/step - loss: 0.4980 - acc: 0.8246 - val_loss: 0.8543 - val_acc: 0.7351\n",
      "Epoch 43/50\n",
      "782/782 [==============================] - 3s 4ms/step - loss: 0.4913 - acc: 0.8245 - val_loss: 0.8223 - val_acc: 0.7377\n",
      "Epoch 44/50\n",
      "782/782 [==============================] - 3s 4ms/step - loss: 0.4813 - acc: 0.8296 - val_loss: 0.8274 - val_acc: 0.7278\n",
      "Epoch 45/50\n",
      "782/782 [==============================] - 3s 4ms/step - loss: 0.4751 - acc: 0.8320 - val_loss: 0.8510 - val_acc: 0.7355\n",
      "Epoch 46/50\n",
      "782/782 [==============================] - 3s 4ms/step - loss: 0.4631 - acc: 0.8381 - val_loss: 0.8221 - val_acc: 0.7494\n",
      "Epoch 47/50\n",
      "782/782 [==============================] - 4s 5ms/step - loss: 0.4559 - acc: 0.8377 - val_loss: 0.8173 - val_acc: 0.7444\n",
      "Epoch 48/50\n",
      "782/782 [==============================] - 3s 4ms/step - loss: 0.4494 - acc: 0.8393 - val_loss: 0.8388 - val_acc: 0.7357\n",
      "Epoch 49/50\n",
      "782/782 [==============================] - 3s 4ms/step - loss: 0.4429 - acc: 0.8430 - val_loss: 0.8445 - val_acc: 0.7388\n",
      "Epoch 50/50\n",
      "782/782 [==============================] - 4s 5ms/step - loss: 0.4371 - acc: 0.8443 - val_loss: 0.9537 - val_acc: 0.7199\n",
      "313/313 [==============================] - 1s 2ms/step - loss: 0.9537 - acc: 0.7199\n"
     ]
    },
    {
     "data": {
      "text/plain": [
       "[0.953742265701294, 0.7199000120162964]"
      ]
     },
     "execution_count": 7,
     "metadata": {},
     "output_type": "execute_result"
    }
   ],
   "source": [
    "model.fit(train_ds, epochs=50, validation_data=(test_x, test_y))\n",
    "model.evaluate(test_x, test_y)"
   ]
  },
  {
   "cell_type": "code",
   "execution_count": 8,
   "metadata": {},
   "outputs": [],
   "source": [
    "model.save(\"ckpt/cifar_cnn/10classes3.h5\")"
   ]
  },
  {
   "cell_type": "code",
   "execution_count": null,
   "metadata": {},
   "outputs": [],
   "source": []
  }
 ],
 "metadata": {
  "kernelspec": {
   "display_name": "Python 3",
   "language": "python",
   "name": "python3"
  },
  "language_info": {
   "codemirror_mode": {
    "name": "ipython",
    "version": 3
   },
   "file_extension": ".py",
   "mimetype": "text/x-python",
   "name": "python",
   "nbconvert_exporter": "python",
   "pygments_lexer": "ipython3",
   "version": "3.6.9"
  }
 },
 "nbformat": 4,
 "nbformat_minor": 4
}
