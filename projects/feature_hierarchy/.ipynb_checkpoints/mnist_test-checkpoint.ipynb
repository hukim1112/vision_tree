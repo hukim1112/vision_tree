{
 "cells": [
  {
   "cell_type": "code",
   "execution_count": 1,
   "metadata": {},
   "outputs": [],
   "source": [
    "import os, sys\n",
    "sys.path.append(\"/home/files/feature_orthogonality\")\n",
    "from utils.session_config import setup_gpus"
   ]
  },
  {
   "cell_type": "code",
   "execution_count": 2,
   "metadata": {},
   "outputs": [],
   "source": [
    "import tensorflow as tf\n",
    "import cv2\n",
    "import numpy as np\n",
    "from matplotlib import pyplot as plt\n",
    "import seaborn as sns"
   ]
  },
  {
   "cell_type": "code",
   "execution_count": 3,
   "metadata": {},
   "outputs": [
    {
     "name": "stdout",
     "output_type": "stream",
     "text": [
      "1 Physical GPUs, 1 Logical GPUs\n"
     ]
    }
   ],
   "source": [
    "os.environ[\"CUDA_VISIBLE_DEVICES\"]=\"0\"\n",
    "setup_gpus(memory_fraction=0.2)"
   ]
  },
  {
   "cell_type": "markdown",
   "metadata": {},
   "source": [
    "# Load mnist images"
   ]
  },
  {
   "cell_type": "code",
   "execution_count": 4,
   "metadata": {},
   "outputs": [],
   "source": [
    "(train_x, train_y), (test_x, test_y) = tf.keras.datasets.mnist.load_data()\n",
    "# train_x = train_x[:,:,:,tf.newaxis]/255.\n",
    "# test_x = test_x[:,:,:,tf.newaxis]/255.\n",
    "# print(train_x.shape)\n",
    "# print(test_x.shape)"
   ]
  },
  {
   "cell_type": "code",
   "execution_count": 6,
   "metadata": {},
   "outputs": [],
   "source": [
    "mnist_data = {}\n",
    "\n",
    "for i in range(10):\n",
    "    mnist_data[i] = []\n"
   ]
  },
  {
   "cell_type": "code",
   "execution_count": 9,
   "metadata": {},
   "outputs": [],
   "source": [
    "for x,y in zip(train_x, train_y):\n",
    "    mnist_data[y].append(x)"
   ]
  },
  {
   "cell_type": "code",
   "execution_count": 16,
   "metadata": {},
   "outputs": [],
   "source": [
    "for i in range(10):\n",
    "    np.save(\"{}.npy\".format(i), np.array(mnist_data[i]))"
   ]
  },
  {
   "cell_type": "markdown",
   "metadata": {},
   "source": [
    "# Build Model"
   ]
  },
  {
   "cell_type": "code",
   "execution_count": null,
   "metadata": {},
   "outputs": [],
   "source": [
    "\n",
    "from tensorflow.keras.layers import Conv2D, MaxPool2D, Flatten, Dense\n",
    "'''\n",
    "model = tf.keras.Sequential()\n",
    "model.add(Conv2D(32, (3,3), activation='relu'))\n",
    "model.add(MaxPool2D())\n",
    "model.add(Conv2D(64, (3,3), activation='relu'))\n",
    "model.add(MaxPool2D())\n",
    "model.add(Flatten())\n",
    "model.add(Dense(32, activation='relu'))\n",
    "model.add(Dense(10, activation='softmax'))\n",
    "'''\n",
    "\n",
    "model = tf.keras.models.load_model(\"cnn_initialized.h5\")"
   ]
  },
  {
   "cell_type": "code",
   "execution_count": null,
   "metadata": {},
   "outputs": [],
   "source": [
    "model.compile(optimizer='Adam', loss=tf.keras.losses.SparseCategoricalCrossentropy(), metrics=['acc'])\n",
    "model.fit(train_x, train_y, epochs=10)\n",
    "model.evaluate(test_x, test_y)"
   ]
  },
  {
   "cell_type": "markdown",
   "metadata": {},
   "source": [
    "# Visualization"
   ]
  },
  {
   "cell_type": "code",
   "execution_count": null,
   "metadata": {},
   "outputs": [],
   "source": [
    "tf.keras.utils.plot_model(model, show_shapes=True)"
   ]
  },
  {
   "cell_type": "code",
   "execution_count": null,
   "metadata": {},
   "outputs": [],
   "source": [
    "def get_weight_cosine_similarity(weight):\n",
    "    w = weight\n",
    "    if len(w.shape) == 4: #convolution\n",
    "        H,W,C,N = w.shape\n",
    "        row_dims = H*W*C\n",
    "        col_dims = N\n",
    "    else: #dense\n",
    "        D,N = w.shape\n",
    "        row_dims = D\n",
    "        col_dims = N\n",
    "    w = tf.reshape(w, (row_dims, col_dims))\n",
    "    norm = tf.norm(w, axis=0)\n",
    "    w = w/norm #normalize\n",
    "    wT = tf.transpose(w)\n",
    "    correlations = tf.matmul(wT,w)\n",
    "    return correlations\n",
    "\n",
    "def get_weight_l2norm(weight):\n",
    "    w = weight\n",
    "    if len(w.shape) == 4: #convolution\n",
    "        H,W,C,N = w.shape\n",
    "        row_dims = H*W*C\n",
    "        col_dims = N\n",
    "    else: #dense\n",
    "        D,N = w.shape\n",
    "        row_dims = D\n",
    "        col_dims = N\n",
    "    w = tf.reshape(w, (row_dims, col_dims))\n",
    "    norm = tf.norm(w, axis=0)\n",
    "    return norm"
   ]
  },
  {
   "cell_type": "code",
   "execution_count": null,
   "metadata": {},
   "outputs": [],
   "source": [
    "weight = model.get_layer(\"conv2d\").get_weights()[0]\n",
    "correlations = get_weight_cosine_similarity(weight)"
   ]
  },
  {
   "cell_type": "code",
   "execution_count": null,
   "metadata": {},
   "outputs": [],
   "source": [
    "import matplotlib as mpl\n",
    "mpl.rcParams['figure.dpi'] = 800\n",
    "sns.heatmap(correlations, vmin=-1, vmax=1, cmap='RdBu_r', center=0, annot=True, fmt='.1f',xticklabels=False, yticklabels=False,annot_kws={\"size\": 4})"
   ]
  },
  {
   "cell_type": "code",
   "execution_count": null,
   "metadata": {},
   "outputs": [],
   "source": [
    "norm = get_weight_l2norm(weight)\n",
    "plt.bar(range(correlations.shape[0]), norm)\n",
    "plt.title('Norm of weights', fontsize=20)\n",
    "plt.show()"
   ]
  },
  {
   "cell_type": "code",
   "execution_count": null,
   "metadata": {},
   "outputs": [],
   "source": [
    "norm"
   ]
  },
  {
   "cell_type": "code",
   "execution_count": null,
   "metadata": {},
   "outputs": [],
   "source": []
  }
 ],
 "metadata": {
  "kernelspec": {
   "display_name": "Python 3",
   "language": "python",
   "name": "python3"
  },
  "language_info": {
   "codemirror_mode": {
    "name": "ipython",
    "version": 3
   },
   "file_extension": ".py",
   "mimetype": "text/x-python",
   "name": "python",
   "nbconvert_exporter": "python",
   "pygments_lexer": "ipython3",
   "version": "3.6.9"
  }
 },
 "nbformat": 4,
 "nbformat_minor": 4
}
