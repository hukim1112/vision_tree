{
 "cells": [
  {
   "cell_type": "code",
   "execution_count": 1,
   "metadata": {},
   "outputs": [],
   "source": [
    "%load_ext autoreload\n",
    "%autoreload 2\n",
    "\n",
    "import os, sys\n",
    "sys.path.append(\"/home/files/feature_orthogonality\")\n",
    "from utils.session_config import setup_gpus"
   ]
  },
  {
   "cell_type": "code",
   "execution_count": 2,
   "metadata": {},
   "outputs": [],
   "source": [
    "import tensorflow as tf\n",
    "keras = tf.keras\n",
    "import cv2\n",
    "import numpy as np\n",
    "from matplotlib import pyplot as plt\n",
    "import seaborn as sns"
   ]
  },
  {
   "cell_type": "code",
   "execution_count": 3,
   "metadata": {},
   "outputs": [
    {
     "name": "stdout",
     "output_type": "stream",
     "text": [
      "1 Physical GPUs, 1 Logical GPUs\n"
     ]
    }
   ],
   "source": [
    "os.environ[\"CUDA_VISIBLE_DEVICES\"]=\"1\"\n",
    "setup_gpus(memory_fraction=0.2)"
   ]
  },
  {
   "cell_type": "code",
   "execution_count": 4,
   "metadata": {},
   "outputs": [],
   "source": [
    "from tensorflow.keras.layers import InputLayer, Conv2D, MaxPool2D, Flatten, Dense, ReLU, BatchNormalization, GlobalAveragePooling2D\n",
    "from utils.losses import L2_Orthogonal\n",
    "from utils.BEP import convert_to_separate_perceptrons, Back_etching_propagation\n",
    "from utils.layers import Etching_Layer"
   ]
  },
  {
   "cell_type": "code",
   "execution_count": 5,
   "metadata": {},
   "outputs": [],
   "source": [
    "trained_model = tf.keras.models.load_model(\"mnist-3-cat-classifier.h5\")"
   ]
  },
  {
   "cell_type": "code",
   "execution_count": 6,
   "metadata": {},
   "outputs": [
    {
     "name": "stdout",
     "output_type": "stream",
     "text": [
      "2 layer name :  conv2d\n",
      "Conv2D\n",
      "0 layer name :  re_lu\n",
      "0 layer name :  max_pooling2d\n",
      "2 layer name :  conv2d_1\n",
      "Conv2D\n",
      "0 layer name :  re_lu_1\n",
      "0 layer name :  max_pooling2d_1\n",
      "2 layer name :  conv2d_2\n",
      "Conv2D\n",
      "0 layer name :  re_lu_2\n",
      "0 layer name :  global_average_pooling2d\n",
      "2 layer name :  dense\n",
      "Dense\n"
     ]
    }
   ],
   "source": [
    "bep_algorithm = Back_etching_propagation(trained_model)"
   ]
  },
  {
   "cell_type": "code",
   "execution_count": null,
   "metadata": {},
   "outputs": [],
   "source": [
    "# model = bep_algorithm.return_model()\n",
    "# model.summary()\n",
    "#model.output"
   ]
  },
  {
   "cell_type": "code",
   "execution_count": null,
   "metadata": {},
   "outputs": [],
   "source": []
  },
  {
   "cell_type": "markdown",
   "metadata": {},
   "source": [
    "# Etching"
   ]
  },
  {
   "cell_type": "code",
   "execution_count": 7,
   "metadata": {},
   "outputs": [
    {
     "name": "stdout",
     "output_type": "stream",
     "text": [
      "2 layer name :  conv2d\n",
      "Conv2D\n",
      "0 layer name :  re_lu\n",
      "0 layer name :  max_pooling2d\n",
      "2 layer name :  conv2d_1\n",
      "Conv2D\n",
      "0 layer name :  re_lu_1\n",
      "0 layer name :  max_pooling2d_1\n",
      "2 layer name :  conv2d_2\n",
      "Conv2D\n",
      "0 layer name :  re_lu_2\n",
      "0 layer name :  global_average_pooling2d\n",
      "2 layer name :  dense\n",
      "Dense\n",
      "(32, 28, 28, 1)\n"
     ]
    }
   ],
   "source": [
    "bep_algorithm = Back_etching_propagation(trained_model)\n",
    "data = np.load(\"mnist/0.npy\")[...,np.newaxis]/255.\n",
    "train_x = tf.data.Dataset.from_tensor_slices(data)\n",
    "train_x = train_x.batch(32)\n",
    "\n",
    "for x in train_x.take(1):\n",
    "    print(x.shape)\n",
    "bep_algorithm.etching(0,train_x)"
   ]
  },
  {
   "cell_type": "code",
   "execution_count": 8,
   "metadata": {},
   "outputs": [
    {
     "name": "stdout",
     "output_type": "stream",
     "text": [
      "2 layer name :  conv2d\n",
      "Conv2D\n",
      "0 layer name :  re_lu\n",
      "0 layer name :  max_pooling2d\n",
      "2 layer name :  conv2d_1\n",
      "Conv2D\n",
      "0 layer name :  re_lu_1\n",
      "0 layer name :  max_pooling2d_1\n",
      "2 layer name :  conv2d_2\n",
      "Conv2D\n",
      "0 layer name :  re_lu_2\n",
      "0 layer name :  global_average_pooling2d\n",
      "2 layer name :  dense\n",
      "Dense\n",
      "(32, 28, 28, 1)\n"
     ]
    }
   ],
   "source": [
    "bep_algorithm = Back_etching_propagation(trained_model)\n",
    "data = np.load(\"mnist/5.npy\")[...,np.newaxis]/255.\n",
    "train_x = tf.data.Dataset.from_tensor_slices(data)\n",
    "train_x = train_x.batch(32)\n",
    "\n",
    "for x in train_x.take(1):\n",
    "    print(x.shape)\n",
    "bep_algorithm.etching(1,train_x)"
   ]
  },
  {
   "cell_type": "code",
   "execution_count": 9,
   "metadata": {},
   "outputs": [
    {
     "name": "stdout",
     "output_type": "stream",
     "text": [
      "2 layer name :  conv2d\n",
      "Conv2D\n",
      "0 layer name :  re_lu\n",
      "0 layer name :  max_pooling2d\n",
      "2 layer name :  conv2d_1\n",
      "Conv2D\n",
      "0 layer name :  re_lu_1\n",
      "0 layer name :  max_pooling2d_1\n",
      "2 layer name :  conv2d_2\n",
      "Conv2D\n",
      "0 layer name :  re_lu_2\n",
      "0 layer name :  global_average_pooling2d\n",
      "2 layer name :  dense\n",
      "Dense\n",
      "(32, 28, 28, 1)\n"
     ]
    }
   ],
   "source": [
    "bep_algorithm = Back_etching_propagation(trained_model)\n",
    "data = np.load(\"mnist/7.npy\")[...,np.newaxis]/255.\n",
    "train_x = tf.data.Dataset.from_tensor_slices(data)\n",
    "train_x = train_x.batch(32)\n",
    "\n",
    "for x in train_x.take(1):\n",
    "    print(x.shape)\n",
    "bep_algorithm.etching(2,train_x)"
   ]
  },
  {
   "cell_type": "code",
   "execution_count": null,
   "metadata": {},
   "outputs": [],
   "source": []
  }
 ],
 "metadata": {
  "kernelspec": {
   "display_name": "Python 3",
   "language": "python",
   "name": "python3"
  },
  "language_info": {
   "codemirror_mode": {
    "name": "ipython",
    "version": 3
   },
   "file_extension": ".py",
   "mimetype": "text/x-python",
   "name": "python",
   "nbconvert_exporter": "python",
   "pygments_lexer": "ipython3",
   "version": "3.6.9"
  }
 },
 "nbformat": 4,
 "nbformat_minor": 4
}
