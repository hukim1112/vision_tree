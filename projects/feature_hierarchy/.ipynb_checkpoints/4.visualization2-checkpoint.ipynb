{
 "cells": [
  {
   "cell_type": "code",
   "execution_count": 1,
   "metadata": {},
   "outputs": [],
   "source": [
    "import treelib\n",
    "import numpy as np\n",
    "import pandas as pd\n",
    "import plotly"
   ]
  },
  {
   "cell_type": "code",
   "execution_count": 2,
   "metadata": {},
   "outputs": [],
   "source": [
    "class0_L4 = np.load(\"etching_weights/0-17.npy\")\n",
    "class0_L3 = np.load(\"etching_weights/0-12.npy\")\n",
    "class0_L2 = np.load(\"etching_weights/0-7.npy\")\n",
    "class0_L1 = np.load(\"etching_weights/0-2.npy\")\n",
    "class0 = [class0_L4, class0_L3, class0_L2, class0_L1]"
   ]
  },
  {
   "cell_type": "code",
   "execution_count": 3,
   "metadata": {},
   "outputs": [],
   "source": [
    "class1_L4 = np.load(\"etching_weights/1-17.npy\")\n",
    "class1_L3 = np.load(\"etching_weights/1-12.npy\")\n",
    "class1_L2 = np.load(\"etching_weights/1-7.npy\")\n",
    "class1_L1 = np.load(\"etching_weights/1-2.npy\")\n",
    "class1 = [class1_L4, class1_L3, class1_L2, class1_L1]"
   ]
  },
  {
   "cell_type": "code",
   "execution_count": 4,
   "metadata": {},
   "outputs": [],
   "source": [
    "class2_L4 = np.load(\"etching_weights/2-17.npy\")\n",
    "class2_L3 = np.load(\"etching_weights/2-12.npy\")\n",
    "class2_L2 = np.load(\"etching_weights/2-7.npy\")\n",
    "class2_L1 = np.load(\"etching_weights/2-2.npy\")\n",
    "class2 = [class2_L4, class2_L3, class2_L2, class2_L1]"
   ]
  },
  {
   "cell_type": "code",
   "execution_count": 5,
   "metadata": {},
   "outputs": [],
   "source": [
    "def supporting_features(e, order):\n",
    "    f = np.maximum(1-e[:,order],0) #relu\n",
    "    normalized = f/np.linalg.norm(f)\n",
    "    dominants = np.where(normalized>0.05, normalized, 0) # features over 5 percents of contributions\n",
    "    indice = np.where(dominants>0)[0]\n",
    "    return list(indice)\n",
    "#L4_indice = supporting_features(class0_L4, 0)"
   ]
  },
  {
   "cell_type": "code",
   "execution_count": 6,
   "metadata": {},
   "outputs": [
    {
     "data": {
      "text/plain": [
       "[11, 12, 13, 14]"
      ]
     },
     "execution_count": 6,
     "metadata": {},
     "output_type": "execute_result"
    }
   ],
   "source": [
    "supporting_features(class1_L4,[1])"
   ]
  },
  {
   "cell_type": "code",
   "execution_count": 7,
   "metadata": {},
   "outputs": [
    {
     "name": "stdout",
     "output_type": "stream",
     "text": [
      "L4 indice [[11, 12, 13, 14]]\n",
      "L4 unique num 4 :  {11, 12, 13, 14}\n"
     ]
    }
   ],
   "source": [
    "L4_indice = list(map(lambda x: supporting_features(class0_L4,x),[0]))\n",
    "L4_unique = set()\n",
    "for l in L4_indice:\n",
    "    L4_unique=L4_unique.union(l)\n",
    "print(\"L4 indice\", L4_indice)\n",
    "print(\"L4 unique num {} : \".format(len(L4_unique)), L4_unique)"
   ]
  },
  {
   "cell_type": "code",
   "execution_count": 8,
   "metadata": {},
   "outputs": [
    {
     "name": "stdout",
     "output_type": "stream",
     "text": [
      "L3 indice [[0, 1, 4, 5, 6, 7, 8, 9, 10, 11, 12, 13, 14, 15], [0, 1, 3, 4, 5, 9, 12, 13, 15], [0, 1, 5, 6, 7, 8, 9, 12, 13, 15], [0, 1, 2, 4, 5, 6, 7, 8, 9, 13, 15]]\n",
      "L3 unique num 16 :  {0, 1, 2, 3, 4, 5, 6, 7, 8, 9, 10, 11, 12, 13, 14, 15}\n"
     ]
    }
   ],
   "source": [
    "L3_indice = list(map(lambda x: supporting_features(class0_L3,x), L4_unique))\n",
    "L3_unique = set()\n",
    "for l in L3_indice:\n",
    "    L3_unique=L3_unique.union(l)\n",
    "print(\"L3 indice\", L3_indice)\n",
    "print(\"L3 unique num {} : \".format(len(L3_unique)), L3_unique)"
   ]
  },
  {
   "cell_type": "code",
   "execution_count": null,
   "metadata": {},
   "outputs": [],
   "source": [
    "L2_indice = list(map(lambda x: supporting_features(class0_L2,x),L3_unique))\n",
    "L2_unique = set()\n",
    "for l in L2_indice:\n",
    "    L2_unique=L2_unique.union(l)\n",
    "print(\"L2 indice\", L2_indice)\n",
    "print(\"L2 unique num {} : \".format(len(L2_unique)), L2_unique)"
   ]
  },
  {
   "cell_type": "code",
   "execution_count": null,
   "metadata": {},
   "outputs": [],
   "source": [
    "L1_indice = list(map(lambda x: supporting_features(class0_L2,x),L2_unique))\n",
    "L1_unique = set()\n",
    "for l in L1_indice:\n",
    "    L1_unique=L1_unique.union(l)\n",
    "print(\"L1 indice\", L1_indice)\n",
    "print(\"L1 unique num {} : \".format(len(L1_unique)), L1_unique)"
   ]
  },
  {
   "cell_type": "code",
   "execution_count": null,
   "metadata": {},
   "outputs": [],
   "source": []
  },
  {
   "cell_type": "code",
   "execution_count": null,
   "metadata": {},
   "outputs": [],
   "source": [
    "df = pd.DataFrame(columns=['x','y','level'])\n",
    "L = 1\n",
    "L1_feature_positions = {}\n",
    "for i in range(0,16):\n",
    "    L1_feature_positions[i] = [i//4+1,i%4+1]\n",
    "for i in range(0,16):\n",
    "    df = df.append(pd.DataFrame( [L1_feature_positions[i]+[L]],columns=['x','y','level']), ignore_index=True )\n",
    "\n",
    "L = 2\n",
    "L2_feature_positions = {}\n",
    "for i in range(0,16):\n",
    "    L2_feature_positions[i] = [i//4+1,i%4+1]\n",
    "for i in range(0,16):\n",
    "    df = df.append(pd.DataFrame( [L2_feature_positions[i]+[L]],columns=['x','y','level']), ignore_index=True )\n",
    "    \n",
    "L = 3\n",
    "L3_feature_positions = {}\n",
    "for i in range(0,16):\n",
    "    L3_feature_positions[i] = [i//4+1,i%4+1]\n",
    "for i in range(0,16):\n",
    "    df = df.append(pd.DataFrame( [L3_feature_positions[i]+[L]],columns=['x','y','level']), ignore_index=True )\n",
    "    \n",
    "L=4\n",
    "L4_feature_positions = {}\n",
    "L4_feature_positions[0] = [1.5,2.5]\n",
    "L4_feature_positions[1] = [2.5,2.5]\n",
    "L4_feature_positions[2] = [3.5,2.5]\n",
    "\n",
    "df = df.append(pd.DataFrame([L4_feature_positions[0]+[L]], columns=['x','y','level']), ignore_index=True)\n",
    "df = df.append(pd.DataFrame([L4_feature_positions[1]+[L]], columns=['x','y','level']), ignore_index=True)\n",
    "df = df.append(pd.DataFrame([L4_feature_positions[2]+[L]], columns=['x','y','level']), ignore_index=True)  \n",
    "    "
   ]
  },
  {
   "cell_type": "code",
   "execution_count": null,
   "metadata": {},
   "outputs": [],
   "source": [
    "'''\n",
    "for node_id, node in enumerate(L4_indice):\n",
    "    for sub_id in node:\n",
    "        print(L4_feature_positions[node_id], L3_feature_positions[sub_id])\n",
    "\n",
    "for node_id, node in enumerate(L3_indice):\n",
    "    for sub_id in node:\n",
    "        print(L3_feature_positions[node_id], L2_feature_positions[sub_id])\n",
    "'''"
   ]
  },
  {
   "cell_type": "code",
   "execution_count": null,
   "metadata": {},
   "outputs": [],
   "source": [
    "import plotly.graph_objects as go\n",
    "import numpy as np\n",
    "\n",
    "# Helix equation\n",
    "fig = go.Figure(data=[go.Scatter3d(x=df['x'], y=df['y'], z=df['level'],\n",
    "                                   mode='markers', marker=dict(\n",
    "                                                            size=12,\n",
    "                                                            color=df['level'],                # set color to an array/list of desired values\n",
    "                                                            colorscale='Viridis',   # choose a colorscale\n",
    "                                                            opacity=1.0))])\n",
    "\n",
    "\n",
    "for node_id, node in enumerate(L4_indice):\n",
    "    for sub_id in node:\n",
    "        sx,sy = L4_feature_positions[node_id]\n",
    "        ix,iy = L3_feature_positions[sub_id]\n",
    "        fig.add_trace(\n",
    "        go.Scatter3d(\n",
    "            x=[sx,ix],\n",
    "            y=[sy,iy],\n",
    "            z=[4,3],\n",
    "            mode='lines',\n",
    "            line=dict(\n",
    "        color='darkblue',\n",
    "        width=2\n",
    "    )))\n",
    "\n",
    "for node_id, node in enumerate(L3_indice):\n",
    "    for sub_id in node:\n",
    "        sx,sy = L3_feature_positions[node_id]\n",
    "        ix,iy = L2_feature_positions[sub_id]\n",
    "        fig.add_trace(\n",
    "        go.Scatter3d(\n",
    "            x=[sx,ix],\n",
    "            y=[sy,iy],\n",
    "            z=[3,2],\n",
    "            mode='lines',\n",
    "            line=dict(\n",
    "        color='darkblue',\n",
    "        width=2\n",
    "    )))\n",
    "\n",
    "for node_id, node in enumerate(L2_indice):\n",
    "    for sub_id in node:\n",
    "        sx,sy = L2_feature_positions[node_id]\n",
    "        ix,iy = L1_feature_positions[sub_id]\n",
    "        fig.add_trace(\n",
    "        go.Scatter3d(\n",
    "            x=[sx,ix],\n",
    "            y=[sy,iy],\n",
    "            z=[2,1],\n",
    "            mode='lines',\n",
    "            line=dict(\n",
    "        color='darkblue',\n",
    "        width=2\n",
    "    )))\n",
    "\n",
    "# fig.add_trace(\n",
    "#         go.Scatter3d(\n",
    "#             x=np.arange(len(feat)),\n",
    "#             y=feat[:,0],\n",
    "#             z=feat[:,1],\n",
    "#             mode='lines',\n",
    "#             hovertext=labels[i]\n",
    "#         )\n",
    "\n",
    "# for node_id, node in enumerate(L4_indice):\n",
    "#     for sub_id in node:\n",
    "#         fig.add_trace(\n",
    "#         go.Scatter3d(\n",
    "#             x=[2,2],\n",
    "#             y=[3,3],\n",
    "#             z=[3,4],\n",
    "#             mode='lines'))\n",
    "\n",
    "fig.update_layout(\n",
    "    title='VISION TREE', \n",
    "    autosize=True,\n",
    "    width=500, \n",
    "    height=500,\n",
    "    xaxis=dict(range=[0.,10.]),\n",
    "    margin=dict(l=65, r=50, b=65, t=90),\n",
    "    scene_aspectmode='manual',\n",
    "    scene_aspectratio=dict(x=1, y=1, z=2),\n",
    "    scene=dict(\n",
    "        xaxis= dict(range=[0,5], nticks=20),\n",
    "        yaxis= dict(range=[0,5], nticks=20),\n",
    "        zaxis= dict(range=[0,5]),\n",
    "        xaxis_title='X',\n",
    "        yaxis_title='Y',\n",
    "        zaxis_title='LEVEL',\n",
    "    ))\n",
    "fig.update_layout(showlegend=False)\n",
    "fig.show()"
   ]
  },
  {
   "cell_type": "code",
   "execution_count": null,
   "metadata": {},
   "outputs": [],
   "source": [
    "fig.add_"
   ]
  },
  {
   "cell_type": "code",
   "execution_count": null,
   "metadata": {},
   "outputs": [],
   "source": [
    "import plotly.express as px\n",
    "fig = px.scatter_3d(df, x='x', y='y', z='level',\n",
    "              color='level', range_x=[0,5], range_y=[0,5])\n",
    "fig.show()"
   ]
  },
  {
   "cell_type": "code",
   "execution_count": null,
   "metadata": {},
   "outputs": [],
   "source": [
    "df2 = pd.DataFrame(columns=['x','y','level'])\n",
    "L=4\n",
    "df2 = df.append(pd.DataFrame([(2,1,L)], columns=['x','y','level']), ignore_index=True)\n",
    "df2 = df.append(pd.DataFrame([(2,2,L)], columns=['x','y','level']), ignore_index=True)\n",
    "df2 = df.append(pd.DataFrame([(2,3,L)], columns=['x','y','level']), ignore_index=True)\n",
    "fig.add_trace(go.Scatter3d(x=df2['x'], y=df2['y'], z=df2['level'], mode='markers'))\n",
    "\n",
    "fig.show()"
   ]
  },
  {
   "cell_type": "code",
   "execution_count": null,
   "metadata": {},
   "outputs": [],
   "source": []
  }
 ],
 "metadata": {
  "kernelspec": {
   "display_name": "Python 3",
   "language": "python",
   "name": "python3"
  },
  "language_info": {
   "codemirror_mode": {
    "name": "ipython",
    "version": 3
   },
   "file_extension": ".py",
   "mimetype": "text/x-python",
   "name": "python",
   "nbconvert_exporter": "python",
   "pygments_lexer": "ipython3",
   "version": "3.6.9"
  }
 },
 "nbformat": 4,
 "nbformat_minor": 4
}
