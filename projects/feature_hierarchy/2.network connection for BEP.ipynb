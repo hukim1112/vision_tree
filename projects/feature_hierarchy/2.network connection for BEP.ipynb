{
 "cells": [
  {
   "cell_type": "code",
   "execution_count": 1,
   "metadata": {},
   "outputs": [],
   "source": [
    "%load_ext autoreload\n",
    "%autoreload 2\n",
    "\n",
    "import os, sys\n",
    "sys.path.append(\"/home/files/feature_orthogonality\")\n",
    "from utils.session_config import setup_gpus"
   ]
  },
  {
   "cell_type": "code",
   "execution_count": 2,
   "metadata": {},
   "outputs": [],
   "source": [
    "import tensorflow as tf\n",
    "keras = tf.keras\n",
    "import cv2\n",
    "import numpy as np\n",
    "from matplotlib import pyplot as plt\n",
    "import seaborn as sns"
   ]
  },
  {
   "cell_type": "code",
   "execution_count": 3,
   "metadata": {},
   "outputs": [
    {
     "name": "stdout",
     "output_type": "stream",
     "text": [
      "1 Physical GPUs, 1 Logical GPUs\n"
     ]
    }
   ],
   "source": [
    "os.environ[\"CUDA_VISIBLE_DEVICES\"]=\"1\"\n",
    "setup_gpus(memory_fraction=0.2)"
   ]
  },
  {
   "cell_type": "code",
   "execution_count": 4,
   "metadata": {},
   "outputs": [],
   "source": [
    "from tensorflow.keras.layers import InputLayer, Conv2D, MaxPool2D, Flatten, Dense, ReLU, BatchNormalization, GlobalAveragePooling2D\n",
    "from utils.losses import L2_Orthogonal"
   ]
  },
  {
   "cell_type": "code",
   "execution_count": 5,
   "metadata": {},
   "outputs": [],
   "source": [
    "trained_model = tf.keras.models.load_model(\"mnist-3-cat-classifier.h5\")"
   ]
  },
  {
   "cell_type": "code",
   "execution_count": 6,
   "metadata": {},
   "outputs": [],
   "source": [
    "from utils.BEP import convert_to_separate_perceptrons"
   ]
  },
  {
   "cell_type": "code",
   "execution_count": 7,
   "metadata": {},
   "outputs": [],
   "source": [
    "class Etching_Layer(keras.layers.Layer):\n",
    "    def __init__(self, num_sub, num_super):\n",
    "        super(Etching_Layer, self).__init__()\n",
    "        self.sub = num_sub\n",
    "        self.super = num_super\n",
    "    def build(self, input_shape):\n",
    "        self.w = self.add_weight(\n",
    "            shape=(self.sub, self.super),\n",
    "            initializer=\"ones\",\n",
    "            trainable=True,\n",
    "        )\n",
    "    def call(self, inputs):\n",
    "        return inputs*self.w"
   ]
  },
  {
   "cell_type": "code",
   "execution_count": 8,
   "metadata": {},
   "outputs": [
    {
     "name": "stdout",
     "output_type": "stream",
     "text": [
      "2 layer name :  conv2d\n",
      "Conv2D\n",
      "0 layer name :  re_lu\n",
      "0 layer name :  max_pooling2d\n",
      "2 layer name :  conv2d_1\n",
      "Conv2D\n",
      "0 layer name :  re_lu_1\n",
      "0 layer name :  max_pooling2d_1\n",
      "2 layer name :  conv2d_2\n",
      "Conv2D\n",
      "0 layer name :  re_lu_2\n",
      "0 layer name :  global_average_pooling2d\n",
      "2 layer name :  dense\n",
      "Dense\n"
     ]
    }
   ],
   "source": [
    "input_layer = tf.keras.Input((28,28,1))\n",
    "x = input_layer\n",
    "for layer in trained_model.layers:\n",
    "    print(len(layer.get_weights()), \"layer name : \", layer.name)\n",
    "    if len(layer.get_weights())>0:\n",
    "        if layer.__class__.__name__ == 'Conv2D':\n",
    "            num_super = layer.filters\n",
    "        elif layer.__class__.__name__ == 'Dense':\n",
    "            num_super = layer.units\n",
    "        else:\n",
    "            raise ValueError(\"layer type is wrong\")\n",
    "        num_sub = x.shape[-1]        \n",
    "        x = x[...,tf.newaxis]\n",
    "        x = Etching_Layer(num_sub, num_super)(x)\n",
    "        layer = convert_to_separate_perceptrons(layer)\n",
    "        x, _ = layer(x)\n",
    "    else:\n",
    "        x = layer(x)\n",
    "\n",
    "model = tf.keras.Model(input_layer, x)"
   ]
  },
  {
   "cell_type": "code",
   "execution_count": null,
   "metadata": {},
   "outputs": [],
   "source": [
    "x"
   ]
  },
  {
   "cell_type": "code",
   "execution_count": 9,
   "metadata": {},
   "outputs": [
    {
     "name": "stdout",
     "output_type": "stream",
     "text": [
      "Model: \"functional_9\"\n",
      "_________________________________________________________________\n",
      "Layer (type)                 Output Shape              Param #   \n",
      "=================================================================\n",
      "input_1 (InputLayer)         [(None, 28, 28, 1)]       0         \n",
      "_________________________________________________________________\n",
      "tf_op_layer_strided_slice (T [(None, 28, 28, 1, 1)]    0         \n",
      "_________________________________________________________________\n",
      "etching__layer (Etching_Laye (None, 28, 28, 1, 16)     16        \n",
      "_________________________________________________________________\n",
      "functional_1 (Functional)    [(None, 26, 26, 16), [(No 160       \n",
      "_________________________________________________________________\n",
      "re_lu (ReLU)                 (None, 26, 26, 16)        0         \n",
      "_________________________________________________________________\n",
      "max_pooling2d (MaxPooling2D) (None, 13, 13, 16)        0         \n",
      "_________________________________________________________________\n",
      "tf_op_layer_strided_slice_1  [(None, 13, 13, 16, 1)]   0         \n",
      "_________________________________________________________________\n",
      "etching__layer_1 (Etching_La (None, 13, 13, 16, 16)    256       \n",
      "_________________________________________________________________\n",
      "functional_3 (Functional)    [(None, 11, 11, 16), [(No 2320      \n",
      "_________________________________________________________________\n",
      "re_lu_1 (ReLU)               (None, 11, 11, 16)        0         \n",
      "_________________________________________________________________\n",
      "max_pooling2d_1 (MaxPooling2 (None, 5, 5, 16)          0         \n",
      "_________________________________________________________________\n",
      "tf_op_layer_strided_slice_2  [(None, 5, 5, 16, 1)]     0         \n",
      "_________________________________________________________________\n",
      "etching__layer_2 (Etching_La (None, 5, 5, 16, 16)      256       \n",
      "_________________________________________________________________\n",
      "functional_5 (Functional)    [(None, 3, 3, 16), [(None 2320      \n",
      "_________________________________________________________________\n",
      "re_lu_2 (ReLU)               (None, 3, 3, 16)          0         \n",
      "_________________________________________________________________\n",
      "global_average_pooling2d (Gl (None, 16)                0         \n",
      "_________________________________________________________________\n",
      "tf_op_layer_strided_slice_3  [(None, 16, 1)]           0         \n",
      "_________________________________________________________________\n",
      "etching__layer_3 (Etching_La (None, 16, 3)             48        \n",
      "_________________________________________________________________\n",
      "functional_7 (Functional)    [(None, 3), [(None, 1), ( 51        \n",
      "=================================================================\n",
      "Total params: 5,427\n",
      "Trainable params: 5,427\n",
      "Non-trainable params: 0\n",
      "_________________________________________________________________\n"
     ]
    }
   ],
   "source": [
    "model.summary()"
   ]
  },
  {
   "cell_type": "code",
   "execution_count": null,
   "metadata": {},
   "outputs": [],
   "source": [
    "tf.keras.utils.plot_model(model)"
   ]
  },
  {
   "cell_type": "code",
   "execution_count": null,
   "metadata": {},
   "outputs": [],
   "source": []
  },
  {
   "cell_type": "markdown",
   "metadata": {},
   "source": [
    "# Validation of set_weights"
   ]
  },
  {
   "cell_type": "code",
   "execution_count": 10,
   "metadata": {},
   "outputs": [],
   "source": [
    "data_0 = np.load(\"0.npy\")\n",
    "#label_0 = np.zeros(len(data_0), np.int32)\n",
    "data_5 = np.load(\"5.npy\")\n",
    "#label_5 = np.ones(len(data_5), np.int32)\n",
    "data_7 = np.load(\"7.npy\")\n",
    "#label_7 = np.ones(len(data_7), np.int32)*2"
   ]
  },
  {
   "cell_type": "code",
   "execution_count": 11,
   "metadata": {},
   "outputs": [],
   "source": [
    "train_x = tf.constant(data_0, tf.float32)\n",
    "train_x = train_x[:,:,:,tf.newaxis]/255."
   ]
  },
  {
   "cell_type": "code",
   "execution_count": 12,
   "metadata": {},
   "outputs": [],
   "source": [
    "train_x1 = tf.constant(data_5, tf.float32)\n",
    "train_x1 = train_x1[:,:,:,tf.newaxis]/255."
   ]
  },
  {
   "cell_type": "code",
   "execution_count": 13,
   "metadata": {},
   "outputs": [
    {
     "data": {
      "text/plain": [
       "<tf.Tensor: shape=(5421, 3), dtype=float32, numpy=\n",
       "array([[2.96072394e-04, 9.95332181e-01, 4.37176041e-03],\n",
       "       [5.09916842e-02, 9.45262492e-01, 3.74581036e-03],\n",
       "       [1.21991169e-02, 9.82243299e-01, 5.55758690e-03],\n",
       "       ...,\n",
       "       [1.53766270e-03, 9.97759104e-01, 7.03141501e-04],\n",
       "       [1.10780750e-03, 9.98554647e-01, 3.37530510e-04],\n",
       "       [1.04143764e-04, 9.98752952e-01, 1.14288670e-03]], dtype=float32)>"
      ]
     },
     "execution_count": 13,
     "metadata": {},
     "output_type": "execute_result"
    }
   ],
   "source": [
    "trained_model(train_x1)"
   ]
  },
  {
   "cell_type": "code",
   "execution_count": 16,
   "metadata": {},
   "outputs": [
    {
     "data": {
      "text/plain": [
       "<tf.Tensor: shape=(5421, 3), dtype=float32, numpy=\n",
       "array([[-5.2181597,  2.902068 , -2.5258434],\n",
       "       [-1.2068053,  1.7129946, -3.81783  ],\n",
       "       [-2.6183374,  1.770138 , -3.4045374],\n",
       "       ...,\n",
       "       [-3.165443 ,  3.3098054, -3.9479039],\n",
       "       [-2.7834127,  4.020513 , -3.9718947],\n",
       "       [-5.1923366,  3.9761539, -2.7967966]], dtype=float32)>"
      ]
     },
     "execution_count": 16,
     "metadata": {},
     "output_type": "execute_result"
    }
   ],
   "source": [
    "model(train_x1)"
   ]
  },
  {
   "cell_type": "code",
   "execution_count": 15,
   "metadata": {},
   "outputs": [
    {
     "data": {
      "text/plain": [
       "<tf.Tensor: shape=(5421, 3), dtype=float32, numpy=\n",
       "array([[2.96072394e-04, 9.95332181e-01, 4.37175808e-03],\n",
       "       [5.09916954e-02, 9.45262492e-01, 3.74581036e-03],\n",
       "       [1.21991169e-02, 9.82243299e-01, 5.55758458e-03],\n",
       "       ...,\n",
       "       [1.53766270e-03, 9.97759104e-01, 7.03141151e-04],\n",
       "       [1.10780809e-03, 9.98554647e-01, 3.37530626e-04],\n",
       "       [1.04143764e-04, 9.98752952e-01, 1.14288670e-03]], dtype=float32)>"
      ]
     },
     "execution_count": 15,
     "metadata": {},
     "output_type": "execute_result"
    }
   ],
   "source": [
    "tf.math.softmax(model(train_x1))"
   ]
  },
  {
   "cell_type": "code",
   "execution_count": null,
   "metadata": {},
   "outputs": [],
   "source": []
  },
  {
   "cell_type": "code",
   "execution_count": null,
   "metadata": {},
   "outputs": [],
   "source": []
  }
 ],
 "metadata": {
  "kernelspec": {
   "display_name": "Python 3",
   "language": "python",
   "name": "python3"
  },
  "language_info": {
   "codemirror_mode": {
    "name": "ipython",
    "version": 3
   },
   "file_extension": ".py",
   "mimetype": "text/x-python",
   "name": "python",
   "nbconvert_exporter": "python",
   "pygments_lexer": "ipython3",
   "version": "3.6.9"
  }
 },
 "nbformat": 4,
 "nbformat_minor": 4
}
