{
 "cells": [
  {
   "cell_type": "code",
   "execution_count": 1,
   "metadata": {},
   "outputs": [],
   "source": [
    "%load_ext autoreload\n",
    "%autoreload 2\n",
    "\n",
    "import os, sys\n",
    "import tensorflow as tf\n",
    "import cv2\n",
    "import numpy as np\n",
    "from matplotlib import pyplot as plt\n",
    "import seaborn as sns\n",
    "sys.path.append(\"/home/files/vision_tree\")\n",
    "from utils.session_config import setup_gpus"
   ]
  },
  {
   "cell_type": "code",
   "execution_count": 2,
   "metadata": {},
   "outputs": [
    {
     "name": "stdout",
     "output_type": "stream",
     "text": [
      "1 Physical GPUs, 1 Logical GPUs\n"
     ]
    }
   ],
   "source": [
    "os.environ[\"CUDA_VISIBLE_DEVICES\"]=\"1\"\n",
    "setup_gpus(memory_fraction=0.2)"
   ]
  },
  {
   "cell_type": "code",
   "execution_count": 11,
   "metadata": {},
   "outputs": [
    {
     "name": "stdout",
     "output_type": "stream",
     "text": [
      "Downloading data from https://www.cs.toronto.edu/~kriz/cifar-10-python.tar.gz\n",
      "170500096/170498071 [==============================] - 111s 1us/step\n",
      "(50000, 32, 32, 3)\n",
      "(10000, 32, 32, 3)\n"
     ]
    }
   ],
   "source": [
    "# mnist classification\n",
    "(train_x, train_y), (test_x, test_y) = tf.keras.datasets.cifar10.load_data()\n",
    "train_x = tf.cast(train_x/255., tf.float32)\n",
    "test_x = tf.cast(test_x/255., tf.float32)\n",
    "print(train_x.shape)\n",
    "print(test_x.shape)"
   ]
  },
  {
   "cell_type": "code",
   "execution_count": 13,
   "metadata": {},
   "outputs": [],
   "source": [
    "train_ds = tf.data.Dataset.from_tensor_slices((train_x,train_y)).shuffle(50000, reshuffle_each_iteration=False)"
   ]
  },
  {
   "cell_type": "code",
   "execution_count": 14,
   "metadata": {},
   "outputs": [],
   "source": [
    "train_ds = train_ds.shuffle(1000).batch(64).prefetch(tf.data.experimental.AUTOTUNE)"
   ]
  },
  {
   "cell_type": "code",
   "execution_count": 16,
   "metadata": {},
   "outputs": [],
   "source": [
    "from tensorflow.keras.layers import InputLayer, Conv2D, MaxPool2D, Flatten, Dense, ReLU, BatchNormalization, GlobalAveragePooling2D\n",
    "\n",
    "model = tf.keras.Sequential()\n",
    "model.add(Conv2D(16, (3,3)))\n",
    "model.add(Conv2D(16, (3,3)))\n",
    "model.add(ReLU())\n",
    "model.add(MaxPool2D())\n",
    "model.add(Conv2D(32, (3,3)))\n",
    "model.add(Conv2D(32, (3,3)))\n",
    "model.add(ReLU())\n",
    "model.add(MaxPool2D())\n",
    "model.add(Conv2D(64, (3,3)))\n",
    "model.add(Conv2D(64, (3,3)))\n",
    "model.add(ReLU())\n",
    "model.add(GlobalAveragePooling2D())\n",
    "model.add(Dense(10, activation='softmax'))\n",
    "\n",
    "model.compile(optimizer='Adam', loss=tf.keras.losses.SparseCategoricalCrossentropy(), metrics=['acc'])"
   ]
  },
  {
   "cell_type": "code",
   "execution_count": 17,
   "metadata": {},
   "outputs": [
    {
     "name": "stdout",
     "output_type": "stream",
     "text": [
      "Epoch 1/50\n",
      "782/782 [==============================] - 3s 4ms/step - loss: 1.5280 - acc: 0.4433 - val_loss: 1.2159 - val_acc: 0.5659\n",
      "Epoch 2/50\n",
      "782/782 [==============================] - 3s 4ms/step - loss: 1.1267 - acc: 0.6036 - val_loss: 1.1200 - val_acc: 0.6003\n",
      "Epoch 3/50\n",
      "782/782 [==============================] - 3s 4ms/step - loss: 0.9772 - acc: 0.6559 - val_loss: 0.9745 - val_acc: 0.6608\n",
      "Epoch 4/50\n",
      "782/782 [==============================] - 3s 4ms/step - loss: 0.8818 - acc: 0.6894 - val_loss: 0.9261 - val_acc: 0.6789\n",
      "Epoch 5/50\n",
      "782/782 [==============================] - 3s 4ms/step - loss: 0.8175 - acc: 0.7135 - val_loss: 0.8784 - val_acc: 0.6988\n",
      "Epoch 6/50\n",
      "782/782 [==============================] - 3s 4ms/step - loss: 0.7725 - acc: 0.7291 - val_loss: 0.8619 - val_acc: 0.7070\n",
      "Epoch 7/50\n",
      "782/782 [==============================] - 3s 4ms/step - loss: 0.7353 - acc: 0.7417 - val_loss: 0.9487 - val_acc: 0.6816\n",
      "Epoch 8/50\n",
      "782/782 [==============================] - 3s 4ms/step - loss: 0.6983 - acc: 0.7547 - val_loss: 0.8503 - val_acc: 0.7102\n",
      "Epoch 9/50\n",
      "782/782 [==============================] - 3s 4ms/step - loss: 0.6669 - acc: 0.7656 - val_loss: 0.8947 - val_acc: 0.7079\n",
      "Epoch 10/50\n",
      "782/782 [==============================] - 3s 4ms/step - loss: 0.6439 - acc: 0.7726 - val_loss: 0.9072 - val_acc: 0.7071\n",
      "Epoch 11/50\n",
      "782/782 [==============================] - 3s 4ms/step - loss: 0.6240 - acc: 0.7789 - val_loss: 0.8858 - val_acc: 0.7110\n",
      "Epoch 12/50\n",
      "782/782 [==============================] - 3s 4ms/step - loss: 0.5980 - acc: 0.7893 - val_loss: 0.9433 - val_acc: 0.7005\n",
      "Epoch 13/50\n",
      "782/782 [==============================] - 3s 4ms/step - loss: 0.5691 - acc: 0.7972 - val_loss: 0.9294 - val_acc: 0.7119\n",
      "Epoch 14/50\n",
      "782/782 [==============================] - 3s 4ms/step - loss: 0.5541 - acc: 0.8051 - val_loss: 0.9294 - val_acc: 0.7085\n",
      "Epoch 15/50\n",
      "782/782 [==============================] - 3s 4ms/step - loss: 0.5352 - acc: 0.8100 - val_loss: 0.9646 - val_acc: 0.7092\n",
      "Epoch 16/50\n",
      "782/782 [==============================] - 3s 4ms/step - loss: 0.5186 - acc: 0.8151 - val_loss: 0.9719 - val_acc: 0.7066\n",
      "Epoch 17/50\n",
      "782/782 [==============================] - 3s 4ms/step - loss: 0.4948 - acc: 0.8231 - val_loss: 0.9898 - val_acc: 0.7105\n",
      "Epoch 18/50\n",
      "782/782 [==============================] - 3s 4ms/step - loss: 0.4778 - acc: 0.8303 - val_loss: 1.0034 - val_acc: 0.7102\n",
      "Epoch 19/50\n",
      "782/782 [==============================] - 3s 4ms/step - loss: 0.4682 - acc: 0.8322 - val_loss: 1.0446 - val_acc: 0.7062\n",
      "Epoch 20/50\n",
      "782/782 [==============================] - 3s 4ms/step - loss: 0.4474 - acc: 0.8394 - val_loss: 1.1050 - val_acc: 0.6969\n",
      "Epoch 21/50\n",
      "782/782 [==============================] - 3s 4ms/step - loss: 0.4363 - acc: 0.8438 - val_loss: 1.0600 - val_acc: 0.6977\n",
      "Epoch 22/50\n",
      "782/782 [==============================] - 3s 4ms/step - loss: 0.4184 - acc: 0.8496 - val_loss: 1.1255 - val_acc: 0.7057\n",
      "Epoch 23/50\n",
      "782/782 [==============================] - 3s 4ms/step - loss: 0.4082 - acc: 0.8515 - val_loss: 1.1320 - val_acc: 0.7099\n",
      "Epoch 24/50\n",
      "782/782 [==============================] - 3s 4ms/step - loss: 0.3938 - acc: 0.8561 - val_loss: 1.1578 - val_acc: 0.7008\n",
      "Epoch 25/50\n",
      "782/782 [==============================] - 3s 4ms/step - loss: 0.3846 - acc: 0.8617 - val_loss: 1.2366 - val_acc: 0.6919\n",
      "Epoch 26/50\n",
      "782/782 [==============================] - 3s 4ms/step - loss: 0.3784 - acc: 0.8622 - val_loss: 1.2716 - val_acc: 0.6900\n",
      "Epoch 27/50\n",
      "782/782 [==============================] - 3s 4ms/step - loss: 0.3616 - acc: 0.8695 - val_loss: 1.2777 - val_acc: 0.6957\n",
      "Epoch 28/50\n",
      "782/782 [==============================] - 3s 4ms/step - loss: 0.3572 - acc: 0.8699 - val_loss: 1.3427 - val_acc: 0.6854\n",
      "Epoch 29/50\n",
      "782/782 [==============================] - 3s 4ms/step - loss: 0.3438 - acc: 0.8742 - val_loss: 1.3108 - val_acc: 0.6986\n",
      "Epoch 30/50\n",
      "782/782 [==============================] - 3s 4ms/step - loss: 0.3392 - acc: 0.8772 - val_loss: 1.3190 - val_acc: 0.6959\n",
      "Epoch 31/50\n",
      "782/782 [==============================] - 3s 4ms/step - loss: 0.3248 - acc: 0.8812 - val_loss: 1.3702 - val_acc: 0.6992\n",
      "Epoch 32/50\n",
      "782/782 [==============================] - 3s 4ms/step - loss: 0.3195 - acc: 0.8847 - val_loss: 1.3934 - val_acc: 0.6940\n",
      "Epoch 33/50\n",
      "782/782 [==============================] - 3s 4ms/step - loss: 0.3107 - acc: 0.8841 - val_loss: 1.4521 - val_acc: 0.6874\n",
      "Epoch 34/50\n",
      "782/782 [==============================] - 3s 4ms/step - loss: 0.3104 - acc: 0.8877 - val_loss: 1.4664 - val_acc: 0.6955\n",
      "Epoch 35/50\n",
      "782/782 [==============================] - 3s 4ms/step - loss: 0.2983 - acc: 0.8906 - val_loss: 1.4960 - val_acc: 0.6893\n",
      "Epoch 36/50\n",
      "782/782 [==============================] - 3s 4ms/step - loss: 0.2881 - acc: 0.8944 - val_loss: 1.4555 - val_acc: 0.6872\n",
      "Epoch 37/50\n",
      "782/782 [==============================] - 3s 4ms/step - loss: 0.2818 - acc: 0.8962 - val_loss: 1.5429 - val_acc: 0.6922\n",
      "Epoch 38/50\n",
      "782/782 [==============================] - 3s 4ms/step - loss: 0.2855 - acc: 0.8951 - val_loss: 1.5428 - val_acc: 0.6820\n",
      "Epoch 39/50\n",
      "782/782 [==============================] - 3s 4ms/step - loss: 0.2710 - acc: 0.9010 - val_loss: 1.6914 - val_acc: 0.6894\n",
      "Epoch 40/50\n",
      "782/782 [==============================] - 3s 4ms/step - loss: 0.2723 - acc: 0.9004 - val_loss: 1.8296 - val_acc: 0.6694\n",
      "Epoch 41/50\n",
      "782/782 [==============================] - 3s 4ms/step - loss: 0.2594 - acc: 0.9048 - val_loss: 1.6889 - val_acc: 0.6839\n",
      "Epoch 42/50\n",
      "782/782 [==============================] - 3s 4ms/step - loss: 0.2552 - acc: 0.9074 - val_loss: 1.7656 - val_acc: 0.6858\n",
      "Epoch 43/50\n",
      "782/782 [==============================] - 3s 4ms/step - loss: 0.2492 - acc: 0.9094 - val_loss: 1.7718 - val_acc: 0.6831\n",
      "Epoch 44/50\n",
      "782/782 [==============================] - 3s 4ms/step - loss: 0.2544 - acc: 0.9073 - val_loss: 1.7661 - val_acc: 0.6829\n",
      "Epoch 45/50\n",
      "782/782 [==============================] - 3s 4ms/step - loss: 0.2406 - acc: 0.9118 - val_loss: 1.8329 - val_acc: 0.6859\n",
      "Epoch 46/50\n",
      "782/782 [==============================] - 3s 4ms/step - loss: 0.2453 - acc: 0.9108 - val_loss: 1.7865 - val_acc: 0.6821\n",
      "Epoch 47/50\n",
      "782/782 [==============================] - 3s 4ms/step - loss: 0.2414 - acc: 0.9113 - val_loss: 1.7903 - val_acc: 0.6864\n",
      "Epoch 48/50\n",
      "782/782 [==============================] - 3s 4ms/step - loss: 0.2410 - acc: 0.9118 - val_loss: 1.8080 - val_acc: 0.6875\n",
      "Epoch 49/50\n",
      "782/782 [==============================] - 3s 4ms/step - loss: 0.2287 - acc: 0.9151 - val_loss: 1.8432 - val_acc: 0.6871\n",
      "Epoch 50/50\n",
      "782/782 [==============================] - 3s 4ms/step - loss: 0.2200 - acc: 0.9196 - val_loss: 1.8548 - val_acc: 0.6875\n",
      "313/313 [==============================] - 1s 2ms/step - loss: 1.8548 - acc: 0.6875\n"
     ]
    },
    {
     "data": {
      "text/plain": [
       "[1.8547742366790771, 0.6875]"
      ]
     },
     "execution_count": 17,
     "metadata": {},
     "output_type": "execute_result"
    }
   ],
   "source": [
    "model.fit(train_ds, epochs=50, validation_data=(test_x, test_y))\n",
    "model.evaluate(test_x, test_y)"
   ]
  },
  {
   "cell_type": "code",
   "execution_count": 18,
   "metadata": {},
   "outputs": [],
   "source": [
    "model.save(\"ckpt/cifar_cnn/10classes.h5\")"
   ]
  },
  {
   "cell_type": "code",
   "execution_count": null,
   "metadata": {},
   "outputs": [],
   "source": []
  }
 ],
 "metadata": {
  "kernelspec": {
   "display_name": "Python 3",
   "language": "python",
   "name": "python3"
  },
  "language_info": {
   "codemirror_mode": {
    "name": "ipython",
    "version": 3
   },
   "file_extension": ".py",
   "mimetype": "text/x-python",
   "name": "python",
   "nbconvert_exporter": "python",
   "pygments_lexer": "ipython3",
   "version": "3.6.9"
  }
 },
 "nbformat": 4,
 "nbformat_minor": 4
}
