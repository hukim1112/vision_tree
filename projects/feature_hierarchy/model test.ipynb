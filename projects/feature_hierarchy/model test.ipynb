{
 "cells": [
  {
   "cell_type": "code",
   "execution_count": 1,
   "metadata": {},
   "outputs": [],
   "source": [
    "import os, sys\n",
    "sys.path.append(\"/home/files/feature_orthogonality\")\n",
    "from utils.session_config import setup_gpus"
   ]
  },
  {
   "cell_type": "code",
   "execution_count": 2,
   "metadata": {},
   "outputs": [],
   "source": [
    "import tensorflow as tf\n",
    "import cv2\n",
    "import numpy as np\n",
    "from matplotlib import pyplot as plt\n",
    "import seaborn as sns"
   ]
  },
  {
   "cell_type": "code",
   "execution_count": 3,
   "metadata": {},
   "outputs": [
    {
     "name": "stdout",
     "output_type": "stream",
     "text": [
      "1 Physical GPUs, 1 Logical GPUs\n"
     ]
    }
   ],
   "source": [
    "os.environ[\"CUDA_VISIBLE_DEVICES\"]=\"1\"\n",
    "setup_gpus(memory_fraction=0.2)"
   ]
  },
  {
   "cell_type": "markdown",
   "metadata": {},
   "source": [
    "# Load mnist images"
   ]
  },
  {
   "cell_type": "code",
   "execution_count": 4,
   "metadata": {},
   "outputs": [],
   "source": [
    "data_0 = np.load(\"0.npy\")\n",
    "label_0 = np.zeros(len(data_0), np.int32)\n",
    "data_5 = np.load(\"5.npy\")\n",
    "label_5 = np.ones(len(data_5), np.int32)\n",
    "data_7 = np.load(\"7.npy\")\n",
    "label_7 = np.ones(len(data_7), np.int32)*2"
   ]
  },
  {
   "cell_type": "code",
   "execution_count": 5,
   "metadata": {},
   "outputs": [],
   "source": [
    "train_x = tf.concat([data_0, data_5, data_7], axis=0)\n",
    "train_x = tf.cast(train_x, tf.float32)\n",
    "train_x = train_x[:,:,:,tf.newaxis]/255.\n",
    "train_y = tf.concat([label_0, label_5, label_7], axis=0)"
   ]
  },
  {
   "cell_type": "code",
   "execution_count": 6,
   "metadata": {},
   "outputs": [
    {
     "name": "stdout",
     "output_type": "stream",
     "text": [
      "(17609, 28, 28, 1)\n",
      "(17609,)\n"
     ]
    }
   ],
   "source": [
    "print(train_x.shape)\n",
    "print(train_y.shape)"
   ]
  },
  {
   "cell_type": "code",
   "execution_count": 7,
   "metadata": {},
   "outputs": [],
   "source": [
    "#(train_x, train_y), (test_x, test_y) = tf.keras.datasets.mnist.load_data()\n",
    "# train_x = train_x[:,:,:,tf.newaxis]/255.\n",
    "# test_x = test_x[:,:,:,tf.newaxis]/255.\n",
    "# print(train_x.shape)\n",
    "# print(test_x.shape)"
   ]
  },
  {
   "cell_type": "markdown",
   "metadata": {},
   "source": [
    "# Build Model"
   ]
  },
  {
   "cell_type": "code",
   "execution_count": 8,
   "metadata": {},
   "outputs": [],
   "source": [
    "from tensorflow.keras.layers import Conv2D, MaxPool2D, Flatten, Dense\n",
    "\n",
    "model = tf.keras.Sequential()\n",
    "model.add(Conv2D(32, (3,3), activation='relu'))\n",
    "model.add(MaxPool2D())\n",
    "model.add(Conv2D(64, (3,3), activation='relu'))\n",
    "model.add(MaxPool2D())\n",
    "model.add(Flatten())\n",
    "model.add(Dense(32, activation='relu'))\n",
    "model.add(Dense(10, activation='softmax'))\n"
   ]
  },
  {
   "cell_type": "code",
   "execution_count": 9,
   "metadata": {},
   "outputs": [
    {
     "name": "stdout",
     "output_type": "stream",
     "text": [
      "Epoch 1/10\n",
      "551/551 [==============================] - 1s 3ms/step - loss: 0.0848 - acc: 0.9752\n",
      "Epoch 2/10\n",
      "551/551 [==============================] - 2s 3ms/step - loss: 0.0115 - acc: 0.9961\n",
      "Epoch 3/10\n",
      "551/551 [==============================] - 1s 3ms/step - loss: 0.0061 - acc: 0.9977\n",
      "Epoch 4/10\n",
      "551/551 [==============================] - 1s 3ms/step - loss: 0.0038 - acc: 0.9988\n",
      "Epoch 5/10\n",
      "551/551 [==============================] - 1s 2ms/step - loss: 0.0036 - acc: 0.9989\n",
      "Epoch 6/10\n",
      "551/551 [==============================] - 1s 3ms/step - loss: 0.0024 - acc: 0.9992\n",
      "Epoch 7/10\n",
      "551/551 [==============================] - 2s 3ms/step - loss: 0.0010 - acc: 0.9997\n",
      "Epoch 8/10\n",
      "551/551 [==============================] - 1s 3ms/step - loss: 0.0016 - acc: 0.9997\n",
      "Epoch 9/10\n",
      "551/551 [==============================] - 1s 3ms/step - loss: 3.6708e-04 - acc: 0.9999\n",
      "Epoch 10/10\n",
      "551/551 [==============================] - 1s 3ms/step - loss: 0.0033 - acc: 0.9990\n"
     ]
    },
    {
     "data": {
      "text/plain": [
       "<tensorflow.python.keras.callbacks.History at 0x7f94d8086898>"
      ]
     },
     "execution_count": 9,
     "metadata": {},
     "output_type": "execute_result"
    }
   ],
   "source": [
    "model.compile(optimizer='Adam', loss=tf.keras.losses.SparseCategoricalCrossentropy(), metrics=['acc'])\n",
    "model.fit(train_x, train_y, epochs=10)"
   ]
  },
  {
   "cell_type": "markdown",
   "metadata": {},
   "source": [
    "# Visualization"
   ]
  },
  {
   "cell_type": "code",
   "execution_count": null,
   "metadata": {},
   "outputs": [],
   "source": [
    "tf.keras.utils.plot_model(model, show_shapes=True)"
   ]
  },
  {
   "cell_type": "code",
   "execution_count": null,
   "metadata": {},
   "outputs": [],
   "source": [
    "def get_weight_cosine_similarity(weight):\n",
    "    w = weight\n",
    "    if len(w.shape) == 4: #convolution\n",
    "        H,W,C,N = w.shape\n",
    "        row_dims = H*W*C\n",
    "        col_dims = N\n",
    "    else: #dense\n",
    "        D,N = w.shape\n",
    "        row_dims = D\n",
    "        col_dims = N\n",
    "    w = tf.reshape(w, (row_dims, col_dims))\n",
    "    norm = tf.norm(w, axis=0)\n",
    "    w = w/norm #normalize\n",
    "    wT = tf.transpose(w)\n",
    "    correlations = tf.matmul(wT,w)\n",
    "    return correlations\n",
    "\n",
    "def get_weight_l2norm(weight):\n",
    "    w = weight\n",
    "    if len(w.shape) == 4: #convolution\n",
    "        H,W,C,N = w.shape\n",
    "        row_dims = H*W*C\n",
    "        col_dims = N\n",
    "    else: #dense\n",
    "        D,N = w.shape\n",
    "        row_dims = D\n",
    "        col_dims = N\n",
    "    w = tf.reshape(w, (row_dims, col_dims))\n",
    "    norm = tf.norm(w, axis=0)\n",
    "    return norm"
   ]
  },
  {
   "cell_type": "code",
   "execution_count": null,
   "metadata": {},
   "outputs": [],
   "source": [
    "weight = model.get_layer(\"conv2d\").get_weights()[0]\n",
    "correlations = get_weight_cosine_similarity(weight)"
   ]
  },
  {
   "cell_type": "code",
   "execution_count": null,
   "metadata": {},
   "outputs": [],
   "source": [
    "import matplotlib as mpl\n",
    "mpl.rcParams['figure.dpi'] = 800\n",
    "sns.heatmap(correlations, vmin=-1, vmax=1, cmap='RdBu_r', center=0, annot=True, fmt='.1f',xticklabels=False, yticklabels=False,annot_kws={\"size\": 4})"
   ]
  },
  {
   "cell_type": "code",
   "execution_count": null,
   "metadata": {},
   "outputs": [],
   "source": [
    "norm = get_weight_l2norm(weight)\n",
    "plt.bar(range(correlations.shape[0]), norm)\n",
    "plt.title('Norm of weights', fontsize=20)\n",
    "plt.show()"
   ]
  },
  {
   "cell_type": "code",
   "execution_count": null,
   "metadata": {},
   "outputs": [],
   "source": [
    "norm"
   ]
  },
  {
   "cell_type": "code",
   "execution_count": null,
   "metadata": {},
   "outputs": [],
   "source": []
  }
 ],
 "metadata": {
  "kernelspec": {
   "display_name": "Python 3",
   "language": "python",
   "name": "python3"
  },
  "language_info": {
   "codemirror_mode": {
    "name": "ipython",
    "version": 3
   },
   "file_extension": ".py",
   "mimetype": "text/x-python",
   "name": "python",
   "nbconvert_exporter": "python",
   "pygments_lexer": "ipython3",
   "version": "3.6.9"
  }
 },
 "nbformat": 4,
 "nbformat_minor": 4
}
