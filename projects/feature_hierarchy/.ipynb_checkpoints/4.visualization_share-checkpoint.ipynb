{
 "cells": [
  {
   "cell_type": "code",
   "execution_count": 1,
   "metadata": {},
   "outputs": [],
   "source": [
    "%load_ext autoreload\n",
    "%autoreload 2\n",
    "\n",
    "import os, sys\n",
    "sys.path.append(\"/home/files/feature_orthogonality\")\n",
    "from utils.session_config import setup_gpus\n",
    "\n",
    "import treelib\n",
    "import numpy as np\n",
    "import pandas as pd\n",
    "import plotly"
   ]
  },
  {
   "cell_type": "code",
   "execution_count": 2,
   "metadata": {},
   "outputs": [],
   "source": [
    "class0_L4 = np.load(\"etching_weights/0-17.npy\")\n",
    "class0_L3 = np.load(\"etching_weights/0-12.npy\")\n",
    "class0_L2 = np.load(\"etching_weights/0-7.npy\")\n",
    "class0_L1 = np.load(\"etching_weights/0-2.npy\")\n",
    "class0 = [class0_L4, class0_L3, class0_L2, class0_L1]"
   ]
  },
  {
   "cell_type": "code",
   "execution_count": 3,
   "metadata": {},
   "outputs": [],
   "source": [
    "class1_L4 = np.load(\"etching_weights/1-17.npy\")\n",
    "class1_L3 = np.load(\"etching_weights/1-12.npy\")\n",
    "class1_L2 = np.load(\"etching_weights/1-7.npy\")\n",
    "class1_L1 = np.load(\"etching_weights/1-2.npy\")\n",
    "class1 = [class1_L4, class1_L3, class1_L2, class1_L1]"
   ]
  },
  {
   "cell_type": "code",
   "execution_count": 4,
   "metadata": {},
   "outputs": [],
   "source": [
    "class2_L4 = np.load(\"etching_weights/2-17.npy\")\n",
    "class2_L3 = np.load(\"etching_weights/2-12.npy\")\n",
    "class2_L2 = np.load(\"etching_weights/2-7.npy\")\n",
    "class2_L1 = np.load(\"etching_weights/2-2.npy\")\n",
    "class2 = [class2_L4, class2_L3, class2_L2, class2_L1]"
   ]
  },
  {
   "cell_type": "code",
   "execution_count": null,
   "metadata": {},
   "outputs": [],
   "source": []
  },
  {
   "cell_type": "code",
   "execution_count": 5,
   "metadata": {},
   "outputs": [],
   "source": [
    "df = pd.DataFrame(columns=['x','y','level'])\n",
    "L = 1\n",
    "L1_feature_positions = {}\n",
    "for i in range(0,16):\n",
    "    L1_feature_positions[i] = [i//4+1,i%4+1]\n",
    "for i in range(0,16):\n",
    "    df = df.append(pd.DataFrame( [L1_feature_positions[i]+[L]],columns=['x','y','level']), ignore_index=True )\n",
    "\n",
    "L = 2\n",
    "L2_feature_positions = {}\n",
    "for i in range(0,16):\n",
    "    L2_feature_positions[i] = [i//4+1,i%4+1]\n",
    "for i in range(0,16):\n",
    "    df = df.append(pd.DataFrame( [L2_feature_positions[i]+[L]],columns=['x','y','level']), ignore_index=True )\n",
    "    \n",
    "L = 3\n",
    "L3_feature_positions = {}\n",
    "for i in range(0,16):\n",
    "    L3_feature_positions[i] = [i//4+1,i%4+1]\n",
    "for i in range(0,16):\n",
    "    df = df.append(pd.DataFrame( [L3_feature_positions[i]+[L]],columns=['x','y','level']), ignore_index=True )\n",
    "    \n",
    "L=4\n",
    "L4_feature_positions = {}\n",
    "L4_feature_positions[0] = [1.5,2.5]\n",
    "L4_feature_positions[1] = [2.5,2.5]\n",
    "L4_feature_positions[2] = [3.5,2.5]\n",
    "\n",
    "df = df.append(pd.DataFrame([L4_feature_positions[0]+[L]], columns=['x','y','level']), ignore_index=True)\n",
    "df = df.append(pd.DataFrame([L4_feature_positions[1]+[L]], columns=['x','y','level']), ignore_index=True)\n",
    "df = df.append(pd.DataFrame([L4_feature_positions[2]+[L]], columns=['x','y','level']), ignore_index=True)  \n",
    "    "
   ]
  },
  {
   "cell_type": "code",
   "execution_count": 7,
   "metadata": {},
   "outputs": [
    {
     "data": {
      "application/vnd.plotly.v1+json": {
       "config": {
        "plotlyServerURL": "https://plot.ly"
       },
       "data": [
        {
         "marker": {
          "color": [
           1,
           1,
           1,
           1,
           1,
           1,
           1,
           1,
           1,
           1,
           1,
           1,
           1,
           1,
           1,
           1,
           2,
           2,
           2,
           2,
           2,
           2,
           2,
           2,
           2,
           2,
           2,
           2,
           2,
           2,
           2,
           2,
           3,
           3,
           3,
           3,
           3,
           3,
           3,
           3,
           3,
           3,
           3,
           3,
           3,
           3,
           3,
           3,
           4,
           4,
           4
          ],
          "colorscale": [
           [
            0,
            "#440154"
           ],
           [
            0.1111111111111111,
            "#482878"
           ],
           [
            0.2222222222222222,
            "#3e4989"
           ],
           [
            0.3333333333333333,
            "#31688e"
           ],
           [
            0.4444444444444444,
            "#26828e"
           ],
           [
            0.5555555555555556,
            "#1f9e89"
           ],
           [
            0.6666666666666666,
            "#35b779"
           ],
           [
            0.7777777777777778,
            "#6ece58"
           ],
           [
            0.8888888888888888,
            "#b5de2b"
           ],
           [
            1,
            "#fde725"
           ]
          ],
          "opacity": 1,
          "size": 12
         },
         "mode": "markers",
         "type": "scatter3d",
         "x": [
          1,
          1,
          1,
          1,
          2,
          2,
          2,
          2,
          3,
          3,
          3,
          3,
          4,
          4,
          4,
          4,
          1,
          1,
          1,
          1,
          2,
          2,
          2,
          2,
          3,
          3,
          3,
          3,
          4,
          4,
          4,
          4,
          1,
          1,
          1,
          1,
          2,
          2,
          2,
          2,
          3,
          3,
          3,
          3,
          4,
          4,
          4,
          4,
          1.5,
          2.5,
          3.5
         ],
         "y": [
          1,
          2,
          3,
          4,
          1,
          2,
          3,
          4,
          1,
          2,
          3,
          4,
          1,
          2,
          3,
          4,
          1,
          2,
          3,
          4,
          1,
          2,
          3,
          4,
          1,
          2,
          3,
          4,
          1,
          2,
          3,
          4,
          1,
          2,
          3,
          4,
          1,
          2,
          3,
          4,
          1,
          2,
          3,
          4,
          1,
          2,
          3,
          4,
          2.5,
          2.5,
          2.5
         ],
         "z": [
          1,
          1,
          1,
          1,
          1,
          1,
          1,
          1,
          1,
          1,
          1,
          1,
          1,
          1,
          1,
          1,
          2,
          2,
          2,
          2,
          2,
          2,
          2,
          2,
          2,
          2,
          2,
          2,
          2,
          2,
          2,
          2,
          3,
          3,
          3,
          3,
          3,
          3,
          3,
          3,
          3,
          3,
          3,
          3,
          3,
          3,
          3,
          3,
          4,
          4,
          4
         ]
        },
        {
         "line": {
          "color": "darkblue",
          "width": 2
         },
         "mode": "lines",
         "type": "scatter3d",
         "x": [
          1.5,
          1
         ],
         "y": [
          2.5,
          2
         ],
         "z": [
          4,
          3
         ]
        },
        {
         "line": {
          "color": "darkblue",
          "width": 2
         },
         "mode": "lines",
         "type": "scatter3d",
         "x": [
          1.5,
          1
         ],
         "y": [
          2.5,
          4
         ],
         "z": [
          4,
          3
         ]
        },
        {
         "line": {
          "color": "darkblue",
          "width": 2
         },
         "mode": "lines",
         "type": "scatter3d",
         "x": [
          1.5,
          2
         ],
         "y": [
          2.5,
          1
         ],
         "z": [
          4,
          3
         ]
        },
        {
         "line": {
          "color": "darkblue",
          "width": 2
         },
         "mode": "lines",
         "type": "scatter3d",
         "x": [
          1.5,
          2
         ],
         "y": [
          2.5,
          4
         ],
         "z": [
          4,
          3
         ]
        },
        {
         "line": {
          "color": "darkblue",
          "width": 2
         },
         "mode": "lines",
         "type": "scatter3d",
         "x": [
          1.5,
          3
         ],
         "y": [
          2.5,
          2
         ],
         "z": [
          4,
          3
         ]
        },
        {
         "line": {
          "color": "darkblue",
          "width": 2
         },
         "mode": "lines",
         "type": "scatter3d",
         "x": [
          1,
          2
         ],
         "y": [
          2,
          2
         ],
         "z": [
          3,
          2
         ]
        },
        {
         "line": {
          "color": "darkblue",
          "width": 2
         },
         "mode": "lines",
         "type": "scatter3d",
         "x": [
          1,
          2
         ],
         "y": [
          2,
          4
         ],
         "z": [
          3,
          2
         ]
        },
        {
         "line": {
          "color": "darkblue",
          "width": 2
         },
         "mode": "lines",
         "type": "scatter3d",
         "x": [
          1,
          3
         ],
         "y": [
          2,
          3
         ],
         "z": [
          3,
          2
         ]
        },
        {
         "line": {
          "color": "darkblue",
          "width": 2
         },
         "mode": "lines",
         "type": "scatter3d",
         "x": [
          1,
          3
         ],
         "y": [
          2,
          4
         ],
         "z": [
          3,
          2
         ]
        },
        {
         "line": {
          "color": "darkblue",
          "width": 2
         },
         "mode": "lines",
         "type": "scatter3d",
         "x": [
          1,
          4
         ],
         "y": [
          2,
          4
         ],
         "z": [
          3,
          2
         ]
        },
        {
         "line": {
          "color": "darkblue",
          "width": 2
         },
         "mode": "lines",
         "type": "scatter3d",
         "x": [
          1,
          1
         ],
         "y": [
          4,
          1
         ],
         "z": [
          3,
          2
         ]
        },
        {
         "line": {
          "color": "darkblue",
          "width": 2
         },
         "mode": "lines",
         "type": "scatter3d",
         "x": [
          1,
          1
         ],
         "y": [
          4,
          3
         ],
         "z": [
          3,
          2
         ]
        },
        {
         "line": {
          "color": "darkblue",
          "width": 2
         },
         "mode": "lines",
         "type": "scatter3d",
         "x": [
          1,
          2
         ],
         "y": [
          4,
          1
         ],
         "z": [
          3,
          2
         ]
        },
        {
         "line": {
          "color": "darkblue",
          "width": 2
         },
         "mode": "lines",
         "type": "scatter3d",
         "x": [
          1,
          2
         ],
         "y": [
          4,
          2
         ],
         "z": [
          3,
          2
         ]
        },
        {
         "line": {
          "color": "darkblue",
          "width": 2
         },
         "mode": "lines",
         "type": "scatter3d",
         "x": [
          1,
          2
         ],
         "y": [
          4,
          3
         ],
         "z": [
          3,
          2
         ]
        },
        {
         "line": {
          "color": "darkblue",
          "width": 2
         },
         "mode": "lines",
         "type": "scatter3d",
         "x": [
          1,
          2
         ],
         "y": [
          4,
          4
         ],
         "z": [
          3,
          2
         ]
        },
        {
         "line": {
          "color": "darkblue",
          "width": 2
         },
         "mode": "lines",
         "type": "scatter3d",
         "x": [
          1,
          3
         ],
         "y": [
          4,
          3
         ],
         "z": [
          3,
          2
         ]
        },
        {
         "line": {
          "color": "darkblue",
          "width": 2
         },
         "mode": "lines",
         "type": "scatter3d",
         "x": [
          1,
          3
         ],
         "y": [
          4,
          4
         ],
         "z": [
          3,
          2
         ]
        },
        {
         "line": {
          "color": "darkblue",
          "width": 2
         },
         "mode": "lines",
         "type": "scatter3d",
         "x": [
          1,
          4
         ],
         "y": [
          4,
          1
         ],
         "z": [
          3,
          2
         ]
        },
        {
         "line": {
          "color": "darkblue",
          "width": 2
         },
         "mode": "lines",
         "type": "scatter3d",
         "x": [
          1,
          4
         ],
         "y": [
          4,
          2
         ],
         "z": [
          3,
          2
         ]
        },
        {
         "line": {
          "color": "darkblue",
          "width": 2
         },
         "mode": "lines",
         "type": "scatter3d",
         "x": [
          1,
          4
         ],
         "y": [
          4,
          3
         ],
         "z": [
          3,
          2
         ]
        },
        {
         "line": {
          "color": "darkblue",
          "width": 2
         },
         "mode": "lines",
         "type": "scatter3d",
         "x": [
          1,
          4
         ],
         "y": [
          4,
          4
         ],
         "z": [
          3,
          2
         ]
        },
        {
         "line": {
          "color": "darkblue",
          "width": 2
         },
         "mode": "lines",
         "type": "scatter3d",
         "x": [
          2,
          1
         ],
         "y": [
          1,
          3
         ],
         "z": [
          3,
          2
         ]
        },
        {
         "line": {
          "color": "darkblue",
          "width": 2
         },
         "mode": "lines",
         "type": "scatter3d",
         "x": [
          2,
          1
         ],
         "y": [
          1,
          4
         ],
         "z": [
          3,
          2
         ]
        },
        {
         "line": {
          "color": "darkblue",
          "width": 2
         },
         "mode": "lines",
         "type": "scatter3d",
         "x": [
          2,
          2
         ],
         "y": [
          1,
          1
         ],
         "z": [
          3,
          2
         ]
        },
        {
         "line": {
          "color": "darkblue",
          "width": 2
         },
         "mode": "lines",
         "type": "scatter3d",
         "x": [
          2,
          2
         ],
         "y": [
          1,
          2
         ],
         "z": [
          3,
          2
         ]
        },
        {
         "line": {
          "color": "darkblue",
          "width": 2
         },
         "mode": "lines",
         "type": "scatter3d",
         "x": [
          2,
          2
         ],
         "y": [
          1,
          4
         ],
         "z": [
          3,
          2
         ]
        },
        {
         "line": {
          "color": "darkblue",
          "width": 2
         },
         "mode": "lines",
         "type": "scatter3d",
         "x": [
          2,
          3
         ],
         "y": [
          1,
          4
         ],
         "z": [
          3,
          2
         ]
        },
        {
         "line": {
          "color": "darkblue",
          "width": 2
         },
         "mode": "lines",
         "type": "scatter3d",
         "x": [
          2,
          4
         ],
         "y": [
          1,
          1
         ],
         "z": [
          3,
          2
         ]
        },
        {
         "line": {
          "color": "darkblue",
          "width": 2
         },
         "mode": "lines",
         "type": "scatter3d",
         "x": [
          2,
          4
         ],
         "y": [
          1,
          3
         ],
         "z": [
          3,
          2
         ]
        },
        {
         "line": {
          "color": "darkblue",
          "width": 2
         },
         "mode": "lines",
         "type": "scatter3d",
         "x": [
          2,
          4
         ],
         "y": [
          1,
          4
         ],
         "z": [
          3,
          2
         ]
        },
        {
         "line": {
          "color": "darkblue",
          "width": 2
         },
         "mode": "lines",
         "type": "scatter3d",
         "x": [
          2,
          1
         ],
         "y": [
          4,
          3
         ],
         "z": [
          3,
          2
         ]
        },
        {
         "line": {
          "color": "darkblue",
          "width": 2
         },
         "mode": "lines",
         "type": "scatter3d",
         "x": [
          2,
          2
         ],
         "y": [
          4,
          1
         ],
         "z": [
          3,
          2
         ]
        },
        {
         "line": {
          "color": "darkblue",
          "width": 2
         },
         "mode": "lines",
         "type": "scatter3d",
         "x": [
          2,
          2
         ],
         "y": [
          4,
          2
         ],
         "z": [
          3,
          2
         ]
        },
        {
         "line": {
          "color": "darkblue",
          "width": 2
         },
         "mode": "lines",
         "type": "scatter3d",
         "x": [
          2,
          2
         ],
         "y": [
          4,
          3
         ],
         "z": [
          3,
          2
         ]
        },
        {
         "line": {
          "color": "darkblue",
          "width": 2
         },
         "mode": "lines",
         "type": "scatter3d",
         "x": [
          2,
          2
         ],
         "y": [
          4,
          4
         ],
         "z": [
          3,
          2
         ]
        },
        {
         "line": {
          "color": "darkblue",
          "width": 2
         },
         "mode": "lines",
         "type": "scatter3d",
         "x": [
          2,
          3
         ],
         "y": [
          4,
          3
         ],
         "z": [
          3,
          2
         ]
        },
        {
         "line": {
          "color": "darkblue",
          "width": 2
         },
         "mode": "lines",
         "type": "scatter3d",
         "x": [
          2,
          3
         ],
         "y": [
          4,
          4
         ],
         "z": [
          3,
          2
         ]
        },
        {
         "line": {
          "color": "darkblue",
          "width": 2
         },
         "mode": "lines",
         "type": "scatter3d",
         "x": [
          2,
          4
         ],
         "y": [
          4,
          1
         ],
         "z": [
          3,
          2
         ]
        },
        {
         "line": {
          "color": "darkblue",
          "width": 2
         },
         "mode": "lines",
         "type": "scatter3d",
         "x": [
          3,
          1
         ],
         "y": [
          2,
          1
         ],
         "z": [
          3,
          2
         ]
        },
        {
         "line": {
          "color": "darkblue",
          "width": 2
         },
         "mode": "lines",
         "type": "scatter3d",
         "x": [
          3,
          1
         ],
         "y": [
          2,
          2
         ],
         "z": [
          3,
          2
         ]
        },
        {
         "line": {
          "color": "darkblue",
          "width": 2
         },
         "mode": "lines",
         "type": "scatter3d",
         "x": [
          3,
          2
         ],
         "y": [
          2,
          1
         ],
         "z": [
          3,
          2
         ]
        },
        {
         "line": {
          "color": "darkblue",
          "width": 2
         },
         "mode": "lines",
         "type": "scatter3d",
         "x": [
          3,
          2
         ],
         "y": [
          2,
          2
         ],
         "z": [
          3,
          2
         ]
        },
        {
         "line": {
          "color": "darkblue",
          "width": 2
         },
         "mode": "lines",
         "type": "scatter3d",
         "x": [
          3,
          2
         ],
         "y": [
          2,
          3
         ],
         "z": [
          3,
          2
         ]
        },
        {
         "line": {
          "color": "darkblue",
          "width": 2
         },
         "mode": "lines",
         "type": "scatter3d",
         "x": [
          3,
          2
         ],
         "y": [
          2,
          4
         ],
         "z": [
          3,
          2
         ]
        },
        {
         "line": {
          "color": "darkblue",
          "width": 2
         },
         "mode": "lines",
         "type": "scatter3d",
         "x": [
          3,
          3
         ],
         "y": [
          2,
          2
         ],
         "z": [
          3,
          2
         ]
        },
        {
         "line": {
          "color": "darkblue",
          "width": 2
         },
         "mode": "lines",
         "type": "scatter3d",
         "x": [
          3,
          3
         ],
         "y": [
          2,
          3
         ],
         "z": [
          3,
          2
         ]
        },
        {
         "line": {
          "color": "darkblue",
          "width": 2
         },
         "mode": "lines",
         "type": "scatter3d",
         "x": [
          3,
          3
         ],
         "y": [
          2,
          4
         ],
         "z": [
          3,
          2
         ]
        },
        {
         "line": {
          "color": "darkblue",
          "width": 2
         },
         "mode": "lines",
         "type": "scatter3d",
         "x": [
          3,
          4
         ],
         "y": [
          2,
          2
         ],
         "z": [
          3,
          2
         ]
        },
        {
         "line": {
          "color": "darkblue",
          "width": 2
         },
         "mode": "lines",
         "type": "scatter3d",
         "x": [
          3,
          4
         ],
         "y": [
          2,
          4
         ],
         "z": [
          3,
          2
         ]
        },
        {
         "line": {
          "color": "darkblue",
          "width": 2
         },
         "mode": "lines",
         "type": "scatter3d",
         "x": [
          1,
          1
         ],
         "y": [
          1,
          3
         ],
         "z": [
          2,
          1
         ]
        },
        {
         "line": {
          "color": "darkblue",
          "width": 2
         },
         "mode": "lines",
         "type": "scatter3d",
         "x": [
          1,
          1
         ],
         "y": [
          1,
          4
         ],
         "z": [
          2,
          1
         ]
        },
        {
         "line": {
          "color": "darkblue",
          "width": 2
         },
         "mode": "lines",
         "type": "scatter3d",
         "x": [
          1,
          2
         ],
         "y": [
          1,
          1
         ],
         "z": [
          2,
          1
         ]
        },
        {
         "line": {
          "color": "darkblue",
          "width": 2
         },
         "mode": "lines",
         "type": "scatter3d",
         "x": [
          1,
          2
         ],
         "y": [
          1,
          3
         ],
         "z": [
          2,
          1
         ]
        },
        {
         "line": {
          "color": "darkblue",
          "width": 2
         },
         "mode": "lines",
         "type": "scatter3d",
         "x": [
          1,
          2
         ],
         "y": [
          1,
          4
         ],
         "z": [
          2,
          1
         ]
        },
        {
         "line": {
          "color": "darkblue",
          "width": 2
         },
         "mode": "lines",
         "type": "scatter3d",
         "x": [
          1,
          3
         ],
         "y": [
          1,
          1
         ],
         "z": [
          2,
          1
         ]
        },
        {
         "line": {
          "color": "darkblue",
          "width": 2
         },
         "mode": "lines",
         "type": "scatter3d",
         "x": [
          1,
          3
         ],
         "y": [
          1,
          2
         ],
         "z": [
          2,
          1
         ]
        },
        {
         "line": {
          "color": "darkblue",
          "width": 2
         },
         "mode": "lines",
         "type": "scatter3d",
         "x": [
          1,
          3
         ],
         "y": [
          1,
          3
         ],
         "z": [
          2,
          1
         ]
        },
        {
         "line": {
          "color": "darkblue",
          "width": 2
         },
         "mode": "lines",
         "type": "scatter3d",
         "x": [
          1,
          4
         ],
         "y": [
          1,
          1
         ],
         "z": [
          2,
          1
         ]
        },
        {
         "line": {
          "color": "darkblue",
          "width": 2
         },
         "mode": "lines",
         "type": "scatter3d",
         "x": [
          1,
          4
         ],
         "y": [
          1,
          2
         ],
         "z": [
          2,
          1
         ]
        },
        {
         "line": {
          "color": "darkblue",
          "width": 2
         },
         "mode": "lines",
         "type": "scatter3d",
         "x": [
          1,
          1
         ],
         "y": [
          2,
          2
         ],
         "z": [
          2,
          1
         ]
        },
        {
         "line": {
          "color": "darkblue",
          "width": 2
         },
         "mode": "lines",
         "type": "scatter3d",
         "x": [
          1,
          2
         ],
         "y": [
          2,
          1
         ],
         "z": [
          2,
          1
         ]
        },
        {
         "line": {
          "color": "darkblue",
          "width": 2
         },
         "mode": "lines",
         "type": "scatter3d",
         "x": [
          1,
          2
         ],
         "y": [
          2,
          3
         ],
         "z": [
          2,
          1
         ]
        },
        {
         "line": {
          "color": "darkblue",
          "width": 2
         },
         "mode": "lines",
         "type": "scatter3d",
         "x": [
          1,
          2
         ],
         "y": [
          2,
          4
         ],
         "z": [
          2,
          1
         ]
        },
        {
         "line": {
          "color": "darkblue",
          "width": 2
         },
         "mode": "lines",
         "type": "scatter3d",
         "x": [
          1,
          3
         ],
         "y": [
          2,
          1
         ],
         "z": [
          2,
          1
         ]
        },
        {
         "line": {
          "color": "darkblue",
          "width": 2
         },
         "mode": "lines",
         "type": "scatter3d",
         "x": [
          1,
          3
         ],
         "y": [
          2,
          4
         ],
         "z": [
          2,
          1
         ]
        },
        {
         "line": {
          "color": "darkblue",
          "width": 2
         },
         "mode": "lines",
         "type": "scatter3d",
         "x": [
          1,
          4
         ],
         "y": [
          2,
          1
         ],
         "z": [
          2,
          1
         ]
        },
        {
         "line": {
          "color": "darkblue",
          "width": 2
         },
         "mode": "lines",
         "type": "scatter3d",
         "x": [
          1,
          4
         ],
         "y": [
          2,
          2
         ],
         "z": [
          2,
          1
         ]
        },
        {
         "line": {
          "color": "darkblue",
          "width": 2
         },
         "mode": "lines",
         "type": "scatter3d",
         "x": [
          1,
          4
         ],
         "y": [
          2,
          3
         ],
         "z": [
          2,
          1
         ]
        },
        {
         "line": {
          "color": "darkblue",
          "width": 2
         },
         "mode": "lines",
         "type": "scatter3d",
         "x": [
          1,
          1
         ],
         "y": [
          3,
          2
         ],
         "z": [
          2,
          1
         ]
        },
        {
         "line": {
          "color": "darkblue",
          "width": 2
         },
         "mode": "lines",
         "type": "scatter3d",
         "x": [
          1,
          2
         ],
         "y": [
          3,
          2
         ],
         "z": [
          2,
          1
         ]
        },
        {
         "line": {
          "color": "darkblue",
          "width": 2
         },
         "mode": "lines",
         "type": "scatter3d",
         "x": [
          1,
          2
         ],
         "y": [
          3,
          3
         ],
         "z": [
          2,
          1
         ]
        },
        {
         "line": {
          "color": "darkblue",
          "width": 2
         },
         "mode": "lines",
         "type": "scatter3d",
         "x": [
          1,
          2
         ],
         "y": [
          3,
          4
         ],
         "z": [
          2,
          1
         ]
        },
        {
         "line": {
          "color": "darkblue",
          "width": 2
         },
         "mode": "lines",
         "type": "scatter3d",
         "x": [
          1,
          3
         ],
         "y": [
          3,
          1
         ],
         "z": [
          2,
          1
         ]
        },
        {
         "line": {
          "color": "darkblue",
          "width": 2
         },
         "mode": "lines",
         "type": "scatter3d",
         "x": [
          1,
          3
         ],
         "y": [
          3,
          3
         ],
         "z": [
          2,
          1
         ]
        },
        {
         "line": {
          "color": "darkblue",
          "width": 2
         },
         "mode": "lines",
         "type": "scatter3d",
         "x": [
          1,
          3
         ],
         "y": [
          3,
          4
         ],
         "z": [
          2,
          1
         ]
        },
        {
         "line": {
          "color": "darkblue",
          "width": 2
         },
         "mode": "lines",
         "type": "scatter3d",
         "x": [
          1,
          4
         ],
         "y": [
          3,
          2
         ],
         "z": [
          2,
          1
         ]
        },
        {
         "line": {
          "color": "darkblue",
          "width": 2
         },
         "mode": "lines",
         "type": "scatter3d",
         "x": [
          1,
          4
         ],
         "y": [
          3,
          4
         ],
         "z": [
          2,
          1
         ]
        },
        {
         "line": {
          "color": "darkblue",
          "width": 2
         },
         "mode": "lines",
         "type": "scatter3d",
         "x": [
          1,
          1
         ],
         "y": [
          4,
          2
         ],
         "z": [
          2,
          1
         ]
        },
        {
         "line": {
          "color": "darkblue",
          "width": 2
         },
         "mode": "lines",
         "type": "scatter3d",
         "x": [
          1,
          2
         ],
         "y": [
          4,
          2
         ],
         "z": [
          2,
          1
         ]
        },
        {
         "line": {
          "color": "darkblue",
          "width": 2
         },
         "mode": "lines",
         "type": "scatter3d",
         "x": [
          1,
          2
         ],
         "y": [
          4,
          3
         ],
         "z": [
          2,
          1
         ]
        },
        {
         "line": {
          "color": "darkblue",
          "width": 2
         },
         "mode": "lines",
         "type": "scatter3d",
         "x": [
          1,
          2
         ],
         "y": [
          4,
          4
         ],
         "z": [
          2,
          1
         ]
        },
        {
         "line": {
          "color": "darkblue",
          "width": 2
         },
         "mode": "lines",
         "type": "scatter3d",
         "x": [
          1,
          3
         ],
         "y": [
          4,
          2
         ],
         "z": [
          2,
          1
         ]
        },
        {
         "line": {
          "color": "darkblue",
          "width": 2
         },
         "mode": "lines",
         "type": "scatter3d",
         "x": [
          1,
          3
         ],
         "y": [
          4,
          3
         ],
         "z": [
          2,
          1
         ]
        },
        {
         "line": {
          "color": "darkblue",
          "width": 2
         },
         "mode": "lines",
         "type": "scatter3d",
         "x": [
          1,
          3
         ],
         "y": [
          4,
          4
         ],
         "z": [
          2,
          1
         ]
        },
        {
         "line": {
          "color": "darkblue",
          "width": 2
         },
         "mode": "lines",
         "type": "scatter3d",
         "x": [
          1,
          4
         ],
         "y": [
          4,
          2
         ],
         "z": [
          2,
          1
         ]
        },
        {
         "line": {
          "color": "darkblue",
          "width": 2
         },
         "mode": "lines",
         "type": "scatter3d",
         "x": [
          1,
          4
         ],
         "y": [
          4,
          4
         ],
         "z": [
          2,
          1
         ]
        },
        {
         "line": {
          "color": "darkblue",
          "width": 2
         },
         "mode": "lines",
         "type": "scatter3d",
         "x": [
          2,
          1
         ],
         "y": [
          1,
          1
         ],
         "z": [
          2,
          1
         ]
        },
        {
         "line": {
          "color": "darkblue",
          "width": 2
         },
         "mode": "lines",
         "type": "scatter3d",
         "x": [
          2,
          1
         ],
         "y": [
          1,
          2
         ],
         "z": [
          2,
          1
         ]
        },
        {
         "line": {
          "color": "darkblue",
          "width": 2
         },
         "mode": "lines",
         "type": "scatter3d",
         "x": [
          2,
          1
         ],
         "y": [
          1,
          4
         ],
         "z": [
          2,
          1
         ]
        },
        {
         "line": {
          "color": "darkblue",
          "width": 2
         },
         "mode": "lines",
         "type": "scatter3d",
         "x": [
          2,
          2
         ],
         "y": [
          1,
          2
         ],
         "z": [
          2,
          1
         ]
        },
        {
         "line": {
          "color": "darkblue",
          "width": 2
         },
         "mode": "lines",
         "type": "scatter3d",
         "x": [
          2,
          2
         ],
         "y": [
          1,
          3
         ],
         "z": [
          2,
          1
         ]
        },
        {
         "line": {
          "color": "darkblue",
          "width": 2
         },
         "mode": "lines",
         "type": "scatter3d",
         "x": [
          2,
          2
         ],
         "y": [
          1,
          4
         ],
         "z": [
          2,
          1
         ]
        },
        {
         "line": {
          "color": "darkblue",
          "width": 2
         },
         "mode": "lines",
         "type": "scatter3d",
         "x": [
          2,
          3
         ],
         "y": [
          1,
          1
         ],
         "z": [
          2,
          1
         ]
        },
        {
         "line": {
          "color": "darkblue",
          "width": 2
         },
         "mode": "lines",
         "type": "scatter3d",
         "x": [
          2,
          3
         ],
         "y": [
          1,
          3
         ],
         "z": [
          2,
          1
         ]
        },
        {
         "line": {
          "color": "darkblue",
          "width": 2
         },
         "mode": "lines",
         "type": "scatter3d",
         "x": [
          2,
          3
         ],
         "y": [
          1,
          4
         ],
         "z": [
          2,
          1
         ]
        },
        {
         "line": {
          "color": "darkblue",
          "width": 2
         },
         "mode": "lines",
         "type": "scatter3d",
         "x": [
          2,
          4
         ],
         "y": [
          1,
          2
         ],
         "z": [
          2,
          1
         ]
        },
        {
         "line": {
          "color": "darkblue",
          "width": 2
         },
         "mode": "lines",
         "type": "scatter3d",
         "x": [
          2,
          4
         ],
         "y": [
          1,
          4
         ],
         "z": [
          2,
          1
         ]
        },
        {
         "line": {
          "color": "darkblue",
          "width": 2
         },
         "mode": "lines",
         "type": "scatter3d",
         "x": [
          2,
          1
         ],
         "y": [
          2,
          1
         ],
         "z": [
          2,
          1
         ]
        },
        {
         "line": {
          "color": "darkblue",
          "width": 2
         },
         "mode": "lines",
         "type": "scatter3d",
         "x": [
          2,
          1
         ],
         "y": [
          2,
          2
         ],
         "z": [
          2,
          1
         ]
        },
        {
         "line": {
          "color": "darkblue",
          "width": 2
         },
         "mode": "lines",
         "type": "scatter3d",
         "x": [
          2,
          2
         ],
         "y": [
          2,
          3
         ],
         "z": [
          2,
          1
         ]
        },
        {
         "line": {
          "color": "darkblue",
          "width": 2
         },
         "mode": "lines",
         "type": "scatter3d",
         "x": [
          2,
          2
         ],
         "y": [
          2,
          4
         ],
         "z": [
          2,
          1
         ]
        },
        {
         "line": {
          "color": "darkblue",
          "width": 2
         },
         "mode": "lines",
         "type": "scatter3d",
         "x": [
          2,
          3
         ],
         "y": [
          2,
          1
         ],
         "z": [
          2,
          1
         ]
        },
        {
         "line": {
          "color": "darkblue",
          "width": 2
         },
         "mode": "lines",
         "type": "scatter3d",
         "x": [
          2,
          3
         ],
         "y": [
          2,
          3
         ],
         "z": [
          2,
          1
         ]
        },
        {
         "line": {
          "color": "darkblue",
          "width": 2
         },
         "mode": "lines",
         "type": "scatter3d",
         "x": [
          2,
          3
         ],
         "y": [
          2,
          4
         ],
         "z": [
          2,
          1
         ]
        },
        {
         "line": {
          "color": "darkblue",
          "width": 2
         },
         "mode": "lines",
         "type": "scatter3d",
         "x": [
          2,
          4
         ],
         "y": [
          2,
          1
         ],
         "z": [
          2,
          1
         ]
        },
        {
         "line": {
          "color": "darkblue",
          "width": 2
         },
         "mode": "lines",
         "type": "scatter3d",
         "x": [
          2,
          4
         ],
         "y": [
          2,
          2
         ],
         "z": [
          2,
          1
         ]
        },
        {
         "line": {
          "color": "darkblue",
          "width": 2
         },
         "mode": "lines",
         "type": "scatter3d",
         "x": [
          2,
          4
         ],
         "y": [
          2,
          3
         ],
         "z": [
          2,
          1
         ]
        },
        {
         "line": {
          "color": "darkblue",
          "width": 2
         },
         "mode": "lines",
         "type": "scatter3d",
         "x": [
          2,
          4
         ],
         "y": [
          2,
          4
         ],
         "z": [
          2,
          1
         ]
        },
        {
         "line": {
          "color": "darkblue",
          "width": 2
         },
         "mode": "lines",
         "type": "scatter3d",
         "x": [
          2,
          1
         ],
         "y": [
          3,
          1
         ],
         "z": [
          2,
          1
         ]
        },
        {
         "line": {
          "color": "darkblue",
          "width": 2
         },
         "mode": "lines",
         "type": "scatter3d",
         "x": [
          2,
          1
         ],
         "y": [
          3,
          2
         ],
         "z": [
          2,
          1
         ]
        },
        {
         "line": {
          "color": "darkblue",
          "width": 2
         },
         "mode": "lines",
         "type": "scatter3d",
         "x": [
          2,
          1
         ],
         "y": [
          3,
          4
         ],
         "z": [
          2,
          1
         ]
        },
        {
         "line": {
          "color": "darkblue",
          "width": 2
         },
         "mode": "lines",
         "type": "scatter3d",
         "x": [
          2,
          2
         ],
         "y": [
          3,
          1
         ],
         "z": [
          2,
          1
         ]
        },
        {
         "line": {
          "color": "darkblue",
          "width": 2
         },
         "mode": "lines",
         "type": "scatter3d",
         "x": [
          2,
          2
         ],
         "y": [
          3,
          2
         ],
         "z": [
          2,
          1
         ]
        },
        {
         "line": {
          "color": "darkblue",
          "width": 2
         },
         "mode": "lines",
         "type": "scatter3d",
         "x": [
          2,
          2
         ],
         "y": [
          3,
          3
         ],
         "z": [
          2,
          1
         ]
        },
        {
         "line": {
          "color": "darkblue",
          "width": 2
         },
         "mode": "lines",
         "type": "scatter3d",
         "x": [
          2,
          2
         ],
         "y": [
          3,
          4
         ],
         "z": [
          2,
          1
         ]
        },
        {
         "line": {
          "color": "darkblue",
          "width": 2
         },
         "mode": "lines",
         "type": "scatter3d",
         "x": [
          2,
          3
         ],
         "y": [
          3,
          3
         ],
         "z": [
          2,
          1
         ]
        },
        {
         "line": {
          "color": "darkblue",
          "width": 2
         },
         "mode": "lines",
         "type": "scatter3d",
         "x": [
          2,
          3
         ],
         "y": [
          3,
          4
         ],
         "z": [
          2,
          1
         ]
        },
        {
         "line": {
          "color": "darkblue",
          "width": 2
         },
         "mode": "lines",
         "type": "scatter3d",
         "x": [
          2,
          4
         ],
         "y": [
          3,
          2
         ],
         "z": [
          2,
          1
         ]
        },
        {
         "line": {
          "color": "darkblue",
          "width": 2
         },
         "mode": "lines",
         "type": "scatter3d",
         "x": [
          2,
          4
         ],
         "y": [
          3,
          3
         ],
         "z": [
          2,
          1
         ]
        },
        {
         "line": {
          "color": "darkblue",
          "width": 2
         },
         "mode": "lines",
         "type": "scatter3d",
         "x": [
          2,
          1
         ],
         "y": [
          4,
          1
         ],
         "z": [
          2,
          1
         ]
        },
        {
         "line": {
          "color": "darkblue",
          "width": 2
         },
         "mode": "lines",
         "type": "scatter3d",
         "x": [
          2,
          1
         ],
         "y": [
          4,
          2
         ],
         "z": [
          2,
          1
         ]
        },
        {
         "line": {
          "color": "darkblue",
          "width": 2
         },
         "mode": "lines",
         "type": "scatter3d",
         "x": [
          2,
          1
         ],
         "y": [
          4,
          4
         ],
         "z": [
          2,
          1
         ]
        },
        {
         "line": {
          "color": "darkblue",
          "width": 2
         },
         "mode": "lines",
         "type": "scatter3d",
         "x": [
          2,
          2
         ],
         "y": [
          4,
          1
         ],
         "z": [
          2,
          1
         ]
        },
        {
         "line": {
          "color": "darkblue",
          "width": 2
         },
         "mode": "lines",
         "type": "scatter3d",
         "x": [
          2,
          2
         ],
         "y": [
          4,
          2
         ],
         "z": [
          2,
          1
         ]
        },
        {
         "line": {
          "color": "darkblue",
          "width": 2
         },
         "mode": "lines",
         "type": "scatter3d",
         "x": [
          2,
          2
         ],
         "y": [
          4,
          3
         ],
         "z": [
          2,
          1
         ]
        },
        {
         "line": {
          "color": "darkblue",
          "width": 2
         },
         "mode": "lines",
         "type": "scatter3d",
         "x": [
          2,
          3
         ],
         "y": [
          4,
          1
         ],
         "z": [
          2,
          1
         ]
        },
        {
         "line": {
          "color": "darkblue",
          "width": 2
         },
         "mode": "lines",
         "type": "scatter3d",
         "x": [
          2,
          3
         ],
         "y": [
          4,
          2
         ],
         "z": [
          2,
          1
         ]
        },
        {
         "line": {
          "color": "darkblue",
          "width": 2
         },
         "mode": "lines",
         "type": "scatter3d",
         "x": [
          2,
          3
         ],
         "y": [
          4,
          3
         ],
         "z": [
          2,
          1
         ]
        },
        {
         "line": {
          "color": "darkblue",
          "width": 2
         },
         "mode": "lines",
         "type": "scatter3d",
         "x": [
          2,
          3
         ],
         "y": [
          4,
          4
         ],
         "z": [
          2,
          1
         ]
        },
        {
         "line": {
          "color": "darkblue",
          "width": 2
         },
         "mode": "lines",
         "type": "scatter3d",
         "x": [
          2,
          4
         ],
         "y": [
          4,
          2
         ],
         "z": [
          2,
          1
         ]
        },
        {
         "line": {
          "color": "darkblue",
          "width": 2
         },
         "mode": "lines",
         "type": "scatter3d",
         "x": [
          2,
          4
         ],
         "y": [
          4,
          4
         ],
         "z": [
          2,
          1
         ]
        },
        {
         "line": {
          "color": "darkblue",
          "width": 2
         },
         "mode": "lines",
         "type": "scatter3d",
         "x": [
          3,
          1
         ],
         "y": [
          2,
          1
         ],
         "z": [
          2,
          1
         ]
        },
        {
         "line": {
          "color": "darkblue",
          "width": 2
         },
         "mode": "lines",
         "type": "scatter3d",
         "x": [
          3,
          1
         ],
         "y": [
          2,
          2
         ],
         "z": [
          2,
          1
         ]
        },
        {
         "line": {
          "color": "darkblue",
          "width": 2
         },
         "mode": "lines",
         "type": "scatter3d",
         "x": [
          3,
          1
         ],
         "y": [
          2,
          3
         ],
         "z": [
          2,
          1
         ]
        },
        {
         "line": {
          "color": "darkblue",
          "width": 2
         },
         "mode": "lines",
         "type": "scatter3d",
         "x": [
          3,
          1
         ],
         "y": [
          2,
          4
         ],
         "z": [
          2,
          1
         ]
        },
        {
         "line": {
          "color": "darkblue",
          "width": 2
         },
         "mode": "lines",
         "type": "scatter3d",
         "x": [
          3,
          2
         ],
         "y": [
          2,
          1
         ],
         "z": [
          2,
          1
         ]
        },
        {
         "line": {
          "color": "darkblue",
          "width": 2
         },
         "mode": "lines",
         "type": "scatter3d",
         "x": [
          3,
          2
         ],
         "y": [
          2,
          3
         ],
         "z": [
          2,
          1
         ]
        },
        {
         "line": {
          "color": "darkblue",
          "width": 2
         },
         "mode": "lines",
         "type": "scatter3d",
         "x": [
          3,
          2
         ],
         "y": [
          2,
          4
         ],
         "z": [
          2,
          1
         ]
        },
        {
         "line": {
          "color": "darkblue",
          "width": 2
         },
         "mode": "lines",
         "type": "scatter3d",
         "x": [
          3,
          3
         ],
         "y": [
          2,
          2
         ],
         "z": [
          2,
          1
         ]
        },
        {
         "line": {
          "color": "darkblue",
          "width": 2
         },
         "mode": "lines",
         "type": "scatter3d",
         "x": [
          3,
          3
         ],
         "y": [
          2,
          4
         ],
         "z": [
          2,
          1
         ]
        },
        {
         "line": {
          "color": "darkblue",
          "width": 2
         },
         "mode": "lines",
         "type": "scatter3d",
         "x": [
          3,
          4
         ],
         "y": [
          2,
          1
         ],
         "z": [
          2,
          1
         ]
        },
        {
         "line": {
          "color": "darkblue",
          "width": 2
         },
         "mode": "lines",
         "type": "scatter3d",
         "x": [
          3,
          4
         ],
         "y": [
          2,
          2
         ],
         "z": [
          2,
          1
         ]
        },
        {
         "line": {
          "color": "darkblue",
          "width": 2
         },
         "mode": "lines",
         "type": "scatter3d",
         "x": [
          3,
          4
         ],
         "y": [
          2,
          3
         ],
         "z": [
          2,
          1
         ]
        },
        {
         "line": {
          "color": "darkblue",
          "width": 2
         },
         "mode": "lines",
         "type": "scatter3d",
         "x": [
          3,
          1
         ],
         "y": [
          3,
          1
         ],
         "z": [
          2,
          1
         ]
        },
        {
         "line": {
          "color": "darkblue",
          "width": 2
         },
         "mode": "lines",
         "type": "scatter3d",
         "x": [
          3,
          1
         ],
         "y": [
          3,
          2
         ],
         "z": [
          2,
          1
         ]
        },
        {
         "line": {
          "color": "darkblue",
          "width": 2
         },
         "mode": "lines",
         "type": "scatter3d",
         "x": [
          3,
          1
         ],
         "y": [
          3,
          4
         ],
         "z": [
          2,
          1
         ]
        },
        {
         "line": {
          "color": "darkblue",
          "width": 2
         },
         "mode": "lines",
         "type": "scatter3d",
         "x": [
          3,
          2
         ],
         "y": [
          3,
          2
         ],
         "z": [
          2,
          1
         ]
        },
        {
         "line": {
          "color": "darkblue",
          "width": 2
         },
         "mode": "lines",
         "type": "scatter3d",
         "x": [
          3,
          2
         ],
         "y": [
          3,
          3
         ],
         "z": [
          2,
          1
         ]
        },
        {
         "line": {
          "color": "darkblue",
          "width": 2
         },
         "mode": "lines",
         "type": "scatter3d",
         "x": [
          3,
          3
         ],
         "y": [
          3,
          1
         ],
         "z": [
          2,
          1
         ]
        },
        {
         "line": {
          "color": "darkblue",
          "width": 2
         },
         "mode": "lines",
         "type": "scatter3d",
         "x": [
          3,
          3
         ],
         "y": [
          3,
          3
         ],
         "z": [
          2,
          1
         ]
        },
        {
         "line": {
          "color": "darkblue",
          "width": 2
         },
         "mode": "lines",
         "type": "scatter3d",
         "x": [
          3,
          4
         ],
         "y": [
          3,
          2
         ],
         "z": [
          2,
          1
         ]
        },
        {
         "line": {
          "color": "darkblue",
          "width": 2
         },
         "mode": "lines",
         "type": "scatter3d",
         "x": [
          3,
          4
         ],
         "y": [
          3,
          4
         ],
         "z": [
          2,
          1
         ]
        },
        {
         "line": {
          "color": "darkblue",
          "width": 2
         },
         "mode": "lines",
         "type": "scatter3d",
         "x": [
          3,
          1
         ],
         "y": [
          4,
          1
         ],
         "z": [
          2,
          1
         ]
        },
        {
         "line": {
          "color": "darkblue",
          "width": 2
         },
         "mode": "lines",
         "type": "scatter3d",
         "x": [
          3,
          1
         ],
         "y": [
          4,
          4
         ],
         "z": [
          2,
          1
         ]
        },
        {
         "line": {
          "color": "darkblue",
          "width": 2
         },
         "mode": "lines",
         "type": "scatter3d",
         "x": [
          3,
          2
         ],
         "y": [
          4,
          2
         ],
         "z": [
          2,
          1
         ]
        },
        {
         "line": {
          "color": "darkblue",
          "width": 2
         },
         "mode": "lines",
         "type": "scatter3d",
         "x": [
          3,
          2
         ],
         "y": [
          4,
          3
         ],
         "z": [
          2,
          1
         ]
        },
        {
         "line": {
          "color": "darkblue",
          "width": 2
         },
         "mode": "lines",
         "type": "scatter3d",
         "x": [
          3,
          2
         ],
         "y": [
          4,
          4
         ],
         "z": [
          2,
          1
         ]
        },
        {
         "line": {
          "color": "darkblue",
          "width": 2
         },
         "mode": "lines",
         "type": "scatter3d",
         "x": [
          3,
          3
         ],
         "y": [
          4,
          1
         ],
         "z": [
          2,
          1
         ]
        },
        {
         "line": {
          "color": "darkblue",
          "width": 2
         },
         "mode": "lines",
         "type": "scatter3d",
         "x": [
          3,
          3
         ],
         "y": [
          4,
          2
         ],
         "z": [
          2,
          1
         ]
        },
        {
         "line": {
          "color": "darkblue",
          "width": 2
         },
         "mode": "lines",
         "type": "scatter3d",
         "x": [
          3,
          3
         ],
         "y": [
          4,
          3
         ],
         "z": [
          2,
          1
         ]
        },
        {
         "line": {
          "color": "darkblue",
          "width": 2
         },
         "mode": "lines",
         "type": "scatter3d",
         "x": [
          3,
          3
         ],
         "y": [
          4,
          4
         ],
         "z": [
          2,
          1
         ]
        },
        {
         "line": {
          "color": "darkblue",
          "width": 2
         },
         "mode": "lines",
         "type": "scatter3d",
         "x": [
          3,
          4
         ],
         "y": [
          4,
          1
         ],
         "z": [
          2,
          1
         ]
        },
        {
         "line": {
          "color": "darkblue",
          "width": 2
         },
         "mode": "lines",
         "type": "scatter3d",
         "x": [
          3,
          4
         ],
         "y": [
          4,
          2
         ],
         "z": [
          2,
          1
         ]
        },
        {
         "line": {
          "color": "darkblue",
          "width": 2
         },
         "mode": "lines",
         "type": "scatter3d",
         "x": [
          3,
          4
         ],
         "y": [
          4,
          3
         ],
         "z": [
          2,
          1
         ]
        },
        {
         "line": {
          "color": "darkblue",
          "width": 2
         },
         "mode": "lines",
         "type": "scatter3d",
         "x": [
          3,
          4
         ],
         "y": [
          4,
          4
         ],
         "z": [
          2,
          1
         ]
        },
        {
         "line": {
          "color": "darkblue",
          "width": 2
         },
         "mode": "lines",
         "type": "scatter3d",
         "x": [
          4,
          1
         ],
         "y": [
          1,
          2
         ],
         "z": [
          2,
          1
         ]
        },
        {
         "line": {
          "color": "darkblue",
          "width": 2
         },
         "mode": "lines",
         "type": "scatter3d",
         "x": [
          4,
          2
         ],
         "y": [
          1,
          3
         ],
         "z": [
          2,
          1
         ]
        },
        {
         "line": {
          "color": "darkblue",
          "width": 2
         },
         "mode": "lines",
         "type": "scatter3d",
         "x": [
          4,
          2
         ],
         "y": [
          1,
          4
         ],
         "z": [
          2,
          1
         ]
        },
        {
         "line": {
          "color": "darkblue",
          "width": 2
         },
         "mode": "lines",
         "type": "scatter3d",
         "x": [
          4,
          3
         ],
         "y": [
          1,
          1
         ],
         "z": [
          2,
          1
         ]
        },
        {
         "line": {
          "color": "darkblue",
          "width": 2
         },
         "mode": "lines",
         "type": "scatter3d",
         "x": [
          4,
          3
         ],
         "y": [
          1,
          3
         ],
         "z": [
          2,
          1
         ]
        },
        {
         "line": {
          "color": "darkblue",
          "width": 2
         },
         "mode": "lines",
         "type": "scatter3d",
         "x": [
          4,
          3
         ],
         "y": [
          1,
          4
         ],
         "z": [
          2,
          1
         ]
        },
        {
         "line": {
          "color": "darkblue",
          "width": 2
         },
         "mode": "lines",
         "type": "scatter3d",
         "x": [
          4,
          4
         ],
         "y": [
          1,
          2
         ],
         "z": [
          2,
          1
         ]
        },
        {
         "line": {
          "color": "darkblue",
          "width": 2
         },
         "mode": "lines",
         "type": "scatter3d",
         "x": [
          4,
          4
         ],
         "y": [
          1,
          3
         ],
         "z": [
          2,
          1
         ]
        },
        {
         "line": {
          "color": "darkblue",
          "width": 2
         },
         "mode": "lines",
         "type": "scatter3d",
         "x": [
          4,
          4
         ],
         "y": [
          1,
          4
         ],
         "z": [
          2,
          1
         ]
        },
        {
         "line": {
          "color": "darkblue",
          "width": 2
         },
         "mode": "lines",
         "type": "scatter3d",
         "x": [
          4,
          1
         ],
         "y": [
          2,
          3
         ],
         "z": [
          2,
          1
         ]
        },
        {
         "line": {
          "color": "darkblue",
          "width": 2
         },
         "mode": "lines",
         "type": "scatter3d",
         "x": [
          4,
          1
         ],
         "y": [
          2,
          4
         ],
         "z": [
          2,
          1
         ]
        },
        {
         "line": {
          "color": "darkblue",
          "width": 2
         },
         "mode": "lines",
         "type": "scatter3d",
         "x": [
          4,
          2
         ],
         "y": [
          2,
          1
         ],
         "z": [
          2,
          1
         ]
        },
        {
         "line": {
          "color": "darkblue",
          "width": 2
         },
         "mode": "lines",
         "type": "scatter3d",
         "x": [
          4,
          2
         ],
         "y": [
          2,
          3
         ],
         "z": [
          2,
          1
         ]
        },
        {
         "line": {
          "color": "darkblue",
          "width": 2
         },
         "mode": "lines",
         "type": "scatter3d",
         "x": [
          4,
          3
         ],
         "y": [
          2,
          1
         ],
         "z": [
          2,
          1
         ]
        },
        {
         "line": {
          "color": "darkblue",
          "width": 2
         },
         "mode": "lines",
         "type": "scatter3d",
         "x": [
          4,
          3
         ],
         "y": [
          2,
          2
         ],
         "z": [
          2,
          1
         ]
        },
        {
         "line": {
          "color": "darkblue",
          "width": 2
         },
         "mode": "lines",
         "type": "scatter3d",
         "x": [
          4,
          3
         ],
         "y": [
          2,
          3
         ],
         "z": [
          2,
          1
         ]
        },
        {
         "line": {
          "color": "darkblue",
          "width": 2
         },
         "mode": "lines",
         "type": "scatter3d",
         "x": [
          4,
          3
         ],
         "y": [
          2,
          4
         ],
         "z": [
          2,
          1
         ]
        },
        {
         "line": {
          "color": "darkblue",
          "width": 2
         },
         "mode": "lines",
         "type": "scatter3d",
         "x": [
          4,
          4
         ],
         "y": [
          2,
          1
         ],
         "z": [
          2,
          1
         ]
        },
        {
         "line": {
          "color": "darkblue",
          "width": 2
         },
         "mode": "lines",
         "type": "scatter3d",
         "x": [
          4,
          4
         ],
         "y": [
          2,
          2
         ],
         "z": [
          2,
          1
         ]
        },
        {
         "line": {
          "color": "darkblue",
          "width": 2
         },
         "mode": "lines",
         "type": "scatter3d",
         "x": [
          4,
          4
         ],
         "y": [
          2,
          3
         ],
         "z": [
          2,
          1
         ]
        },
        {
         "line": {
          "color": "darkblue",
          "width": 2
         },
         "mode": "lines",
         "type": "scatter3d",
         "x": [
          4,
          1
         ],
         "y": [
          3,
          1
         ],
         "z": [
          2,
          1
         ]
        },
        {
         "line": {
          "color": "darkblue",
          "width": 2
         },
         "mode": "lines",
         "type": "scatter3d",
         "x": [
          4,
          2
         ],
         "y": [
          3,
          3
         ],
         "z": [
          2,
          1
         ]
        },
        {
         "line": {
          "color": "darkblue",
          "width": 2
         },
         "mode": "lines",
         "type": "scatter3d",
         "x": [
          4,
          2
         ],
         "y": [
          3,
          4
         ],
         "z": [
          2,
          1
         ]
        },
        {
         "line": {
          "color": "darkblue",
          "width": 2
         },
         "mode": "lines",
         "type": "scatter3d",
         "x": [
          4,
          3
         ],
         "y": [
          3,
          1
         ],
         "z": [
          2,
          1
         ]
        },
        {
         "line": {
          "color": "darkblue",
          "width": 2
         },
         "mode": "lines",
         "type": "scatter3d",
         "x": [
          4,
          3
         ],
         "y": [
          3,
          3
         ],
         "z": [
          2,
          1
         ]
        },
        {
         "line": {
          "color": "darkblue",
          "width": 2
         },
         "mode": "lines",
         "type": "scatter3d",
         "x": [
          4,
          4
         ],
         "y": [
          3,
          2
         ],
         "z": [
          2,
          1
         ]
        },
        {
         "line": {
          "color": "darkblue",
          "width": 2
         },
         "mode": "lines",
         "type": "scatter3d",
         "x": [
          4,
          4
         ],
         "y": [
          3,
          3
         ],
         "z": [
          2,
          1
         ]
        },
        {
         "line": {
          "color": "darkblue",
          "width": 2
         },
         "mode": "lines",
         "type": "scatter3d",
         "x": [
          4,
          4
         ],
         "y": [
          3,
          4
         ],
         "z": [
          2,
          1
         ]
        },
        {
         "line": {
          "color": "darkblue",
          "width": 2
         },
         "mode": "lines",
         "type": "scatter3d",
         "x": [
          4,
          1
         ],
         "y": [
          4,
          1
         ],
         "z": [
          2,
          1
         ]
        },
        {
         "line": {
          "color": "darkblue",
          "width": 2
         },
         "mode": "lines",
         "type": "scatter3d",
         "x": [
          4,
          1
         ],
         "y": [
          4,
          2
         ],
         "z": [
          2,
          1
         ]
        },
        {
         "line": {
          "color": "darkblue",
          "width": 2
         },
         "mode": "lines",
         "type": "scatter3d",
         "x": [
          4,
          1
         ],
         "y": [
          4,
          4
         ],
         "z": [
          2,
          1
         ]
        },
        {
         "line": {
          "color": "darkblue",
          "width": 2
         },
         "mode": "lines",
         "type": "scatter3d",
         "x": [
          4,
          2
         ],
         "y": [
          4,
          1
         ],
         "z": [
          2,
          1
         ]
        },
        {
         "line": {
          "color": "darkblue",
          "width": 2
         },
         "mode": "lines",
         "type": "scatter3d",
         "x": [
          4,
          2
         ],
         "y": [
          4,
          4
         ],
         "z": [
          2,
          1
         ]
        },
        {
         "line": {
          "color": "darkblue",
          "width": 2
         },
         "mode": "lines",
         "type": "scatter3d",
         "x": [
          4,
          3
         ],
         "y": [
          4,
          1
         ],
         "z": [
          2,
          1
         ]
        },
        {
         "line": {
          "color": "darkblue",
          "width": 2
         },
         "mode": "lines",
         "type": "scatter3d",
         "x": [
          4,
          3
         ],
         "y": [
          4,
          3
         ],
         "z": [
          2,
          1
         ]
        },
        {
         "line": {
          "color": "darkblue",
          "width": 2
         },
         "mode": "lines",
         "type": "scatter3d",
         "x": [
          4,
          3
         ],
         "y": [
          4,
          4
         ],
         "z": [
          2,
          1
         ]
        },
        {
         "line": {
          "color": "darkblue",
          "width": 2
         },
         "mode": "lines",
         "type": "scatter3d",
         "x": [
          4,
          4
         ],
         "y": [
          4,
          2
         ],
         "z": [
          2,
          1
         ]
        },
        {
         "line": {
          "color": "darkblue",
          "width": 2
         },
         "mode": "lines",
         "type": "scatter3d",
         "x": [
          4,
          4
         ],
         "y": [
          4,
          3
         ],
         "z": [
          2,
          1
         ]
        },
        {
         "line": {
          "color": "yellow",
          "width": 2
         },
         "mode": "lines",
         "type": "scatter3d",
         "x": [
          2.5,
          3
         ],
         "y": [
          2.5,
          4
         ],
         "z": [
          4,
          3
         ]
        },
        {
         "line": {
          "color": "yellow",
          "width": 2
         },
         "mode": "lines",
         "type": "scatter3d",
         "x": [
          2.5,
          4
         ],
         "y": [
          2.5,
          1
         ],
         "z": [
          4,
          3
         ]
        },
        {
         "line": {
          "color": "yellow",
          "width": 2
         },
         "mode": "lines",
         "type": "scatter3d",
         "x": [
          2.5,
          4
         ],
         "y": [
          2.5,
          2
         ],
         "z": [
          4,
          3
         ]
        },
        {
         "line": {
          "color": "yellow",
          "width": 2
         },
         "mode": "lines",
         "type": "scatter3d",
         "x": [
          2.5,
          4
         ],
         "y": [
          2.5,
          3
         ],
         "z": [
          4,
          3
         ]
        },
        {
         "line": {
          "color": "yellow",
          "width": 2
         },
         "mode": "lines",
         "type": "scatter3d",
         "x": [
          3,
          1
         ],
         "y": [
          4,
          1
         ],
         "z": [
          3,
          2
         ]
        },
        {
         "line": {
          "color": "yellow",
          "width": 2
         },
         "mode": "lines",
         "type": "scatter3d",
         "x": [
          3,
          1
         ],
         "y": [
          4,
          2
         ],
         "z": [
          3,
          2
         ]
        },
        {
         "line": {
          "color": "yellow",
          "width": 2
         },
         "mode": "lines",
         "type": "scatter3d",
         "x": [
          3,
          2
         ],
         "y": [
          4,
          1
         ],
         "z": [
          3,
          2
         ]
        },
        {
         "line": {
          "color": "yellow",
          "width": 2
         },
         "mode": "lines",
         "type": "scatter3d",
         "x": [
          3,
          2
         ],
         "y": [
          4,
          2
         ],
         "z": [
          3,
          2
         ]
        },
        {
         "line": {
          "color": "yellow",
          "width": 2
         },
         "mode": "lines",
         "type": "scatter3d",
         "x": [
          3,
          2
         ],
         "y": [
          4,
          3
         ],
         "z": [
          3,
          2
         ]
        },
        {
         "line": {
          "color": "yellow",
          "width": 2
         },
         "mode": "lines",
         "type": "scatter3d",
         "x": [
          3,
          2
         ],
         "y": [
          4,
          4
         ],
         "z": [
          3,
          2
         ]
        },
        {
         "line": {
          "color": "yellow",
          "width": 2
         },
         "mode": "lines",
         "type": "scatter3d",
         "x": [
          3,
          3
         ],
         "y": [
          4,
          1
         ],
         "z": [
          3,
          2
         ]
        },
        {
         "line": {
          "color": "yellow",
          "width": 2
         },
         "mode": "lines",
         "type": "scatter3d",
         "x": [
          3,
          3
         ],
         "y": [
          4,
          2
         ],
         "z": [
          3,
          2
         ]
        },
        {
         "line": {
          "color": "yellow",
          "width": 2
         },
         "mode": "lines",
         "type": "scatter3d",
         "x": [
          3,
          3
         ],
         "y": [
          4,
          3
         ],
         "z": [
          3,
          2
         ]
        },
        {
         "line": {
          "color": "yellow",
          "width": 2
         },
         "mode": "lines",
         "type": "scatter3d",
         "x": [
          3,
          3
         ],
         "y": [
          4,
          4
         ],
         "z": [
          3,
          2
         ]
        },
        {
         "line": {
          "color": "yellow",
          "width": 2
         },
         "mode": "lines",
         "type": "scatter3d",
         "x": [
          3,
          4
         ],
         "y": [
          4,
          1
         ],
         "z": [
          3,
          2
         ]
        },
        {
         "line": {
          "color": "yellow",
          "width": 2
         },
         "mode": "lines",
         "type": "scatter3d",
         "x": [
          3,
          4
         ],
         "y": [
          4,
          2
         ],
         "z": [
          3,
          2
         ]
        },
        {
         "line": {
          "color": "yellow",
          "width": 2
         },
         "mode": "lines",
         "type": "scatter3d",
         "x": [
          3,
          4
         ],
         "y": [
          4,
          3
         ],
         "z": [
          3,
          2
         ]
        },
        {
         "line": {
          "color": "yellow",
          "width": 2
         },
         "mode": "lines",
         "type": "scatter3d",
         "x": [
          3,
          4
         ],
         "y": [
          4,
          4
         ],
         "z": [
          3,
          2
         ]
        },
        {
         "line": {
          "color": "yellow",
          "width": 2
         },
         "mode": "lines",
         "type": "scatter3d",
         "x": [
          4,
          1
         ],
         "y": [
          1,
          1
         ],
         "z": [
          3,
          2
         ]
        },
        {
         "line": {
          "color": "yellow",
          "width": 2
         },
         "mode": "lines",
         "type": "scatter3d",
         "x": [
          4,
          1
         ],
         "y": [
          1,
          2
         ],
         "z": [
          3,
          2
         ]
        },
        {
         "line": {
          "color": "yellow",
          "width": 2
         },
         "mode": "lines",
         "type": "scatter3d",
         "x": [
          4,
          1
         ],
         "y": [
          1,
          4
         ],
         "z": [
          3,
          2
         ]
        },
        {
         "line": {
          "color": "yellow",
          "width": 2
         },
         "mode": "lines",
         "type": "scatter3d",
         "x": [
          4,
          2
         ],
         "y": [
          1,
          1
         ],
         "z": [
          3,
          2
         ]
        },
        {
         "line": {
          "color": "yellow",
          "width": 2
         },
         "mode": "lines",
         "type": "scatter3d",
         "x": [
          4,
          2
         ],
         "y": [
          1,
          2
         ],
         "z": [
          3,
          2
         ]
        },
        {
         "line": {
          "color": "yellow",
          "width": 2
         },
         "mode": "lines",
         "type": "scatter3d",
         "x": [
          4,
          3
         ],
         "y": [
          1,
          2
         ],
         "z": [
          3,
          2
         ]
        },
        {
         "line": {
          "color": "yellow",
          "width": 2
         },
         "mode": "lines",
         "type": "scatter3d",
         "x": [
          4,
          4
         ],
         "y": [
          1,
          1
         ],
         "z": [
          3,
          2
         ]
        },
        {
         "line": {
          "color": "yellow",
          "width": 2
         },
         "mode": "lines",
         "type": "scatter3d",
         "x": [
          4,
          4
         ],
         "y": [
          1,
          2
         ],
         "z": [
          3,
          2
         ]
        },
        {
         "line": {
          "color": "yellow",
          "width": 2
         },
         "mode": "lines",
         "type": "scatter3d",
         "x": [
          4,
          4
         ],
         "y": [
          1,
          4
         ],
         "z": [
          3,
          2
         ]
        },
        {
         "line": {
          "color": "yellow",
          "width": 2
         },
         "mode": "lines",
         "type": "scatter3d",
         "x": [
          4,
          1
         ],
         "y": [
          2,
          1
         ],
         "z": [
          3,
          2
         ]
        },
        {
         "line": {
          "color": "yellow",
          "width": 2
         },
         "mode": "lines",
         "type": "scatter3d",
         "x": [
          4,
          1
         ],
         "y": [
          2,
          2
         ],
         "z": [
          3,
          2
         ]
        },
        {
         "line": {
          "color": "yellow",
          "width": 2
         },
         "mode": "lines",
         "type": "scatter3d",
         "x": [
          4,
          2
         ],
         "y": [
          2,
          2
         ],
         "z": [
          3,
          2
         ]
        },
        {
         "line": {
          "color": "yellow",
          "width": 2
         },
         "mode": "lines",
         "type": "scatter3d",
         "x": [
          4,
          2
         ],
         "y": [
          2,
          3
         ],
         "z": [
          3,
          2
         ]
        },
        {
         "line": {
          "color": "yellow",
          "width": 2
         },
         "mode": "lines",
         "type": "scatter3d",
         "x": [
          4,
          2
         ],
         "y": [
          2,
          4
         ],
         "z": [
          3,
          2
         ]
        },
        {
         "line": {
          "color": "yellow",
          "width": 2
         },
         "mode": "lines",
         "type": "scatter3d",
         "x": [
          4,
          3
         ],
         "y": [
          2,
          1
         ],
         "z": [
          3,
          2
         ]
        },
        {
         "line": {
          "color": "yellow",
          "width": 2
         },
         "mode": "lines",
         "type": "scatter3d",
         "x": [
          4,
          3
         ],
         "y": [
          2,
          2
         ],
         "z": [
          3,
          2
         ]
        },
        {
         "line": {
          "color": "yellow",
          "width": 2
         },
         "mode": "lines",
         "type": "scatter3d",
         "x": [
          4,
          4
         ],
         "y": [
          2,
          1
         ],
         "z": [
          3,
          2
         ]
        },
        {
         "line": {
          "color": "yellow",
          "width": 2
         },
         "mode": "lines",
         "type": "scatter3d",
         "x": [
          4,
          4
         ],
         "y": [
          2,
          2
         ],
         "z": [
          3,
          2
         ]
        },
        {
         "line": {
          "color": "yellow",
          "width": 2
         },
         "mode": "lines",
         "type": "scatter3d",
         "x": [
          4,
          4
         ],
         "y": [
          2,
          4
         ],
         "z": [
          3,
          2
         ]
        },
        {
         "line": {
          "color": "yellow",
          "width": 2
         },
         "mode": "lines",
         "type": "scatter3d",
         "x": [
          4,
          1
         ],
         "y": [
          3,
          1
         ],
         "z": [
          3,
          2
         ]
        },
        {
         "line": {
          "color": "yellow",
          "width": 2
         },
         "mode": "lines",
         "type": "scatter3d",
         "x": [
          4,
          1
         ],
         "y": [
          3,
          2
         ],
         "z": [
          3,
          2
         ]
        },
        {
         "line": {
          "color": "yellow",
          "width": 2
         },
         "mode": "lines",
         "type": "scatter3d",
         "x": [
          4,
          1
         ],
         "y": [
          3,
          3
         ],
         "z": [
          3,
          2
         ]
        },
        {
         "line": {
          "color": "yellow",
          "width": 2
         },
         "mode": "lines",
         "type": "scatter3d",
         "x": [
          4,
          2
         ],
         "y": [
          3,
          1
         ],
         "z": [
          3,
          2
         ]
        },
        {
         "line": {
          "color": "yellow",
          "width": 2
         },
         "mode": "lines",
         "type": "scatter3d",
         "x": [
          4,
          2
         ],
         "y": [
          3,
          2
         ],
         "z": [
          3,
          2
         ]
        },
        {
         "line": {
          "color": "yellow",
          "width": 2
         },
         "mode": "lines",
         "type": "scatter3d",
         "x": [
          4,
          2
         ],
         "y": [
          3,
          3
         ],
         "z": [
          3,
          2
         ]
        },
        {
         "line": {
          "color": "yellow",
          "width": 2
         },
         "mode": "lines",
         "type": "scatter3d",
         "x": [
          4,
          2
         ],
         "y": [
          3,
          4
         ],
         "z": [
          3,
          2
         ]
        },
        {
         "line": {
          "color": "yellow",
          "width": 2
         },
         "mode": "lines",
         "type": "scatter3d",
         "x": [
          4,
          3
         ],
         "y": [
          3,
          1
         ],
         "z": [
          3,
          2
         ]
        },
        {
         "line": {
          "color": "yellow",
          "width": 2
         },
         "mode": "lines",
         "type": "scatter3d",
         "x": [
          4,
          3
         ],
         "y": [
          3,
          2
         ],
         "z": [
          3,
          2
         ]
        },
        {
         "line": {
          "color": "yellow",
          "width": 2
         },
         "mode": "lines",
         "type": "scatter3d",
         "x": [
          4,
          4
         ],
         "y": [
          3,
          2
         ],
         "z": [
          3,
          2
         ]
        },
        {
         "line": {
          "color": "yellow",
          "width": 2
         },
         "mode": "lines",
         "type": "scatter3d",
         "x": [
          4,
          4
         ],
         "y": [
          3,
          4
         ],
         "z": [
          3,
          2
         ]
        },
        {
         "line": {
          "color": "yellow",
          "width": 2
         },
         "mode": "lines",
         "type": "scatter3d",
         "x": [
          1,
          1
         ],
         "y": [
          1,
          2
         ],
         "z": [
          2,
          1
         ]
        },
        {
         "line": {
          "color": "yellow",
          "width": 2
         },
         "mode": "lines",
         "type": "scatter3d",
         "x": [
          1,
          1
         ],
         "y": [
          1,
          3
         ],
         "z": [
          2,
          1
         ]
        },
        {
         "line": {
          "color": "yellow",
          "width": 2
         },
         "mode": "lines",
         "type": "scatter3d",
         "x": [
          1,
          1
         ],
         "y": [
          1,
          4
         ],
         "z": [
          2,
          1
         ]
        },
        {
         "line": {
          "color": "yellow",
          "width": 2
         },
         "mode": "lines",
         "type": "scatter3d",
         "x": [
          1,
          2
         ],
         "y": [
          1,
          1
         ],
         "z": [
          2,
          1
         ]
        },
        {
         "line": {
          "color": "yellow",
          "width": 2
         },
         "mode": "lines",
         "type": "scatter3d",
         "x": [
          1,
          2
         ],
         "y": [
          1,
          3
         ],
         "z": [
          2,
          1
         ]
        },
        {
         "line": {
          "color": "yellow",
          "width": 2
         },
         "mode": "lines",
         "type": "scatter3d",
         "x": [
          1,
          2
         ],
         "y": [
          1,
          4
         ],
         "z": [
          2,
          1
         ]
        },
        {
         "line": {
          "color": "yellow",
          "width": 2
         },
         "mode": "lines",
         "type": "scatter3d",
         "x": [
          1,
          3
         ],
         "y": [
          1,
          1
         ],
         "z": [
          2,
          1
         ]
        },
        {
         "line": {
          "color": "yellow",
          "width": 2
         },
         "mode": "lines",
         "type": "scatter3d",
         "x": [
          1,
          3
         ],
         "y": [
          1,
          2
         ],
         "z": [
          2,
          1
         ]
        },
        {
         "line": {
          "color": "yellow",
          "width": 2
         },
         "mode": "lines",
         "type": "scatter3d",
         "x": [
          1,
          3
         ],
         "y": [
          1,
          3
         ],
         "z": [
          2,
          1
         ]
        },
        {
         "line": {
          "color": "yellow",
          "width": 2
         },
         "mode": "lines",
         "type": "scatter3d",
         "x": [
          1,
          4
         ],
         "y": [
          1,
          1
         ],
         "z": [
          2,
          1
         ]
        },
        {
         "line": {
          "color": "yellow",
          "width": 2
         },
         "mode": "lines",
         "type": "scatter3d",
         "x": [
          1,
          4
         ],
         "y": [
          1,
          2
         ],
         "z": [
          2,
          1
         ]
        },
        {
         "line": {
          "color": "yellow",
          "width": 2
         },
         "mode": "lines",
         "type": "scatter3d",
         "x": [
          1,
          1
         ],
         "y": [
          2,
          2
         ],
         "z": [
          2,
          1
         ]
        },
        {
         "line": {
          "color": "yellow",
          "width": 2
         },
         "mode": "lines",
         "type": "scatter3d",
         "x": [
          1,
          1
         ],
         "y": [
          2,
          3
         ],
         "z": [
          2,
          1
         ]
        },
        {
         "line": {
          "color": "yellow",
          "width": 2
         },
         "mode": "lines",
         "type": "scatter3d",
         "x": [
          1,
          2
         ],
         "y": [
          2,
          1
         ],
         "z": [
          2,
          1
         ]
        },
        {
         "line": {
          "color": "yellow",
          "width": 2
         },
         "mode": "lines",
         "type": "scatter3d",
         "x": [
          1,
          2
         ],
         "y": [
          2,
          3
         ],
         "z": [
          2,
          1
         ]
        },
        {
         "line": {
          "color": "yellow",
          "width": 2
         },
         "mode": "lines",
         "type": "scatter3d",
         "x": [
          1,
          2
         ],
         "y": [
          2,
          4
         ],
         "z": [
          2,
          1
         ]
        },
        {
         "line": {
          "color": "yellow",
          "width": 2
         },
         "mode": "lines",
         "type": "scatter3d",
         "x": [
          1,
          3
         ],
         "y": [
          2,
          1
         ],
         "z": [
          2,
          1
         ]
        },
        {
         "line": {
          "color": "yellow",
          "width": 2
         },
         "mode": "lines",
         "type": "scatter3d",
         "x": [
          1,
          3
         ],
         "y": [
          2,
          3
         ],
         "z": [
          2,
          1
         ]
        },
        {
         "line": {
          "color": "yellow",
          "width": 2
         },
         "mode": "lines",
         "type": "scatter3d",
         "x": [
          1,
          3
         ],
         "y": [
          2,
          4
         ],
         "z": [
          2,
          1
         ]
        },
        {
         "line": {
          "color": "yellow",
          "width": 2
         },
         "mode": "lines",
         "type": "scatter3d",
         "x": [
          1,
          4
         ],
         "y": [
          2,
          1
         ],
         "z": [
          2,
          1
         ]
        },
        {
         "line": {
          "color": "yellow",
          "width": 2
         },
         "mode": "lines",
         "type": "scatter3d",
         "x": [
          1,
          4
         ],
         "y": [
          2,
          2
         ],
         "z": [
          2,
          1
         ]
        },
        {
         "line": {
          "color": "yellow",
          "width": 2
         },
         "mode": "lines",
         "type": "scatter3d",
         "x": [
          1,
          4
         ],
         "y": [
          2,
          3
         ],
         "z": [
          2,
          1
         ]
        },
        {
         "line": {
          "color": "yellow",
          "width": 2
         },
         "mode": "lines",
         "type": "scatter3d",
         "x": [
          1,
          1
         ],
         "y": [
          3,
          2
         ],
         "z": [
          2,
          1
         ]
        },
        {
         "line": {
          "color": "yellow",
          "width": 2
         },
         "mode": "lines",
         "type": "scatter3d",
         "x": [
          1,
          2
         ],
         "y": [
          3,
          2
         ],
         "z": [
          2,
          1
         ]
        },
        {
         "line": {
          "color": "yellow",
          "width": 2
         },
         "mode": "lines",
         "type": "scatter3d",
         "x": [
          1,
          2
         ],
         "y": [
          3,
          3
         ],
         "z": [
          2,
          1
         ]
        },
        {
         "line": {
          "color": "yellow",
          "width": 2
         },
         "mode": "lines",
         "type": "scatter3d",
         "x": [
          1,
          2
         ],
         "y": [
          3,
          4
         ],
         "z": [
          2,
          1
         ]
        },
        {
         "line": {
          "color": "yellow",
          "width": 2
         },
         "mode": "lines",
         "type": "scatter3d",
         "x": [
          1,
          3
         ],
         "y": [
          3,
          1
         ],
         "z": [
          2,
          1
         ]
        },
        {
         "line": {
          "color": "yellow",
          "width": 2
         },
         "mode": "lines",
         "type": "scatter3d",
         "x": [
          1,
          3
         ],
         "y": [
          3,
          3
         ],
         "z": [
          2,
          1
         ]
        },
        {
         "line": {
          "color": "yellow",
          "width": 2
         },
         "mode": "lines",
         "type": "scatter3d",
         "x": [
          1,
          3
         ],
         "y": [
          3,
          4
         ],
         "z": [
          2,
          1
         ]
        },
        {
         "line": {
          "color": "yellow",
          "width": 2
         },
         "mode": "lines",
         "type": "scatter3d",
         "x": [
          1,
          4
         ],
         "y": [
          3,
          2
         ],
         "z": [
          2,
          1
         ]
        },
        {
         "line": {
          "color": "yellow",
          "width": 2
         },
         "mode": "lines",
         "type": "scatter3d",
         "x": [
          1,
          4
         ],
         "y": [
          3,
          4
         ],
         "z": [
          2,
          1
         ]
        },
        {
         "line": {
          "color": "yellow",
          "width": 2
         },
         "mode": "lines",
         "type": "scatter3d",
         "x": [
          1,
          1
         ],
         "y": [
          4,
          2
         ],
         "z": [
          2,
          1
         ]
        },
        {
         "line": {
          "color": "yellow",
          "width": 2
         },
         "mode": "lines",
         "type": "scatter3d",
         "x": [
          1,
          2
         ],
         "y": [
          4,
          2
         ],
         "z": [
          2,
          1
         ]
        },
        {
         "line": {
          "color": "yellow",
          "width": 2
         },
         "mode": "lines",
         "type": "scatter3d",
         "x": [
          1,
          2
         ],
         "y": [
          4,
          3
         ],
         "z": [
          2,
          1
         ]
        },
        {
         "line": {
          "color": "yellow",
          "width": 2
         },
         "mode": "lines",
         "type": "scatter3d",
         "x": [
          1,
          2
         ],
         "y": [
          4,
          4
         ],
         "z": [
          2,
          1
         ]
        },
        {
         "line": {
          "color": "yellow",
          "width": 2
         },
         "mode": "lines",
         "type": "scatter3d",
         "x": [
          1,
          3
         ],
         "y": [
          4,
          2
         ],
         "z": [
          2,
          1
         ]
        },
        {
         "line": {
          "color": "yellow",
          "width": 2
         },
         "mode": "lines",
         "type": "scatter3d",
         "x": [
          1,
          3
         ],
         "y": [
          4,
          3
         ],
         "z": [
          2,
          1
         ]
        },
        {
         "line": {
          "color": "yellow",
          "width": 2
         },
         "mode": "lines",
         "type": "scatter3d",
         "x": [
          1,
          3
         ],
         "y": [
          4,
          4
         ],
         "z": [
          2,
          1
         ]
        },
        {
         "line": {
          "color": "yellow",
          "width": 2
         },
         "mode": "lines",
         "type": "scatter3d",
         "x": [
          1,
          4
         ],
         "y": [
          4,
          2
         ],
         "z": [
          2,
          1
         ]
        },
        {
         "line": {
          "color": "yellow",
          "width": 2
         },
         "mode": "lines",
         "type": "scatter3d",
         "x": [
          1,
          4
         ],
         "y": [
          4,
          4
         ],
         "z": [
          2,
          1
         ]
        },
        {
         "line": {
          "color": "yellow",
          "width": 2
         },
         "mode": "lines",
         "type": "scatter3d",
         "x": [
          2,
          1
         ],
         "y": [
          1,
          1
         ],
         "z": [
          2,
          1
         ]
        },
        {
         "line": {
          "color": "yellow",
          "width": 2
         },
         "mode": "lines",
         "type": "scatter3d",
         "x": [
          2,
          1
         ],
         "y": [
          1,
          2
         ],
         "z": [
          2,
          1
         ]
        },
        {
         "line": {
          "color": "yellow",
          "width": 2
         },
         "mode": "lines",
         "type": "scatter3d",
         "x": [
          2,
          1
         ],
         "y": [
          1,
          4
         ],
         "z": [
          2,
          1
         ]
        },
        {
         "line": {
          "color": "yellow",
          "width": 2
         },
         "mode": "lines",
         "type": "scatter3d",
         "x": [
          2,
          2
         ],
         "y": [
          1,
          2
         ],
         "z": [
          2,
          1
         ]
        },
        {
         "line": {
          "color": "yellow",
          "width": 2
         },
         "mode": "lines",
         "type": "scatter3d",
         "x": [
          2,
          2
         ],
         "y": [
          1,
          3
         ],
         "z": [
          2,
          1
         ]
        },
        {
         "line": {
          "color": "yellow",
          "width": 2
         },
         "mode": "lines",
         "type": "scatter3d",
         "x": [
          2,
          2
         ],
         "y": [
          1,
          4
         ],
         "z": [
          2,
          1
         ]
        },
        {
         "line": {
          "color": "yellow",
          "width": 2
         },
         "mode": "lines",
         "type": "scatter3d",
         "x": [
          2,
          3
         ],
         "y": [
          1,
          1
         ],
         "z": [
          2,
          1
         ]
        },
        {
         "line": {
          "color": "yellow",
          "width": 2
         },
         "mode": "lines",
         "type": "scatter3d",
         "x": [
          2,
          3
         ],
         "y": [
          1,
          3
         ],
         "z": [
          2,
          1
         ]
        },
        {
         "line": {
          "color": "yellow",
          "width": 2
         },
         "mode": "lines",
         "type": "scatter3d",
         "x": [
          2,
          3
         ],
         "y": [
          1,
          4
         ],
         "z": [
          2,
          1
         ]
        },
        {
         "line": {
          "color": "yellow",
          "width": 2
         },
         "mode": "lines",
         "type": "scatter3d",
         "x": [
          2,
          4
         ],
         "y": [
          1,
          2
         ],
         "z": [
          2,
          1
         ]
        },
        {
         "line": {
          "color": "yellow",
          "width": 2
         },
         "mode": "lines",
         "type": "scatter3d",
         "x": [
          2,
          4
         ],
         "y": [
          1,
          4
         ],
         "z": [
          2,
          1
         ]
        },
        {
         "line": {
          "color": "yellow",
          "width": 2
         },
         "mode": "lines",
         "type": "scatter3d",
         "x": [
          2,
          1
         ],
         "y": [
          2,
          1
         ],
         "z": [
          2,
          1
         ]
        },
        {
         "line": {
          "color": "yellow",
          "width": 2
         },
         "mode": "lines",
         "type": "scatter3d",
         "x": [
          2,
          1
         ],
         "y": [
          2,
          2
         ],
         "z": [
          2,
          1
         ]
        },
        {
         "line": {
          "color": "yellow",
          "width": 2
         },
         "mode": "lines",
         "type": "scatter3d",
         "x": [
          2,
          2
         ],
         "y": [
          2,
          3
         ],
         "z": [
          2,
          1
         ]
        },
        {
         "line": {
          "color": "yellow",
          "width": 2
         },
         "mode": "lines",
         "type": "scatter3d",
         "x": [
          2,
          2
         ],
         "y": [
          2,
          4
         ],
         "z": [
          2,
          1
         ]
        },
        {
         "line": {
          "color": "yellow",
          "width": 2
         },
         "mode": "lines",
         "type": "scatter3d",
         "x": [
          2,
          3
         ],
         "y": [
          2,
          1
         ],
         "z": [
          2,
          1
         ]
        },
        {
         "line": {
          "color": "yellow",
          "width": 2
         },
         "mode": "lines",
         "type": "scatter3d",
         "x": [
          2,
          3
         ],
         "y": [
          2,
          3
         ],
         "z": [
          2,
          1
         ]
        },
        {
         "line": {
          "color": "yellow",
          "width": 2
         },
         "mode": "lines",
         "type": "scatter3d",
         "x": [
          2,
          3
         ],
         "y": [
          2,
          4
         ],
         "z": [
          2,
          1
         ]
        },
        {
         "line": {
          "color": "yellow",
          "width": 2
         },
         "mode": "lines",
         "type": "scatter3d",
         "x": [
          2,
          4
         ],
         "y": [
          2,
          1
         ],
         "z": [
          2,
          1
         ]
        },
        {
         "line": {
          "color": "yellow",
          "width": 2
         },
         "mode": "lines",
         "type": "scatter3d",
         "x": [
          2,
          4
         ],
         "y": [
          2,
          2
         ],
         "z": [
          2,
          1
         ]
        },
        {
         "line": {
          "color": "yellow",
          "width": 2
         },
         "mode": "lines",
         "type": "scatter3d",
         "x": [
          2,
          4
         ],
         "y": [
          2,
          3
         ],
         "z": [
          2,
          1
         ]
        },
        {
         "line": {
          "color": "yellow",
          "width": 2
         },
         "mode": "lines",
         "type": "scatter3d",
         "x": [
          2,
          4
         ],
         "y": [
          2,
          4
         ],
         "z": [
          2,
          1
         ]
        },
        {
         "line": {
          "color": "yellow",
          "width": 2
         },
         "mode": "lines",
         "type": "scatter3d",
         "x": [
          2,
          1
         ],
         "y": [
          3,
          1
         ],
         "z": [
          2,
          1
         ]
        },
        {
         "line": {
          "color": "yellow",
          "width": 2
         },
         "mode": "lines",
         "type": "scatter3d",
         "x": [
          2,
          1
         ],
         "y": [
          3,
          2
         ],
         "z": [
          2,
          1
         ]
        },
        {
         "line": {
          "color": "yellow",
          "width": 2
         },
         "mode": "lines",
         "type": "scatter3d",
         "x": [
          2,
          1
         ],
         "y": [
          3,
          4
         ],
         "z": [
          2,
          1
         ]
        },
        {
         "line": {
          "color": "yellow",
          "width": 2
         },
         "mode": "lines",
         "type": "scatter3d",
         "x": [
          2,
          2
         ],
         "y": [
          3,
          1
         ],
         "z": [
          2,
          1
         ]
        },
        {
         "line": {
          "color": "yellow",
          "width": 2
         },
         "mode": "lines",
         "type": "scatter3d",
         "x": [
          2,
          2
         ],
         "y": [
          3,
          2
         ],
         "z": [
          2,
          1
         ]
        },
        {
         "line": {
          "color": "yellow",
          "width": 2
         },
         "mode": "lines",
         "type": "scatter3d",
         "x": [
          2,
          2
         ],
         "y": [
          3,
          3
         ],
         "z": [
          2,
          1
         ]
        },
        {
         "line": {
          "color": "yellow",
          "width": 2
         },
         "mode": "lines",
         "type": "scatter3d",
         "x": [
          2,
          2
         ],
         "y": [
          3,
          4
         ],
         "z": [
          2,
          1
         ]
        },
        {
         "line": {
          "color": "yellow",
          "width": 2
         },
         "mode": "lines",
         "type": "scatter3d",
         "x": [
          2,
          3
         ],
         "y": [
          3,
          1
         ],
         "z": [
          2,
          1
         ]
        },
        {
         "line": {
          "color": "yellow",
          "width": 2
         },
         "mode": "lines",
         "type": "scatter3d",
         "x": [
          2,
          3
         ],
         "y": [
          3,
          3
         ],
         "z": [
          2,
          1
         ]
        },
        {
         "line": {
          "color": "yellow",
          "width": 2
         },
         "mode": "lines",
         "type": "scatter3d",
         "x": [
          2,
          3
         ],
         "y": [
          3,
          4
         ],
         "z": [
          2,
          1
         ]
        },
        {
         "line": {
          "color": "yellow",
          "width": 2
         },
         "mode": "lines",
         "type": "scatter3d",
         "x": [
          2,
          4
         ],
         "y": [
          3,
          2
         ],
         "z": [
          2,
          1
         ]
        },
        {
         "line": {
          "color": "yellow",
          "width": 2
         },
         "mode": "lines",
         "type": "scatter3d",
         "x": [
          2,
          4
         ],
         "y": [
          3,
          3
         ],
         "z": [
          2,
          1
         ]
        },
        {
         "line": {
          "color": "yellow",
          "width": 2
         },
         "mode": "lines",
         "type": "scatter3d",
         "x": [
          2,
          1
         ],
         "y": [
          4,
          1
         ],
         "z": [
          2,
          1
         ]
        },
        {
         "line": {
          "color": "yellow",
          "width": 2
         },
         "mode": "lines",
         "type": "scatter3d",
         "x": [
          2,
          1
         ],
         "y": [
          4,
          2
         ],
         "z": [
          2,
          1
         ]
        },
        {
         "line": {
          "color": "yellow",
          "width": 2
         },
         "mode": "lines",
         "type": "scatter3d",
         "x": [
          2,
          1
         ],
         "y": [
          4,
          4
         ],
         "z": [
          2,
          1
         ]
        },
        {
         "line": {
          "color": "yellow",
          "width": 2
         },
         "mode": "lines",
         "type": "scatter3d",
         "x": [
          2,
          2
         ],
         "y": [
          4,
          1
         ],
         "z": [
          2,
          1
         ]
        },
        {
         "line": {
          "color": "yellow",
          "width": 2
         },
         "mode": "lines",
         "type": "scatter3d",
         "x": [
          2,
          2
         ],
         "y": [
          4,
          2
         ],
         "z": [
          2,
          1
         ]
        },
        {
         "line": {
          "color": "yellow",
          "width": 2
         },
         "mode": "lines",
         "type": "scatter3d",
         "x": [
          2,
          2
         ],
         "y": [
          4,
          3
         ],
         "z": [
          2,
          1
         ]
        },
        {
         "line": {
          "color": "yellow",
          "width": 2
         },
         "mode": "lines",
         "type": "scatter3d",
         "x": [
          2,
          3
         ],
         "y": [
          4,
          1
         ],
         "z": [
          2,
          1
         ]
        },
        {
         "line": {
          "color": "yellow",
          "width": 2
         },
         "mode": "lines",
         "type": "scatter3d",
         "x": [
          2,
          3
         ],
         "y": [
          4,
          2
         ],
         "z": [
          2,
          1
         ]
        },
        {
         "line": {
          "color": "yellow",
          "width": 2
         },
         "mode": "lines",
         "type": "scatter3d",
         "x": [
          2,
          3
         ],
         "y": [
          4,
          3
         ],
         "z": [
          2,
          1
         ]
        },
        {
         "line": {
          "color": "yellow",
          "width": 2
         },
         "mode": "lines",
         "type": "scatter3d",
         "x": [
          2,
          3
         ],
         "y": [
          4,
          4
         ],
         "z": [
          2,
          1
         ]
        },
        {
         "line": {
          "color": "yellow",
          "width": 2
         },
         "mode": "lines",
         "type": "scatter3d",
         "x": [
          2,
          4
         ],
         "y": [
          4,
          2
         ],
         "z": [
          2,
          1
         ]
        },
        {
         "line": {
          "color": "yellow",
          "width": 2
         },
         "mode": "lines",
         "type": "scatter3d",
         "x": [
          2,
          4
         ],
         "y": [
          4,
          4
         ],
         "z": [
          2,
          1
         ]
        },
        {
         "line": {
          "color": "yellow",
          "width": 2
         },
         "mode": "lines",
         "type": "scatter3d",
         "x": [
          3,
          1
         ],
         "y": [
          1,
          1
         ],
         "z": [
          2,
          1
         ]
        },
        {
         "line": {
          "color": "yellow",
          "width": 2
         },
         "mode": "lines",
         "type": "scatter3d",
         "x": [
          3,
          1
         ],
         "y": [
          1,
          2
         ],
         "z": [
          2,
          1
         ]
        },
        {
         "line": {
          "color": "yellow",
          "width": 2
         },
         "mode": "lines",
         "type": "scatter3d",
         "x": [
          3,
          1
         ],
         "y": [
          1,
          3
         ],
         "z": [
          2,
          1
         ]
        },
        {
         "line": {
          "color": "yellow",
          "width": 2
         },
         "mode": "lines",
         "type": "scatter3d",
         "x": [
          3,
          1
         ],
         "y": [
          1,
          4
         ],
         "z": [
          2,
          1
         ]
        },
        {
         "line": {
          "color": "yellow",
          "width": 2
         },
         "mode": "lines",
         "type": "scatter3d",
         "x": [
          3,
          2
         ],
         "y": [
          1,
          1
         ],
         "z": [
          2,
          1
         ]
        },
        {
         "line": {
          "color": "yellow",
          "width": 2
         },
         "mode": "lines",
         "type": "scatter3d",
         "x": [
          3,
          2
         ],
         "y": [
          1,
          3
         ],
         "z": [
          2,
          1
         ]
        },
        {
         "line": {
          "color": "yellow",
          "width": 2
         },
         "mode": "lines",
         "type": "scatter3d",
         "x": [
          3,
          2
         ],
         "y": [
          1,
          4
         ],
         "z": [
          2,
          1
         ]
        },
        {
         "line": {
          "color": "yellow",
          "width": 2
         },
         "mode": "lines",
         "type": "scatter3d",
         "x": [
          3,
          4
         ],
         "y": [
          1,
          1
         ],
         "z": [
          2,
          1
         ]
        },
        {
         "line": {
          "color": "yellow",
          "width": 2
         },
         "mode": "lines",
         "type": "scatter3d",
         "x": [
          3,
          4
         ],
         "y": [
          1,
          2
         ],
         "z": [
          2,
          1
         ]
        },
        {
         "line": {
          "color": "yellow",
          "width": 2
         },
         "mode": "lines",
         "type": "scatter3d",
         "x": [
          3,
          4
         ],
         "y": [
          1,
          3
         ],
         "z": [
          2,
          1
         ]
        },
        {
         "line": {
          "color": "yellow",
          "width": 2
         },
         "mode": "lines",
         "type": "scatter3d",
         "x": [
          3,
          4
         ],
         "y": [
          1,
          4
         ],
         "z": [
          2,
          1
         ]
        },
        {
         "line": {
          "color": "yellow",
          "width": 2
         },
         "mode": "lines",
         "type": "scatter3d",
         "x": [
          3,
          1
         ],
         "y": [
          2,
          1
         ],
         "z": [
          2,
          1
         ]
        },
        {
         "line": {
          "color": "yellow",
          "width": 2
         },
         "mode": "lines",
         "type": "scatter3d",
         "x": [
          3,
          1
         ],
         "y": [
          2,
          2
         ],
         "z": [
          2,
          1
         ]
        },
        {
         "line": {
          "color": "yellow",
          "width": 2
         },
         "mode": "lines",
         "type": "scatter3d",
         "x": [
          3,
          1
         ],
         "y": [
          2,
          3
         ],
         "z": [
          2,
          1
         ]
        },
        {
         "line": {
          "color": "yellow",
          "width": 2
         },
         "mode": "lines",
         "type": "scatter3d",
         "x": [
          3,
          1
         ],
         "y": [
          2,
          4
         ],
         "z": [
          2,
          1
         ]
        },
        {
         "line": {
          "color": "yellow",
          "width": 2
         },
         "mode": "lines",
         "type": "scatter3d",
         "x": [
          3,
          2
         ],
         "y": [
          2,
          1
         ],
         "z": [
          2,
          1
         ]
        },
        {
         "line": {
          "color": "yellow",
          "width": 2
         },
         "mode": "lines",
         "type": "scatter3d",
         "x": [
          3,
          2
         ],
         "y": [
          2,
          3
         ],
         "z": [
          2,
          1
         ]
        },
        {
         "line": {
          "color": "yellow",
          "width": 2
         },
         "mode": "lines",
         "type": "scatter3d",
         "x": [
          3,
          2
         ],
         "y": [
          2,
          4
         ],
         "z": [
          2,
          1
         ]
        },
        {
         "line": {
          "color": "yellow",
          "width": 2
         },
         "mode": "lines",
         "type": "scatter3d",
         "x": [
          3,
          3
         ],
         "y": [
          2,
          2
         ],
         "z": [
          2,
          1
         ]
        },
        {
         "line": {
          "color": "yellow",
          "width": 2
         },
         "mode": "lines",
         "type": "scatter3d",
         "x": [
          3,
          3
         ],
         "y": [
          2,
          4
         ],
         "z": [
          2,
          1
         ]
        },
        {
         "line": {
          "color": "yellow",
          "width": 2
         },
         "mode": "lines",
         "type": "scatter3d",
         "x": [
          3,
          4
         ],
         "y": [
          2,
          1
         ],
         "z": [
          2,
          1
         ]
        },
        {
         "line": {
          "color": "yellow",
          "width": 2
         },
         "mode": "lines",
         "type": "scatter3d",
         "x": [
          3,
          4
         ],
         "y": [
          2,
          2
         ],
         "z": [
          2,
          1
         ]
        },
        {
         "line": {
          "color": "yellow",
          "width": 2
         },
         "mode": "lines",
         "type": "scatter3d",
         "x": [
          3,
          4
         ],
         "y": [
          2,
          3
         ],
         "z": [
          2,
          1
         ]
        },
        {
         "line": {
          "color": "yellow",
          "width": 2
         },
         "mode": "lines",
         "type": "scatter3d",
         "x": [
          3,
          1
         ],
         "y": [
          3,
          1
         ],
         "z": [
          2,
          1
         ]
        },
        {
         "line": {
          "color": "yellow",
          "width": 2
         },
         "mode": "lines",
         "type": "scatter3d",
         "x": [
          3,
          1
         ],
         "y": [
          3,
          2
         ],
         "z": [
          2,
          1
         ]
        },
        {
         "line": {
          "color": "yellow",
          "width": 2
         },
         "mode": "lines",
         "type": "scatter3d",
         "x": [
          3,
          1
         ],
         "y": [
          3,
          4
         ],
         "z": [
          2,
          1
         ]
        },
        {
         "line": {
          "color": "yellow",
          "width": 2
         },
         "mode": "lines",
         "type": "scatter3d",
         "x": [
          3,
          2
         ],
         "y": [
          3,
          2
         ],
         "z": [
          2,
          1
         ]
        },
        {
         "line": {
          "color": "yellow",
          "width": 2
         },
         "mode": "lines",
         "type": "scatter3d",
         "x": [
          3,
          2
         ],
         "y": [
          3,
          3
         ],
         "z": [
          2,
          1
         ]
        },
        {
         "line": {
          "color": "yellow",
          "width": 2
         },
         "mode": "lines",
         "type": "scatter3d",
         "x": [
          3,
          3
         ],
         "y": [
          3,
          1
         ],
         "z": [
          2,
          1
         ]
        },
        {
         "line": {
          "color": "yellow",
          "width": 2
         },
         "mode": "lines",
         "type": "scatter3d",
         "x": [
          3,
          3
         ],
         "y": [
          3,
          3
         ],
         "z": [
          2,
          1
         ]
        },
        {
         "line": {
          "color": "yellow",
          "width": 2
         },
         "mode": "lines",
         "type": "scatter3d",
         "x": [
          3,
          4
         ],
         "y": [
          3,
          2
         ],
         "z": [
          2,
          1
         ]
        },
        {
         "line": {
          "color": "yellow",
          "width": 2
         },
         "mode": "lines",
         "type": "scatter3d",
         "x": [
          3,
          4
         ],
         "y": [
          3,
          4
         ],
         "z": [
          2,
          1
         ]
        },
        {
         "line": {
          "color": "yellow",
          "width": 2
         },
         "mode": "lines",
         "type": "scatter3d",
         "x": [
          3,
          1
         ],
         "y": [
          4,
          1
         ],
         "z": [
          2,
          1
         ]
        },
        {
         "line": {
          "color": "yellow",
          "width": 2
         },
         "mode": "lines",
         "type": "scatter3d",
         "x": [
          3,
          1
         ],
         "y": [
          4,
          4
         ],
         "z": [
          2,
          1
         ]
        },
        {
         "line": {
          "color": "yellow",
          "width": 2
         },
         "mode": "lines",
         "type": "scatter3d",
         "x": [
          3,
          2
         ],
         "y": [
          4,
          2
         ],
         "z": [
          2,
          1
         ]
        },
        {
         "line": {
          "color": "yellow",
          "width": 2
         },
         "mode": "lines",
         "type": "scatter3d",
         "x": [
          3,
          2
         ],
         "y": [
          4,
          3
         ],
         "z": [
          2,
          1
         ]
        },
        {
         "line": {
          "color": "yellow",
          "width": 2
         },
         "mode": "lines",
         "type": "scatter3d",
         "x": [
          3,
          2
         ],
         "y": [
          4,
          4
         ],
         "z": [
          2,
          1
         ]
        },
        {
         "line": {
          "color": "yellow",
          "width": 2
         },
         "mode": "lines",
         "type": "scatter3d",
         "x": [
          3,
          3
         ],
         "y": [
          4,
          1
         ],
         "z": [
          2,
          1
         ]
        },
        {
         "line": {
          "color": "yellow",
          "width": 2
         },
         "mode": "lines",
         "type": "scatter3d",
         "x": [
          3,
          3
         ],
         "y": [
          4,
          2
         ],
         "z": [
          2,
          1
         ]
        },
        {
         "line": {
          "color": "yellow",
          "width": 2
         },
         "mode": "lines",
         "type": "scatter3d",
         "x": [
          3,
          3
         ],
         "y": [
          4,
          3
         ],
         "z": [
          2,
          1
         ]
        },
        {
         "line": {
          "color": "yellow",
          "width": 2
         },
         "mode": "lines",
         "type": "scatter3d",
         "x": [
          3,
          3
         ],
         "y": [
          4,
          4
         ],
         "z": [
          2,
          1
         ]
        },
        {
         "line": {
          "color": "yellow",
          "width": 2
         },
         "mode": "lines",
         "type": "scatter3d",
         "x": [
          3,
          4
         ],
         "y": [
          4,
          1
         ],
         "z": [
          2,
          1
         ]
        },
        {
         "line": {
          "color": "yellow",
          "width": 2
         },
         "mode": "lines",
         "type": "scatter3d",
         "x": [
          3,
          4
         ],
         "y": [
          4,
          2
         ],
         "z": [
          2,
          1
         ]
        },
        {
         "line": {
          "color": "yellow",
          "width": 2
         },
         "mode": "lines",
         "type": "scatter3d",
         "x": [
          3,
          4
         ],
         "y": [
          4,
          3
         ],
         "z": [
          2,
          1
         ]
        },
        {
         "line": {
          "color": "yellow",
          "width": 2
         },
         "mode": "lines",
         "type": "scatter3d",
         "x": [
          3,
          4
         ],
         "y": [
          4,
          4
         ],
         "z": [
          2,
          1
         ]
        },
        {
         "line": {
          "color": "yellow",
          "width": 2
         },
         "mode": "lines",
         "type": "scatter3d",
         "x": [
          4,
          1
         ],
         "y": [
          1,
          2
         ],
         "z": [
          2,
          1
         ]
        },
        {
         "line": {
          "color": "yellow",
          "width": 2
         },
         "mode": "lines",
         "type": "scatter3d",
         "x": [
          4,
          2
         ],
         "y": [
          1,
          3
         ],
         "z": [
          2,
          1
         ]
        },
        {
         "line": {
          "color": "yellow",
          "width": 2
         },
         "mode": "lines",
         "type": "scatter3d",
         "x": [
          4,
          2
         ],
         "y": [
          1,
          4
         ],
         "z": [
          2,
          1
         ]
        },
        {
         "line": {
          "color": "yellow",
          "width": 2
         },
         "mode": "lines",
         "type": "scatter3d",
         "x": [
          4,
          3
         ],
         "y": [
          1,
          1
         ],
         "z": [
          2,
          1
         ]
        },
        {
         "line": {
          "color": "yellow",
          "width": 2
         },
         "mode": "lines",
         "type": "scatter3d",
         "x": [
          4,
          3
         ],
         "y": [
          1,
          2
         ],
         "z": [
          2,
          1
         ]
        },
        {
         "line": {
          "color": "yellow",
          "width": 2
         },
         "mode": "lines",
         "type": "scatter3d",
         "x": [
          4,
          3
         ],
         "y": [
          1,
          3
         ],
         "z": [
          2,
          1
         ]
        },
        {
         "line": {
          "color": "yellow",
          "width": 2
         },
         "mode": "lines",
         "type": "scatter3d",
         "x": [
          4,
          3
         ],
         "y": [
          1,
          4
         ],
         "z": [
          2,
          1
         ]
        },
        {
         "line": {
          "color": "yellow",
          "width": 2
         },
         "mode": "lines",
         "type": "scatter3d",
         "x": [
          4,
          4
         ],
         "y": [
          1,
          2
         ],
         "z": [
          2,
          1
         ]
        },
        {
         "line": {
          "color": "yellow",
          "width": 2
         },
         "mode": "lines",
         "type": "scatter3d",
         "x": [
          4,
          4
         ],
         "y": [
          1,
          3
         ],
         "z": [
          2,
          1
         ]
        },
        {
         "line": {
          "color": "yellow",
          "width": 2
         },
         "mode": "lines",
         "type": "scatter3d",
         "x": [
          4,
          4
         ],
         "y": [
          1,
          4
         ],
         "z": [
          2,
          1
         ]
        },
        {
         "line": {
          "color": "yellow",
          "width": 2
         },
         "mode": "lines",
         "type": "scatter3d",
         "x": [
          4,
          1
         ],
         "y": [
          2,
          3
         ],
         "z": [
          2,
          1
         ]
        },
        {
         "line": {
          "color": "yellow",
          "width": 2
         },
         "mode": "lines",
         "type": "scatter3d",
         "x": [
          4,
          1
         ],
         "y": [
          2,
          4
         ],
         "z": [
          2,
          1
         ]
        },
        {
         "line": {
          "color": "yellow",
          "width": 2
         },
         "mode": "lines",
         "type": "scatter3d",
         "x": [
          4,
          2
         ],
         "y": [
          2,
          1
         ],
         "z": [
          2,
          1
         ]
        },
        {
         "line": {
          "color": "yellow",
          "width": 2
         },
         "mode": "lines",
         "type": "scatter3d",
         "x": [
          4,
          2
         ],
         "y": [
          2,
          3
         ],
         "z": [
          2,
          1
         ]
        },
        {
         "line": {
          "color": "yellow",
          "width": 2
         },
         "mode": "lines",
         "type": "scatter3d",
         "x": [
          4,
          3
         ],
         "y": [
          2,
          1
         ],
         "z": [
          2,
          1
         ]
        },
        {
         "line": {
          "color": "yellow",
          "width": 2
         },
         "mode": "lines",
         "type": "scatter3d",
         "x": [
          4,
          3
         ],
         "y": [
          2,
          2
         ],
         "z": [
          2,
          1
         ]
        },
        {
         "line": {
          "color": "yellow",
          "width": 2
         },
         "mode": "lines",
         "type": "scatter3d",
         "x": [
          4,
          3
         ],
         "y": [
          2,
          3
         ],
         "z": [
          2,
          1
         ]
        },
        {
         "line": {
          "color": "yellow",
          "width": 2
         },
         "mode": "lines",
         "type": "scatter3d",
         "x": [
          4,
          3
         ],
         "y": [
          2,
          4
         ],
         "z": [
          2,
          1
         ]
        },
        {
         "line": {
          "color": "yellow",
          "width": 2
         },
         "mode": "lines",
         "type": "scatter3d",
         "x": [
          4,
          4
         ],
         "y": [
          2,
          1
         ],
         "z": [
          2,
          1
         ]
        },
        {
         "line": {
          "color": "yellow",
          "width": 2
         },
         "mode": "lines",
         "type": "scatter3d",
         "x": [
          4,
          4
         ],
         "y": [
          2,
          2
         ],
         "z": [
          2,
          1
         ]
        },
        {
         "line": {
          "color": "yellow",
          "width": 2
         },
         "mode": "lines",
         "type": "scatter3d",
         "x": [
          4,
          4
         ],
         "y": [
          2,
          3
         ],
         "z": [
          2,
          1
         ]
        },
        {
         "line": {
          "color": "yellow",
          "width": 2
         },
         "mode": "lines",
         "type": "scatter3d",
         "x": [
          4,
          1
         ],
         "y": [
          3,
          1
         ],
         "z": [
          2,
          1
         ]
        },
        {
         "line": {
          "color": "yellow",
          "width": 2
         },
         "mode": "lines",
         "type": "scatter3d",
         "x": [
          4,
          2
         ],
         "y": [
          3,
          3
         ],
         "z": [
          2,
          1
         ]
        },
        {
         "line": {
          "color": "yellow",
          "width": 2
         },
         "mode": "lines",
         "type": "scatter3d",
         "x": [
          4,
          2
         ],
         "y": [
          3,
          4
         ],
         "z": [
          2,
          1
         ]
        },
        {
         "line": {
          "color": "yellow",
          "width": 2
         },
         "mode": "lines",
         "type": "scatter3d",
         "x": [
          4,
          3
         ],
         "y": [
          3,
          1
         ],
         "z": [
          2,
          1
         ]
        },
        {
         "line": {
          "color": "yellow",
          "width": 2
         },
         "mode": "lines",
         "type": "scatter3d",
         "x": [
          4,
          3
         ],
         "y": [
          3,
          3
         ],
         "z": [
          2,
          1
         ]
        },
        {
         "line": {
          "color": "yellow",
          "width": 2
         },
         "mode": "lines",
         "type": "scatter3d",
         "x": [
          4,
          4
         ],
         "y": [
          3,
          2
         ],
         "z": [
          2,
          1
         ]
        },
        {
         "line": {
          "color": "yellow",
          "width": 2
         },
         "mode": "lines",
         "type": "scatter3d",
         "x": [
          4,
          4
         ],
         "y": [
          3,
          3
         ],
         "z": [
          2,
          1
         ]
        },
        {
         "line": {
          "color": "yellow",
          "width": 2
         },
         "mode": "lines",
         "type": "scatter3d",
         "x": [
          4,
          4
         ],
         "y": [
          3,
          4
         ],
         "z": [
          2,
          1
         ]
        },
        {
         "line": {
          "color": "yellow",
          "width": 2
         },
         "mode": "lines",
         "type": "scatter3d",
         "x": [
          4,
          1
         ],
         "y": [
          4,
          1
         ],
         "z": [
          2,
          1
         ]
        },
        {
         "line": {
          "color": "yellow",
          "width": 2
         },
         "mode": "lines",
         "type": "scatter3d",
         "x": [
          4,
          1
         ],
         "y": [
          4,
          2
         ],
         "z": [
          2,
          1
         ]
        },
        {
         "line": {
          "color": "yellow",
          "width": 2
         },
         "mode": "lines",
         "type": "scatter3d",
         "x": [
          4,
          1
         ],
         "y": [
          4,
          4
         ],
         "z": [
          2,
          1
         ]
        },
        {
         "line": {
          "color": "yellow",
          "width": 2
         },
         "mode": "lines",
         "type": "scatter3d",
         "x": [
          4,
          2
         ],
         "y": [
          4,
          1
         ],
         "z": [
          2,
          1
         ]
        },
        {
         "line": {
          "color": "yellow",
          "width": 2
         },
         "mode": "lines",
         "type": "scatter3d",
         "x": [
          4,
          2
         ],
         "y": [
          4,
          3
         ],
         "z": [
          2,
          1
         ]
        },
        {
         "line": {
          "color": "yellow",
          "width": 2
         },
         "mode": "lines",
         "type": "scatter3d",
         "x": [
          4,
          2
         ],
         "y": [
          4,
          4
         ],
         "z": [
          2,
          1
         ]
        },
        {
         "line": {
          "color": "yellow",
          "width": 2
         },
         "mode": "lines",
         "type": "scatter3d",
         "x": [
          4,
          3
         ],
         "y": [
          4,
          1
         ],
         "z": [
          2,
          1
         ]
        },
        {
         "line": {
          "color": "yellow",
          "width": 2
         },
         "mode": "lines",
         "type": "scatter3d",
         "x": [
          4,
          3
         ],
         "y": [
          4,
          3
         ],
         "z": [
          2,
          1
         ]
        },
        {
         "line": {
          "color": "yellow",
          "width": 2
         },
         "mode": "lines",
         "type": "scatter3d",
         "x": [
          4,
          3
         ],
         "y": [
          4,
          4
         ],
         "z": [
          2,
          1
         ]
        },
        {
         "line": {
          "color": "yellow",
          "width": 2
         },
         "mode": "lines",
         "type": "scatter3d",
         "x": [
          4,
          4
         ],
         "y": [
          4,
          2
         ],
         "z": [
          2,
          1
         ]
        },
        {
         "line": {
          "color": "yellow",
          "width": 2
         },
         "mode": "lines",
         "type": "scatter3d",
         "x": [
          4,
          4
         ],
         "y": [
          4,
          3
         ],
         "z": [
          2,
          1
         ]
        },
        {
         "line": {
          "color": "green",
          "width": 2
         },
         "mode": "lines",
         "type": "scatter3d",
         "x": [
          3.5,
          2
         ],
         "y": [
          2.5,
          1
         ],
         "z": [
          4,
          3
         ]
        },
        {
         "line": {
          "color": "green",
          "width": 2
         },
         "mode": "lines",
         "type": "scatter3d",
         "x": [
          3.5,
          2
         ],
         "y": [
          2.5,
          2
         ],
         "z": [
          4,
          3
         ]
        },
        {
         "line": {
          "color": "green",
          "width": 2
         },
         "mode": "lines",
         "type": "scatter3d",
         "x": [
          3.5,
          3
         ],
         "y": [
          2.5,
          1
         ],
         "z": [
          4,
          3
         ]
        },
        {
         "line": {
          "color": "green",
          "width": 2
         },
         "mode": "lines",
         "type": "scatter3d",
         "x": [
          3.5,
          4
         ],
         "y": [
          2.5,
          2
         ],
         "z": [
          4,
          3
         ]
        },
        {
         "line": {
          "color": "green",
          "width": 2
         },
         "mode": "lines",
         "type": "scatter3d",
         "x": [
          3.5,
          4
         ],
         "y": [
          2.5,
          3
         ],
         "z": [
          4,
          3
         ]
        },
        {
         "line": {
          "color": "green",
          "width": 2
         },
         "mode": "lines",
         "type": "scatter3d",
         "x": [
          3.5,
          4
         ],
         "y": [
          2.5,
          4
         ],
         "z": [
          4,
          3
         ]
        },
        {
         "line": {
          "color": "green",
          "width": 2
         },
         "mode": "lines",
         "type": "scatter3d",
         "x": [
          2,
          1
         ],
         "y": [
          1,
          3
         ],
         "z": [
          3,
          2
         ]
        },
        {
         "line": {
          "color": "green",
          "width": 2
         },
         "mode": "lines",
         "type": "scatter3d",
         "x": [
          2,
          1
         ],
         "y": [
          1,
          4
         ],
         "z": [
          3,
          2
         ]
        },
        {
         "line": {
          "color": "green",
          "width": 2
         },
         "mode": "lines",
         "type": "scatter3d",
         "x": [
          2,
          2
         ],
         "y": [
          1,
          1
         ],
         "z": [
          3,
          2
         ]
        },
        {
         "line": {
          "color": "green",
          "width": 2
         },
         "mode": "lines",
         "type": "scatter3d",
         "x": [
          2,
          2
         ],
         "y": [
          1,
          2
         ],
         "z": [
          3,
          2
         ]
        },
        {
         "line": {
          "color": "green",
          "width": 2
         },
         "mode": "lines",
         "type": "scatter3d",
         "x": [
          2,
          2
         ],
         "y": [
          1,
          4
         ],
         "z": [
          3,
          2
         ]
        },
        {
         "line": {
          "color": "green",
          "width": 2
         },
         "mode": "lines",
         "type": "scatter3d",
         "x": [
          2,
          3
         ],
         "y": [
          1,
          4
         ],
         "z": [
          3,
          2
         ]
        },
        {
         "line": {
          "color": "green",
          "width": 2
         },
         "mode": "lines",
         "type": "scatter3d",
         "x": [
          2,
          4
         ],
         "y": [
          1,
          1
         ],
         "z": [
          3,
          2
         ]
        },
        {
         "line": {
          "color": "green",
          "width": 2
         },
         "mode": "lines",
         "type": "scatter3d",
         "x": [
          2,
          4
         ],
         "y": [
          1,
          3
         ],
         "z": [
          3,
          2
         ]
        },
        {
         "line": {
          "color": "green",
          "width": 2
         },
         "mode": "lines",
         "type": "scatter3d",
         "x": [
          2,
          4
         ],
         "y": [
          1,
          4
         ],
         "z": [
          3,
          2
         ]
        },
        {
         "line": {
          "color": "green",
          "width": 2
         },
         "mode": "lines",
         "type": "scatter3d",
         "x": [
          2,
          1
         ],
         "y": [
          2,
          2
         ],
         "z": [
          3,
          2
         ]
        },
        {
         "line": {
          "color": "green",
          "width": 2
         },
         "mode": "lines",
         "type": "scatter3d",
         "x": [
          2,
          1
         ],
         "y": [
          2,
          3
         ],
         "z": [
          3,
          2
         ]
        },
        {
         "line": {
          "color": "green",
          "width": 2
         },
         "mode": "lines",
         "type": "scatter3d",
         "x": [
          2,
          1
         ],
         "y": [
          2,
          4
         ],
         "z": [
          3,
          2
         ]
        },
        {
         "line": {
          "color": "green",
          "width": 2
         },
         "mode": "lines",
         "type": "scatter3d",
         "x": [
          2,
          2
         ],
         "y": [
          2,
          2
         ],
         "z": [
          3,
          2
         ]
        },
        {
         "line": {
          "color": "green",
          "width": 2
         },
         "mode": "lines",
         "type": "scatter3d",
         "x": [
          2,
          3
         ],
         "y": [
          2,
          1
         ],
         "z": [
          3,
          2
         ]
        },
        {
         "line": {
          "color": "green",
          "width": 2
         },
         "mode": "lines",
         "type": "scatter3d",
         "x": [
          2,
          3
         ],
         "y": [
          2,
          2
         ],
         "z": [
          3,
          2
         ]
        },
        {
         "line": {
          "color": "green",
          "width": 2
         },
         "mode": "lines",
         "type": "scatter3d",
         "x": [
          2,
          3
         ],
         "y": [
          2,
          3
         ],
         "z": [
          3,
          2
         ]
        },
        {
         "line": {
          "color": "green",
          "width": 2
         },
         "mode": "lines",
         "type": "scatter3d",
         "x": [
          2,
          3
         ],
         "y": [
          2,
          4
         ],
         "z": [
          3,
          2
         ]
        },
        {
         "line": {
          "color": "green",
          "width": 2
         },
         "mode": "lines",
         "type": "scatter3d",
         "x": [
          2,
          4
         ],
         "y": [
          2,
          1
         ],
         "z": [
          3,
          2
         ]
        },
        {
         "line": {
          "color": "green",
          "width": 2
         },
         "mode": "lines",
         "type": "scatter3d",
         "x": [
          2,
          4
         ],
         "y": [
          2,
          2
         ],
         "z": [
          3,
          2
         ]
        },
        {
         "line": {
          "color": "green",
          "width": 2
         },
         "mode": "lines",
         "type": "scatter3d",
         "x": [
          2,
          4
         ],
         "y": [
          2,
          3
         ],
         "z": [
          3,
          2
         ]
        },
        {
         "line": {
          "color": "green",
          "width": 2
         },
         "mode": "lines",
         "type": "scatter3d",
         "x": [
          3,
          1
         ],
         "y": [
          1,
          1
         ],
         "z": [
          3,
          2
         ]
        },
        {
         "line": {
          "color": "green",
          "width": 2
         },
         "mode": "lines",
         "type": "scatter3d",
         "x": [
          3,
          1
         ],
         "y": [
          1,
          3
         ],
         "z": [
          3,
          2
         ]
        },
        {
         "line": {
          "color": "green",
          "width": 2
         },
         "mode": "lines",
         "type": "scatter3d",
         "x": [
          3,
          1
         ],
         "y": [
          1,
          4
         ],
         "z": [
          3,
          2
         ]
        },
        {
         "line": {
          "color": "green",
          "width": 2
         },
         "mode": "lines",
         "type": "scatter3d",
         "x": [
          3,
          2
         ],
         "y": [
          1,
          1
         ],
         "z": [
          3,
          2
         ]
        },
        {
         "line": {
          "color": "green",
          "width": 2
         },
         "mode": "lines",
         "type": "scatter3d",
         "x": [
          3,
          2
         ],
         "y": [
          1,
          2
         ],
         "z": [
          3,
          2
         ]
        },
        {
         "line": {
          "color": "green",
          "width": 2
         },
         "mode": "lines",
         "type": "scatter3d",
         "x": [
          3,
          3
         ],
         "y": [
          1,
          2
         ],
         "z": [
          3,
          2
         ]
        },
        {
         "line": {
          "color": "green",
          "width": 2
         },
         "mode": "lines",
         "type": "scatter3d",
         "x": [
          3,
          3
         ],
         "y": [
          1,
          3
         ],
         "z": [
          3,
          2
         ]
        },
        {
         "line": {
          "color": "green",
          "width": 2
         },
         "mode": "lines",
         "type": "scatter3d",
         "x": [
          3,
          3
         ],
         "y": [
          1,
          4
         ],
         "z": [
          3,
          2
         ]
        },
        {
         "line": {
          "color": "green",
          "width": 2
         },
         "mode": "lines",
         "type": "scatter3d",
         "x": [
          3,
          4
         ],
         "y": [
          1,
          4
         ],
         "z": [
          3,
          2
         ]
        },
        {
         "line": {
          "color": "green",
          "width": 2
         },
         "mode": "lines",
         "type": "scatter3d",
         "x": [
          4,
          1
         ],
         "y": [
          2,
          1
         ],
         "z": [
          3,
          2
         ]
        },
        {
         "line": {
          "color": "green",
          "width": 2
         },
         "mode": "lines",
         "type": "scatter3d",
         "x": [
          4,
          1
         ],
         "y": [
          2,
          2
         ],
         "z": [
          3,
          2
         ]
        },
        {
         "line": {
          "color": "green",
          "width": 2
         },
         "mode": "lines",
         "type": "scatter3d",
         "x": [
          4,
          2
         ],
         "y": [
          2,
          2
         ],
         "z": [
          3,
          2
         ]
        },
        {
         "line": {
          "color": "green",
          "width": 2
         },
         "mode": "lines",
         "type": "scatter3d",
         "x": [
          4,
          2
         ],
         "y": [
          2,
          3
         ],
         "z": [
          3,
          2
         ]
        },
        {
         "line": {
          "color": "green",
          "width": 2
         },
         "mode": "lines",
         "type": "scatter3d",
         "x": [
          4,
          2
         ],
         "y": [
          2,
          4
         ],
         "z": [
          3,
          2
         ]
        },
        {
         "line": {
          "color": "green",
          "width": 2
         },
         "mode": "lines",
         "type": "scatter3d",
         "x": [
          4,
          3
         ],
         "y": [
          2,
          1
         ],
         "z": [
          3,
          2
         ]
        },
        {
         "line": {
          "color": "green",
          "width": 2
         },
         "mode": "lines",
         "type": "scatter3d",
         "x": [
          4,
          3
         ],
         "y": [
          2,
          2
         ],
         "z": [
          3,
          2
         ]
        },
        {
         "line": {
          "color": "green",
          "width": 2
         },
         "mode": "lines",
         "type": "scatter3d",
         "x": [
          4,
          4
         ],
         "y": [
          2,
          1
         ],
         "z": [
          3,
          2
         ]
        },
        {
         "line": {
          "color": "green",
          "width": 2
         },
         "mode": "lines",
         "type": "scatter3d",
         "x": [
          4,
          4
         ],
         "y": [
          2,
          2
         ],
         "z": [
          3,
          2
         ]
        },
        {
         "line": {
          "color": "green",
          "width": 2
         },
         "mode": "lines",
         "type": "scatter3d",
         "x": [
          4,
          4
         ],
         "y": [
          2,
          3
         ],
         "z": [
          3,
          2
         ]
        },
        {
         "line": {
          "color": "green",
          "width": 2
         },
         "mode": "lines",
         "type": "scatter3d",
         "x": [
          4,
          1
         ],
         "y": [
          3,
          1
         ],
         "z": [
          3,
          2
         ]
        },
        {
         "line": {
          "color": "green",
          "width": 2
         },
         "mode": "lines",
         "type": "scatter3d",
         "x": [
          4,
          1
         ],
         "y": [
          3,
          2
         ],
         "z": [
          3,
          2
         ]
        },
        {
         "line": {
          "color": "green",
          "width": 2
         },
         "mode": "lines",
         "type": "scatter3d",
         "x": [
          4,
          1
         ],
         "y": [
          3,
          3
         ],
         "z": [
          3,
          2
         ]
        },
        {
         "line": {
          "color": "green",
          "width": 2
         },
         "mode": "lines",
         "type": "scatter3d",
         "x": [
          4,
          2
         ],
         "y": [
          3,
          1
         ],
         "z": [
          3,
          2
         ]
        },
        {
         "line": {
          "color": "green",
          "width": 2
         },
         "mode": "lines",
         "type": "scatter3d",
         "x": [
          4,
          2
         ],
         "y": [
          3,
          2
         ],
         "z": [
          3,
          2
         ]
        },
        {
         "line": {
          "color": "green",
          "width": 2
         },
         "mode": "lines",
         "type": "scatter3d",
         "x": [
          4,
          2
         ],
         "y": [
          3,
          3
         ],
         "z": [
          3,
          2
         ]
        },
        {
         "line": {
          "color": "green",
          "width": 2
         },
         "mode": "lines",
         "type": "scatter3d",
         "x": [
          4,
          2
         ],
         "y": [
          3,
          4
         ],
         "z": [
          3,
          2
         ]
        },
        {
         "line": {
          "color": "green",
          "width": 2
         },
         "mode": "lines",
         "type": "scatter3d",
         "x": [
          4,
          3
         ],
         "y": [
          3,
          1
         ],
         "z": [
          3,
          2
         ]
        },
        {
         "line": {
          "color": "green",
          "width": 2
         },
         "mode": "lines",
         "type": "scatter3d",
         "x": [
          4,
          3
         ],
         "y": [
          3,
          2
         ],
         "z": [
          3,
          2
         ]
        },
        {
         "line": {
          "color": "green",
          "width": 2
         },
         "mode": "lines",
         "type": "scatter3d",
         "x": [
          4,
          4
         ],
         "y": [
          3,
          2
         ],
         "z": [
          3,
          2
         ]
        },
        {
         "line": {
          "color": "green",
          "width": 2
         },
         "mode": "lines",
         "type": "scatter3d",
         "x": [
          4,
          4
         ],
         "y": [
          3,
          4
         ],
         "z": [
          3,
          2
         ]
        },
        {
         "line": {
          "color": "green",
          "width": 2
         },
         "mode": "lines",
         "type": "scatter3d",
         "x": [
          4,
          1
         ],
         "y": [
          4,
          2
         ],
         "z": [
          3,
          2
         ]
        },
        {
         "line": {
          "color": "green",
          "width": 2
         },
         "mode": "lines",
         "type": "scatter3d",
         "x": [
          4,
          1
         ],
         "y": [
          4,
          3
         ],
         "z": [
          3,
          2
         ]
        },
        {
         "line": {
          "color": "green",
          "width": 2
         },
         "mode": "lines",
         "type": "scatter3d",
         "x": [
          4,
          1
         ],
         "y": [
          4,
          4
         ],
         "z": [
          3,
          2
         ]
        },
        {
         "line": {
          "color": "green",
          "width": 2
         },
         "mode": "lines",
         "type": "scatter3d",
         "x": [
          4,
          2
         ],
         "y": [
          4,
          3
         ],
         "z": [
          3,
          2
         ]
        },
        {
         "line": {
          "color": "green",
          "width": 2
         },
         "mode": "lines",
         "type": "scatter3d",
         "x": [
          4,
          2
         ],
         "y": [
          4,
          4
         ],
         "z": [
          3,
          2
         ]
        },
        {
         "line": {
          "color": "green",
          "width": 2
         },
         "mode": "lines",
         "type": "scatter3d",
         "x": [
          4,
          3
         ],
         "y": [
          4,
          2
         ],
         "z": [
          3,
          2
         ]
        },
        {
         "line": {
          "color": "green",
          "width": 2
         },
         "mode": "lines",
         "type": "scatter3d",
         "x": [
          4,
          3
         ],
         "y": [
          4,
          3
         ],
         "z": [
          3,
          2
         ]
        },
        {
         "line": {
          "color": "green",
          "width": 2
         },
         "mode": "lines",
         "type": "scatter3d",
         "x": [
          4,
          3
         ],
         "y": [
          4,
          4
         ],
         "z": [
          3,
          2
         ]
        },
        {
         "line": {
          "color": "green",
          "width": 2
         },
         "mode": "lines",
         "type": "scatter3d",
         "x": [
          4,
          4
         ],
         "y": [
          4,
          1
         ],
         "z": [
          3,
          2
         ]
        },
        {
         "line": {
          "color": "green",
          "width": 2
         },
         "mode": "lines",
         "type": "scatter3d",
         "x": [
          4,
          4
         ],
         "y": [
          4,
          4
         ],
         "z": [
          3,
          2
         ]
        },
        {
         "line": {
          "color": "green",
          "width": 2
         },
         "mode": "lines",
         "type": "scatter3d",
         "x": [
          1,
          1
         ],
         "y": [
          1,
          2
         ],
         "z": [
          2,
          1
         ]
        },
        {
         "line": {
          "color": "green",
          "width": 2
         },
         "mode": "lines",
         "type": "scatter3d",
         "x": [
          1,
          1
         ],
         "y": [
          1,
          3
         ],
         "z": [
          2,
          1
         ]
        },
        {
         "line": {
          "color": "green",
          "width": 2
         },
         "mode": "lines",
         "type": "scatter3d",
         "x": [
          1,
          1
         ],
         "y": [
          1,
          4
         ],
         "z": [
          2,
          1
         ]
        },
        {
         "line": {
          "color": "green",
          "width": 2
         },
         "mode": "lines",
         "type": "scatter3d",
         "x": [
          1,
          2
         ],
         "y": [
          1,
          1
         ],
         "z": [
          2,
          1
         ]
        },
        {
         "line": {
          "color": "green",
          "width": 2
         },
         "mode": "lines",
         "type": "scatter3d",
         "x": [
          1,
          2
         ],
         "y": [
          1,
          3
         ],
         "z": [
          2,
          1
         ]
        },
        {
         "line": {
          "color": "green",
          "width": 2
         },
         "mode": "lines",
         "type": "scatter3d",
         "x": [
          1,
          2
         ],
         "y": [
          1,
          4
         ],
         "z": [
          2,
          1
         ]
        },
        {
         "line": {
          "color": "green",
          "width": 2
         },
         "mode": "lines",
         "type": "scatter3d",
         "x": [
          1,
          3
         ],
         "y": [
          1,
          1
         ],
         "z": [
          2,
          1
         ]
        },
        {
         "line": {
          "color": "green",
          "width": 2
         },
         "mode": "lines",
         "type": "scatter3d",
         "x": [
          1,
          3
         ],
         "y": [
          1,
          2
         ],
         "z": [
          2,
          1
         ]
        },
        {
         "line": {
          "color": "green",
          "width": 2
         },
         "mode": "lines",
         "type": "scatter3d",
         "x": [
          1,
          3
         ],
         "y": [
          1,
          3
         ],
         "z": [
          2,
          1
         ]
        },
        {
         "line": {
          "color": "green",
          "width": 2
         },
         "mode": "lines",
         "type": "scatter3d",
         "x": [
          1,
          4
         ],
         "y": [
          1,
          1
         ],
         "z": [
          2,
          1
         ]
        },
        {
         "line": {
          "color": "green",
          "width": 2
         },
         "mode": "lines",
         "type": "scatter3d",
         "x": [
          1,
          4
         ],
         "y": [
          1,
          2
         ],
         "z": [
          2,
          1
         ]
        },
        {
         "line": {
          "color": "green",
          "width": 2
         },
         "mode": "lines",
         "type": "scatter3d",
         "x": [
          1,
          1
         ],
         "y": [
          2,
          2
         ],
         "z": [
          2,
          1
         ]
        },
        {
         "line": {
          "color": "green",
          "width": 2
         },
         "mode": "lines",
         "type": "scatter3d",
         "x": [
          1,
          1
         ],
         "y": [
          2,
          3
         ],
         "z": [
          2,
          1
         ]
        },
        {
         "line": {
          "color": "green",
          "width": 2
         },
         "mode": "lines",
         "type": "scatter3d",
         "x": [
          1,
          2
         ],
         "y": [
          2,
          1
         ],
         "z": [
          2,
          1
         ]
        },
        {
         "line": {
          "color": "green",
          "width": 2
         },
         "mode": "lines",
         "type": "scatter3d",
         "x": [
          1,
          2
         ],
         "y": [
          2,
          3
         ],
         "z": [
          2,
          1
         ]
        },
        {
         "line": {
          "color": "green",
          "width": 2
         },
         "mode": "lines",
         "type": "scatter3d",
         "x": [
          1,
          2
         ],
         "y": [
          2,
          4
         ],
         "z": [
          2,
          1
         ]
        },
        {
         "line": {
          "color": "green",
          "width": 2
         },
         "mode": "lines",
         "type": "scatter3d",
         "x": [
          1,
          3
         ],
         "y": [
          2,
          1
         ],
         "z": [
          2,
          1
         ]
        },
        {
         "line": {
          "color": "green",
          "width": 2
         },
         "mode": "lines",
         "type": "scatter3d",
         "x": [
          1,
          3
         ],
         "y": [
          2,
          4
         ],
         "z": [
          2,
          1
         ]
        },
        {
         "line": {
          "color": "green",
          "width": 2
         },
         "mode": "lines",
         "type": "scatter3d",
         "x": [
          1,
          4
         ],
         "y": [
          2,
          1
         ],
         "z": [
          2,
          1
         ]
        },
        {
         "line": {
          "color": "green",
          "width": 2
         },
         "mode": "lines",
         "type": "scatter3d",
         "x": [
          1,
          4
         ],
         "y": [
          2,
          2
         ],
         "z": [
          2,
          1
         ]
        },
        {
         "line": {
          "color": "green",
          "width": 2
         },
         "mode": "lines",
         "type": "scatter3d",
         "x": [
          1,
          4
         ],
         "y": [
          2,
          3
         ],
         "z": [
          2,
          1
         ]
        },
        {
         "line": {
          "color": "green",
          "width": 2
         },
         "mode": "lines",
         "type": "scatter3d",
         "x": [
          1,
          1
         ],
         "y": [
          3,
          2
         ],
         "z": [
          2,
          1
         ]
        },
        {
         "line": {
          "color": "green",
          "width": 2
         },
         "mode": "lines",
         "type": "scatter3d",
         "x": [
          1,
          2
         ],
         "y": [
          3,
          2
         ],
         "z": [
          2,
          1
         ]
        },
        {
         "line": {
          "color": "green",
          "width": 2
         },
         "mode": "lines",
         "type": "scatter3d",
         "x": [
          1,
          2
         ],
         "y": [
          3,
          3
         ],
         "z": [
          2,
          1
         ]
        },
        {
         "line": {
          "color": "green",
          "width": 2
         },
         "mode": "lines",
         "type": "scatter3d",
         "x": [
          1,
          2
         ],
         "y": [
          3,
          4
         ],
         "z": [
          2,
          1
         ]
        },
        {
         "line": {
          "color": "green",
          "width": 2
         },
         "mode": "lines",
         "type": "scatter3d",
         "x": [
          1,
          3
         ],
         "y": [
          3,
          1
         ],
         "z": [
          2,
          1
         ]
        },
        {
         "line": {
          "color": "green",
          "width": 2
         },
         "mode": "lines",
         "type": "scatter3d",
         "x": [
          1,
          3
         ],
         "y": [
          3,
          3
         ],
         "z": [
          2,
          1
         ]
        },
        {
         "line": {
          "color": "green",
          "width": 2
         },
         "mode": "lines",
         "type": "scatter3d",
         "x": [
          1,
          3
         ],
         "y": [
          3,
          4
         ],
         "z": [
          2,
          1
         ]
        },
        {
         "line": {
          "color": "green",
          "width": 2
         },
         "mode": "lines",
         "type": "scatter3d",
         "x": [
          1,
          4
         ],
         "y": [
          3,
          2
         ],
         "z": [
          2,
          1
         ]
        },
        {
         "line": {
          "color": "green",
          "width": 2
         },
         "mode": "lines",
         "type": "scatter3d",
         "x": [
          1,
          4
         ],
         "y": [
          3,
          4
         ],
         "z": [
          2,
          1
         ]
        },
        {
         "line": {
          "color": "green",
          "width": 2
         },
         "mode": "lines",
         "type": "scatter3d",
         "x": [
          1,
          1
         ],
         "y": [
          4,
          2
         ],
         "z": [
          2,
          1
         ]
        },
        {
         "line": {
          "color": "green",
          "width": 2
         },
         "mode": "lines",
         "type": "scatter3d",
         "x": [
          1,
          1
         ],
         "y": [
          4,
          4
         ],
         "z": [
          2,
          1
         ]
        },
        {
         "line": {
          "color": "green",
          "width": 2
         },
         "mode": "lines",
         "type": "scatter3d",
         "x": [
          1,
          2
         ],
         "y": [
          4,
          2
         ],
         "z": [
          2,
          1
         ]
        },
        {
         "line": {
          "color": "green",
          "width": 2
         },
         "mode": "lines",
         "type": "scatter3d",
         "x": [
          1,
          2
         ],
         "y": [
          4,
          3
         ],
         "z": [
          2,
          1
         ]
        },
        {
         "line": {
          "color": "green",
          "width": 2
         },
         "mode": "lines",
         "type": "scatter3d",
         "x": [
          1,
          2
         ],
         "y": [
          4,
          4
         ],
         "z": [
          2,
          1
         ]
        },
        {
         "line": {
          "color": "green",
          "width": 2
         },
         "mode": "lines",
         "type": "scatter3d",
         "x": [
          1,
          3
         ],
         "y": [
          4,
          2
         ],
         "z": [
          2,
          1
         ]
        },
        {
         "line": {
          "color": "green",
          "width": 2
         },
         "mode": "lines",
         "type": "scatter3d",
         "x": [
          1,
          3
         ],
         "y": [
          4,
          3
         ],
         "z": [
          2,
          1
         ]
        },
        {
         "line": {
          "color": "green",
          "width": 2
         },
         "mode": "lines",
         "type": "scatter3d",
         "x": [
          1,
          3
         ],
         "y": [
          4,
          4
         ],
         "z": [
          2,
          1
         ]
        },
        {
         "line": {
          "color": "green",
          "width": 2
         },
         "mode": "lines",
         "type": "scatter3d",
         "x": [
          1,
          4
         ],
         "y": [
          4,
          2
         ],
         "z": [
          2,
          1
         ]
        },
        {
         "line": {
          "color": "green",
          "width": 2
         },
         "mode": "lines",
         "type": "scatter3d",
         "x": [
          1,
          4
         ],
         "y": [
          4,
          4
         ],
         "z": [
          2,
          1
         ]
        },
        {
         "line": {
          "color": "green",
          "width": 2
         },
         "mode": "lines",
         "type": "scatter3d",
         "x": [
          2,
          1
         ],
         "y": [
          1,
          1
         ],
         "z": [
          2,
          1
         ]
        },
        {
         "line": {
          "color": "green",
          "width": 2
         },
         "mode": "lines",
         "type": "scatter3d",
         "x": [
          2,
          1
         ],
         "y": [
          1,
          2
         ],
         "z": [
          2,
          1
         ]
        },
        {
         "line": {
          "color": "green",
          "width": 2
         },
         "mode": "lines",
         "type": "scatter3d",
         "x": [
          2,
          1
         ],
         "y": [
          1,
          4
         ],
         "z": [
          2,
          1
         ]
        },
        {
         "line": {
          "color": "green",
          "width": 2
         },
         "mode": "lines",
         "type": "scatter3d",
         "x": [
          2,
          2
         ],
         "y": [
          1,
          2
         ],
         "z": [
          2,
          1
         ]
        },
        {
         "line": {
          "color": "green",
          "width": 2
         },
         "mode": "lines",
         "type": "scatter3d",
         "x": [
          2,
          2
         ],
         "y": [
          1,
          3
         ],
         "z": [
          2,
          1
         ]
        },
        {
         "line": {
          "color": "green",
          "width": 2
         },
         "mode": "lines",
         "type": "scatter3d",
         "x": [
          2,
          2
         ],
         "y": [
          1,
          4
         ],
         "z": [
          2,
          1
         ]
        },
        {
         "line": {
          "color": "green",
          "width": 2
         },
         "mode": "lines",
         "type": "scatter3d",
         "x": [
          2,
          3
         ],
         "y": [
          1,
          1
         ],
         "z": [
          2,
          1
         ]
        },
        {
         "line": {
          "color": "green",
          "width": 2
         },
         "mode": "lines",
         "type": "scatter3d",
         "x": [
          2,
          3
         ],
         "y": [
          1,
          3
         ],
         "z": [
          2,
          1
         ]
        },
        {
         "line": {
          "color": "green",
          "width": 2
         },
         "mode": "lines",
         "type": "scatter3d",
         "x": [
          2,
          3
         ],
         "y": [
          1,
          4
         ],
         "z": [
          2,
          1
         ]
        },
        {
         "line": {
          "color": "green",
          "width": 2
         },
         "mode": "lines",
         "type": "scatter3d",
         "x": [
          2,
          4
         ],
         "y": [
          1,
          2
         ],
         "z": [
          2,
          1
         ]
        },
        {
         "line": {
          "color": "green",
          "width": 2
         },
         "mode": "lines",
         "type": "scatter3d",
         "x": [
          2,
          4
         ],
         "y": [
          1,
          4
         ],
         "z": [
          2,
          1
         ]
        },
        {
         "line": {
          "color": "green",
          "width": 2
         },
         "mode": "lines",
         "type": "scatter3d",
         "x": [
          2,
          1
         ],
         "y": [
          2,
          1
         ],
         "z": [
          2,
          1
         ]
        },
        {
         "line": {
          "color": "green",
          "width": 2
         },
         "mode": "lines",
         "type": "scatter3d",
         "x": [
          2,
          1
         ],
         "y": [
          2,
          2
         ],
         "z": [
          2,
          1
         ]
        },
        {
         "line": {
          "color": "green",
          "width": 2
         },
         "mode": "lines",
         "type": "scatter3d",
         "x": [
          2,
          2
         ],
         "y": [
          2,
          3
         ],
         "z": [
          2,
          1
         ]
        },
        {
         "line": {
          "color": "green",
          "width": 2
         },
         "mode": "lines",
         "type": "scatter3d",
         "x": [
          2,
          2
         ],
         "y": [
          2,
          4
         ],
         "z": [
          2,
          1
         ]
        },
        {
         "line": {
          "color": "green",
          "width": 2
         },
         "mode": "lines",
         "type": "scatter3d",
         "x": [
          2,
          3
         ],
         "y": [
          2,
          1
         ],
         "z": [
          2,
          1
         ]
        },
        {
         "line": {
          "color": "green",
          "width": 2
         },
         "mode": "lines",
         "type": "scatter3d",
         "x": [
          2,
          3
         ],
         "y": [
          2,
          3
         ],
         "z": [
          2,
          1
         ]
        },
        {
         "line": {
          "color": "green",
          "width": 2
         },
         "mode": "lines",
         "type": "scatter3d",
         "x": [
          2,
          3
         ],
         "y": [
          2,
          4
         ],
         "z": [
          2,
          1
         ]
        },
        {
         "line": {
          "color": "green",
          "width": 2
         },
         "mode": "lines",
         "type": "scatter3d",
         "x": [
          2,
          4
         ],
         "y": [
          2,
          1
         ],
         "z": [
          2,
          1
         ]
        },
        {
         "line": {
          "color": "green",
          "width": 2
         },
         "mode": "lines",
         "type": "scatter3d",
         "x": [
          2,
          4
         ],
         "y": [
          2,
          2
         ],
         "z": [
          2,
          1
         ]
        },
        {
         "line": {
          "color": "green",
          "width": 2
         },
         "mode": "lines",
         "type": "scatter3d",
         "x": [
          2,
          4
         ],
         "y": [
          2,
          3
         ],
         "z": [
          2,
          1
         ]
        },
        {
         "line": {
          "color": "green",
          "width": 2
         },
         "mode": "lines",
         "type": "scatter3d",
         "x": [
          2,
          4
         ],
         "y": [
          2,
          4
         ],
         "z": [
          2,
          1
         ]
        },
        {
         "line": {
          "color": "green",
          "width": 2
         },
         "mode": "lines",
         "type": "scatter3d",
         "x": [
          2,
          1
         ],
         "y": [
          3,
          1
         ],
         "z": [
          2,
          1
         ]
        },
        {
         "line": {
          "color": "green",
          "width": 2
         },
         "mode": "lines",
         "type": "scatter3d",
         "x": [
          2,
          1
         ],
         "y": [
          3,
          2
         ],
         "z": [
          2,
          1
         ]
        },
        {
         "line": {
          "color": "green",
          "width": 2
         },
         "mode": "lines",
         "type": "scatter3d",
         "x": [
          2,
          1
         ],
         "y": [
          3,
          4
         ],
         "z": [
          2,
          1
         ]
        },
        {
         "line": {
          "color": "green",
          "width": 2
         },
         "mode": "lines",
         "type": "scatter3d",
         "x": [
          2,
          2
         ],
         "y": [
          3,
          1
         ],
         "z": [
          2,
          1
         ]
        },
        {
         "line": {
          "color": "green",
          "width": 2
         },
         "mode": "lines",
         "type": "scatter3d",
         "x": [
          2,
          2
         ],
         "y": [
          3,
          2
         ],
         "z": [
          2,
          1
         ]
        },
        {
         "line": {
          "color": "green",
          "width": 2
         },
         "mode": "lines",
         "type": "scatter3d",
         "x": [
          2,
          2
         ],
         "y": [
          3,
          3
         ],
         "z": [
          2,
          1
         ]
        },
        {
         "line": {
          "color": "green",
          "width": 2
         },
         "mode": "lines",
         "type": "scatter3d",
         "x": [
          2,
          2
         ],
         "y": [
          3,
          4
         ],
         "z": [
          2,
          1
         ]
        },
        {
         "line": {
          "color": "green",
          "width": 2
         },
         "mode": "lines",
         "type": "scatter3d",
         "x": [
          2,
          3
         ],
         "y": [
          3,
          1
         ],
         "z": [
          2,
          1
         ]
        },
        {
         "line": {
          "color": "green",
          "width": 2
         },
         "mode": "lines",
         "type": "scatter3d",
         "x": [
          2,
          3
         ],
         "y": [
          3,
          3
         ],
         "z": [
          2,
          1
         ]
        },
        {
         "line": {
          "color": "green",
          "width": 2
         },
         "mode": "lines",
         "type": "scatter3d",
         "x": [
          2,
          3
         ],
         "y": [
          3,
          4
         ],
         "z": [
          2,
          1
         ]
        },
        {
         "line": {
          "color": "green",
          "width": 2
         },
         "mode": "lines",
         "type": "scatter3d",
         "x": [
          2,
          4
         ],
         "y": [
          3,
          2
         ],
         "z": [
          2,
          1
         ]
        },
        {
         "line": {
          "color": "green",
          "width": 2
         },
         "mode": "lines",
         "type": "scatter3d",
         "x": [
          2,
          4
         ],
         "y": [
          3,
          3
         ],
         "z": [
          2,
          1
         ]
        },
        {
         "line": {
          "color": "green",
          "width": 2
         },
         "mode": "lines",
         "type": "scatter3d",
         "x": [
          2,
          1
         ],
         "y": [
          4,
          1
         ],
         "z": [
          2,
          1
         ]
        },
        {
         "line": {
          "color": "green",
          "width": 2
         },
         "mode": "lines",
         "type": "scatter3d",
         "x": [
          2,
          1
         ],
         "y": [
          4,
          2
         ],
         "z": [
          2,
          1
         ]
        },
        {
         "line": {
          "color": "green",
          "width": 2
         },
         "mode": "lines",
         "type": "scatter3d",
         "x": [
          2,
          1
         ],
         "y": [
          4,
          4
         ],
         "z": [
          2,
          1
         ]
        },
        {
         "line": {
          "color": "green",
          "width": 2
         },
         "mode": "lines",
         "type": "scatter3d",
         "x": [
          2,
          2
         ],
         "y": [
          4,
          1
         ],
         "z": [
          2,
          1
         ]
        },
        {
         "line": {
          "color": "green",
          "width": 2
         },
         "mode": "lines",
         "type": "scatter3d",
         "x": [
          2,
          2
         ],
         "y": [
          4,
          2
         ],
         "z": [
          2,
          1
         ]
        },
        {
         "line": {
          "color": "green",
          "width": 2
         },
         "mode": "lines",
         "type": "scatter3d",
         "x": [
          2,
          2
         ],
         "y": [
          4,
          3
         ],
         "z": [
          2,
          1
         ]
        },
        {
         "line": {
          "color": "green",
          "width": 2
         },
         "mode": "lines",
         "type": "scatter3d",
         "x": [
          2,
          3
         ],
         "y": [
          4,
          1
         ],
         "z": [
          2,
          1
         ]
        },
        {
         "line": {
          "color": "green",
          "width": 2
         },
         "mode": "lines",
         "type": "scatter3d",
         "x": [
          2,
          3
         ],
         "y": [
          4,
          2
         ],
         "z": [
          2,
          1
         ]
        },
        {
         "line": {
          "color": "green",
          "width": 2
         },
         "mode": "lines",
         "type": "scatter3d",
         "x": [
          2,
          3
         ],
         "y": [
          4,
          3
         ],
         "z": [
          2,
          1
         ]
        },
        {
         "line": {
          "color": "green",
          "width": 2
         },
         "mode": "lines",
         "type": "scatter3d",
         "x": [
          2,
          3
         ],
         "y": [
          4,
          4
         ],
         "z": [
          2,
          1
         ]
        },
        {
         "line": {
          "color": "green",
          "width": 2
         },
         "mode": "lines",
         "type": "scatter3d",
         "x": [
          2,
          4
         ],
         "y": [
          4,
          2
         ],
         "z": [
          2,
          1
         ]
        },
        {
         "line": {
          "color": "green",
          "width": 2
         },
         "mode": "lines",
         "type": "scatter3d",
         "x": [
          2,
          4
         ],
         "y": [
          4,
          4
         ],
         "z": [
          2,
          1
         ]
        },
        {
         "line": {
          "color": "green",
          "width": 2
         },
         "mode": "lines",
         "type": "scatter3d",
         "x": [
          3,
          1
         ],
         "y": [
          1,
          1
         ],
         "z": [
          2,
          1
         ]
        },
        {
         "line": {
          "color": "green",
          "width": 2
         },
         "mode": "lines",
         "type": "scatter3d",
         "x": [
          3,
          1
         ],
         "y": [
          1,
          2
         ],
         "z": [
          2,
          1
         ]
        },
        {
         "line": {
          "color": "green",
          "width": 2
         },
         "mode": "lines",
         "type": "scatter3d",
         "x": [
          3,
          1
         ],
         "y": [
          1,
          3
         ],
         "z": [
          2,
          1
         ]
        },
        {
         "line": {
          "color": "green",
          "width": 2
         },
         "mode": "lines",
         "type": "scatter3d",
         "x": [
          3,
          1
         ],
         "y": [
          1,
          4
         ],
         "z": [
          2,
          1
         ]
        },
        {
         "line": {
          "color": "green",
          "width": 2
         },
         "mode": "lines",
         "type": "scatter3d",
         "x": [
          3,
          2
         ],
         "y": [
          1,
          1
         ],
         "z": [
          2,
          1
         ]
        },
        {
         "line": {
          "color": "green",
          "width": 2
         },
         "mode": "lines",
         "type": "scatter3d",
         "x": [
          3,
          2
         ],
         "y": [
          1,
          3
         ],
         "z": [
          2,
          1
         ]
        },
        {
         "line": {
          "color": "green",
          "width": 2
         },
         "mode": "lines",
         "type": "scatter3d",
         "x": [
          3,
          2
         ],
         "y": [
          1,
          4
         ],
         "z": [
          2,
          1
         ]
        },
        {
         "line": {
          "color": "green",
          "width": 2
         },
         "mode": "lines",
         "type": "scatter3d",
         "x": [
          3,
          4
         ],
         "y": [
          1,
          1
         ],
         "z": [
          2,
          1
         ]
        },
        {
         "line": {
          "color": "green",
          "width": 2
         },
         "mode": "lines",
         "type": "scatter3d",
         "x": [
          3,
          4
         ],
         "y": [
          1,
          2
         ],
         "z": [
          2,
          1
         ]
        },
        {
         "line": {
          "color": "green",
          "width": 2
         },
         "mode": "lines",
         "type": "scatter3d",
         "x": [
          3,
          4
         ],
         "y": [
          1,
          3
         ],
         "z": [
          2,
          1
         ]
        },
        {
         "line": {
          "color": "green",
          "width": 2
         },
         "mode": "lines",
         "type": "scatter3d",
         "x": [
          3,
          4
         ],
         "y": [
          1,
          4
         ],
         "z": [
          2,
          1
         ]
        },
        {
         "line": {
          "color": "green",
          "width": 2
         },
         "mode": "lines",
         "type": "scatter3d",
         "x": [
          3,
          1
         ],
         "y": [
          2,
          1
         ],
         "z": [
          2,
          1
         ]
        },
        {
         "line": {
          "color": "green",
          "width": 2
         },
         "mode": "lines",
         "type": "scatter3d",
         "x": [
          3,
          1
         ],
         "y": [
          2,
          2
         ],
         "z": [
          2,
          1
         ]
        },
        {
         "line": {
          "color": "green",
          "width": 2
         },
         "mode": "lines",
         "type": "scatter3d",
         "x": [
          3,
          1
         ],
         "y": [
          2,
          3
         ],
         "z": [
          2,
          1
         ]
        },
        {
         "line": {
          "color": "green",
          "width": 2
         },
         "mode": "lines",
         "type": "scatter3d",
         "x": [
          3,
          1
         ],
         "y": [
          2,
          4
         ],
         "z": [
          2,
          1
         ]
        },
        {
         "line": {
          "color": "green",
          "width": 2
         },
         "mode": "lines",
         "type": "scatter3d",
         "x": [
          3,
          2
         ],
         "y": [
          2,
          1
         ],
         "z": [
          2,
          1
         ]
        },
        {
         "line": {
          "color": "green",
          "width": 2
         },
         "mode": "lines",
         "type": "scatter3d",
         "x": [
          3,
          2
         ],
         "y": [
          2,
          3
         ],
         "z": [
          2,
          1
         ]
        },
        {
         "line": {
          "color": "green",
          "width": 2
         },
         "mode": "lines",
         "type": "scatter3d",
         "x": [
          3,
          2
         ],
         "y": [
          2,
          4
         ],
         "z": [
          2,
          1
         ]
        },
        {
         "line": {
          "color": "green",
          "width": 2
         },
         "mode": "lines",
         "type": "scatter3d",
         "x": [
          3,
          3
         ],
         "y": [
          2,
          2
         ],
         "z": [
          2,
          1
         ]
        },
        {
         "line": {
          "color": "green",
          "width": 2
         },
         "mode": "lines",
         "type": "scatter3d",
         "x": [
          3,
          3
         ],
         "y": [
          2,
          4
         ],
         "z": [
          2,
          1
         ]
        },
        {
         "line": {
          "color": "green",
          "width": 2
         },
         "mode": "lines",
         "type": "scatter3d",
         "x": [
          3,
          4
         ],
         "y": [
          2,
          1
         ],
         "z": [
          2,
          1
         ]
        },
        {
         "line": {
          "color": "green",
          "width": 2
         },
         "mode": "lines",
         "type": "scatter3d",
         "x": [
          3,
          4
         ],
         "y": [
          2,
          2
         ],
         "z": [
          2,
          1
         ]
        },
        {
         "line": {
          "color": "green",
          "width": 2
         },
         "mode": "lines",
         "type": "scatter3d",
         "x": [
          3,
          4
         ],
         "y": [
          2,
          3
         ],
         "z": [
          2,
          1
         ]
        },
        {
         "line": {
          "color": "green",
          "width": 2
         },
         "mode": "lines",
         "type": "scatter3d",
         "x": [
          3,
          1
         ],
         "y": [
          3,
          1
         ],
         "z": [
          2,
          1
         ]
        },
        {
         "line": {
          "color": "green",
          "width": 2
         },
         "mode": "lines",
         "type": "scatter3d",
         "x": [
          3,
          1
         ],
         "y": [
          3,
          2
         ],
         "z": [
          2,
          1
         ]
        },
        {
         "line": {
          "color": "green",
          "width": 2
         },
         "mode": "lines",
         "type": "scatter3d",
         "x": [
          3,
          1
         ],
         "y": [
          3,
          4
         ],
         "z": [
          2,
          1
         ]
        },
        {
         "line": {
          "color": "green",
          "width": 2
         },
         "mode": "lines",
         "type": "scatter3d",
         "x": [
          3,
          2
         ],
         "y": [
          3,
          2
         ],
         "z": [
          2,
          1
         ]
        },
        {
         "line": {
          "color": "green",
          "width": 2
         },
         "mode": "lines",
         "type": "scatter3d",
         "x": [
          3,
          2
         ],
         "y": [
          3,
          3
         ],
         "z": [
          2,
          1
         ]
        },
        {
         "line": {
          "color": "green",
          "width": 2
         },
         "mode": "lines",
         "type": "scatter3d",
         "x": [
          3,
          3
         ],
         "y": [
          3,
          1
         ],
         "z": [
          2,
          1
         ]
        },
        {
         "line": {
          "color": "green",
          "width": 2
         },
         "mode": "lines",
         "type": "scatter3d",
         "x": [
          3,
          3
         ],
         "y": [
          3,
          3
         ],
         "z": [
          2,
          1
         ]
        },
        {
         "line": {
          "color": "green",
          "width": 2
         },
         "mode": "lines",
         "type": "scatter3d",
         "x": [
          3,
          4
         ],
         "y": [
          3,
          2
         ],
         "z": [
          2,
          1
         ]
        },
        {
         "line": {
          "color": "green",
          "width": 2
         },
         "mode": "lines",
         "type": "scatter3d",
         "x": [
          3,
          4
         ],
         "y": [
          3,
          4
         ],
         "z": [
          2,
          1
         ]
        },
        {
         "line": {
          "color": "green",
          "width": 2
         },
         "mode": "lines",
         "type": "scatter3d",
         "x": [
          3,
          1
         ],
         "y": [
          4,
          1
         ],
         "z": [
          2,
          1
         ]
        },
        {
         "line": {
          "color": "green",
          "width": 2
         },
         "mode": "lines",
         "type": "scatter3d",
         "x": [
          3,
          1
         ],
         "y": [
          4,
          4
         ],
         "z": [
          2,
          1
         ]
        },
        {
         "line": {
          "color": "green",
          "width": 2
         },
         "mode": "lines",
         "type": "scatter3d",
         "x": [
          3,
          2
         ],
         "y": [
          4,
          2
         ],
         "z": [
          2,
          1
         ]
        },
        {
         "line": {
          "color": "green",
          "width": 2
         },
         "mode": "lines",
         "type": "scatter3d",
         "x": [
          3,
          2
         ],
         "y": [
          4,
          3
         ],
         "z": [
          2,
          1
         ]
        },
        {
         "line": {
          "color": "green",
          "width": 2
         },
         "mode": "lines",
         "type": "scatter3d",
         "x": [
          3,
          2
         ],
         "y": [
          4,
          4
         ],
         "z": [
          2,
          1
         ]
        },
        {
         "line": {
          "color": "green",
          "width": 2
         },
         "mode": "lines",
         "type": "scatter3d",
         "x": [
          3,
          3
         ],
         "y": [
          4,
          1
         ],
         "z": [
          2,
          1
         ]
        },
        {
         "line": {
          "color": "green",
          "width": 2
         },
         "mode": "lines",
         "type": "scatter3d",
         "x": [
          3,
          3
         ],
         "y": [
          4,
          2
         ],
         "z": [
          2,
          1
         ]
        },
        {
         "line": {
          "color": "green",
          "width": 2
         },
         "mode": "lines",
         "type": "scatter3d",
         "x": [
          3,
          3
         ],
         "y": [
          4,
          3
         ],
         "z": [
          2,
          1
         ]
        },
        {
         "line": {
          "color": "green",
          "width": 2
         },
         "mode": "lines",
         "type": "scatter3d",
         "x": [
          3,
          3
         ],
         "y": [
          4,
          4
         ],
         "z": [
          2,
          1
         ]
        },
        {
         "line": {
          "color": "green",
          "width": 2
         },
         "mode": "lines",
         "type": "scatter3d",
         "x": [
          3,
          4
         ],
         "y": [
          4,
          1
         ],
         "z": [
          2,
          1
         ]
        },
        {
         "line": {
          "color": "green",
          "width": 2
         },
         "mode": "lines",
         "type": "scatter3d",
         "x": [
          3,
          4
         ],
         "y": [
          4,
          2
         ],
         "z": [
          2,
          1
         ]
        },
        {
         "line": {
          "color": "green",
          "width": 2
         },
         "mode": "lines",
         "type": "scatter3d",
         "x": [
          3,
          4
         ],
         "y": [
          4,
          3
         ],
         "z": [
          2,
          1
         ]
        },
        {
         "line": {
          "color": "green",
          "width": 2
         },
         "mode": "lines",
         "type": "scatter3d",
         "x": [
          3,
          4
         ],
         "y": [
          4,
          4
         ],
         "z": [
          2,
          1
         ]
        },
        {
         "line": {
          "color": "green",
          "width": 2
         },
         "mode": "lines",
         "type": "scatter3d",
         "x": [
          4,
          1
         ],
         "y": [
          1,
          2
         ],
         "z": [
          2,
          1
         ]
        },
        {
         "line": {
          "color": "green",
          "width": 2
         },
         "mode": "lines",
         "type": "scatter3d",
         "x": [
          4,
          2
         ],
         "y": [
          1,
          3
         ],
         "z": [
          2,
          1
         ]
        },
        {
         "line": {
          "color": "green",
          "width": 2
         },
         "mode": "lines",
         "type": "scatter3d",
         "x": [
          4,
          2
         ],
         "y": [
          1,
          4
         ],
         "z": [
          2,
          1
         ]
        },
        {
         "line": {
          "color": "green",
          "width": 2
         },
         "mode": "lines",
         "type": "scatter3d",
         "x": [
          4,
          3
         ],
         "y": [
          1,
          1
         ],
         "z": [
          2,
          1
         ]
        },
        {
         "line": {
          "color": "green",
          "width": 2
         },
         "mode": "lines",
         "type": "scatter3d",
         "x": [
          4,
          3
         ],
         "y": [
          1,
          3
         ],
         "z": [
          2,
          1
         ]
        },
        {
         "line": {
          "color": "green",
          "width": 2
         },
         "mode": "lines",
         "type": "scatter3d",
         "x": [
          4,
          3
         ],
         "y": [
          1,
          4
         ],
         "z": [
          2,
          1
         ]
        },
        {
         "line": {
          "color": "green",
          "width": 2
         },
         "mode": "lines",
         "type": "scatter3d",
         "x": [
          4,
          4
         ],
         "y": [
          1,
          2
         ],
         "z": [
          2,
          1
         ]
        },
        {
         "line": {
          "color": "green",
          "width": 2
         },
         "mode": "lines",
         "type": "scatter3d",
         "x": [
          4,
          4
         ],
         "y": [
          1,
          3
         ],
         "z": [
          2,
          1
         ]
        },
        {
         "line": {
          "color": "green",
          "width": 2
         },
         "mode": "lines",
         "type": "scatter3d",
         "x": [
          4,
          4
         ],
         "y": [
          1,
          4
         ],
         "z": [
          2,
          1
         ]
        },
        {
         "line": {
          "color": "green",
          "width": 2
         },
         "mode": "lines",
         "type": "scatter3d",
         "x": [
          4,
          1
         ],
         "y": [
          2,
          3
         ],
         "z": [
          2,
          1
         ]
        },
        {
         "line": {
          "color": "green",
          "width": 2
         },
         "mode": "lines",
         "type": "scatter3d",
         "x": [
          4,
          1
         ],
         "y": [
          2,
          4
         ],
         "z": [
          2,
          1
         ]
        },
        {
         "line": {
          "color": "green",
          "width": 2
         },
         "mode": "lines",
         "type": "scatter3d",
         "x": [
          4,
          2
         ],
         "y": [
          2,
          1
         ],
         "z": [
          2,
          1
         ]
        },
        {
         "line": {
          "color": "green",
          "width": 2
         },
         "mode": "lines",
         "type": "scatter3d",
         "x": [
          4,
          2
         ],
         "y": [
          2,
          3
         ],
         "z": [
          2,
          1
         ]
        },
        {
         "line": {
          "color": "green",
          "width": 2
         },
         "mode": "lines",
         "type": "scatter3d",
         "x": [
          4,
          3
         ],
         "y": [
          2,
          1
         ],
         "z": [
          2,
          1
         ]
        },
        {
         "line": {
          "color": "green",
          "width": 2
         },
         "mode": "lines",
         "type": "scatter3d",
         "x": [
          4,
          3
         ],
         "y": [
          2,
          2
         ],
         "z": [
          2,
          1
         ]
        },
        {
         "line": {
          "color": "green",
          "width": 2
         },
         "mode": "lines",
         "type": "scatter3d",
         "x": [
          4,
          3
         ],
         "y": [
          2,
          3
         ],
         "z": [
          2,
          1
         ]
        },
        {
         "line": {
          "color": "green",
          "width": 2
         },
         "mode": "lines",
         "type": "scatter3d",
         "x": [
          4,
          3
         ],
         "y": [
          2,
          4
         ],
         "z": [
          2,
          1
         ]
        },
        {
         "line": {
          "color": "green",
          "width": 2
         },
         "mode": "lines",
         "type": "scatter3d",
         "x": [
          4,
          4
         ],
         "y": [
          2,
          1
         ],
         "z": [
          2,
          1
         ]
        },
        {
         "line": {
          "color": "green",
          "width": 2
         },
         "mode": "lines",
         "type": "scatter3d",
         "x": [
          4,
          4
         ],
         "y": [
          2,
          2
         ],
         "z": [
          2,
          1
         ]
        },
        {
         "line": {
          "color": "green",
          "width": 2
         },
         "mode": "lines",
         "type": "scatter3d",
         "x": [
          4,
          4
         ],
         "y": [
          2,
          3
         ],
         "z": [
          2,
          1
         ]
        },
        {
         "line": {
          "color": "green",
          "width": 2
         },
         "mode": "lines",
         "type": "scatter3d",
         "x": [
          4,
          1
         ],
         "y": [
          3,
          1
         ],
         "z": [
          2,
          1
         ]
        },
        {
         "line": {
          "color": "green",
          "width": 2
         },
         "mode": "lines",
         "type": "scatter3d",
         "x": [
          4,
          2
         ],
         "y": [
          3,
          3
         ],
         "z": [
          2,
          1
         ]
        },
        {
         "line": {
          "color": "green",
          "width": 2
         },
         "mode": "lines",
         "type": "scatter3d",
         "x": [
          4,
          2
         ],
         "y": [
          3,
          4
         ],
         "z": [
          2,
          1
         ]
        },
        {
         "line": {
          "color": "green",
          "width": 2
         },
         "mode": "lines",
         "type": "scatter3d",
         "x": [
          4,
          3
         ],
         "y": [
          3,
          1
         ],
         "z": [
          2,
          1
         ]
        },
        {
         "line": {
          "color": "green",
          "width": 2
         },
         "mode": "lines",
         "type": "scatter3d",
         "x": [
          4,
          3
         ],
         "y": [
          3,
          3
         ],
         "z": [
          2,
          1
         ]
        },
        {
         "line": {
          "color": "green",
          "width": 2
         },
         "mode": "lines",
         "type": "scatter3d",
         "x": [
          4,
          4
         ],
         "y": [
          3,
          2
         ],
         "z": [
          2,
          1
         ]
        },
        {
         "line": {
          "color": "green",
          "width": 2
         },
         "mode": "lines",
         "type": "scatter3d",
         "x": [
          4,
          4
         ],
         "y": [
          3,
          3
         ],
         "z": [
          2,
          1
         ]
        },
        {
         "line": {
          "color": "green",
          "width": 2
         },
         "mode": "lines",
         "type": "scatter3d",
         "x": [
          4,
          4
         ],
         "y": [
          3,
          4
         ],
         "z": [
          2,
          1
         ]
        },
        {
         "line": {
          "color": "green",
          "width": 2
         },
         "mode": "lines",
         "type": "scatter3d",
         "x": [
          4,
          1
         ],
         "y": [
          4,
          1
         ],
         "z": [
          2,
          1
         ]
        },
        {
         "line": {
          "color": "green",
          "width": 2
         },
         "mode": "lines",
         "type": "scatter3d",
         "x": [
          4,
          1
         ],
         "y": [
          4,
          2
         ],
         "z": [
          2,
          1
         ]
        },
        {
         "line": {
          "color": "green",
          "width": 2
         },
         "mode": "lines",
         "type": "scatter3d",
         "x": [
          4,
          1
         ],
         "y": [
          4,
          4
         ],
         "z": [
          2,
          1
         ]
        },
        {
         "line": {
          "color": "green",
          "width": 2
         },
         "mode": "lines",
         "type": "scatter3d",
         "x": [
          4,
          2
         ],
         "y": [
          4,
          1
         ],
         "z": [
          2,
          1
         ]
        },
        {
         "line": {
          "color": "green",
          "width": 2
         },
         "mode": "lines",
         "type": "scatter3d",
         "x": [
          4,
          2
         ],
         "y": [
          4,
          4
         ],
         "z": [
          2,
          1
         ]
        },
        {
         "line": {
          "color": "green",
          "width": 2
         },
         "mode": "lines",
         "type": "scatter3d",
         "x": [
          4,
          3
         ],
         "y": [
          4,
          1
         ],
         "z": [
          2,
          1
         ]
        },
        {
         "line": {
          "color": "green",
          "width": 2
         },
         "mode": "lines",
         "type": "scatter3d",
         "x": [
          4,
          3
         ],
         "y": [
          4,
          3
         ],
         "z": [
          2,
          1
         ]
        },
        {
         "line": {
          "color": "green",
          "width": 2
         },
         "mode": "lines",
         "type": "scatter3d",
         "x": [
          4,
          3
         ],
         "y": [
          4,
          4
         ],
         "z": [
          2,
          1
         ]
        },
        {
         "line": {
          "color": "green",
          "width": 2
         },
         "mode": "lines",
         "type": "scatter3d",
         "x": [
          4,
          4
         ],
         "y": [
          4,
          2
         ],
         "z": [
          2,
          1
         ]
        },
        {
         "line": {
          "color": "green",
          "width": 2
         },
         "mode": "lines",
         "type": "scatter3d",
         "x": [
          4,
          4
         ],
         "y": [
          4,
          3
         ],
         "z": [
          2,
          1
         ]
        }
       ],
       "layout": {
        "autosize": true,
        "height": 500,
        "margin": {
         "b": 65,
         "l": 65,
         "r": 50,
         "t": 90
        },
        "scene": {
         "aspectmode": "manual",
         "aspectratio": {
          "x": 1,
          "y": 1,
          "z": 2
         },
         "xaxis": {
          "nticks": 20,
          "range": [
           0,
           5
          ],
          "title": {
           "text": "X"
          }
         },
         "yaxis": {
          "nticks": 20,
          "range": [
           0,
           5
          ],
          "title": {
           "text": "Y"
          }
         },
         "zaxis": {
          "range": [
           0,
           5
          ],
          "title": {
           "text": "LEVEL"
          }
         }
        },
        "showlegend": false,
        "template": {
         "data": {
          "bar": [
           {
            "error_x": {
             "color": "#2a3f5f"
            },
            "error_y": {
             "color": "#2a3f5f"
            },
            "marker": {
             "line": {
              "color": "#E5ECF6",
              "width": 0.5
             }
            },
            "type": "bar"
           }
          ],
          "barpolar": [
           {
            "marker": {
             "line": {
              "color": "#E5ECF6",
              "width": 0.5
             }
            },
            "type": "barpolar"
           }
          ],
          "carpet": [
           {
            "aaxis": {
             "endlinecolor": "#2a3f5f",
             "gridcolor": "white",
             "linecolor": "white",
             "minorgridcolor": "white",
             "startlinecolor": "#2a3f5f"
            },
            "baxis": {
             "endlinecolor": "#2a3f5f",
             "gridcolor": "white",
             "linecolor": "white",
             "minorgridcolor": "white",
             "startlinecolor": "#2a3f5f"
            },
            "type": "carpet"
           }
          ],
          "choropleth": [
           {
            "colorbar": {
             "outlinewidth": 0,
             "ticks": ""
            },
            "type": "choropleth"
           }
          ],
          "contour": [
           {
            "colorbar": {
             "outlinewidth": 0,
             "ticks": ""
            },
            "colorscale": [
             [
              0,
              "#0d0887"
             ],
             [
              0.1111111111111111,
              "#46039f"
             ],
             [
              0.2222222222222222,
              "#7201a8"
             ],
             [
              0.3333333333333333,
              "#9c179e"
             ],
             [
              0.4444444444444444,
              "#bd3786"
             ],
             [
              0.5555555555555556,
              "#d8576b"
             ],
             [
              0.6666666666666666,
              "#ed7953"
             ],
             [
              0.7777777777777778,
              "#fb9f3a"
             ],
             [
              0.8888888888888888,
              "#fdca26"
             ],
             [
              1,
              "#f0f921"
             ]
            ],
            "type": "contour"
           }
          ],
          "contourcarpet": [
           {
            "colorbar": {
             "outlinewidth": 0,
             "ticks": ""
            },
            "type": "contourcarpet"
           }
          ],
          "heatmap": [
           {
            "colorbar": {
             "outlinewidth": 0,
             "ticks": ""
            },
            "colorscale": [
             [
              0,
              "#0d0887"
             ],
             [
              0.1111111111111111,
              "#46039f"
             ],
             [
              0.2222222222222222,
              "#7201a8"
             ],
             [
              0.3333333333333333,
              "#9c179e"
             ],
             [
              0.4444444444444444,
              "#bd3786"
             ],
             [
              0.5555555555555556,
              "#d8576b"
             ],
             [
              0.6666666666666666,
              "#ed7953"
             ],
             [
              0.7777777777777778,
              "#fb9f3a"
             ],
             [
              0.8888888888888888,
              "#fdca26"
             ],
             [
              1,
              "#f0f921"
             ]
            ],
            "type": "heatmap"
           }
          ],
          "heatmapgl": [
           {
            "colorbar": {
             "outlinewidth": 0,
             "ticks": ""
            },
            "colorscale": [
             [
              0,
              "#0d0887"
             ],
             [
              0.1111111111111111,
              "#46039f"
             ],
             [
              0.2222222222222222,
              "#7201a8"
             ],
             [
              0.3333333333333333,
              "#9c179e"
             ],
             [
              0.4444444444444444,
              "#bd3786"
             ],
             [
              0.5555555555555556,
              "#d8576b"
             ],
             [
              0.6666666666666666,
              "#ed7953"
             ],
             [
              0.7777777777777778,
              "#fb9f3a"
             ],
             [
              0.8888888888888888,
              "#fdca26"
             ],
             [
              1,
              "#f0f921"
             ]
            ],
            "type": "heatmapgl"
           }
          ],
          "histogram": [
           {
            "marker": {
             "colorbar": {
              "outlinewidth": 0,
              "ticks": ""
             }
            },
            "type": "histogram"
           }
          ],
          "histogram2d": [
           {
            "colorbar": {
             "outlinewidth": 0,
             "ticks": ""
            },
            "colorscale": [
             [
              0,
              "#0d0887"
             ],
             [
              0.1111111111111111,
              "#46039f"
             ],
             [
              0.2222222222222222,
              "#7201a8"
             ],
             [
              0.3333333333333333,
              "#9c179e"
             ],
             [
              0.4444444444444444,
              "#bd3786"
             ],
             [
              0.5555555555555556,
              "#d8576b"
             ],
             [
              0.6666666666666666,
              "#ed7953"
             ],
             [
              0.7777777777777778,
              "#fb9f3a"
             ],
             [
              0.8888888888888888,
              "#fdca26"
             ],
             [
              1,
              "#f0f921"
             ]
            ],
            "type": "histogram2d"
           }
          ],
          "histogram2dcontour": [
           {
            "colorbar": {
             "outlinewidth": 0,
             "ticks": ""
            },
            "colorscale": [
             [
              0,
              "#0d0887"
             ],
             [
              0.1111111111111111,
              "#46039f"
             ],
             [
              0.2222222222222222,
              "#7201a8"
             ],
             [
              0.3333333333333333,
              "#9c179e"
             ],
             [
              0.4444444444444444,
              "#bd3786"
             ],
             [
              0.5555555555555556,
              "#d8576b"
             ],
             [
              0.6666666666666666,
              "#ed7953"
             ],
             [
              0.7777777777777778,
              "#fb9f3a"
             ],
             [
              0.8888888888888888,
              "#fdca26"
             ],
             [
              1,
              "#f0f921"
             ]
            ],
            "type": "histogram2dcontour"
           }
          ],
          "mesh3d": [
           {
            "colorbar": {
             "outlinewidth": 0,
             "ticks": ""
            },
            "type": "mesh3d"
           }
          ],
          "parcoords": [
           {
            "line": {
             "colorbar": {
              "outlinewidth": 0,
              "ticks": ""
             }
            },
            "type": "parcoords"
           }
          ],
          "pie": [
           {
            "automargin": true,
            "type": "pie"
           }
          ],
          "scatter": [
           {
            "marker": {
             "colorbar": {
              "outlinewidth": 0,
              "ticks": ""
             }
            },
            "type": "scatter"
           }
          ],
          "scatter3d": [
           {
            "line": {
             "colorbar": {
              "outlinewidth": 0,
              "ticks": ""
             }
            },
            "marker": {
             "colorbar": {
              "outlinewidth": 0,
              "ticks": ""
             }
            },
            "type": "scatter3d"
           }
          ],
          "scattercarpet": [
           {
            "marker": {
             "colorbar": {
              "outlinewidth": 0,
              "ticks": ""
             }
            },
            "type": "scattercarpet"
           }
          ],
          "scattergeo": [
           {
            "marker": {
             "colorbar": {
              "outlinewidth": 0,
              "ticks": ""
             }
            },
            "type": "scattergeo"
           }
          ],
          "scattergl": [
           {
            "marker": {
             "colorbar": {
              "outlinewidth": 0,
              "ticks": ""
             }
            },
            "type": "scattergl"
           }
          ],
          "scattermapbox": [
           {
            "marker": {
             "colorbar": {
              "outlinewidth": 0,
              "ticks": ""
             }
            },
            "type": "scattermapbox"
           }
          ],
          "scatterpolar": [
           {
            "marker": {
             "colorbar": {
              "outlinewidth": 0,
              "ticks": ""
             }
            },
            "type": "scatterpolar"
           }
          ],
          "scatterpolargl": [
           {
            "marker": {
             "colorbar": {
              "outlinewidth": 0,
              "ticks": ""
             }
            },
            "type": "scatterpolargl"
           }
          ],
          "scatterternary": [
           {
            "marker": {
             "colorbar": {
              "outlinewidth": 0,
              "ticks": ""
             }
            },
            "type": "scatterternary"
           }
          ],
          "surface": [
           {
            "colorbar": {
             "outlinewidth": 0,
             "ticks": ""
            },
            "colorscale": [
             [
              0,
              "#0d0887"
             ],
             [
              0.1111111111111111,
              "#46039f"
             ],
             [
              0.2222222222222222,
              "#7201a8"
             ],
             [
              0.3333333333333333,
              "#9c179e"
             ],
             [
              0.4444444444444444,
              "#bd3786"
             ],
             [
              0.5555555555555556,
              "#d8576b"
             ],
             [
              0.6666666666666666,
              "#ed7953"
             ],
             [
              0.7777777777777778,
              "#fb9f3a"
             ],
             [
              0.8888888888888888,
              "#fdca26"
             ],
             [
              1,
              "#f0f921"
             ]
            ],
            "type": "surface"
           }
          ],
          "table": [
           {
            "cells": {
             "fill": {
              "color": "#EBF0F8"
             },
             "line": {
              "color": "white"
             }
            },
            "header": {
             "fill": {
              "color": "#C8D4E3"
             },
             "line": {
              "color": "white"
             }
            },
            "type": "table"
           }
          ]
         },
         "layout": {
          "annotationdefaults": {
           "arrowcolor": "#2a3f5f",
           "arrowhead": 0,
           "arrowwidth": 1
          },
          "autotypenumbers": "strict",
          "coloraxis": {
           "colorbar": {
            "outlinewidth": 0,
            "ticks": ""
           }
          },
          "colorscale": {
           "diverging": [
            [
             0,
             "#8e0152"
            ],
            [
             0.1,
             "#c51b7d"
            ],
            [
             0.2,
             "#de77ae"
            ],
            [
             0.3,
             "#f1b6da"
            ],
            [
             0.4,
             "#fde0ef"
            ],
            [
             0.5,
             "#f7f7f7"
            ],
            [
             0.6,
             "#e6f5d0"
            ],
            [
             0.7,
             "#b8e186"
            ],
            [
             0.8,
             "#7fbc41"
            ],
            [
             0.9,
             "#4d9221"
            ],
            [
             1,
             "#276419"
            ]
           ],
           "sequential": [
            [
             0,
             "#0d0887"
            ],
            [
             0.1111111111111111,
             "#46039f"
            ],
            [
             0.2222222222222222,
             "#7201a8"
            ],
            [
             0.3333333333333333,
             "#9c179e"
            ],
            [
             0.4444444444444444,
             "#bd3786"
            ],
            [
             0.5555555555555556,
             "#d8576b"
            ],
            [
             0.6666666666666666,
             "#ed7953"
            ],
            [
             0.7777777777777778,
             "#fb9f3a"
            ],
            [
             0.8888888888888888,
             "#fdca26"
            ],
            [
             1,
             "#f0f921"
            ]
           ],
           "sequentialminus": [
            [
             0,
             "#0d0887"
            ],
            [
             0.1111111111111111,
             "#46039f"
            ],
            [
             0.2222222222222222,
             "#7201a8"
            ],
            [
             0.3333333333333333,
             "#9c179e"
            ],
            [
             0.4444444444444444,
             "#bd3786"
            ],
            [
             0.5555555555555556,
             "#d8576b"
            ],
            [
             0.6666666666666666,
             "#ed7953"
            ],
            [
             0.7777777777777778,
             "#fb9f3a"
            ],
            [
             0.8888888888888888,
             "#fdca26"
            ],
            [
             1,
             "#f0f921"
            ]
           ]
          },
          "colorway": [
           "#636efa",
           "#EF553B",
           "#00cc96",
           "#ab63fa",
           "#FFA15A",
           "#19d3f3",
           "#FF6692",
           "#B6E880",
           "#FF97FF",
           "#FECB52"
          ],
          "font": {
           "color": "#2a3f5f"
          },
          "geo": {
           "bgcolor": "white",
           "lakecolor": "white",
           "landcolor": "#E5ECF6",
           "showlakes": true,
           "showland": true,
           "subunitcolor": "white"
          },
          "hoverlabel": {
           "align": "left"
          },
          "hovermode": "closest",
          "mapbox": {
           "style": "light"
          },
          "paper_bgcolor": "white",
          "plot_bgcolor": "#E5ECF6",
          "polar": {
           "angularaxis": {
            "gridcolor": "white",
            "linecolor": "white",
            "ticks": ""
           },
           "bgcolor": "#E5ECF6",
           "radialaxis": {
            "gridcolor": "white",
            "linecolor": "white",
            "ticks": ""
           }
          },
          "scene": {
           "xaxis": {
            "backgroundcolor": "#E5ECF6",
            "gridcolor": "white",
            "gridwidth": 2,
            "linecolor": "white",
            "showbackground": true,
            "ticks": "",
            "zerolinecolor": "white"
           },
           "yaxis": {
            "backgroundcolor": "#E5ECF6",
            "gridcolor": "white",
            "gridwidth": 2,
            "linecolor": "white",
            "showbackground": true,
            "ticks": "",
            "zerolinecolor": "white"
           },
           "zaxis": {
            "backgroundcolor": "#E5ECF6",
            "gridcolor": "white",
            "gridwidth": 2,
            "linecolor": "white",
            "showbackground": true,
            "ticks": "",
            "zerolinecolor": "white"
           }
          },
          "shapedefaults": {
           "line": {
            "color": "#2a3f5f"
           }
          },
          "ternary": {
           "aaxis": {
            "gridcolor": "white",
            "linecolor": "white",
            "ticks": ""
           },
           "baxis": {
            "gridcolor": "white",
            "linecolor": "white",
            "ticks": ""
           },
           "bgcolor": "#E5ECF6",
           "caxis": {
            "gridcolor": "white",
            "linecolor": "white",
            "ticks": ""
           }
          },
          "title": {
           "x": 0.05
          },
          "xaxis": {
           "automargin": true,
           "gridcolor": "white",
           "linecolor": "white",
           "ticks": "",
           "title": {
            "standoff": 15
           },
           "zerolinecolor": "white",
           "zerolinewidth": 2
          },
          "yaxis": {
           "automargin": true,
           "gridcolor": "white",
           "linecolor": "white",
           "ticks": "",
           "title": {
            "standoff": 15
           },
           "zerolinecolor": "white",
           "zerolinewidth": 2
          }
         }
        },
        "title": {
         "text": "VISION TREE"
        },
        "width": 500,
        "xaxis": {
         "range": [
          0,
          10
         ]
        }
       }
      },
      "text/html": [
       "<div>                            <div id=\"74be8a05-e0e2-4efd-9fff-ffb14866fdd0\" class=\"plotly-graph-div\" style=\"height:500px; width:500px;\"></div>            <script type=\"text/javascript\">                require([\"plotly\"], function(Plotly) {                    window.PLOTLYENV=window.PLOTLYENV || {};                                    if (document.getElementById(\"74be8a05-e0e2-4efd-9fff-ffb14866fdd0\")) {                    Plotly.newPlot(                        \"74be8a05-e0e2-4efd-9fff-ffb14866fdd0\",                        [{\"marker\": {\"color\": [1, 1, 1, 1, 1, 1, 1, 1, 1, 1, 1, 1, 1, 1, 1, 1, 2, 2, 2, 2, 2, 2, 2, 2, 2, 2, 2, 2, 2, 2, 2, 2, 3, 3, 3, 3, 3, 3, 3, 3, 3, 3, 3, 3, 3, 3, 3, 3, 4, 4, 4], \"colorscale\": [[0.0, \"#440154\"], [0.1111111111111111, \"#482878\"], [0.2222222222222222, \"#3e4989\"], [0.3333333333333333, \"#31688e\"], [0.4444444444444444, \"#26828e\"], [0.5555555555555556, \"#1f9e89\"], [0.6666666666666666, \"#35b779\"], [0.7777777777777778, \"#6ece58\"], [0.8888888888888888, \"#b5de2b\"], [1.0, \"#fde725\"]], \"opacity\": 1.0, \"size\": 12}, \"mode\": \"markers\", \"type\": \"scatter3d\", \"x\": [1, 1, 1, 1, 2, 2, 2, 2, 3, 3, 3, 3, 4, 4, 4, 4, 1, 1, 1, 1, 2, 2, 2, 2, 3, 3, 3, 3, 4, 4, 4, 4, 1, 1, 1, 1, 2, 2, 2, 2, 3, 3, 3, 3, 4, 4, 4, 4, 1.5, 2.5, 3.5], \"y\": [1, 2, 3, 4, 1, 2, 3, 4, 1, 2, 3, 4, 1, 2, 3, 4, 1, 2, 3, 4, 1, 2, 3, 4, 1, 2, 3, 4, 1, 2, 3, 4, 1, 2, 3, 4, 1, 2, 3, 4, 1, 2, 3, 4, 1, 2, 3, 4, 2.5, 2.5, 2.5], \"z\": [1, 1, 1, 1, 1, 1, 1, 1, 1, 1, 1, 1, 1, 1, 1, 1, 2, 2, 2, 2, 2, 2, 2, 2, 2, 2, 2, 2, 2, 2, 2, 2, 3, 3, 3, 3, 3, 3, 3, 3, 3, 3, 3, 3, 3, 3, 3, 3, 4, 4, 4]}, {\"line\": {\"color\": \"darkblue\", \"width\": 2}, \"mode\": \"lines\", \"type\": \"scatter3d\", \"x\": [1.5, 1], \"y\": [2.5, 2], \"z\": [4, 3]}, {\"line\": {\"color\": \"darkblue\", \"width\": 2}, \"mode\": \"lines\", \"type\": \"scatter3d\", \"x\": [1.5, 1], \"y\": [2.5, 4], \"z\": [4, 3]}, {\"line\": {\"color\": \"darkblue\", \"width\": 2}, \"mode\": \"lines\", \"type\": \"scatter3d\", \"x\": [1.5, 2], \"y\": [2.5, 1], \"z\": [4, 3]}, {\"line\": {\"color\": \"darkblue\", \"width\": 2}, \"mode\": \"lines\", \"type\": \"scatter3d\", \"x\": [1.5, 2], \"y\": [2.5, 4], \"z\": [4, 3]}, {\"line\": {\"color\": \"darkblue\", \"width\": 2}, \"mode\": \"lines\", \"type\": \"scatter3d\", \"x\": [1.5, 3], \"y\": [2.5, 2], \"z\": [4, 3]}, {\"line\": {\"color\": \"darkblue\", \"width\": 2}, \"mode\": \"lines\", \"type\": \"scatter3d\", \"x\": [1, 2], \"y\": [2, 2], \"z\": [3, 2]}, {\"line\": {\"color\": \"darkblue\", \"width\": 2}, \"mode\": \"lines\", \"type\": \"scatter3d\", \"x\": [1, 2], \"y\": [2, 4], \"z\": [3, 2]}, {\"line\": {\"color\": \"darkblue\", \"width\": 2}, \"mode\": \"lines\", \"type\": \"scatter3d\", \"x\": [1, 3], \"y\": [2, 3], \"z\": [3, 2]}, {\"line\": {\"color\": \"darkblue\", \"width\": 2}, \"mode\": \"lines\", \"type\": \"scatter3d\", \"x\": [1, 3], \"y\": [2, 4], \"z\": [3, 2]}, {\"line\": {\"color\": \"darkblue\", \"width\": 2}, \"mode\": \"lines\", \"type\": \"scatter3d\", \"x\": [1, 4], \"y\": [2, 4], \"z\": [3, 2]}, {\"line\": {\"color\": \"darkblue\", \"width\": 2}, \"mode\": \"lines\", \"type\": \"scatter3d\", \"x\": [1, 1], \"y\": [4, 1], \"z\": [3, 2]}, {\"line\": {\"color\": \"darkblue\", \"width\": 2}, \"mode\": \"lines\", \"type\": \"scatter3d\", \"x\": [1, 1], \"y\": [4, 3], \"z\": [3, 2]}, {\"line\": {\"color\": \"darkblue\", \"width\": 2}, \"mode\": \"lines\", \"type\": \"scatter3d\", \"x\": [1, 2], \"y\": [4, 1], \"z\": [3, 2]}, {\"line\": {\"color\": \"darkblue\", \"width\": 2}, \"mode\": \"lines\", \"type\": \"scatter3d\", \"x\": [1, 2], \"y\": [4, 2], \"z\": [3, 2]}, {\"line\": {\"color\": \"darkblue\", \"width\": 2}, \"mode\": \"lines\", \"type\": \"scatter3d\", \"x\": [1, 2], \"y\": [4, 3], \"z\": [3, 2]}, {\"line\": {\"color\": \"darkblue\", \"width\": 2}, \"mode\": \"lines\", \"type\": \"scatter3d\", \"x\": [1, 2], \"y\": [4, 4], \"z\": [3, 2]}, {\"line\": {\"color\": \"darkblue\", \"width\": 2}, \"mode\": \"lines\", \"type\": \"scatter3d\", \"x\": [1, 3], \"y\": [4, 3], \"z\": [3, 2]}, {\"line\": {\"color\": \"darkblue\", \"width\": 2}, \"mode\": \"lines\", \"type\": \"scatter3d\", \"x\": [1, 3], \"y\": [4, 4], \"z\": [3, 2]}, {\"line\": {\"color\": \"darkblue\", \"width\": 2}, \"mode\": \"lines\", \"type\": \"scatter3d\", \"x\": [1, 4], \"y\": [4, 1], \"z\": [3, 2]}, {\"line\": {\"color\": \"darkblue\", \"width\": 2}, \"mode\": \"lines\", \"type\": \"scatter3d\", \"x\": [1, 4], \"y\": [4, 2], \"z\": [3, 2]}, {\"line\": {\"color\": \"darkblue\", \"width\": 2}, \"mode\": \"lines\", \"type\": \"scatter3d\", \"x\": [1, 4], \"y\": [4, 3], \"z\": [3, 2]}, {\"line\": {\"color\": \"darkblue\", \"width\": 2}, \"mode\": \"lines\", \"type\": \"scatter3d\", \"x\": [1, 4], \"y\": [4, 4], \"z\": [3, 2]}, {\"line\": {\"color\": \"darkblue\", \"width\": 2}, \"mode\": \"lines\", \"type\": \"scatter3d\", \"x\": [2, 1], \"y\": [1, 3], \"z\": [3, 2]}, {\"line\": {\"color\": \"darkblue\", \"width\": 2}, \"mode\": \"lines\", \"type\": \"scatter3d\", \"x\": [2, 1], \"y\": [1, 4], \"z\": [3, 2]}, {\"line\": {\"color\": \"darkblue\", \"width\": 2}, \"mode\": \"lines\", \"type\": \"scatter3d\", \"x\": [2, 2], \"y\": [1, 1], \"z\": [3, 2]}, {\"line\": {\"color\": \"darkblue\", \"width\": 2}, \"mode\": \"lines\", \"type\": \"scatter3d\", \"x\": [2, 2], \"y\": [1, 2], \"z\": [3, 2]}, {\"line\": {\"color\": \"darkblue\", \"width\": 2}, \"mode\": \"lines\", \"type\": \"scatter3d\", \"x\": [2, 2], \"y\": [1, 4], \"z\": [3, 2]}, {\"line\": {\"color\": \"darkblue\", \"width\": 2}, \"mode\": \"lines\", \"type\": \"scatter3d\", \"x\": [2, 3], \"y\": [1, 4], \"z\": [3, 2]}, {\"line\": {\"color\": \"darkblue\", \"width\": 2}, \"mode\": \"lines\", \"type\": \"scatter3d\", \"x\": [2, 4], \"y\": [1, 1], \"z\": [3, 2]}, {\"line\": {\"color\": \"darkblue\", \"width\": 2}, \"mode\": \"lines\", \"type\": \"scatter3d\", \"x\": [2, 4], \"y\": [1, 3], \"z\": [3, 2]}, {\"line\": {\"color\": \"darkblue\", \"width\": 2}, \"mode\": \"lines\", \"type\": \"scatter3d\", \"x\": [2, 4], \"y\": [1, 4], \"z\": [3, 2]}, {\"line\": {\"color\": \"darkblue\", \"width\": 2}, \"mode\": \"lines\", \"type\": \"scatter3d\", \"x\": [2, 1], \"y\": [4, 3], \"z\": [3, 2]}, {\"line\": {\"color\": \"darkblue\", \"width\": 2}, \"mode\": \"lines\", \"type\": \"scatter3d\", \"x\": [2, 2], \"y\": [4, 1], \"z\": [3, 2]}, {\"line\": {\"color\": \"darkblue\", \"width\": 2}, \"mode\": \"lines\", \"type\": \"scatter3d\", \"x\": [2, 2], \"y\": [4, 2], \"z\": [3, 2]}, {\"line\": {\"color\": \"darkblue\", \"width\": 2}, \"mode\": \"lines\", \"type\": \"scatter3d\", \"x\": [2, 2], \"y\": [4, 3], \"z\": [3, 2]}, {\"line\": {\"color\": \"darkblue\", \"width\": 2}, \"mode\": \"lines\", \"type\": \"scatter3d\", \"x\": [2, 2], \"y\": [4, 4], \"z\": [3, 2]}, {\"line\": {\"color\": \"darkblue\", \"width\": 2}, \"mode\": \"lines\", \"type\": \"scatter3d\", \"x\": [2, 3], \"y\": [4, 3], \"z\": [3, 2]}, {\"line\": {\"color\": \"darkblue\", \"width\": 2}, \"mode\": \"lines\", \"type\": \"scatter3d\", \"x\": [2, 3], \"y\": [4, 4], \"z\": [3, 2]}, {\"line\": {\"color\": \"darkblue\", \"width\": 2}, \"mode\": \"lines\", \"type\": \"scatter3d\", \"x\": [2, 4], \"y\": [4, 1], \"z\": [3, 2]}, {\"line\": {\"color\": \"darkblue\", \"width\": 2}, \"mode\": \"lines\", \"type\": \"scatter3d\", \"x\": [3, 1], \"y\": [2, 1], \"z\": [3, 2]}, {\"line\": {\"color\": \"darkblue\", \"width\": 2}, \"mode\": \"lines\", \"type\": \"scatter3d\", \"x\": [3, 1], \"y\": [2, 2], \"z\": [3, 2]}, {\"line\": {\"color\": \"darkblue\", \"width\": 2}, \"mode\": \"lines\", \"type\": \"scatter3d\", \"x\": [3, 2], \"y\": [2, 1], \"z\": [3, 2]}, {\"line\": {\"color\": \"darkblue\", \"width\": 2}, \"mode\": \"lines\", \"type\": \"scatter3d\", \"x\": [3, 2], \"y\": [2, 2], \"z\": [3, 2]}, {\"line\": {\"color\": \"darkblue\", \"width\": 2}, \"mode\": \"lines\", \"type\": \"scatter3d\", \"x\": [3, 2], \"y\": [2, 3], \"z\": [3, 2]}, {\"line\": {\"color\": \"darkblue\", \"width\": 2}, \"mode\": \"lines\", \"type\": \"scatter3d\", \"x\": [3, 2], \"y\": [2, 4], \"z\": [3, 2]}, {\"line\": {\"color\": \"darkblue\", \"width\": 2}, \"mode\": \"lines\", \"type\": \"scatter3d\", \"x\": [3, 3], \"y\": [2, 2], \"z\": [3, 2]}, {\"line\": {\"color\": \"darkblue\", \"width\": 2}, \"mode\": \"lines\", \"type\": \"scatter3d\", \"x\": [3, 3], \"y\": [2, 3], \"z\": [3, 2]}, {\"line\": {\"color\": \"darkblue\", \"width\": 2}, \"mode\": \"lines\", \"type\": \"scatter3d\", \"x\": [3, 3], \"y\": [2, 4], \"z\": [3, 2]}, {\"line\": {\"color\": \"darkblue\", \"width\": 2}, \"mode\": \"lines\", \"type\": \"scatter3d\", \"x\": [3, 4], \"y\": [2, 2], \"z\": [3, 2]}, {\"line\": {\"color\": \"darkblue\", \"width\": 2}, \"mode\": \"lines\", \"type\": \"scatter3d\", \"x\": [3, 4], \"y\": [2, 4], \"z\": [3, 2]}, {\"line\": {\"color\": \"darkblue\", \"width\": 2}, \"mode\": \"lines\", \"type\": \"scatter3d\", \"x\": [1, 1], \"y\": [1, 3], \"z\": [2, 1]}, {\"line\": {\"color\": \"darkblue\", \"width\": 2}, \"mode\": \"lines\", \"type\": \"scatter3d\", \"x\": [1, 1], \"y\": [1, 4], \"z\": [2, 1]}, {\"line\": {\"color\": \"darkblue\", \"width\": 2}, \"mode\": \"lines\", \"type\": \"scatter3d\", \"x\": [1, 2], \"y\": [1, 1], \"z\": [2, 1]}, {\"line\": {\"color\": \"darkblue\", \"width\": 2}, \"mode\": \"lines\", \"type\": \"scatter3d\", \"x\": [1, 2], \"y\": [1, 3], \"z\": [2, 1]}, {\"line\": {\"color\": \"darkblue\", \"width\": 2}, \"mode\": \"lines\", \"type\": \"scatter3d\", \"x\": [1, 2], \"y\": [1, 4], \"z\": [2, 1]}, {\"line\": {\"color\": \"darkblue\", \"width\": 2}, \"mode\": \"lines\", \"type\": \"scatter3d\", \"x\": [1, 3], \"y\": [1, 1], \"z\": [2, 1]}, {\"line\": {\"color\": \"darkblue\", \"width\": 2}, \"mode\": \"lines\", \"type\": \"scatter3d\", \"x\": [1, 3], \"y\": [1, 2], \"z\": [2, 1]}, {\"line\": {\"color\": \"darkblue\", \"width\": 2}, \"mode\": \"lines\", \"type\": \"scatter3d\", \"x\": [1, 3], \"y\": [1, 3], \"z\": [2, 1]}, {\"line\": {\"color\": \"darkblue\", \"width\": 2}, \"mode\": \"lines\", \"type\": \"scatter3d\", \"x\": [1, 4], \"y\": [1, 1], \"z\": [2, 1]}, {\"line\": {\"color\": \"darkblue\", \"width\": 2}, \"mode\": \"lines\", \"type\": \"scatter3d\", \"x\": [1, 4], \"y\": [1, 2], \"z\": [2, 1]}, {\"line\": {\"color\": \"darkblue\", \"width\": 2}, \"mode\": \"lines\", \"type\": \"scatter3d\", \"x\": [1, 1], \"y\": [2, 2], \"z\": [2, 1]}, {\"line\": {\"color\": \"darkblue\", \"width\": 2}, \"mode\": \"lines\", \"type\": \"scatter3d\", \"x\": [1, 2], \"y\": [2, 1], \"z\": [2, 1]}, {\"line\": {\"color\": \"darkblue\", \"width\": 2}, \"mode\": \"lines\", \"type\": \"scatter3d\", \"x\": [1, 2], \"y\": [2, 3], \"z\": [2, 1]}, {\"line\": {\"color\": \"darkblue\", \"width\": 2}, \"mode\": \"lines\", \"type\": \"scatter3d\", \"x\": [1, 2], \"y\": [2, 4], \"z\": [2, 1]}, {\"line\": {\"color\": \"darkblue\", \"width\": 2}, \"mode\": \"lines\", \"type\": \"scatter3d\", \"x\": [1, 3], \"y\": [2, 1], \"z\": [2, 1]}, {\"line\": {\"color\": \"darkblue\", \"width\": 2}, \"mode\": \"lines\", \"type\": \"scatter3d\", \"x\": [1, 3], \"y\": [2, 4], \"z\": [2, 1]}, {\"line\": {\"color\": \"darkblue\", \"width\": 2}, \"mode\": \"lines\", \"type\": \"scatter3d\", \"x\": [1, 4], \"y\": [2, 1], \"z\": [2, 1]}, {\"line\": {\"color\": \"darkblue\", \"width\": 2}, \"mode\": \"lines\", \"type\": \"scatter3d\", \"x\": [1, 4], \"y\": [2, 2], \"z\": [2, 1]}, {\"line\": {\"color\": \"darkblue\", \"width\": 2}, \"mode\": \"lines\", \"type\": \"scatter3d\", \"x\": [1, 4], \"y\": [2, 3], \"z\": [2, 1]}, {\"line\": {\"color\": \"darkblue\", \"width\": 2}, \"mode\": \"lines\", \"type\": \"scatter3d\", \"x\": [1, 1], \"y\": [3, 2], \"z\": [2, 1]}, {\"line\": {\"color\": \"darkblue\", \"width\": 2}, \"mode\": \"lines\", \"type\": \"scatter3d\", \"x\": [1, 2], \"y\": [3, 2], \"z\": [2, 1]}, {\"line\": {\"color\": \"darkblue\", \"width\": 2}, \"mode\": \"lines\", \"type\": \"scatter3d\", \"x\": [1, 2], \"y\": [3, 3], \"z\": [2, 1]}, {\"line\": {\"color\": \"darkblue\", \"width\": 2}, \"mode\": \"lines\", \"type\": \"scatter3d\", \"x\": [1, 2], \"y\": [3, 4], \"z\": [2, 1]}, {\"line\": {\"color\": \"darkblue\", \"width\": 2}, \"mode\": \"lines\", \"type\": \"scatter3d\", \"x\": [1, 3], \"y\": [3, 1], \"z\": [2, 1]}, {\"line\": {\"color\": \"darkblue\", \"width\": 2}, \"mode\": \"lines\", \"type\": \"scatter3d\", \"x\": [1, 3], \"y\": [3, 3], \"z\": [2, 1]}, {\"line\": {\"color\": \"darkblue\", \"width\": 2}, \"mode\": \"lines\", \"type\": \"scatter3d\", \"x\": [1, 3], \"y\": [3, 4], \"z\": [2, 1]}, {\"line\": {\"color\": \"darkblue\", \"width\": 2}, \"mode\": \"lines\", \"type\": \"scatter3d\", \"x\": [1, 4], \"y\": [3, 2], \"z\": [2, 1]}, {\"line\": {\"color\": \"darkblue\", \"width\": 2}, \"mode\": \"lines\", \"type\": \"scatter3d\", \"x\": [1, 4], \"y\": [3, 4], \"z\": [2, 1]}, {\"line\": {\"color\": \"darkblue\", \"width\": 2}, \"mode\": \"lines\", \"type\": \"scatter3d\", \"x\": [1, 1], \"y\": [4, 2], \"z\": [2, 1]}, {\"line\": {\"color\": \"darkblue\", \"width\": 2}, \"mode\": \"lines\", \"type\": \"scatter3d\", \"x\": [1, 2], \"y\": [4, 2], \"z\": [2, 1]}, {\"line\": {\"color\": \"darkblue\", \"width\": 2}, \"mode\": \"lines\", \"type\": \"scatter3d\", \"x\": [1, 2], \"y\": [4, 3], \"z\": [2, 1]}, {\"line\": {\"color\": \"darkblue\", \"width\": 2}, \"mode\": \"lines\", \"type\": \"scatter3d\", \"x\": [1, 2], \"y\": [4, 4], \"z\": [2, 1]}, {\"line\": {\"color\": \"darkblue\", \"width\": 2}, \"mode\": \"lines\", \"type\": \"scatter3d\", \"x\": [1, 3], \"y\": [4, 2], \"z\": [2, 1]}, {\"line\": {\"color\": \"darkblue\", \"width\": 2}, \"mode\": \"lines\", \"type\": \"scatter3d\", \"x\": [1, 3], \"y\": [4, 3], \"z\": [2, 1]}, {\"line\": {\"color\": \"darkblue\", \"width\": 2}, \"mode\": \"lines\", \"type\": \"scatter3d\", \"x\": [1, 3], \"y\": [4, 4], \"z\": [2, 1]}, {\"line\": {\"color\": \"darkblue\", \"width\": 2}, \"mode\": \"lines\", \"type\": \"scatter3d\", \"x\": [1, 4], \"y\": [4, 2], \"z\": [2, 1]}, {\"line\": {\"color\": \"darkblue\", \"width\": 2}, \"mode\": \"lines\", \"type\": \"scatter3d\", \"x\": [1, 4], \"y\": [4, 4], \"z\": [2, 1]}, {\"line\": {\"color\": \"darkblue\", \"width\": 2}, \"mode\": \"lines\", \"type\": \"scatter3d\", \"x\": [2, 1], \"y\": [1, 1], \"z\": [2, 1]}, {\"line\": {\"color\": \"darkblue\", \"width\": 2}, \"mode\": \"lines\", \"type\": \"scatter3d\", \"x\": [2, 1], \"y\": [1, 2], \"z\": [2, 1]}, {\"line\": {\"color\": \"darkblue\", \"width\": 2}, \"mode\": \"lines\", \"type\": \"scatter3d\", \"x\": [2, 1], \"y\": [1, 4], \"z\": [2, 1]}, {\"line\": {\"color\": \"darkblue\", \"width\": 2}, \"mode\": \"lines\", \"type\": \"scatter3d\", \"x\": [2, 2], \"y\": [1, 2], \"z\": [2, 1]}, {\"line\": {\"color\": \"darkblue\", \"width\": 2}, \"mode\": \"lines\", \"type\": \"scatter3d\", \"x\": [2, 2], \"y\": [1, 3], \"z\": [2, 1]}, {\"line\": {\"color\": \"darkblue\", \"width\": 2}, \"mode\": \"lines\", \"type\": \"scatter3d\", \"x\": [2, 2], \"y\": [1, 4], \"z\": [2, 1]}, {\"line\": {\"color\": \"darkblue\", \"width\": 2}, \"mode\": \"lines\", \"type\": \"scatter3d\", \"x\": [2, 3], \"y\": [1, 1], \"z\": [2, 1]}, {\"line\": {\"color\": \"darkblue\", \"width\": 2}, \"mode\": \"lines\", \"type\": \"scatter3d\", \"x\": [2, 3], \"y\": [1, 3], \"z\": [2, 1]}, {\"line\": {\"color\": \"darkblue\", \"width\": 2}, \"mode\": \"lines\", \"type\": \"scatter3d\", \"x\": [2, 3], \"y\": [1, 4], \"z\": [2, 1]}, {\"line\": {\"color\": \"darkblue\", \"width\": 2}, \"mode\": \"lines\", \"type\": \"scatter3d\", \"x\": [2, 4], \"y\": [1, 2], \"z\": [2, 1]}, {\"line\": {\"color\": \"darkblue\", \"width\": 2}, \"mode\": \"lines\", \"type\": \"scatter3d\", \"x\": [2, 4], \"y\": [1, 4], \"z\": [2, 1]}, {\"line\": {\"color\": \"darkblue\", \"width\": 2}, \"mode\": \"lines\", \"type\": \"scatter3d\", \"x\": [2, 1], \"y\": [2, 1], \"z\": [2, 1]}, {\"line\": {\"color\": \"darkblue\", \"width\": 2}, \"mode\": \"lines\", \"type\": \"scatter3d\", \"x\": [2, 1], \"y\": [2, 2], \"z\": [2, 1]}, {\"line\": {\"color\": \"darkblue\", \"width\": 2}, \"mode\": \"lines\", \"type\": \"scatter3d\", \"x\": [2, 2], \"y\": [2, 3], \"z\": [2, 1]}, {\"line\": {\"color\": \"darkblue\", \"width\": 2}, \"mode\": \"lines\", \"type\": \"scatter3d\", \"x\": [2, 2], \"y\": [2, 4], \"z\": [2, 1]}, {\"line\": {\"color\": \"darkblue\", \"width\": 2}, \"mode\": \"lines\", \"type\": \"scatter3d\", \"x\": [2, 3], \"y\": [2, 1], \"z\": [2, 1]}, {\"line\": {\"color\": \"darkblue\", \"width\": 2}, \"mode\": \"lines\", \"type\": \"scatter3d\", \"x\": [2, 3], \"y\": [2, 3], \"z\": [2, 1]}, {\"line\": {\"color\": \"darkblue\", \"width\": 2}, \"mode\": \"lines\", \"type\": \"scatter3d\", \"x\": [2, 3], \"y\": [2, 4], \"z\": [2, 1]}, {\"line\": {\"color\": \"darkblue\", \"width\": 2}, \"mode\": \"lines\", \"type\": \"scatter3d\", \"x\": [2, 4], \"y\": [2, 1], \"z\": [2, 1]}, {\"line\": {\"color\": \"darkblue\", \"width\": 2}, \"mode\": \"lines\", \"type\": \"scatter3d\", \"x\": [2, 4], \"y\": [2, 2], \"z\": [2, 1]}, {\"line\": {\"color\": \"darkblue\", \"width\": 2}, \"mode\": \"lines\", \"type\": \"scatter3d\", \"x\": [2, 4], \"y\": [2, 3], \"z\": [2, 1]}, {\"line\": {\"color\": \"darkblue\", \"width\": 2}, \"mode\": \"lines\", \"type\": \"scatter3d\", \"x\": [2, 4], \"y\": [2, 4], \"z\": [2, 1]}, {\"line\": {\"color\": \"darkblue\", \"width\": 2}, \"mode\": \"lines\", \"type\": \"scatter3d\", \"x\": [2, 1], \"y\": [3, 1], \"z\": [2, 1]}, {\"line\": {\"color\": \"darkblue\", \"width\": 2}, \"mode\": \"lines\", \"type\": \"scatter3d\", \"x\": [2, 1], \"y\": [3, 2], \"z\": [2, 1]}, {\"line\": {\"color\": \"darkblue\", \"width\": 2}, \"mode\": \"lines\", \"type\": \"scatter3d\", \"x\": [2, 1], \"y\": [3, 4], \"z\": [2, 1]}, {\"line\": {\"color\": \"darkblue\", \"width\": 2}, \"mode\": \"lines\", \"type\": \"scatter3d\", \"x\": [2, 2], \"y\": [3, 1], \"z\": [2, 1]}, {\"line\": {\"color\": \"darkblue\", \"width\": 2}, \"mode\": \"lines\", \"type\": \"scatter3d\", \"x\": [2, 2], \"y\": [3, 2], \"z\": [2, 1]}, {\"line\": {\"color\": \"darkblue\", \"width\": 2}, \"mode\": \"lines\", \"type\": \"scatter3d\", \"x\": [2, 2], \"y\": [3, 3], \"z\": [2, 1]}, {\"line\": {\"color\": \"darkblue\", \"width\": 2}, \"mode\": \"lines\", \"type\": \"scatter3d\", \"x\": [2, 2], \"y\": [3, 4], \"z\": [2, 1]}, {\"line\": {\"color\": \"darkblue\", \"width\": 2}, \"mode\": \"lines\", \"type\": \"scatter3d\", \"x\": [2, 3], \"y\": [3, 3], \"z\": [2, 1]}, {\"line\": {\"color\": \"darkblue\", \"width\": 2}, \"mode\": \"lines\", \"type\": \"scatter3d\", \"x\": [2, 3], \"y\": [3, 4], \"z\": [2, 1]}, {\"line\": {\"color\": \"darkblue\", \"width\": 2}, \"mode\": \"lines\", \"type\": \"scatter3d\", \"x\": [2, 4], \"y\": [3, 2], \"z\": [2, 1]}, {\"line\": {\"color\": \"darkblue\", \"width\": 2}, \"mode\": \"lines\", \"type\": \"scatter3d\", \"x\": [2, 4], \"y\": [3, 3], \"z\": [2, 1]}, {\"line\": {\"color\": \"darkblue\", \"width\": 2}, \"mode\": \"lines\", \"type\": \"scatter3d\", \"x\": [2, 1], \"y\": [4, 1], \"z\": [2, 1]}, {\"line\": {\"color\": \"darkblue\", \"width\": 2}, \"mode\": \"lines\", \"type\": \"scatter3d\", \"x\": [2, 1], \"y\": [4, 2], \"z\": [2, 1]}, {\"line\": {\"color\": \"darkblue\", \"width\": 2}, \"mode\": \"lines\", \"type\": \"scatter3d\", \"x\": [2, 1], \"y\": [4, 4], \"z\": [2, 1]}, {\"line\": {\"color\": \"darkblue\", \"width\": 2}, \"mode\": \"lines\", \"type\": \"scatter3d\", \"x\": [2, 2], \"y\": [4, 1], \"z\": [2, 1]}, {\"line\": {\"color\": \"darkblue\", \"width\": 2}, \"mode\": \"lines\", \"type\": \"scatter3d\", \"x\": [2, 2], \"y\": [4, 2], \"z\": [2, 1]}, {\"line\": {\"color\": \"darkblue\", \"width\": 2}, \"mode\": \"lines\", \"type\": \"scatter3d\", \"x\": [2, 2], \"y\": [4, 3], \"z\": [2, 1]}, {\"line\": {\"color\": \"darkblue\", \"width\": 2}, \"mode\": \"lines\", \"type\": \"scatter3d\", \"x\": [2, 3], \"y\": [4, 1], \"z\": [2, 1]}, {\"line\": {\"color\": \"darkblue\", \"width\": 2}, \"mode\": \"lines\", \"type\": \"scatter3d\", \"x\": [2, 3], \"y\": [4, 2], \"z\": [2, 1]}, {\"line\": {\"color\": \"darkblue\", \"width\": 2}, \"mode\": \"lines\", \"type\": \"scatter3d\", \"x\": [2, 3], \"y\": [4, 3], \"z\": [2, 1]}, {\"line\": {\"color\": \"darkblue\", \"width\": 2}, \"mode\": \"lines\", \"type\": \"scatter3d\", \"x\": [2, 3], \"y\": [4, 4], \"z\": [2, 1]}, {\"line\": {\"color\": \"darkblue\", \"width\": 2}, \"mode\": \"lines\", \"type\": \"scatter3d\", \"x\": [2, 4], \"y\": [4, 2], \"z\": [2, 1]}, {\"line\": {\"color\": \"darkblue\", \"width\": 2}, \"mode\": \"lines\", \"type\": \"scatter3d\", \"x\": [2, 4], \"y\": [4, 4], \"z\": [2, 1]}, {\"line\": {\"color\": \"darkblue\", \"width\": 2}, \"mode\": \"lines\", \"type\": \"scatter3d\", \"x\": [3, 1], \"y\": [2, 1], \"z\": [2, 1]}, {\"line\": {\"color\": \"darkblue\", \"width\": 2}, \"mode\": \"lines\", \"type\": \"scatter3d\", \"x\": [3, 1], \"y\": [2, 2], \"z\": [2, 1]}, {\"line\": {\"color\": \"darkblue\", \"width\": 2}, \"mode\": \"lines\", \"type\": \"scatter3d\", \"x\": [3, 1], \"y\": [2, 3], \"z\": [2, 1]}, {\"line\": {\"color\": \"darkblue\", \"width\": 2}, \"mode\": \"lines\", \"type\": \"scatter3d\", \"x\": [3, 1], \"y\": [2, 4], \"z\": [2, 1]}, {\"line\": {\"color\": \"darkblue\", \"width\": 2}, \"mode\": \"lines\", \"type\": \"scatter3d\", \"x\": [3, 2], \"y\": [2, 1], \"z\": [2, 1]}, {\"line\": {\"color\": \"darkblue\", \"width\": 2}, \"mode\": \"lines\", \"type\": \"scatter3d\", \"x\": [3, 2], \"y\": [2, 3], \"z\": [2, 1]}, {\"line\": {\"color\": \"darkblue\", \"width\": 2}, \"mode\": \"lines\", \"type\": \"scatter3d\", \"x\": [3, 2], \"y\": [2, 4], \"z\": [2, 1]}, {\"line\": {\"color\": \"darkblue\", \"width\": 2}, \"mode\": \"lines\", \"type\": \"scatter3d\", \"x\": [3, 3], \"y\": [2, 2], \"z\": [2, 1]}, {\"line\": {\"color\": \"darkblue\", \"width\": 2}, \"mode\": \"lines\", \"type\": \"scatter3d\", \"x\": [3, 3], \"y\": [2, 4], \"z\": [2, 1]}, {\"line\": {\"color\": \"darkblue\", \"width\": 2}, \"mode\": \"lines\", \"type\": \"scatter3d\", \"x\": [3, 4], \"y\": [2, 1], \"z\": [2, 1]}, {\"line\": {\"color\": \"darkblue\", \"width\": 2}, \"mode\": \"lines\", \"type\": \"scatter3d\", \"x\": [3, 4], \"y\": [2, 2], \"z\": [2, 1]}, {\"line\": {\"color\": \"darkblue\", \"width\": 2}, \"mode\": \"lines\", \"type\": \"scatter3d\", \"x\": [3, 4], \"y\": [2, 3], \"z\": [2, 1]}, {\"line\": {\"color\": \"darkblue\", \"width\": 2}, \"mode\": \"lines\", \"type\": \"scatter3d\", \"x\": [3, 1], \"y\": [3, 1], \"z\": [2, 1]}, {\"line\": {\"color\": \"darkblue\", \"width\": 2}, \"mode\": \"lines\", \"type\": \"scatter3d\", \"x\": [3, 1], \"y\": [3, 2], \"z\": [2, 1]}, {\"line\": {\"color\": \"darkblue\", \"width\": 2}, \"mode\": \"lines\", \"type\": \"scatter3d\", \"x\": [3, 1], \"y\": [3, 4], \"z\": [2, 1]}, {\"line\": {\"color\": \"darkblue\", \"width\": 2}, \"mode\": \"lines\", \"type\": \"scatter3d\", \"x\": [3, 2], \"y\": [3, 2], \"z\": [2, 1]}, {\"line\": {\"color\": \"darkblue\", \"width\": 2}, \"mode\": \"lines\", \"type\": \"scatter3d\", \"x\": [3, 2], \"y\": [3, 3], \"z\": [2, 1]}, {\"line\": {\"color\": \"darkblue\", \"width\": 2}, \"mode\": \"lines\", \"type\": \"scatter3d\", \"x\": [3, 3], \"y\": [3, 1], \"z\": [2, 1]}, {\"line\": {\"color\": \"darkblue\", \"width\": 2}, \"mode\": \"lines\", \"type\": \"scatter3d\", \"x\": [3, 3], \"y\": [3, 3], \"z\": [2, 1]}, {\"line\": {\"color\": \"darkblue\", \"width\": 2}, \"mode\": \"lines\", \"type\": \"scatter3d\", \"x\": [3, 4], \"y\": [3, 2], \"z\": [2, 1]}, {\"line\": {\"color\": \"darkblue\", \"width\": 2}, \"mode\": \"lines\", \"type\": \"scatter3d\", \"x\": [3, 4], \"y\": [3, 4], \"z\": [2, 1]}, {\"line\": {\"color\": \"darkblue\", \"width\": 2}, \"mode\": \"lines\", \"type\": \"scatter3d\", \"x\": [3, 1], \"y\": [4, 1], \"z\": [2, 1]}, {\"line\": {\"color\": \"darkblue\", \"width\": 2}, \"mode\": \"lines\", \"type\": \"scatter3d\", \"x\": [3, 1], \"y\": [4, 4], \"z\": [2, 1]}, {\"line\": {\"color\": \"darkblue\", \"width\": 2}, \"mode\": \"lines\", \"type\": \"scatter3d\", \"x\": [3, 2], \"y\": [4, 2], \"z\": [2, 1]}, {\"line\": {\"color\": \"darkblue\", \"width\": 2}, \"mode\": \"lines\", \"type\": \"scatter3d\", \"x\": [3, 2], \"y\": [4, 3], \"z\": [2, 1]}, {\"line\": {\"color\": \"darkblue\", \"width\": 2}, \"mode\": \"lines\", \"type\": \"scatter3d\", \"x\": [3, 2], \"y\": [4, 4], \"z\": [2, 1]}, {\"line\": {\"color\": \"darkblue\", \"width\": 2}, \"mode\": \"lines\", \"type\": \"scatter3d\", \"x\": [3, 3], \"y\": [4, 1], \"z\": [2, 1]}, {\"line\": {\"color\": \"darkblue\", \"width\": 2}, \"mode\": \"lines\", \"type\": \"scatter3d\", \"x\": [3, 3], \"y\": [4, 2], \"z\": [2, 1]}, {\"line\": {\"color\": \"darkblue\", \"width\": 2}, \"mode\": \"lines\", \"type\": \"scatter3d\", \"x\": [3, 3], \"y\": [4, 3], \"z\": [2, 1]}, {\"line\": {\"color\": \"darkblue\", \"width\": 2}, \"mode\": \"lines\", \"type\": \"scatter3d\", \"x\": [3, 3], \"y\": [4, 4], \"z\": [2, 1]}, {\"line\": {\"color\": \"darkblue\", \"width\": 2}, \"mode\": \"lines\", \"type\": \"scatter3d\", \"x\": [3, 4], \"y\": [4, 1], \"z\": [2, 1]}, {\"line\": {\"color\": \"darkblue\", \"width\": 2}, \"mode\": \"lines\", \"type\": \"scatter3d\", \"x\": [3, 4], \"y\": [4, 2], \"z\": [2, 1]}, {\"line\": {\"color\": \"darkblue\", \"width\": 2}, \"mode\": \"lines\", \"type\": \"scatter3d\", \"x\": [3, 4], \"y\": [4, 3], \"z\": [2, 1]}, {\"line\": {\"color\": \"darkblue\", \"width\": 2}, \"mode\": \"lines\", \"type\": \"scatter3d\", \"x\": [3, 4], \"y\": [4, 4], \"z\": [2, 1]}, {\"line\": {\"color\": \"darkblue\", \"width\": 2}, \"mode\": \"lines\", \"type\": \"scatter3d\", \"x\": [4, 1], \"y\": [1, 2], \"z\": [2, 1]}, {\"line\": {\"color\": \"darkblue\", \"width\": 2}, \"mode\": \"lines\", \"type\": \"scatter3d\", \"x\": [4, 2], \"y\": [1, 3], \"z\": [2, 1]}, {\"line\": {\"color\": \"darkblue\", \"width\": 2}, \"mode\": \"lines\", \"type\": \"scatter3d\", \"x\": [4, 2], \"y\": [1, 4], \"z\": [2, 1]}, {\"line\": {\"color\": \"darkblue\", \"width\": 2}, \"mode\": \"lines\", \"type\": \"scatter3d\", \"x\": [4, 3], \"y\": [1, 1], \"z\": [2, 1]}, {\"line\": {\"color\": \"darkblue\", \"width\": 2}, \"mode\": \"lines\", \"type\": \"scatter3d\", \"x\": [4, 3], \"y\": [1, 3], \"z\": [2, 1]}, {\"line\": {\"color\": \"darkblue\", \"width\": 2}, \"mode\": \"lines\", \"type\": \"scatter3d\", \"x\": [4, 3], \"y\": [1, 4], \"z\": [2, 1]}, {\"line\": {\"color\": \"darkblue\", \"width\": 2}, \"mode\": \"lines\", \"type\": \"scatter3d\", \"x\": [4, 4], \"y\": [1, 2], \"z\": [2, 1]}, {\"line\": {\"color\": \"darkblue\", \"width\": 2}, \"mode\": \"lines\", \"type\": \"scatter3d\", \"x\": [4, 4], \"y\": [1, 3], \"z\": [2, 1]}, {\"line\": {\"color\": \"darkblue\", \"width\": 2}, \"mode\": \"lines\", \"type\": \"scatter3d\", \"x\": [4, 4], \"y\": [1, 4], \"z\": [2, 1]}, {\"line\": {\"color\": \"darkblue\", \"width\": 2}, \"mode\": \"lines\", \"type\": \"scatter3d\", \"x\": [4, 1], \"y\": [2, 3], \"z\": [2, 1]}, {\"line\": {\"color\": \"darkblue\", \"width\": 2}, \"mode\": \"lines\", \"type\": \"scatter3d\", \"x\": [4, 1], \"y\": [2, 4], \"z\": [2, 1]}, {\"line\": {\"color\": \"darkblue\", \"width\": 2}, \"mode\": \"lines\", \"type\": \"scatter3d\", \"x\": [4, 2], \"y\": [2, 1], \"z\": [2, 1]}, {\"line\": {\"color\": \"darkblue\", \"width\": 2}, \"mode\": \"lines\", \"type\": \"scatter3d\", \"x\": [4, 2], \"y\": [2, 3], \"z\": [2, 1]}, {\"line\": {\"color\": \"darkblue\", \"width\": 2}, \"mode\": \"lines\", \"type\": \"scatter3d\", \"x\": [4, 3], \"y\": [2, 1], \"z\": [2, 1]}, {\"line\": {\"color\": \"darkblue\", \"width\": 2}, \"mode\": \"lines\", \"type\": \"scatter3d\", \"x\": [4, 3], \"y\": [2, 2], \"z\": [2, 1]}, {\"line\": {\"color\": \"darkblue\", \"width\": 2}, \"mode\": \"lines\", \"type\": \"scatter3d\", \"x\": [4, 3], \"y\": [2, 3], \"z\": [2, 1]}, {\"line\": {\"color\": \"darkblue\", \"width\": 2}, \"mode\": \"lines\", \"type\": \"scatter3d\", \"x\": [4, 3], \"y\": [2, 4], \"z\": [2, 1]}, {\"line\": {\"color\": \"darkblue\", \"width\": 2}, \"mode\": \"lines\", \"type\": \"scatter3d\", \"x\": [4, 4], \"y\": [2, 1], \"z\": [2, 1]}, {\"line\": {\"color\": \"darkblue\", \"width\": 2}, \"mode\": \"lines\", \"type\": \"scatter3d\", \"x\": [4, 4], \"y\": [2, 2], \"z\": [2, 1]}, {\"line\": {\"color\": \"darkblue\", \"width\": 2}, \"mode\": \"lines\", \"type\": \"scatter3d\", \"x\": [4, 4], \"y\": [2, 3], \"z\": [2, 1]}, {\"line\": {\"color\": \"darkblue\", \"width\": 2}, \"mode\": \"lines\", \"type\": \"scatter3d\", \"x\": [4, 1], \"y\": [3, 1], \"z\": [2, 1]}, {\"line\": {\"color\": \"darkblue\", \"width\": 2}, \"mode\": \"lines\", \"type\": \"scatter3d\", \"x\": [4, 2], \"y\": [3, 3], \"z\": [2, 1]}, {\"line\": {\"color\": \"darkblue\", \"width\": 2}, \"mode\": \"lines\", \"type\": \"scatter3d\", \"x\": [4, 2], \"y\": [3, 4], \"z\": [2, 1]}, {\"line\": {\"color\": \"darkblue\", \"width\": 2}, \"mode\": \"lines\", \"type\": \"scatter3d\", \"x\": [4, 3], \"y\": [3, 1], \"z\": [2, 1]}, {\"line\": {\"color\": \"darkblue\", \"width\": 2}, \"mode\": \"lines\", \"type\": \"scatter3d\", \"x\": [4, 3], \"y\": [3, 3], \"z\": [2, 1]}, {\"line\": {\"color\": \"darkblue\", \"width\": 2}, \"mode\": \"lines\", \"type\": \"scatter3d\", \"x\": [4, 4], \"y\": [3, 2], \"z\": [2, 1]}, {\"line\": {\"color\": \"darkblue\", \"width\": 2}, \"mode\": \"lines\", \"type\": \"scatter3d\", \"x\": [4, 4], \"y\": [3, 3], \"z\": [2, 1]}, {\"line\": {\"color\": \"darkblue\", \"width\": 2}, \"mode\": \"lines\", \"type\": \"scatter3d\", \"x\": [4, 4], \"y\": [3, 4], \"z\": [2, 1]}, {\"line\": {\"color\": \"darkblue\", \"width\": 2}, \"mode\": \"lines\", \"type\": \"scatter3d\", \"x\": [4, 1], \"y\": [4, 1], \"z\": [2, 1]}, {\"line\": {\"color\": \"darkblue\", \"width\": 2}, \"mode\": \"lines\", \"type\": \"scatter3d\", \"x\": [4, 1], \"y\": [4, 2], \"z\": [2, 1]}, {\"line\": {\"color\": \"darkblue\", \"width\": 2}, \"mode\": \"lines\", \"type\": \"scatter3d\", \"x\": [4, 1], \"y\": [4, 4], \"z\": [2, 1]}, {\"line\": {\"color\": \"darkblue\", \"width\": 2}, \"mode\": \"lines\", \"type\": \"scatter3d\", \"x\": [4, 2], \"y\": [4, 1], \"z\": [2, 1]}, {\"line\": {\"color\": \"darkblue\", \"width\": 2}, \"mode\": \"lines\", \"type\": \"scatter3d\", \"x\": [4, 2], \"y\": [4, 4], \"z\": [2, 1]}, {\"line\": {\"color\": \"darkblue\", \"width\": 2}, \"mode\": \"lines\", \"type\": \"scatter3d\", \"x\": [4, 3], \"y\": [4, 1], \"z\": [2, 1]}, {\"line\": {\"color\": \"darkblue\", \"width\": 2}, \"mode\": \"lines\", \"type\": \"scatter3d\", \"x\": [4, 3], \"y\": [4, 3], \"z\": [2, 1]}, {\"line\": {\"color\": \"darkblue\", \"width\": 2}, \"mode\": \"lines\", \"type\": \"scatter3d\", \"x\": [4, 3], \"y\": [4, 4], \"z\": [2, 1]}, {\"line\": {\"color\": \"darkblue\", \"width\": 2}, \"mode\": \"lines\", \"type\": \"scatter3d\", \"x\": [4, 4], \"y\": [4, 2], \"z\": [2, 1]}, {\"line\": {\"color\": \"darkblue\", \"width\": 2}, \"mode\": \"lines\", \"type\": \"scatter3d\", \"x\": [4, 4], \"y\": [4, 3], \"z\": [2, 1]}, {\"line\": {\"color\": \"yellow\", \"width\": 2}, \"mode\": \"lines\", \"type\": \"scatter3d\", \"x\": [2.5, 3], \"y\": [2.5, 4], \"z\": [4, 3]}, {\"line\": {\"color\": \"yellow\", \"width\": 2}, \"mode\": \"lines\", \"type\": \"scatter3d\", \"x\": [2.5, 4], \"y\": [2.5, 1], \"z\": [4, 3]}, {\"line\": {\"color\": \"yellow\", \"width\": 2}, \"mode\": \"lines\", \"type\": \"scatter3d\", \"x\": [2.5, 4], \"y\": [2.5, 2], \"z\": [4, 3]}, {\"line\": {\"color\": \"yellow\", \"width\": 2}, \"mode\": \"lines\", \"type\": \"scatter3d\", \"x\": [2.5, 4], \"y\": [2.5, 3], \"z\": [4, 3]}, {\"line\": {\"color\": \"yellow\", \"width\": 2}, \"mode\": \"lines\", \"type\": \"scatter3d\", \"x\": [3, 1], \"y\": [4, 1], \"z\": [3, 2]}, {\"line\": {\"color\": \"yellow\", \"width\": 2}, \"mode\": \"lines\", \"type\": \"scatter3d\", \"x\": [3, 1], \"y\": [4, 2], \"z\": [3, 2]}, {\"line\": {\"color\": \"yellow\", \"width\": 2}, \"mode\": \"lines\", \"type\": \"scatter3d\", \"x\": [3, 2], \"y\": [4, 1], \"z\": [3, 2]}, {\"line\": {\"color\": \"yellow\", \"width\": 2}, \"mode\": \"lines\", \"type\": \"scatter3d\", \"x\": [3, 2], \"y\": [4, 2], \"z\": [3, 2]}, {\"line\": {\"color\": \"yellow\", \"width\": 2}, \"mode\": \"lines\", \"type\": \"scatter3d\", \"x\": [3, 2], \"y\": [4, 3], \"z\": [3, 2]}, {\"line\": {\"color\": \"yellow\", \"width\": 2}, \"mode\": \"lines\", \"type\": \"scatter3d\", \"x\": [3, 2], \"y\": [4, 4], \"z\": [3, 2]}, {\"line\": {\"color\": \"yellow\", \"width\": 2}, \"mode\": \"lines\", \"type\": \"scatter3d\", \"x\": [3, 3], \"y\": [4, 1], \"z\": [3, 2]}, {\"line\": {\"color\": \"yellow\", \"width\": 2}, \"mode\": \"lines\", \"type\": \"scatter3d\", \"x\": [3, 3], \"y\": [4, 2], \"z\": [3, 2]}, {\"line\": {\"color\": \"yellow\", \"width\": 2}, \"mode\": \"lines\", \"type\": \"scatter3d\", \"x\": [3, 3], \"y\": [4, 3], \"z\": [3, 2]}, {\"line\": {\"color\": \"yellow\", \"width\": 2}, \"mode\": \"lines\", \"type\": \"scatter3d\", \"x\": [3, 3], \"y\": [4, 4], \"z\": [3, 2]}, {\"line\": {\"color\": \"yellow\", \"width\": 2}, \"mode\": \"lines\", \"type\": \"scatter3d\", \"x\": [3, 4], \"y\": [4, 1], \"z\": [3, 2]}, {\"line\": {\"color\": \"yellow\", \"width\": 2}, \"mode\": \"lines\", \"type\": \"scatter3d\", \"x\": [3, 4], \"y\": [4, 2], \"z\": [3, 2]}, {\"line\": {\"color\": \"yellow\", \"width\": 2}, \"mode\": \"lines\", \"type\": \"scatter3d\", \"x\": [3, 4], \"y\": [4, 3], \"z\": [3, 2]}, {\"line\": {\"color\": \"yellow\", \"width\": 2}, \"mode\": \"lines\", \"type\": \"scatter3d\", \"x\": [3, 4], \"y\": [4, 4], \"z\": [3, 2]}, {\"line\": {\"color\": \"yellow\", \"width\": 2}, \"mode\": \"lines\", \"type\": \"scatter3d\", \"x\": [4, 1], \"y\": [1, 1], \"z\": [3, 2]}, {\"line\": {\"color\": \"yellow\", \"width\": 2}, \"mode\": \"lines\", \"type\": \"scatter3d\", \"x\": [4, 1], \"y\": [1, 2], \"z\": [3, 2]}, {\"line\": {\"color\": \"yellow\", \"width\": 2}, \"mode\": \"lines\", \"type\": \"scatter3d\", \"x\": [4, 1], \"y\": [1, 4], \"z\": [3, 2]}, {\"line\": {\"color\": \"yellow\", \"width\": 2}, \"mode\": \"lines\", \"type\": \"scatter3d\", \"x\": [4, 2], \"y\": [1, 1], \"z\": [3, 2]}, {\"line\": {\"color\": \"yellow\", \"width\": 2}, \"mode\": \"lines\", \"type\": \"scatter3d\", \"x\": [4, 2], \"y\": [1, 2], \"z\": [3, 2]}, {\"line\": {\"color\": \"yellow\", \"width\": 2}, \"mode\": \"lines\", \"type\": \"scatter3d\", \"x\": [4, 3], \"y\": [1, 2], \"z\": [3, 2]}, {\"line\": {\"color\": \"yellow\", \"width\": 2}, \"mode\": \"lines\", \"type\": \"scatter3d\", \"x\": [4, 4], \"y\": [1, 1], \"z\": [3, 2]}, {\"line\": {\"color\": \"yellow\", \"width\": 2}, \"mode\": \"lines\", \"type\": \"scatter3d\", \"x\": [4, 4], \"y\": [1, 2], \"z\": [3, 2]}, {\"line\": {\"color\": \"yellow\", \"width\": 2}, \"mode\": \"lines\", \"type\": \"scatter3d\", \"x\": [4, 4], \"y\": [1, 4], \"z\": [3, 2]}, {\"line\": {\"color\": \"yellow\", \"width\": 2}, \"mode\": \"lines\", \"type\": \"scatter3d\", \"x\": [4, 1], \"y\": [2, 1], \"z\": [3, 2]}, {\"line\": {\"color\": \"yellow\", \"width\": 2}, \"mode\": \"lines\", \"type\": \"scatter3d\", \"x\": [4, 1], \"y\": [2, 2], \"z\": [3, 2]}, {\"line\": {\"color\": \"yellow\", \"width\": 2}, \"mode\": \"lines\", \"type\": \"scatter3d\", \"x\": [4, 2], \"y\": [2, 2], \"z\": [3, 2]}, {\"line\": {\"color\": \"yellow\", \"width\": 2}, \"mode\": \"lines\", \"type\": \"scatter3d\", \"x\": [4, 2], \"y\": [2, 3], \"z\": [3, 2]}, {\"line\": {\"color\": \"yellow\", \"width\": 2}, \"mode\": \"lines\", \"type\": \"scatter3d\", \"x\": [4, 2], \"y\": [2, 4], \"z\": [3, 2]}, {\"line\": {\"color\": \"yellow\", \"width\": 2}, \"mode\": \"lines\", \"type\": \"scatter3d\", \"x\": [4, 3], \"y\": [2, 1], \"z\": [3, 2]}, {\"line\": {\"color\": \"yellow\", \"width\": 2}, \"mode\": \"lines\", \"type\": \"scatter3d\", \"x\": [4, 3], \"y\": [2, 2], \"z\": [3, 2]}, {\"line\": {\"color\": \"yellow\", \"width\": 2}, \"mode\": \"lines\", \"type\": \"scatter3d\", \"x\": [4, 4], \"y\": [2, 1], \"z\": [3, 2]}, {\"line\": {\"color\": \"yellow\", \"width\": 2}, \"mode\": \"lines\", \"type\": \"scatter3d\", \"x\": [4, 4], \"y\": [2, 2], \"z\": [3, 2]}, {\"line\": {\"color\": \"yellow\", \"width\": 2}, \"mode\": \"lines\", \"type\": \"scatter3d\", \"x\": [4, 4], \"y\": [2, 4], \"z\": [3, 2]}, {\"line\": {\"color\": \"yellow\", \"width\": 2}, \"mode\": \"lines\", \"type\": \"scatter3d\", \"x\": [4, 1], \"y\": [3, 1], \"z\": [3, 2]}, {\"line\": {\"color\": \"yellow\", \"width\": 2}, \"mode\": \"lines\", \"type\": \"scatter3d\", \"x\": [4, 1], \"y\": [3, 2], \"z\": [3, 2]}, {\"line\": {\"color\": \"yellow\", \"width\": 2}, \"mode\": \"lines\", \"type\": \"scatter3d\", \"x\": [4, 1], \"y\": [3, 3], \"z\": [3, 2]}, {\"line\": {\"color\": \"yellow\", \"width\": 2}, \"mode\": \"lines\", \"type\": \"scatter3d\", \"x\": [4, 2], \"y\": [3, 1], \"z\": [3, 2]}, {\"line\": {\"color\": \"yellow\", \"width\": 2}, \"mode\": \"lines\", \"type\": \"scatter3d\", \"x\": [4, 2], \"y\": [3, 2], \"z\": [3, 2]}, {\"line\": {\"color\": \"yellow\", \"width\": 2}, \"mode\": \"lines\", \"type\": \"scatter3d\", \"x\": [4, 2], \"y\": [3, 3], \"z\": [3, 2]}, {\"line\": {\"color\": \"yellow\", \"width\": 2}, \"mode\": \"lines\", \"type\": \"scatter3d\", \"x\": [4, 2], \"y\": [3, 4], \"z\": [3, 2]}, {\"line\": {\"color\": \"yellow\", \"width\": 2}, \"mode\": \"lines\", \"type\": \"scatter3d\", \"x\": [4, 3], \"y\": [3, 1], \"z\": [3, 2]}, {\"line\": {\"color\": \"yellow\", \"width\": 2}, \"mode\": \"lines\", \"type\": \"scatter3d\", \"x\": [4, 3], \"y\": [3, 2], \"z\": [3, 2]}, {\"line\": {\"color\": \"yellow\", \"width\": 2}, \"mode\": \"lines\", \"type\": \"scatter3d\", \"x\": [4, 4], \"y\": [3, 2], \"z\": [3, 2]}, {\"line\": {\"color\": \"yellow\", \"width\": 2}, \"mode\": \"lines\", \"type\": \"scatter3d\", \"x\": [4, 4], \"y\": [3, 4], \"z\": [3, 2]}, {\"line\": {\"color\": \"yellow\", \"width\": 2}, \"mode\": \"lines\", \"type\": \"scatter3d\", \"x\": [1, 1], \"y\": [1, 2], \"z\": [2, 1]}, {\"line\": {\"color\": \"yellow\", \"width\": 2}, \"mode\": \"lines\", \"type\": \"scatter3d\", \"x\": [1, 1], \"y\": [1, 3], \"z\": [2, 1]}, {\"line\": {\"color\": \"yellow\", \"width\": 2}, \"mode\": \"lines\", \"type\": \"scatter3d\", \"x\": [1, 1], \"y\": [1, 4], \"z\": [2, 1]}, {\"line\": {\"color\": \"yellow\", \"width\": 2}, \"mode\": \"lines\", \"type\": \"scatter3d\", \"x\": [1, 2], \"y\": [1, 1], \"z\": [2, 1]}, {\"line\": {\"color\": \"yellow\", \"width\": 2}, \"mode\": \"lines\", \"type\": \"scatter3d\", \"x\": [1, 2], \"y\": [1, 3], \"z\": [2, 1]}, {\"line\": {\"color\": \"yellow\", \"width\": 2}, \"mode\": \"lines\", \"type\": \"scatter3d\", \"x\": [1, 2], \"y\": [1, 4], \"z\": [2, 1]}, {\"line\": {\"color\": \"yellow\", \"width\": 2}, \"mode\": \"lines\", \"type\": \"scatter3d\", \"x\": [1, 3], \"y\": [1, 1], \"z\": [2, 1]}, {\"line\": {\"color\": \"yellow\", \"width\": 2}, \"mode\": \"lines\", \"type\": \"scatter3d\", \"x\": [1, 3], \"y\": [1, 2], \"z\": [2, 1]}, {\"line\": {\"color\": \"yellow\", \"width\": 2}, \"mode\": \"lines\", \"type\": \"scatter3d\", \"x\": [1, 3], \"y\": [1, 3], \"z\": [2, 1]}, {\"line\": {\"color\": \"yellow\", \"width\": 2}, \"mode\": \"lines\", \"type\": \"scatter3d\", \"x\": [1, 4], \"y\": [1, 1], \"z\": [2, 1]}, {\"line\": {\"color\": \"yellow\", \"width\": 2}, \"mode\": \"lines\", \"type\": \"scatter3d\", \"x\": [1, 4], \"y\": [1, 2], \"z\": [2, 1]}, {\"line\": {\"color\": \"yellow\", \"width\": 2}, \"mode\": \"lines\", \"type\": \"scatter3d\", \"x\": [1, 1], \"y\": [2, 2], \"z\": [2, 1]}, {\"line\": {\"color\": \"yellow\", \"width\": 2}, \"mode\": \"lines\", \"type\": \"scatter3d\", \"x\": [1, 1], \"y\": [2, 3], \"z\": [2, 1]}, {\"line\": {\"color\": \"yellow\", \"width\": 2}, \"mode\": \"lines\", \"type\": \"scatter3d\", \"x\": [1, 2], \"y\": [2, 1], \"z\": [2, 1]}, {\"line\": {\"color\": \"yellow\", \"width\": 2}, \"mode\": \"lines\", \"type\": \"scatter3d\", \"x\": [1, 2], \"y\": [2, 3], \"z\": [2, 1]}, {\"line\": {\"color\": \"yellow\", \"width\": 2}, \"mode\": \"lines\", \"type\": \"scatter3d\", \"x\": [1, 2], \"y\": [2, 4], \"z\": [2, 1]}, {\"line\": {\"color\": \"yellow\", \"width\": 2}, \"mode\": \"lines\", \"type\": \"scatter3d\", \"x\": [1, 3], \"y\": [2, 1], \"z\": [2, 1]}, {\"line\": {\"color\": \"yellow\", \"width\": 2}, \"mode\": \"lines\", \"type\": \"scatter3d\", \"x\": [1, 3], \"y\": [2, 3], \"z\": [2, 1]}, {\"line\": {\"color\": \"yellow\", \"width\": 2}, \"mode\": \"lines\", \"type\": \"scatter3d\", \"x\": [1, 3], \"y\": [2, 4], \"z\": [2, 1]}, {\"line\": {\"color\": \"yellow\", \"width\": 2}, \"mode\": \"lines\", \"type\": \"scatter3d\", \"x\": [1, 4], \"y\": [2, 1], \"z\": [2, 1]}, {\"line\": {\"color\": \"yellow\", \"width\": 2}, \"mode\": \"lines\", \"type\": \"scatter3d\", \"x\": [1, 4], \"y\": [2, 2], \"z\": [2, 1]}, {\"line\": {\"color\": \"yellow\", \"width\": 2}, \"mode\": \"lines\", \"type\": \"scatter3d\", \"x\": [1, 4], \"y\": [2, 3], \"z\": [2, 1]}, {\"line\": {\"color\": \"yellow\", \"width\": 2}, \"mode\": \"lines\", \"type\": \"scatter3d\", \"x\": [1, 1], \"y\": [3, 2], \"z\": [2, 1]}, {\"line\": {\"color\": \"yellow\", \"width\": 2}, \"mode\": \"lines\", \"type\": \"scatter3d\", \"x\": [1, 2], \"y\": [3, 2], \"z\": [2, 1]}, {\"line\": {\"color\": \"yellow\", \"width\": 2}, \"mode\": \"lines\", \"type\": \"scatter3d\", \"x\": [1, 2], \"y\": [3, 3], \"z\": [2, 1]}, {\"line\": {\"color\": \"yellow\", \"width\": 2}, \"mode\": \"lines\", \"type\": \"scatter3d\", \"x\": [1, 2], \"y\": [3, 4], \"z\": [2, 1]}, {\"line\": {\"color\": \"yellow\", \"width\": 2}, \"mode\": \"lines\", \"type\": \"scatter3d\", \"x\": [1, 3], \"y\": [3, 1], \"z\": [2, 1]}, {\"line\": {\"color\": \"yellow\", \"width\": 2}, \"mode\": \"lines\", \"type\": \"scatter3d\", \"x\": [1, 3], \"y\": [3, 3], \"z\": [2, 1]}, {\"line\": {\"color\": \"yellow\", \"width\": 2}, \"mode\": \"lines\", \"type\": \"scatter3d\", \"x\": [1, 3], \"y\": [3, 4], \"z\": [2, 1]}, {\"line\": {\"color\": \"yellow\", \"width\": 2}, \"mode\": \"lines\", \"type\": \"scatter3d\", \"x\": [1, 4], \"y\": [3, 2], \"z\": [2, 1]}, {\"line\": {\"color\": \"yellow\", \"width\": 2}, \"mode\": \"lines\", \"type\": \"scatter3d\", \"x\": [1, 4], \"y\": [3, 4], \"z\": [2, 1]}, {\"line\": {\"color\": \"yellow\", \"width\": 2}, \"mode\": \"lines\", \"type\": \"scatter3d\", \"x\": [1, 1], \"y\": [4, 2], \"z\": [2, 1]}, {\"line\": {\"color\": \"yellow\", \"width\": 2}, \"mode\": \"lines\", \"type\": \"scatter3d\", \"x\": [1, 2], \"y\": [4, 2], \"z\": [2, 1]}, {\"line\": {\"color\": \"yellow\", \"width\": 2}, \"mode\": \"lines\", \"type\": \"scatter3d\", \"x\": [1, 2], \"y\": [4, 3], \"z\": [2, 1]}, {\"line\": {\"color\": \"yellow\", \"width\": 2}, \"mode\": \"lines\", \"type\": \"scatter3d\", \"x\": [1, 2], \"y\": [4, 4], \"z\": [2, 1]}, {\"line\": {\"color\": \"yellow\", \"width\": 2}, \"mode\": \"lines\", \"type\": \"scatter3d\", \"x\": [1, 3], \"y\": [4, 2], \"z\": [2, 1]}, {\"line\": {\"color\": \"yellow\", \"width\": 2}, \"mode\": \"lines\", \"type\": \"scatter3d\", \"x\": [1, 3], \"y\": [4, 3], \"z\": [2, 1]}, {\"line\": {\"color\": \"yellow\", \"width\": 2}, \"mode\": \"lines\", \"type\": \"scatter3d\", \"x\": [1, 3], \"y\": [4, 4], \"z\": [2, 1]}, {\"line\": {\"color\": \"yellow\", \"width\": 2}, \"mode\": \"lines\", \"type\": \"scatter3d\", \"x\": [1, 4], \"y\": [4, 2], \"z\": [2, 1]}, {\"line\": {\"color\": \"yellow\", \"width\": 2}, \"mode\": \"lines\", \"type\": \"scatter3d\", \"x\": [1, 4], \"y\": [4, 4], \"z\": [2, 1]}, {\"line\": {\"color\": \"yellow\", \"width\": 2}, \"mode\": \"lines\", \"type\": \"scatter3d\", \"x\": [2, 1], \"y\": [1, 1], \"z\": [2, 1]}, {\"line\": {\"color\": \"yellow\", \"width\": 2}, \"mode\": \"lines\", \"type\": \"scatter3d\", \"x\": [2, 1], \"y\": [1, 2], \"z\": [2, 1]}, {\"line\": {\"color\": \"yellow\", \"width\": 2}, \"mode\": \"lines\", \"type\": \"scatter3d\", \"x\": [2, 1], \"y\": [1, 4], \"z\": [2, 1]}, {\"line\": {\"color\": \"yellow\", \"width\": 2}, \"mode\": \"lines\", \"type\": \"scatter3d\", \"x\": [2, 2], \"y\": [1, 2], \"z\": [2, 1]}, {\"line\": {\"color\": \"yellow\", \"width\": 2}, \"mode\": \"lines\", \"type\": \"scatter3d\", \"x\": [2, 2], \"y\": [1, 3], \"z\": [2, 1]}, {\"line\": {\"color\": \"yellow\", \"width\": 2}, \"mode\": \"lines\", \"type\": \"scatter3d\", \"x\": [2, 2], \"y\": [1, 4], \"z\": [2, 1]}, {\"line\": {\"color\": \"yellow\", \"width\": 2}, \"mode\": \"lines\", \"type\": \"scatter3d\", \"x\": [2, 3], \"y\": [1, 1], \"z\": [2, 1]}, {\"line\": {\"color\": \"yellow\", \"width\": 2}, \"mode\": \"lines\", \"type\": \"scatter3d\", \"x\": [2, 3], \"y\": [1, 3], \"z\": [2, 1]}, {\"line\": {\"color\": \"yellow\", \"width\": 2}, \"mode\": \"lines\", \"type\": \"scatter3d\", \"x\": [2, 3], \"y\": [1, 4], \"z\": [2, 1]}, {\"line\": {\"color\": \"yellow\", \"width\": 2}, \"mode\": \"lines\", \"type\": \"scatter3d\", \"x\": [2, 4], \"y\": [1, 2], \"z\": [2, 1]}, {\"line\": {\"color\": \"yellow\", \"width\": 2}, \"mode\": \"lines\", \"type\": \"scatter3d\", \"x\": [2, 4], \"y\": [1, 4], \"z\": [2, 1]}, {\"line\": {\"color\": \"yellow\", \"width\": 2}, \"mode\": \"lines\", \"type\": \"scatter3d\", \"x\": [2, 1], \"y\": [2, 1], \"z\": [2, 1]}, {\"line\": {\"color\": \"yellow\", \"width\": 2}, \"mode\": \"lines\", \"type\": \"scatter3d\", \"x\": [2, 1], \"y\": [2, 2], \"z\": [2, 1]}, {\"line\": {\"color\": \"yellow\", \"width\": 2}, \"mode\": \"lines\", \"type\": \"scatter3d\", \"x\": [2, 2], \"y\": [2, 3], \"z\": [2, 1]}, {\"line\": {\"color\": \"yellow\", \"width\": 2}, \"mode\": \"lines\", \"type\": \"scatter3d\", \"x\": [2, 2], \"y\": [2, 4], \"z\": [2, 1]}, {\"line\": {\"color\": \"yellow\", \"width\": 2}, \"mode\": \"lines\", \"type\": \"scatter3d\", \"x\": [2, 3], \"y\": [2, 1], \"z\": [2, 1]}, {\"line\": {\"color\": \"yellow\", \"width\": 2}, \"mode\": \"lines\", \"type\": \"scatter3d\", \"x\": [2, 3], \"y\": [2, 3], \"z\": [2, 1]}, {\"line\": {\"color\": \"yellow\", \"width\": 2}, \"mode\": \"lines\", \"type\": \"scatter3d\", \"x\": [2, 3], \"y\": [2, 4], \"z\": [2, 1]}, {\"line\": {\"color\": \"yellow\", \"width\": 2}, \"mode\": \"lines\", \"type\": \"scatter3d\", \"x\": [2, 4], \"y\": [2, 1], \"z\": [2, 1]}, {\"line\": {\"color\": \"yellow\", \"width\": 2}, \"mode\": \"lines\", \"type\": \"scatter3d\", \"x\": [2, 4], \"y\": [2, 2], \"z\": [2, 1]}, {\"line\": {\"color\": \"yellow\", \"width\": 2}, \"mode\": \"lines\", \"type\": \"scatter3d\", \"x\": [2, 4], \"y\": [2, 3], \"z\": [2, 1]}, {\"line\": {\"color\": \"yellow\", \"width\": 2}, \"mode\": \"lines\", \"type\": \"scatter3d\", \"x\": [2, 4], \"y\": [2, 4], \"z\": [2, 1]}, {\"line\": {\"color\": \"yellow\", \"width\": 2}, \"mode\": \"lines\", \"type\": \"scatter3d\", \"x\": [2, 1], \"y\": [3, 1], \"z\": [2, 1]}, {\"line\": {\"color\": \"yellow\", \"width\": 2}, \"mode\": \"lines\", \"type\": \"scatter3d\", \"x\": [2, 1], \"y\": [3, 2], \"z\": [2, 1]}, {\"line\": {\"color\": \"yellow\", \"width\": 2}, \"mode\": \"lines\", \"type\": \"scatter3d\", \"x\": [2, 1], \"y\": [3, 4], \"z\": [2, 1]}, {\"line\": {\"color\": \"yellow\", \"width\": 2}, \"mode\": \"lines\", \"type\": \"scatter3d\", \"x\": [2, 2], \"y\": [3, 1], \"z\": [2, 1]}, {\"line\": {\"color\": \"yellow\", \"width\": 2}, \"mode\": \"lines\", \"type\": \"scatter3d\", \"x\": [2, 2], \"y\": [3, 2], \"z\": [2, 1]}, {\"line\": {\"color\": \"yellow\", \"width\": 2}, \"mode\": \"lines\", \"type\": \"scatter3d\", \"x\": [2, 2], \"y\": [3, 3], \"z\": [2, 1]}, {\"line\": {\"color\": \"yellow\", \"width\": 2}, \"mode\": \"lines\", \"type\": \"scatter3d\", \"x\": [2, 2], \"y\": [3, 4], \"z\": [2, 1]}, {\"line\": {\"color\": \"yellow\", \"width\": 2}, \"mode\": \"lines\", \"type\": \"scatter3d\", \"x\": [2, 3], \"y\": [3, 1], \"z\": [2, 1]}, {\"line\": {\"color\": \"yellow\", \"width\": 2}, \"mode\": \"lines\", \"type\": \"scatter3d\", \"x\": [2, 3], \"y\": [3, 3], \"z\": [2, 1]}, {\"line\": {\"color\": \"yellow\", \"width\": 2}, \"mode\": \"lines\", \"type\": \"scatter3d\", \"x\": [2, 3], \"y\": [3, 4], \"z\": [2, 1]}, {\"line\": {\"color\": \"yellow\", \"width\": 2}, \"mode\": \"lines\", \"type\": \"scatter3d\", \"x\": [2, 4], \"y\": [3, 2], \"z\": [2, 1]}, {\"line\": {\"color\": \"yellow\", \"width\": 2}, \"mode\": \"lines\", \"type\": \"scatter3d\", \"x\": [2, 4], \"y\": [3, 3], \"z\": [2, 1]}, {\"line\": {\"color\": \"yellow\", \"width\": 2}, \"mode\": \"lines\", \"type\": \"scatter3d\", \"x\": [2, 1], \"y\": [4, 1], \"z\": [2, 1]}, {\"line\": {\"color\": \"yellow\", \"width\": 2}, \"mode\": \"lines\", \"type\": \"scatter3d\", \"x\": [2, 1], \"y\": [4, 2], \"z\": [2, 1]}, {\"line\": {\"color\": \"yellow\", \"width\": 2}, \"mode\": \"lines\", \"type\": \"scatter3d\", \"x\": [2, 1], \"y\": [4, 4], \"z\": [2, 1]}, {\"line\": {\"color\": \"yellow\", \"width\": 2}, \"mode\": \"lines\", \"type\": \"scatter3d\", \"x\": [2, 2], \"y\": [4, 1], \"z\": [2, 1]}, {\"line\": {\"color\": \"yellow\", \"width\": 2}, \"mode\": \"lines\", \"type\": \"scatter3d\", \"x\": [2, 2], \"y\": [4, 2], \"z\": [2, 1]}, {\"line\": {\"color\": \"yellow\", \"width\": 2}, \"mode\": \"lines\", \"type\": \"scatter3d\", \"x\": [2, 2], \"y\": [4, 3], \"z\": [2, 1]}, {\"line\": {\"color\": \"yellow\", \"width\": 2}, \"mode\": \"lines\", \"type\": \"scatter3d\", \"x\": [2, 3], \"y\": [4, 1], \"z\": [2, 1]}, {\"line\": {\"color\": \"yellow\", \"width\": 2}, \"mode\": \"lines\", \"type\": \"scatter3d\", \"x\": [2, 3], \"y\": [4, 2], \"z\": [2, 1]}, {\"line\": {\"color\": \"yellow\", \"width\": 2}, \"mode\": \"lines\", \"type\": \"scatter3d\", \"x\": [2, 3], \"y\": [4, 3], \"z\": [2, 1]}, {\"line\": {\"color\": \"yellow\", \"width\": 2}, \"mode\": \"lines\", \"type\": \"scatter3d\", \"x\": [2, 3], \"y\": [4, 4], \"z\": [2, 1]}, {\"line\": {\"color\": \"yellow\", \"width\": 2}, \"mode\": \"lines\", \"type\": \"scatter3d\", \"x\": [2, 4], \"y\": [4, 2], \"z\": [2, 1]}, {\"line\": {\"color\": \"yellow\", \"width\": 2}, \"mode\": \"lines\", \"type\": \"scatter3d\", \"x\": [2, 4], \"y\": [4, 4], \"z\": [2, 1]}, {\"line\": {\"color\": \"yellow\", \"width\": 2}, \"mode\": \"lines\", \"type\": \"scatter3d\", \"x\": [3, 1], \"y\": [1, 1], \"z\": [2, 1]}, {\"line\": {\"color\": \"yellow\", \"width\": 2}, \"mode\": \"lines\", \"type\": \"scatter3d\", \"x\": [3, 1], \"y\": [1, 2], \"z\": [2, 1]}, {\"line\": {\"color\": \"yellow\", \"width\": 2}, \"mode\": \"lines\", \"type\": \"scatter3d\", \"x\": [3, 1], \"y\": [1, 3], \"z\": [2, 1]}, {\"line\": {\"color\": \"yellow\", \"width\": 2}, \"mode\": \"lines\", \"type\": \"scatter3d\", \"x\": [3, 1], \"y\": [1, 4], \"z\": [2, 1]}, {\"line\": {\"color\": \"yellow\", \"width\": 2}, \"mode\": \"lines\", \"type\": \"scatter3d\", \"x\": [3, 2], \"y\": [1, 1], \"z\": [2, 1]}, {\"line\": {\"color\": \"yellow\", \"width\": 2}, \"mode\": \"lines\", \"type\": \"scatter3d\", \"x\": [3, 2], \"y\": [1, 3], \"z\": [2, 1]}, {\"line\": {\"color\": \"yellow\", \"width\": 2}, \"mode\": \"lines\", \"type\": \"scatter3d\", \"x\": [3, 2], \"y\": [1, 4], \"z\": [2, 1]}, {\"line\": {\"color\": \"yellow\", \"width\": 2}, \"mode\": \"lines\", \"type\": \"scatter3d\", \"x\": [3, 4], \"y\": [1, 1], \"z\": [2, 1]}, {\"line\": {\"color\": \"yellow\", \"width\": 2}, \"mode\": \"lines\", \"type\": \"scatter3d\", \"x\": [3, 4], \"y\": [1, 2], \"z\": [2, 1]}, {\"line\": {\"color\": \"yellow\", \"width\": 2}, \"mode\": \"lines\", \"type\": \"scatter3d\", \"x\": [3, 4], \"y\": [1, 3], \"z\": [2, 1]}, {\"line\": {\"color\": \"yellow\", \"width\": 2}, \"mode\": \"lines\", \"type\": \"scatter3d\", \"x\": [3, 4], \"y\": [1, 4], \"z\": [2, 1]}, {\"line\": {\"color\": \"yellow\", \"width\": 2}, \"mode\": \"lines\", \"type\": \"scatter3d\", \"x\": [3, 1], \"y\": [2, 1], \"z\": [2, 1]}, {\"line\": {\"color\": \"yellow\", \"width\": 2}, \"mode\": \"lines\", \"type\": \"scatter3d\", \"x\": [3, 1], \"y\": [2, 2], \"z\": [2, 1]}, {\"line\": {\"color\": \"yellow\", \"width\": 2}, \"mode\": \"lines\", \"type\": \"scatter3d\", \"x\": [3, 1], \"y\": [2, 3], \"z\": [2, 1]}, {\"line\": {\"color\": \"yellow\", \"width\": 2}, \"mode\": \"lines\", \"type\": \"scatter3d\", \"x\": [3, 1], \"y\": [2, 4], \"z\": [2, 1]}, {\"line\": {\"color\": \"yellow\", \"width\": 2}, \"mode\": \"lines\", \"type\": \"scatter3d\", \"x\": [3, 2], \"y\": [2, 1], \"z\": [2, 1]}, {\"line\": {\"color\": \"yellow\", \"width\": 2}, \"mode\": \"lines\", \"type\": \"scatter3d\", \"x\": [3, 2], \"y\": [2, 3], \"z\": [2, 1]}, {\"line\": {\"color\": \"yellow\", \"width\": 2}, \"mode\": \"lines\", \"type\": \"scatter3d\", \"x\": [3, 2], \"y\": [2, 4], \"z\": [2, 1]}, {\"line\": {\"color\": \"yellow\", \"width\": 2}, \"mode\": \"lines\", \"type\": \"scatter3d\", \"x\": [3, 3], \"y\": [2, 2], \"z\": [2, 1]}, {\"line\": {\"color\": \"yellow\", \"width\": 2}, \"mode\": \"lines\", \"type\": \"scatter3d\", \"x\": [3, 3], \"y\": [2, 4], \"z\": [2, 1]}, {\"line\": {\"color\": \"yellow\", \"width\": 2}, \"mode\": \"lines\", \"type\": \"scatter3d\", \"x\": [3, 4], \"y\": [2, 1], \"z\": [2, 1]}, {\"line\": {\"color\": \"yellow\", \"width\": 2}, \"mode\": \"lines\", \"type\": \"scatter3d\", \"x\": [3, 4], \"y\": [2, 2], \"z\": [2, 1]}, {\"line\": {\"color\": \"yellow\", \"width\": 2}, \"mode\": \"lines\", \"type\": \"scatter3d\", \"x\": [3, 4], \"y\": [2, 3], \"z\": [2, 1]}, {\"line\": {\"color\": \"yellow\", \"width\": 2}, \"mode\": \"lines\", \"type\": \"scatter3d\", \"x\": [3, 1], \"y\": [3, 1], \"z\": [2, 1]}, {\"line\": {\"color\": \"yellow\", \"width\": 2}, \"mode\": \"lines\", \"type\": \"scatter3d\", \"x\": [3, 1], \"y\": [3, 2], \"z\": [2, 1]}, {\"line\": {\"color\": \"yellow\", \"width\": 2}, \"mode\": \"lines\", \"type\": \"scatter3d\", \"x\": [3, 1], \"y\": [3, 4], \"z\": [2, 1]}, {\"line\": {\"color\": \"yellow\", \"width\": 2}, \"mode\": \"lines\", \"type\": \"scatter3d\", \"x\": [3, 2], \"y\": [3, 2], \"z\": [2, 1]}, {\"line\": {\"color\": \"yellow\", \"width\": 2}, \"mode\": \"lines\", \"type\": \"scatter3d\", \"x\": [3, 2], \"y\": [3, 3], \"z\": [2, 1]}, {\"line\": {\"color\": \"yellow\", \"width\": 2}, \"mode\": \"lines\", \"type\": \"scatter3d\", \"x\": [3, 3], \"y\": [3, 1], \"z\": [2, 1]}, {\"line\": {\"color\": \"yellow\", \"width\": 2}, \"mode\": \"lines\", \"type\": \"scatter3d\", \"x\": [3, 3], \"y\": [3, 3], \"z\": [2, 1]}, {\"line\": {\"color\": \"yellow\", \"width\": 2}, \"mode\": \"lines\", \"type\": \"scatter3d\", \"x\": [3, 4], \"y\": [3, 2], \"z\": [2, 1]}, {\"line\": {\"color\": \"yellow\", \"width\": 2}, \"mode\": \"lines\", \"type\": \"scatter3d\", \"x\": [3, 4], \"y\": [3, 4], \"z\": [2, 1]}, {\"line\": {\"color\": \"yellow\", \"width\": 2}, \"mode\": \"lines\", \"type\": \"scatter3d\", \"x\": [3, 1], \"y\": [4, 1], \"z\": [2, 1]}, {\"line\": {\"color\": \"yellow\", \"width\": 2}, \"mode\": \"lines\", \"type\": \"scatter3d\", \"x\": [3, 1], \"y\": [4, 4], \"z\": [2, 1]}, {\"line\": {\"color\": \"yellow\", \"width\": 2}, \"mode\": \"lines\", \"type\": \"scatter3d\", \"x\": [3, 2], \"y\": [4, 2], \"z\": [2, 1]}, {\"line\": {\"color\": \"yellow\", \"width\": 2}, \"mode\": \"lines\", \"type\": \"scatter3d\", \"x\": [3, 2], \"y\": [4, 3], \"z\": [2, 1]}, {\"line\": {\"color\": \"yellow\", \"width\": 2}, \"mode\": \"lines\", \"type\": \"scatter3d\", \"x\": [3, 2], \"y\": [4, 4], \"z\": [2, 1]}, {\"line\": {\"color\": \"yellow\", \"width\": 2}, \"mode\": \"lines\", \"type\": \"scatter3d\", \"x\": [3, 3], \"y\": [4, 1], \"z\": [2, 1]}, {\"line\": {\"color\": \"yellow\", \"width\": 2}, \"mode\": \"lines\", \"type\": \"scatter3d\", \"x\": [3, 3], \"y\": [4, 2], \"z\": [2, 1]}, {\"line\": {\"color\": \"yellow\", \"width\": 2}, \"mode\": \"lines\", \"type\": \"scatter3d\", \"x\": [3, 3], \"y\": [4, 3], \"z\": [2, 1]}, {\"line\": {\"color\": \"yellow\", \"width\": 2}, \"mode\": \"lines\", \"type\": \"scatter3d\", \"x\": [3, 3], \"y\": [4, 4], \"z\": [2, 1]}, {\"line\": {\"color\": \"yellow\", \"width\": 2}, \"mode\": \"lines\", \"type\": \"scatter3d\", \"x\": [3, 4], \"y\": [4, 1], \"z\": [2, 1]}, {\"line\": {\"color\": \"yellow\", \"width\": 2}, \"mode\": \"lines\", \"type\": \"scatter3d\", \"x\": [3, 4], \"y\": [4, 2], \"z\": [2, 1]}, {\"line\": {\"color\": \"yellow\", \"width\": 2}, \"mode\": \"lines\", \"type\": \"scatter3d\", \"x\": [3, 4], \"y\": [4, 3], \"z\": [2, 1]}, {\"line\": {\"color\": \"yellow\", \"width\": 2}, \"mode\": \"lines\", \"type\": \"scatter3d\", \"x\": [3, 4], \"y\": [4, 4], \"z\": [2, 1]}, {\"line\": {\"color\": \"yellow\", \"width\": 2}, \"mode\": \"lines\", \"type\": \"scatter3d\", \"x\": [4, 1], \"y\": [1, 2], \"z\": [2, 1]}, {\"line\": {\"color\": \"yellow\", \"width\": 2}, \"mode\": \"lines\", \"type\": \"scatter3d\", \"x\": [4, 2], \"y\": [1, 3], \"z\": [2, 1]}, {\"line\": {\"color\": \"yellow\", \"width\": 2}, \"mode\": \"lines\", \"type\": \"scatter3d\", \"x\": [4, 2], \"y\": [1, 4], \"z\": [2, 1]}, {\"line\": {\"color\": \"yellow\", \"width\": 2}, \"mode\": \"lines\", \"type\": \"scatter3d\", \"x\": [4, 3], \"y\": [1, 1], \"z\": [2, 1]}, {\"line\": {\"color\": \"yellow\", \"width\": 2}, \"mode\": \"lines\", \"type\": \"scatter3d\", \"x\": [4, 3], \"y\": [1, 2], \"z\": [2, 1]}, {\"line\": {\"color\": \"yellow\", \"width\": 2}, \"mode\": \"lines\", \"type\": \"scatter3d\", \"x\": [4, 3], \"y\": [1, 3], \"z\": [2, 1]}, {\"line\": {\"color\": \"yellow\", \"width\": 2}, \"mode\": \"lines\", \"type\": \"scatter3d\", \"x\": [4, 3], \"y\": [1, 4], \"z\": [2, 1]}, {\"line\": {\"color\": \"yellow\", \"width\": 2}, \"mode\": \"lines\", \"type\": \"scatter3d\", \"x\": [4, 4], \"y\": [1, 2], \"z\": [2, 1]}, {\"line\": {\"color\": \"yellow\", \"width\": 2}, \"mode\": \"lines\", \"type\": \"scatter3d\", \"x\": [4, 4], \"y\": [1, 3], \"z\": [2, 1]}, {\"line\": {\"color\": \"yellow\", \"width\": 2}, \"mode\": \"lines\", \"type\": \"scatter3d\", \"x\": [4, 4], \"y\": [1, 4], \"z\": [2, 1]}, {\"line\": {\"color\": \"yellow\", \"width\": 2}, \"mode\": \"lines\", \"type\": \"scatter3d\", \"x\": [4, 1], \"y\": [2, 3], \"z\": [2, 1]}, {\"line\": {\"color\": \"yellow\", \"width\": 2}, \"mode\": \"lines\", \"type\": \"scatter3d\", \"x\": [4, 1], \"y\": [2, 4], \"z\": [2, 1]}, {\"line\": {\"color\": \"yellow\", \"width\": 2}, \"mode\": \"lines\", \"type\": \"scatter3d\", \"x\": [4, 2], \"y\": [2, 1], \"z\": [2, 1]}, {\"line\": {\"color\": \"yellow\", \"width\": 2}, \"mode\": \"lines\", \"type\": \"scatter3d\", \"x\": [4, 2], \"y\": [2, 3], \"z\": [2, 1]}, {\"line\": {\"color\": \"yellow\", \"width\": 2}, \"mode\": \"lines\", \"type\": \"scatter3d\", \"x\": [4, 3], \"y\": [2, 1], \"z\": [2, 1]}, {\"line\": {\"color\": \"yellow\", \"width\": 2}, \"mode\": \"lines\", \"type\": \"scatter3d\", \"x\": [4, 3], \"y\": [2, 2], \"z\": [2, 1]}, {\"line\": {\"color\": \"yellow\", \"width\": 2}, \"mode\": \"lines\", \"type\": \"scatter3d\", \"x\": [4, 3], \"y\": [2, 3], \"z\": [2, 1]}, {\"line\": {\"color\": \"yellow\", \"width\": 2}, \"mode\": \"lines\", \"type\": \"scatter3d\", \"x\": [4, 3], \"y\": [2, 4], \"z\": [2, 1]}, {\"line\": {\"color\": \"yellow\", \"width\": 2}, \"mode\": \"lines\", \"type\": \"scatter3d\", \"x\": [4, 4], \"y\": [2, 1], \"z\": [2, 1]}, {\"line\": {\"color\": \"yellow\", \"width\": 2}, \"mode\": \"lines\", \"type\": \"scatter3d\", \"x\": [4, 4], \"y\": [2, 2], \"z\": [2, 1]}, {\"line\": {\"color\": \"yellow\", \"width\": 2}, \"mode\": \"lines\", \"type\": \"scatter3d\", \"x\": [4, 4], \"y\": [2, 3], \"z\": [2, 1]}, {\"line\": {\"color\": \"yellow\", \"width\": 2}, \"mode\": \"lines\", \"type\": \"scatter3d\", \"x\": [4, 1], \"y\": [3, 1], \"z\": [2, 1]}, {\"line\": {\"color\": \"yellow\", \"width\": 2}, \"mode\": \"lines\", \"type\": \"scatter3d\", \"x\": [4, 2], \"y\": [3, 3], \"z\": [2, 1]}, {\"line\": {\"color\": \"yellow\", \"width\": 2}, \"mode\": \"lines\", \"type\": \"scatter3d\", \"x\": [4, 2], \"y\": [3, 4], \"z\": [2, 1]}, {\"line\": {\"color\": \"yellow\", \"width\": 2}, \"mode\": \"lines\", \"type\": \"scatter3d\", \"x\": [4, 3], \"y\": [3, 1], \"z\": [2, 1]}, {\"line\": {\"color\": \"yellow\", \"width\": 2}, \"mode\": \"lines\", \"type\": \"scatter3d\", \"x\": [4, 3], \"y\": [3, 3], \"z\": [2, 1]}, {\"line\": {\"color\": \"yellow\", \"width\": 2}, \"mode\": \"lines\", \"type\": \"scatter3d\", \"x\": [4, 4], \"y\": [3, 2], \"z\": [2, 1]}, {\"line\": {\"color\": \"yellow\", \"width\": 2}, \"mode\": \"lines\", \"type\": \"scatter3d\", \"x\": [4, 4], \"y\": [3, 3], \"z\": [2, 1]}, {\"line\": {\"color\": \"yellow\", \"width\": 2}, \"mode\": \"lines\", \"type\": \"scatter3d\", \"x\": [4, 4], \"y\": [3, 4], \"z\": [2, 1]}, {\"line\": {\"color\": \"yellow\", \"width\": 2}, \"mode\": \"lines\", \"type\": \"scatter3d\", \"x\": [4, 1], \"y\": [4, 1], \"z\": [2, 1]}, {\"line\": {\"color\": \"yellow\", \"width\": 2}, \"mode\": \"lines\", \"type\": \"scatter3d\", \"x\": [4, 1], \"y\": [4, 2], \"z\": [2, 1]}, {\"line\": {\"color\": \"yellow\", \"width\": 2}, \"mode\": \"lines\", \"type\": \"scatter3d\", \"x\": [4, 1], \"y\": [4, 4], \"z\": [2, 1]}, {\"line\": {\"color\": \"yellow\", \"width\": 2}, \"mode\": \"lines\", \"type\": \"scatter3d\", \"x\": [4, 2], \"y\": [4, 1], \"z\": [2, 1]}, {\"line\": {\"color\": \"yellow\", \"width\": 2}, \"mode\": \"lines\", \"type\": \"scatter3d\", \"x\": [4, 2], \"y\": [4, 3], \"z\": [2, 1]}, {\"line\": {\"color\": \"yellow\", \"width\": 2}, \"mode\": \"lines\", \"type\": \"scatter3d\", \"x\": [4, 2], \"y\": [4, 4], \"z\": [2, 1]}, {\"line\": {\"color\": \"yellow\", \"width\": 2}, \"mode\": \"lines\", \"type\": \"scatter3d\", \"x\": [4, 3], \"y\": [4, 1], \"z\": [2, 1]}, {\"line\": {\"color\": \"yellow\", \"width\": 2}, \"mode\": \"lines\", \"type\": \"scatter3d\", \"x\": [4, 3], \"y\": [4, 3], \"z\": [2, 1]}, {\"line\": {\"color\": \"yellow\", \"width\": 2}, \"mode\": \"lines\", \"type\": \"scatter3d\", \"x\": [4, 3], \"y\": [4, 4], \"z\": [2, 1]}, {\"line\": {\"color\": \"yellow\", \"width\": 2}, \"mode\": \"lines\", \"type\": \"scatter3d\", \"x\": [4, 4], \"y\": [4, 2], \"z\": [2, 1]}, {\"line\": {\"color\": \"yellow\", \"width\": 2}, \"mode\": \"lines\", \"type\": \"scatter3d\", \"x\": [4, 4], \"y\": [4, 3], \"z\": [2, 1]}, {\"line\": {\"color\": \"green\", \"width\": 2}, \"mode\": \"lines\", \"type\": \"scatter3d\", \"x\": [3.5, 2], \"y\": [2.5, 1], \"z\": [4, 3]}, {\"line\": {\"color\": \"green\", \"width\": 2}, \"mode\": \"lines\", \"type\": \"scatter3d\", \"x\": [3.5, 2], \"y\": [2.5, 2], \"z\": [4, 3]}, {\"line\": {\"color\": \"green\", \"width\": 2}, \"mode\": \"lines\", \"type\": \"scatter3d\", \"x\": [3.5, 3], \"y\": [2.5, 1], \"z\": [4, 3]}, {\"line\": {\"color\": \"green\", \"width\": 2}, \"mode\": \"lines\", \"type\": \"scatter3d\", \"x\": [3.5, 4], \"y\": [2.5, 2], \"z\": [4, 3]}, {\"line\": {\"color\": \"green\", \"width\": 2}, \"mode\": \"lines\", \"type\": \"scatter3d\", \"x\": [3.5, 4], \"y\": [2.5, 3], \"z\": [4, 3]}, {\"line\": {\"color\": \"green\", \"width\": 2}, \"mode\": \"lines\", \"type\": \"scatter3d\", \"x\": [3.5, 4], \"y\": [2.5, 4], \"z\": [4, 3]}, {\"line\": {\"color\": \"green\", \"width\": 2}, \"mode\": \"lines\", \"type\": \"scatter3d\", \"x\": [2, 1], \"y\": [1, 3], \"z\": [3, 2]}, {\"line\": {\"color\": \"green\", \"width\": 2}, \"mode\": \"lines\", \"type\": \"scatter3d\", \"x\": [2, 1], \"y\": [1, 4], \"z\": [3, 2]}, {\"line\": {\"color\": \"green\", \"width\": 2}, \"mode\": \"lines\", \"type\": \"scatter3d\", \"x\": [2, 2], \"y\": [1, 1], \"z\": [3, 2]}, {\"line\": {\"color\": \"green\", \"width\": 2}, \"mode\": \"lines\", \"type\": \"scatter3d\", \"x\": [2, 2], \"y\": [1, 2], \"z\": [3, 2]}, {\"line\": {\"color\": \"green\", \"width\": 2}, \"mode\": \"lines\", \"type\": \"scatter3d\", \"x\": [2, 2], \"y\": [1, 4], \"z\": [3, 2]}, {\"line\": {\"color\": \"green\", \"width\": 2}, \"mode\": \"lines\", \"type\": \"scatter3d\", \"x\": [2, 3], \"y\": [1, 4], \"z\": [3, 2]}, {\"line\": {\"color\": \"green\", \"width\": 2}, \"mode\": \"lines\", \"type\": \"scatter3d\", \"x\": [2, 4], \"y\": [1, 1], \"z\": [3, 2]}, {\"line\": {\"color\": \"green\", \"width\": 2}, \"mode\": \"lines\", \"type\": \"scatter3d\", \"x\": [2, 4], \"y\": [1, 3], \"z\": [3, 2]}, {\"line\": {\"color\": \"green\", \"width\": 2}, \"mode\": \"lines\", \"type\": \"scatter3d\", \"x\": [2, 4], \"y\": [1, 4], \"z\": [3, 2]}, {\"line\": {\"color\": \"green\", \"width\": 2}, \"mode\": \"lines\", \"type\": \"scatter3d\", \"x\": [2, 1], \"y\": [2, 2], \"z\": [3, 2]}, {\"line\": {\"color\": \"green\", \"width\": 2}, \"mode\": \"lines\", \"type\": \"scatter3d\", \"x\": [2, 1], \"y\": [2, 3], \"z\": [3, 2]}, {\"line\": {\"color\": \"green\", \"width\": 2}, \"mode\": \"lines\", \"type\": \"scatter3d\", \"x\": [2, 1], \"y\": [2, 4], \"z\": [3, 2]}, {\"line\": {\"color\": \"green\", \"width\": 2}, \"mode\": \"lines\", \"type\": \"scatter3d\", \"x\": [2, 2], \"y\": [2, 2], \"z\": [3, 2]}, {\"line\": {\"color\": \"green\", \"width\": 2}, \"mode\": \"lines\", \"type\": \"scatter3d\", \"x\": [2, 3], \"y\": [2, 1], \"z\": [3, 2]}, {\"line\": {\"color\": \"green\", \"width\": 2}, \"mode\": \"lines\", \"type\": \"scatter3d\", \"x\": [2, 3], \"y\": [2, 2], \"z\": [3, 2]}, {\"line\": {\"color\": \"green\", \"width\": 2}, \"mode\": \"lines\", \"type\": \"scatter3d\", \"x\": [2, 3], \"y\": [2, 3], \"z\": [3, 2]}, {\"line\": {\"color\": \"green\", \"width\": 2}, \"mode\": \"lines\", \"type\": \"scatter3d\", \"x\": [2, 3], \"y\": [2, 4], \"z\": [3, 2]}, {\"line\": {\"color\": \"green\", \"width\": 2}, \"mode\": \"lines\", \"type\": \"scatter3d\", \"x\": [2, 4], \"y\": [2, 1], \"z\": [3, 2]}, {\"line\": {\"color\": \"green\", \"width\": 2}, \"mode\": \"lines\", \"type\": \"scatter3d\", \"x\": [2, 4], \"y\": [2, 2], \"z\": [3, 2]}, {\"line\": {\"color\": \"green\", \"width\": 2}, \"mode\": \"lines\", \"type\": \"scatter3d\", \"x\": [2, 4], \"y\": [2, 3], \"z\": [3, 2]}, {\"line\": {\"color\": \"green\", \"width\": 2}, \"mode\": \"lines\", \"type\": \"scatter3d\", \"x\": [3, 1], \"y\": [1, 1], \"z\": [3, 2]}, {\"line\": {\"color\": \"green\", \"width\": 2}, \"mode\": \"lines\", \"type\": \"scatter3d\", \"x\": [3, 1], \"y\": [1, 3], \"z\": [3, 2]}, {\"line\": {\"color\": \"green\", \"width\": 2}, \"mode\": \"lines\", \"type\": \"scatter3d\", \"x\": [3, 1], \"y\": [1, 4], \"z\": [3, 2]}, {\"line\": {\"color\": \"green\", \"width\": 2}, \"mode\": \"lines\", \"type\": \"scatter3d\", \"x\": [3, 2], \"y\": [1, 1], \"z\": [3, 2]}, {\"line\": {\"color\": \"green\", \"width\": 2}, \"mode\": \"lines\", \"type\": \"scatter3d\", \"x\": [3, 2], \"y\": [1, 2], \"z\": [3, 2]}, {\"line\": {\"color\": \"green\", \"width\": 2}, \"mode\": \"lines\", \"type\": \"scatter3d\", \"x\": [3, 3], \"y\": [1, 2], \"z\": [3, 2]}, {\"line\": {\"color\": \"green\", \"width\": 2}, \"mode\": \"lines\", \"type\": \"scatter3d\", \"x\": [3, 3], \"y\": [1, 3], \"z\": [3, 2]}, {\"line\": {\"color\": \"green\", \"width\": 2}, \"mode\": \"lines\", \"type\": \"scatter3d\", \"x\": [3, 3], \"y\": [1, 4], \"z\": [3, 2]}, {\"line\": {\"color\": \"green\", \"width\": 2}, \"mode\": \"lines\", \"type\": \"scatter3d\", \"x\": [3, 4], \"y\": [1, 4], \"z\": [3, 2]}, {\"line\": {\"color\": \"green\", \"width\": 2}, \"mode\": \"lines\", \"type\": \"scatter3d\", \"x\": [4, 1], \"y\": [2, 1], \"z\": [3, 2]}, {\"line\": {\"color\": \"green\", \"width\": 2}, \"mode\": \"lines\", \"type\": \"scatter3d\", \"x\": [4, 1], \"y\": [2, 2], \"z\": [3, 2]}, {\"line\": {\"color\": \"green\", \"width\": 2}, \"mode\": \"lines\", \"type\": \"scatter3d\", \"x\": [4, 2], \"y\": [2, 2], \"z\": [3, 2]}, {\"line\": {\"color\": \"green\", \"width\": 2}, \"mode\": \"lines\", \"type\": \"scatter3d\", \"x\": [4, 2], \"y\": [2, 3], \"z\": [3, 2]}, {\"line\": {\"color\": \"green\", \"width\": 2}, \"mode\": \"lines\", \"type\": \"scatter3d\", \"x\": [4, 2], \"y\": [2, 4], \"z\": [3, 2]}, {\"line\": {\"color\": \"green\", \"width\": 2}, \"mode\": \"lines\", \"type\": \"scatter3d\", \"x\": [4, 3], \"y\": [2, 1], \"z\": [3, 2]}, {\"line\": {\"color\": \"green\", \"width\": 2}, \"mode\": \"lines\", \"type\": \"scatter3d\", \"x\": [4, 3], \"y\": [2, 2], \"z\": [3, 2]}, {\"line\": {\"color\": \"green\", \"width\": 2}, \"mode\": \"lines\", \"type\": \"scatter3d\", \"x\": [4, 4], \"y\": [2, 1], \"z\": [3, 2]}, {\"line\": {\"color\": \"green\", \"width\": 2}, \"mode\": \"lines\", \"type\": \"scatter3d\", \"x\": [4, 4], \"y\": [2, 2], \"z\": [3, 2]}, {\"line\": {\"color\": \"green\", \"width\": 2}, \"mode\": \"lines\", \"type\": \"scatter3d\", \"x\": [4, 4], \"y\": [2, 3], \"z\": [3, 2]}, {\"line\": {\"color\": \"green\", \"width\": 2}, \"mode\": \"lines\", \"type\": \"scatter3d\", \"x\": [4, 1], \"y\": [3, 1], \"z\": [3, 2]}, {\"line\": {\"color\": \"green\", \"width\": 2}, \"mode\": \"lines\", \"type\": \"scatter3d\", \"x\": [4, 1], \"y\": [3, 2], \"z\": [3, 2]}, {\"line\": {\"color\": \"green\", \"width\": 2}, \"mode\": \"lines\", \"type\": \"scatter3d\", \"x\": [4, 1], \"y\": [3, 3], \"z\": [3, 2]}, {\"line\": {\"color\": \"green\", \"width\": 2}, \"mode\": \"lines\", \"type\": \"scatter3d\", \"x\": [4, 2], \"y\": [3, 1], \"z\": [3, 2]}, {\"line\": {\"color\": \"green\", \"width\": 2}, \"mode\": \"lines\", \"type\": \"scatter3d\", \"x\": [4, 2], \"y\": [3, 2], \"z\": [3, 2]}, {\"line\": {\"color\": \"green\", \"width\": 2}, \"mode\": \"lines\", \"type\": \"scatter3d\", \"x\": [4, 2], \"y\": [3, 3], \"z\": [3, 2]}, {\"line\": {\"color\": \"green\", \"width\": 2}, \"mode\": \"lines\", \"type\": \"scatter3d\", \"x\": [4, 2], \"y\": [3, 4], \"z\": [3, 2]}, {\"line\": {\"color\": \"green\", \"width\": 2}, \"mode\": \"lines\", \"type\": \"scatter3d\", \"x\": [4, 3], \"y\": [3, 1], \"z\": [3, 2]}, {\"line\": {\"color\": \"green\", \"width\": 2}, \"mode\": \"lines\", \"type\": \"scatter3d\", \"x\": [4, 3], \"y\": [3, 2], \"z\": [3, 2]}, {\"line\": {\"color\": \"green\", \"width\": 2}, \"mode\": \"lines\", \"type\": \"scatter3d\", \"x\": [4, 4], \"y\": [3, 2], \"z\": [3, 2]}, {\"line\": {\"color\": \"green\", \"width\": 2}, \"mode\": \"lines\", \"type\": \"scatter3d\", \"x\": [4, 4], \"y\": [3, 4], \"z\": [3, 2]}, {\"line\": {\"color\": \"green\", \"width\": 2}, \"mode\": \"lines\", \"type\": \"scatter3d\", \"x\": [4, 1], \"y\": [4, 2], \"z\": [3, 2]}, {\"line\": {\"color\": \"green\", \"width\": 2}, \"mode\": \"lines\", \"type\": \"scatter3d\", \"x\": [4, 1], \"y\": [4, 3], \"z\": [3, 2]}, {\"line\": {\"color\": \"green\", \"width\": 2}, \"mode\": \"lines\", \"type\": \"scatter3d\", \"x\": [4, 1], \"y\": [4, 4], \"z\": [3, 2]}, {\"line\": {\"color\": \"green\", \"width\": 2}, \"mode\": \"lines\", \"type\": \"scatter3d\", \"x\": [4, 2], \"y\": [4, 3], \"z\": [3, 2]}, {\"line\": {\"color\": \"green\", \"width\": 2}, \"mode\": \"lines\", \"type\": \"scatter3d\", \"x\": [4, 2], \"y\": [4, 4], \"z\": [3, 2]}, {\"line\": {\"color\": \"green\", \"width\": 2}, \"mode\": \"lines\", \"type\": \"scatter3d\", \"x\": [4, 3], \"y\": [4, 2], \"z\": [3, 2]}, {\"line\": {\"color\": \"green\", \"width\": 2}, \"mode\": \"lines\", \"type\": \"scatter3d\", \"x\": [4, 3], \"y\": [4, 3], \"z\": [3, 2]}, {\"line\": {\"color\": \"green\", \"width\": 2}, \"mode\": \"lines\", \"type\": \"scatter3d\", \"x\": [4, 3], \"y\": [4, 4], \"z\": [3, 2]}, {\"line\": {\"color\": \"green\", \"width\": 2}, \"mode\": \"lines\", \"type\": \"scatter3d\", \"x\": [4, 4], \"y\": [4, 1], \"z\": [3, 2]}, {\"line\": {\"color\": \"green\", \"width\": 2}, \"mode\": \"lines\", \"type\": \"scatter3d\", \"x\": [4, 4], \"y\": [4, 4], \"z\": [3, 2]}, {\"line\": {\"color\": \"green\", \"width\": 2}, \"mode\": \"lines\", \"type\": \"scatter3d\", \"x\": [1, 1], \"y\": [1, 2], \"z\": [2, 1]}, {\"line\": {\"color\": \"green\", \"width\": 2}, \"mode\": \"lines\", \"type\": \"scatter3d\", \"x\": [1, 1], \"y\": [1, 3], \"z\": [2, 1]}, {\"line\": {\"color\": \"green\", \"width\": 2}, \"mode\": \"lines\", \"type\": \"scatter3d\", \"x\": [1, 1], \"y\": [1, 4], \"z\": [2, 1]}, {\"line\": {\"color\": \"green\", \"width\": 2}, \"mode\": \"lines\", \"type\": \"scatter3d\", \"x\": [1, 2], \"y\": [1, 1], \"z\": [2, 1]}, {\"line\": {\"color\": \"green\", \"width\": 2}, \"mode\": \"lines\", \"type\": \"scatter3d\", \"x\": [1, 2], \"y\": [1, 3], \"z\": [2, 1]}, {\"line\": {\"color\": \"green\", \"width\": 2}, \"mode\": \"lines\", \"type\": \"scatter3d\", \"x\": [1, 2], \"y\": [1, 4], \"z\": [2, 1]}, {\"line\": {\"color\": \"green\", \"width\": 2}, \"mode\": \"lines\", \"type\": \"scatter3d\", \"x\": [1, 3], \"y\": [1, 1], \"z\": [2, 1]}, {\"line\": {\"color\": \"green\", \"width\": 2}, \"mode\": \"lines\", \"type\": \"scatter3d\", \"x\": [1, 3], \"y\": [1, 2], \"z\": [2, 1]}, {\"line\": {\"color\": \"green\", \"width\": 2}, \"mode\": \"lines\", \"type\": \"scatter3d\", \"x\": [1, 3], \"y\": [1, 3], \"z\": [2, 1]}, {\"line\": {\"color\": \"green\", \"width\": 2}, \"mode\": \"lines\", \"type\": \"scatter3d\", \"x\": [1, 4], \"y\": [1, 1], \"z\": [2, 1]}, {\"line\": {\"color\": \"green\", \"width\": 2}, \"mode\": \"lines\", \"type\": \"scatter3d\", \"x\": [1, 4], \"y\": [1, 2], \"z\": [2, 1]}, {\"line\": {\"color\": \"green\", \"width\": 2}, \"mode\": \"lines\", \"type\": \"scatter3d\", \"x\": [1, 1], \"y\": [2, 2], \"z\": [2, 1]}, {\"line\": {\"color\": \"green\", \"width\": 2}, \"mode\": \"lines\", \"type\": \"scatter3d\", \"x\": [1, 1], \"y\": [2, 3], \"z\": [2, 1]}, {\"line\": {\"color\": \"green\", \"width\": 2}, \"mode\": \"lines\", \"type\": \"scatter3d\", \"x\": [1, 2], \"y\": [2, 1], \"z\": [2, 1]}, {\"line\": {\"color\": \"green\", \"width\": 2}, \"mode\": \"lines\", \"type\": \"scatter3d\", \"x\": [1, 2], \"y\": [2, 3], \"z\": [2, 1]}, {\"line\": {\"color\": \"green\", \"width\": 2}, \"mode\": \"lines\", \"type\": \"scatter3d\", \"x\": [1, 2], \"y\": [2, 4], \"z\": [2, 1]}, {\"line\": {\"color\": \"green\", \"width\": 2}, \"mode\": \"lines\", \"type\": \"scatter3d\", \"x\": [1, 3], \"y\": [2, 1], \"z\": [2, 1]}, {\"line\": {\"color\": \"green\", \"width\": 2}, \"mode\": \"lines\", \"type\": \"scatter3d\", \"x\": [1, 3], \"y\": [2, 4], \"z\": [2, 1]}, {\"line\": {\"color\": \"green\", \"width\": 2}, \"mode\": \"lines\", \"type\": \"scatter3d\", \"x\": [1, 4], \"y\": [2, 1], \"z\": [2, 1]}, {\"line\": {\"color\": \"green\", \"width\": 2}, \"mode\": \"lines\", \"type\": \"scatter3d\", \"x\": [1, 4], \"y\": [2, 2], \"z\": [2, 1]}, {\"line\": {\"color\": \"green\", \"width\": 2}, \"mode\": \"lines\", \"type\": \"scatter3d\", \"x\": [1, 4], \"y\": [2, 3], \"z\": [2, 1]}, {\"line\": {\"color\": \"green\", \"width\": 2}, \"mode\": \"lines\", \"type\": \"scatter3d\", \"x\": [1, 1], \"y\": [3, 2], \"z\": [2, 1]}, {\"line\": {\"color\": \"green\", \"width\": 2}, \"mode\": \"lines\", \"type\": \"scatter3d\", \"x\": [1, 2], \"y\": [3, 2], \"z\": [2, 1]}, {\"line\": {\"color\": \"green\", \"width\": 2}, \"mode\": \"lines\", \"type\": \"scatter3d\", \"x\": [1, 2], \"y\": [3, 3], \"z\": [2, 1]}, {\"line\": {\"color\": \"green\", \"width\": 2}, \"mode\": \"lines\", \"type\": \"scatter3d\", \"x\": [1, 2], \"y\": [3, 4], \"z\": [2, 1]}, {\"line\": {\"color\": \"green\", \"width\": 2}, \"mode\": \"lines\", \"type\": \"scatter3d\", \"x\": [1, 3], \"y\": [3, 1], \"z\": [2, 1]}, {\"line\": {\"color\": \"green\", \"width\": 2}, \"mode\": \"lines\", \"type\": \"scatter3d\", \"x\": [1, 3], \"y\": [3, 3], \"z\": [2, 1]}, {\"line\": {\"color\": \"green\", \"width\": 2}, \"mode\": \"lines\", \"type\": \"scatter3d\", \"x\": [1, 3], \"y\": [3, 4], \"z\": [2, 1]}, {\"line\": {\"color\": \"green\", \"width\": 2}, \"mode\": \"lines\", \"type\": \"scatter3d\", \"x\": [1, 4], \"y\": [3, 2], \"z\": [2, 1]}, {\"line\": {\"color\": \"green\", \"width\": 2}, \"mode\": \"lines\", \"type\": \"scatter3d\", \"x\": [1, 4], \"y\": [3, 4], \"z\": [2, 1]}, {\"line\": {\"color\": \"green\", \"width\": 2}, \"mode\": \"lines\", \"type\": \"scatter3d\", \"x\": [1, 1], \"y\": [4, 2], \"z\": [2, 1]}, {\"line\": {\"color\": \"green\", \"width\": 2}, \"mode\": \"lines\", \"type\": \"scatter3d\", \"x\": [1, 1], \"y\": [4, 4], \"z\": [2, 1]}, {\"line\": {\"color\": \"green\", \"width\": 2}, \"mode\": \"lines\", \"type\": \"scatter3d\", \"x\": [1, 2], \"y\": [4, 2], \"z\": [2, 1]}, {\"line\": {\"color\": \"green\", \"width\": 2}, \"mode\": \"lines\", \"type\": \"scatter3d\", \"x\": [1, 2], \"y\": [4, 3], \"z\": [2, 1]}, {\"line\": {\"color\": \"green\", \"width\": 2}, \"mode\": \"lines\", \"type\": \"scatter3d\", \"x\": [1, 2], \"y\": [4, 4], \"z\": [2, 1]}, {\"line\": {\"color\": \"green\", \"width\": 2}, \"mode\": \"lines\", \"type\": \"scatter3d\", \"x\": [1, 3], \"y\": [4, 2], \"z\": [2, 1]}, {\"line\": {\"color\": \"green\", \"width\": 2}, \"mode\": \"lines\", \"type\": \"scatter3d\", \"x\": [1, 3], \"y\": [4, 3], \"z\": [2, 1]}, {\"line\": {\"color\": \"green\", \"width\": 2}, \"mode\": \"lines\", \"type\": \"scatter3d\", \"x\": [1, 3], \"y\": [4, 4], \"z\": [2, 1]}, {\"line\": {\"color\": \"green\", \"width\": 2}, \"mode\": \"lines\", \"type\": \"scatter3d\", \"x\": [1, 4], \"y\": [4, 2], \"z\": [2, 1]}, {\"line\": {\"color\": \"green\", \"width\": 2}, \"mode\": \"lines\", \"type\": \"scatter3d\", \"x\": [1, 4], \"y\": [4, 4], \"z\": [2, 1]}, {\"line\": {\"color\": \"green\", \"width\": 2}, \"mode\": \"lines\", \"type\": \"scatter3d\", \"x\": [2, 1], \"y\": [1, 1], \"z\": [2, 1]}, {\"line\": {\"color\": \"green\", \"width\": 2}, \"mode\": \"lines\", \"type\": \"scatter3d\", \"x\": [2, 1], \"y\": [1, 2], \"z\": [2, 1]}, {\"line\": {\"color\": \"green\", \"width\": 2}, \"mode\": \"lines\", \"type\": \"scatter3d\", \"x\": [2, 1], \"y\": [1, 4], \"z\": [2, 1]}, {\"line\": {\"color\": \"green\", \"width\": 2}, \"mode\": \"lines\", \"type\": \"scatter3d\", \"x\": [2, 2], \"y\": [1, 2], \"z\": [2, 1]}, {\"line\": {\"color\": \"green\", \"width\": 2}, \"mode\": \"lines\", \"type\": \"scatter3d\", \"x\": [2, 2], \"y\": [1, 3], \"z\": [2, 1]}, {\"line\": {\"color\": \"green\", \"width\": 2}, \"mode\": \"lines\", \"type\": \"scatter3d\", \"x\": [2, 2], \"y\": [1, 4], \"z\": [2, 1]}, {\"line\": {\"color\": \"green\", \"width\": 2}, \"mode\": \"lines\", \"type\": \"scatter3d\", \"x\": [2, 3], \"y\": [1, 1], \"z\": [2, 1]}, {\"line\": {\"color\": \"green\", \"width\": 2}, \"mode\": \"lines\", \"type\": \"scatter3d\", \"x\": [2, 3], \"y\": [1, 3], \"z\": [2, 1]}, {\"line\": {\"color\": \"green\", \"width\": 2}, \"mode\": \"lines\", \"type\": \"scatter3d\", \"x\": [2, 3], \"y\": [1, 4], \"z\": [2, 1]}, {\"line\": {\"color\": \"green\", \"width\": 2}, \"mode\": \"lines\", \"type\": \"scatter3d\", \"x\": [2, 4], \"y\": [1, 2], \"z\": [2, 1]}, {\"line\": {\"color\": \"green\", \"width\": 2}, \"mode\": \"lines\", \"type\": \"scatter3d\", \"x\": [2, 4], \"y\": [1, 4], \"z\": [2, 1]}, {\"line\": {\"color\": \"green\", \"width\": 2}, \"mode\": \"lines\", \"type\": \"scatter3d\", \"x\": [2, 1], \"y\": [2, 1], \"z\": [2, 1]}, {\"line\": {\"color\": \"green\", \"width\": 2}, \"mode\": \"lines\", \"type\": \"scatter3d\", \"x\": [2, 1], \"y\": [2, 2], \"z\": [2, 1]}, {\"line\": {\"color\": \"green\", \"width\": 2}, \"mode\": \"lines\", \"type\": \"scatter3d\", \"x\": [2, 2], \"y\": [2, 3], \"z\": [2, 1]}, {\"line\": {\"color\": \"green\", \"width\": 2}, \"mode\": \"lines\", \"type\": \"scatter3d\", \"x\": [2, 2], \"y\": [2, 4], \"z\": [2, 1]}, {\"line\": {\"color\": \"green\", \"width\": 2}, \"mode\": \"lines\", \"type\": \"scatter3d\", \"x\": [2, 3], \"y\": [2, 1], \"z\": [2, 1]}, {\"line\": {\"color\": \"green\", \"width\": 2}, \"mode\": \"lines\", \"type\": \"scatter3d\", \"x\": [2, 3], \"y\": [2, 3], \"z\": [2, 1]}, {\"line\": {\"color\": \"green\", \"width\": 2}, \"mode\": \"lines\", \"type\": \"scatter3d\", \"x\": [2, 3], \"y\": [2, 4], \"z\": [2, 1]}, {\"line\": {\"color\": \"green\", \"width\": 2}, \"mode\": \"lines\", \"type\": \"scatter3d\", \"x\": [2, 4], \"y\": [2, 1], \"z\": [2, 1]}, {\"line\": {\"color\": \"green\", \"width\": 2}, \"mode\": \"lines\", \"type\": \"scatter3d\", \"x\": [2, 4], \"y\": [2, 2], \"z\": [2, 1]}, {\"line\": {\"color\": \"green\", \"width\": 2}, \"mode\": \"lines\", \"type\": \"scatter3d\", \"x\": [2, 4], \"y\": [2, 3], \"z\": [2, 1]}, {\"line\": {\"color\": \"green\", \"width\": 2}, \"mode\": \"lines\", \"type\": \"scatter3d\", \"x\": [2, 4], \"y\": [2, 4], \"z\": [2, 1]}, {\"line\": {\"color\": \"green\", \"width\": 2}, \"mode\": \"lines\", \"type\": \"scatter3d\", \"x\": [2, 1], \"y\": [3, 1], \"z\": [2, 1]}, {\"line\": {\"color\": \"green\", \"width\": 2}, \"mode\": \"lines\", \"type\": \"scatter3d\", \"x\": [2, 1], \"y\": [3, 2], \"z\": [2, 1]}, {\"line\": {\"color\": \"green\", \"width\": 2}, \"mode\": \"lines\", \"type\": \"scatter3d\", \"x\": [2, 1], \"y\": [3, 4], \"z\": [2, 1]}, {\"line\": {\"color\": \"green\", \"width\": 2}, \"mode\": \"lines\", \"type\": \"scatter3d\", \"x\": [2, 2], \"y\": [3, 1], \"z\": [2, 1]}, {\"line\": {\"color\": \"green\", \"width\": 2}, \"mode\": \"lines\", \"type\": \"scatter3d\", \"x\": [2, 2], \"y\": [3, 2], \"z\": [2, 1]}, {\"line\": {\"color\": \"green\", \"width\": 2}, \"mode\": \"lines\", \"type\": \"scatter3d\", \"x\": [2, 2], \"y\": [3, 3], \"z\": [2, 1]}, {\"line\": {\"color\": \"green\", \"width\": 2}, \"mode\": \"lines\", \"type\": \"scatter3d\", \"x\": [2, 2], \"y\": [3, 4], \"z\": [2, 1]}, {\"line\": {\"color\": \"green\", \"width\": 2}, \"mode\": \"lines\", \"type\": \"scatter3d\", \"x\": [2, 3], \"y\": [3, 1], \"z\": [2, 1]}, {\"line\": {\"color\": \"green\", \"width\": 2}, \"mode\": \"lines\", \"type\": \"scatter3d\", \"x\": [2, 3], \"y\": [3, 3], \"z\": [2, 1]}, {\"line\": {\"color\": \"green\", \"width\": 2}, \"mode\": \"lines\", \"type\": \"scatter3d\", \"x\": [2, 3], \"y\": [3, 4], \"z\": [2, 1]}, {\"line\": {\"color\": \"green\", \"width\": 2}, \"mode\": \"lines\", \"type\": \"scatter3d\", \"x\": [2, 4], \"y\": [3, 2], \"z\": [2, 1]}, {\"line\": {\"color\": \"green\", \"width\": 2}, \"mode\": \"lines\", \"type\": \"scatter3d\", \"x\": [2, 4], \"y\": [3, 3], \"z\": [2, 1]}, {\"line\": {\"color\": \"green\", \"width\": 2}, \"mode\": \"lines\", \"type\": \"scatter3d\", \"x\": [2, 1], \"y\": [4, 1], \"z\": [2, 1]}, {\"line\": {\"color\": \"green\", \"width\": 2}, \"mode\": \"lines\", \"type\": \"scatter3d\", \"x\": [2, 1], \"y\": [4, 2], \"z\": [2, 1]}, {\"line\": {\"color\": \"green\", \"width\": 2}, \"mode\": \"lines\", \"type\": \"scatter3d\", \"x\": [2, 1], \"y\": [4, 4], \"z\": [2, 1]}, {\"line\": {\"color\": \"green\", \"width\": 2}, \"mode\": \"lines\", \"type\": \"scatter3d\", \"x\": [2, 2], \"y\": [4, 1], \"z\": [2, 1]}, {\"line\": {\"color\": \"green\", \"width\": 2}, \"mode\": \"lines\", \"type\": \"scatter3d\", \"x\": [2, 2], \"y\": [4, 2], \"z\": [2, 1]}, {\"line\": {\"color\": \"green\", \"width\": 2}, \"mode\": \"lines\", \"type\": \"scatter3d\", \"x\": [2, 2], \"y\": [4, 3], \"z\": [2, 1]}, {\"line\": {\"color\": \"green\", \"width\": 2}, \"mode\": \"lines\", \"type\": \"scatter3d\", \"x\": [2, 3], \"y\": [4, 1], \"z\": [2, 1]}, {\"line\": {\"color\": \"green\", \"width\": 2}, \"mode\": \"lines\", \"type\": \"scatter3d\", \"x\": [2, 3], \"y\": [4, 2], \"z\": [2, 1]}, {\"line\": {\"color\": \"green\", \"width\": 2}, \"mode\": \"lines\", \"type\": \"scatter3d\", \"x\": [2, 3], \"y\": [4, 3], \"z\": [2, 1]}, {\"line\": {\"color\": \"green\", \"width\": 2}, \"mode\": \"lines\", \"type\": \"scatter3d\", \"x\": [2, 3], \"y\": [4, 4], \"z\": [2, 1]}, {\"line\": {\"color\": \"green\", \"width\": 2}, \"mode\": \"lines\", \"type\": \"scatter3d\", \"x\": [2, 4], \"y\": [4, 2], \"z\": [2, 1]}, {\"line\": {\"color\": \"green\", \"width\": 2}, \"mode\": \"lines\", \"type\": \"scatter3d\", \"x\": [2, 4], \"y\": [4, 4], \"z\": [2, 1]}, {\"line\": {\"color\": \"green\", \"width\": 2}, \"mode\": \"lines\", \"type\": \"scatter3d\", \"x\": [3, 1], \"y\": [1, 1], \"z\": [2, 1]}, {\"line\": {\"color\": \"green\", \"width\": 2}, \"mode\": \"lines\", \"type\": \"scatter3d\", \"x\": [3, 1], \"y\": [1, 2], \"z\": [2, 1]}, {\"line\": {\"color\": \"green\", \"width\": 2}, \"mode\": \"lines\", \"type\": \"scatter3d\", \"x\": [3, 1], \"y\": [1, 3], \"z\": [2, 1]}, {\"line\": {\"color\": \"green\", \"width\": 2}, \"mode\": \"lines\", \"type\": \"scatter3d\", \"x\": [3, 1], \"y\": [1, 4], \"z\": [2, 1]}, {\"line\": {\"color\": \"green\", \"width\": 2}, \"mode\": \"lines\", \"type\": \"scatter3d\", \"x\": [3, 2], \"y\": [1, 1], \"z\": [2, 1]}, {\"line\": {\"color\": \"green\", \"width\": 2}, \"mode\": \"lines\", \"type\": \"scatter3d\", \"x\": [3, 2], \"y\": [1, 3], \"z\": [2, 1]}, {\"line\": {\"color\": \"green\", \"width\": 2}, \"mode\": \"lines\", \"type\": \"scatter3d\", \"x\": [3, 2], \"y\": [1, 4], \"z\": [2, 1]}, {\"line\": {\"color\": \"green\", \"width\": 2}, \"mode\": \"lines\", \"type\": \"scatter3d\", \"x\": [3, 4], \"y\": [1, 1], \"z\": [2, 1]}, {\"line\": {\"color\": \"green\", \"width\": 2}, \"mode\": \"lines\", \"type\": \"scatter3d\", \"x\": [3, 4], \"y\": [1, 2], \"z\": [2, 1]}, {\"line\": {\"color\": \"green\", \"width\": 2}, \"mode\": \"lines\", \"type\": \"scatter3d\", \"x\": [3, 4], \"y\": [1, 3], \"z\": [2, 1]}, {\"line\": {\"color\": \"green\", \"width\": 2}, \"mode\": \"lines\", \"type\": \"scatter3d\", \"x\": [3, 4], \"y\": [1, 4], \"z\": [2, 1]}, {\"line\": {\"color\": \"green\", \"width\": 2}, \"mode\": \"lines\", \"type\": \"scatter3d\", \"x\": [3, 1], \"y\": [2, 1], \"z\": [2, 1]}, {\"line\": {\"color\": \"green\", \"width\": 2}, \"mode\": \"lines\", \"type\": \"scatter3d\", \"x\": [3, 1], \"y\": [2, 2], \"z\": [2, 1]}, {\"line\": {\"color\": \"green\", \"width\": 2}, \"mode\": \"lines\", \"type\": \"scatter3d\", \"x\": [3, 1], \"y\": [2, 3], \"z\": [2, 1]}, {\"line\": {\"color\": \"green\", \"width\": 2}, \"mode\": \"lines\", \"type\": \"scatter3d\", \"x\": [3, 1], \"y\": [2, 4], \"z\": [2, 1]}, {\"line\": {\"color\": \"green\", \"width\": 2}, \"mode\": \"lines\", \"type\": \"scatter3d\", \"x\": [3, 2], \"y\": [2, 1], \"z\": [2, 1]}, {\"line\": {\"color\": \"green\", \"width\": 2}, \"mode\": \"lines\", \"type\": \"scatter3d\", \"x\": [3, 2], \"y\": [2, 3], \"z\": [2, 1]}, {\"line\": {\"color\": \"green\", \"width\": 2}, \"mode\": \"lines\", \"type\": \"scatter3d\", \"x\": [3, 2], \"y\": [2, 4], \"z\": [2, 1]}, {\"line\": {\"color\": \"green\", \"width\": 2}, \"mode\": \"lines\", \"type\": \"scatter3d\", \"x\": [3, 3], \"y\": [2, 2], \"z\": [2, 1]}, {\"line\": {\"color\": \"green\", \"width\": 2}, \"mode\": \"lines\", \"type\": \"scatter3d\", \"x\": [3, 3], \"y\": [2, 4], \"z\": [2, 1]}, {\"line\": {\"color\": \"green\", \"width\": 2}, \"mode\": \"lines\", \"type\": \"scatter3d\", \"x\": [3, 4], \"y\": [2, 1], \"z\": [2, 1]}, {\"line\": {\"color\": \"green\", \"width\": 2}, \"mode\": \"lines\", \"type\": \"scatter3d\", \"x\": [3, 4], \"y\": [2, 2], \"z\": [2, 1]}, {\"line\": {\"color\": \"green\", \"width\": 2}, \"mode\": \"lines\", \"type\": \"scatter3d\", \"x\": [3, 4], \"y\": [2, 3], \"z\": [2, 1]}, {\"line\": {\"color\": \"green\", \"width\": 2}, \"mode\": \"lines\", \"type\": \"scatter3d\", \"x\": [3, 1], \"y\": [3, 1], \"z\": [2, 1]}, {\"line\": {\"color\": \"green\", \"width\": 2}, \"mode\": \"lines\", \"type\": \"scatter3d\", \"x\": [3, 1], \"y\": [3, 2], \"z\": [2, 1]}, {\"line\": {\"color\": \"green\", \"width\": 2}, \"mode\": \"lines\", \"type\": \"scatter3d\", \"x\": [3, 1], \"y\": [3, 4], \"z\": [2, 1]}, {\"line\": {\"color\": \"green\", \"width\": 2}, \"mode\": \"lines\", \"type\": \"scatter3d\", \"x\": [3, 2], \"y\": [3, 2], \"z\": [2, 1]}, {\"line\": {\"color\": \"green\", \"width\": 2}, \"mode\": \"lines\", \"type\": \"scatter3d\", \"x\": [3, 2], \"y\": [3, 3], \"z\": [2, 1]}, {\"line\": {\"color\": \"green\", \"width\": 2}, \"mode\": \"lines\", \"type\": \"scatter3d\", \"x\": [3, 3], \"y\": [3, 1], \"z\": [2, 1]}, {\"line\": {\"color\": \"green\", \"width\": 2}, \"mode\": \"lines\", \"type\": \"scatter3d\", \"x\": [3, 3], \"y\": [3, 3], \"z\": [2, 1]}, {\"line\": {\"color\": \"green\", \"width\": 2}, \"mode\": \"lines\", \"type\": \"scatter3d\", \"x\": [3, 4], \"y\": [3, 2], \"z\": [2, 1]}, {\"line\": {\"color\": \"green\", \"width\": 2}, \"mode\": \"lines\", \"type\": \"scatter3d\", \"x\": [3, 4], \"y\": [3, 4], \"z\": [2, 1]}, {\"line\": {\"color\": \"green\", \"width\": 2}, \"mode\": \"lines\", \"type\": \"scatter3d\", \"x\": [3, 1], \"y\": [4, 1], \"z\": [2, 1]}, {\"line\": {\"color\": \"green\", \"width\": 2}, \"mode\": \"lines\", \"type\": \"scatter3d\", \"x\": [3, 1], \"y\": [4, 4], \"z\": [2, 1]}, {\"line\": {\"color\": \"green\", \"width\": 2}, \"mode\": \"lines\", \"type\": \"scatter3d\", \"x\": [3, 2], \"y\": [4, 2], \"z\": [2, 1]}, {\"line\": {\"color\": \"green\", \"width\": 2}, \"mode\": \"lines\", \"type\": \"scatter3d\", \"x\": [3, 2], \"y\": [4, 3], \"z\": [2, 1]}, {\"line\": {\"color\": \"green\", \"width\": 2}, \"mode\": \"lines\", \"type\": \"scatter3d\", \"x\": [3, 2], \"y\": [4, 4], \"z\": [2, 1]}, {\"line\": {\"color\": \"green\", \"width\": 2}, \"mode\": \"lines\", \"type\": \"scatter3d\", \"x\": [3, 3], \"y\": [4, 1], \"z\": [2, 1]}, {\"line\": {\"color\": \"green\", \"width\": 2}, \"mode\": \"lines\", \"type\": \"scatter3d\", \"x\": [3, 3], \"y\": [4, 2], \"z\": [2, 1]}, {\"line\": {\"color\": \"green\", \"width\": 2}, \"mode\": \"lines\", \"type\": \"scatter3d\", \"x\": [3, 3], \"y\": [4, 3], \"z\": [2, 1]}, {\"line\": {\"color\": \"green\", \"width\": 2}, \"mode\": \"lines\", \"type\": \"scatter3d\", \"x\": [3, 3], \"y\": [4, 4], \"z\": [2, 1]}, {\"line\": {\"color\": \"green\", \"width\": 2}, \"mode\": \"lines\", \"type\": \"scatter3d\", \"x\": [3, 4], \"y\": [4, 1], \"z\": [2, 1]}, {\"line\": {\"color\": \"green\", \"width\": 2}, \"mode\": \"lines\", \"type\": \"scatter3d\", \"x\": [3, 4], \"y\": [4, 2], \"z\": [2, 1]}, {\"line\": {\"color\": \"green\", \"width\": 2}, \"mode\": \"lines\", \"type\": \"scatter3d\", \"x\": [3, 4], \"y\": [4, 3], \"z\": [2, 1]}, {\"line\": {\"color\": \"green\", \"width\": 2}, \"mode\": \"lines\", \"type\": \"scatter3d\", \"x\": [3, 4], \"y\": [4, 4], \"z\": [2, 1]}, {\"line\": {\"color\": \"green\", \"width\": 2}, \"mode\": \"lines\", \"type\": \"scatter3d\", \"x\": [4, 1], \"y\": [1, 2], \"z\": [2, 1]}, {\"line\": {\"color\": \"green\", \"width\": 2}, \"mode\": \"lines\", \"type\": \"scatter3d\", \"x\": [4, 2], \"y\": [1, 3], \"z\": [2, 1]}, {\"line\": {\"color\": \"green\", \"width\": 2}, \"mode\": \"lines\", \"type\": \"scatter3d\", \"x\": [4, 2], \"y\": [1, 4], \"z\": [2, 1]}, {\"line\": {\"color\": \"green\", \"width\": 2}, \"mode\": \"lines\", \"type\": \"scatter3d\", \"x\": [4, 3], \"y\": [1, 1], \"z\": [2, 1]}, {\"line\": {\"color\": \"green\", \"width\": 2}, \"mode\": \"lines\", \"type\": \"scatter3d\", \"x\": [4, 3], \"y\": [1, 3], \"z\": [2, 1]}, {\"line\": {\"color\": \"green\", \"width\": 2}, \"mode\": \"lines\", \"type\": \"scatter3d\", \"x\": [4, 3], \"y\": [1, 4], \"z\": [2, 1]}, {\"line\": {\"color\": \"green\", \"width\": 2}, \"mode\": \"lines\", \"type\": \"scatter3d\", \"x\": [4, 4], \"y\": [1, 2], \"z\": [2, 1]}, {\"line\": {\"color\": \"green\", \"width\": 2}, \"mode\": \"lines\", \"type\": \"scatter3d\", \"x\": [4, 4], \"y\": [1, 3], \"z\": [2, 1]}, {\"line\": {\"color\": \"green\", \"width\": 2}, \"mode\": \"lines\", \"type\": \"scatter3d\", \"x\": [4, 4], \"y\": [1, 4], \"z\": [2, 1]}, {\"line\": {\"color\": \"green\", \"width\": 2}, \"mode\": \"lines\", \"type\": \"scatter3d\", \"x\": [4, 1], \"y\": [2, 3], \"z\": [2, 1]}, {\"line\": {\"color\": \"green\", \"width\": 2}, \"mode\": \"lines\", \"type\": \"scatter3d\", \"x\": [4, 1], \"y\": [2, 4], \"z\": [2, 1]}, {\"line\": {\"color\": \"green\", \"width\": 2}, \"mode\": \"lines\", \"type\": \"scatter3d\", \"x\": [4, 2], \"y\": [2, 1], \"z\": [2, 1]}, {\"line\": {\"color\": \"green\", \"width\": 2}, \"mode\": \"lines\", \"type\": \"scatter3d\", \"x\": [4, 2], \"y\": [2, 3], \"z\": [2, 1]}, {\"line\": {\"color\": \"green\", \"width\": 2}, \"mode\": \"lines\", \"type\": \"scatter3d\", \"x\": [4, 3], \"y\": [2, 1], \"z\": [2, 1]}, {\"line\": {\"color\": \"green\", \"width\": 2}, \"mode\": \"lines\", \"type\": \"scatter3d\", \"x\": [4, 3], \"y\": [2, 2], \"z\": [2, 1]}, {\"line\": {\"color\": \"green\", \"width\": 2}, \"mode\": \"lines\", \"type\": \"scatter3d\", \"x\": [4, 3], \"y\": [2, 3], \"z\": [2, 1]}, {\"line\": {\"color\": \"green\", \"width\": 2}, \"mode\": \"lines\", \"type\": \"scatter3d\", \"x\": [4, 3], \"y\": [2, 4], \"z\": [2, 1]}, {\"line\": {\"color\": \"green\", \"width\": 2}, \"mode\": \"lines\", \"type\": \"scatter3d\", \"x\": [4, 4], \"y\": [2, 1], \"z\": [2, 1]}, {\"line\": {\"color\": \"green\", \"width\": 2}, \"mode\": \"lines\", \"type\": \"scatter3d\", \"x\": [4, 4], \"y\": [2, 2], \"z\": [2, 1]}, {\"line\": {\"color\": \"green\", \"width\": 2}, \"mode\": \"lines\", \"type\": \"scatter3d\", \"x\": [4, 4], \"y\": [2, 3], \"z\": [2, 1]}, {\"line\": {\"color\": \"green\", \"width\": 2}, \"mode\": \"lines\", \"type\": \"scatter3d\", \"x\": [4, 1], \"y\": [3, 1], \"z\": [2, 1]}, {\"line\": {\"color\": \"green\", \"width\": 2}, \"mode\": \"lines\", \"type\": \"scatter3d\", \"x\": [4, 2], \"y\": [3, 3], \"z\": [2, 1]}, {\"line\": {\"color\": \"green\", \"width\": 2}, \"mode\": \"lines\", \"type\": \"scatter3d\", \"x\": [4, 2], \"y\": [3, 4], \"z\": [2, 1]}, {\"line\": {\"color\": \"green\", \"width\": 2}, \"mode\": \"lines\", \"type\": \"scatter3d\", \"x\": [4, 3], \"y\": [3, 1], \"z\": [2, 1]}, {\"line\": {\"color\": \"green\", \"width\": 2}, \"mode\": \"lines\", \"type\": \"scatter3d\", \"x\": [4, 3], \"y\": [3, 3], \"z\": [2, 1]}, {\"line\": {\"color\": \"green\", \"width\": 2}, \"mode\": \"lines\", \"type\": \"scatter3d\", \"x\": [4, 4], \"y\": [3, 2], \"z\": [2, 1]}, {\"line\": {\"color\": \"green\", \"width\": 2}, \"mode\": \"lines\", \"type\": \"scatter3d\", \"x\": [4, 4], \"y\": [3, 3], \"z\": [2, 1]}, {\"line\": {\"color\": \"green\", \"width\": 2}, \"mode\": \"lines\", \"type\": \"scatter3d\", \"x\": [4, 4], \"y\": [3, 4], \"z\": [2, 1]}, {\"line\": {\"color\": \"green\", \"width\": 2}, \"mode\": \"lines\", \"type\": \"scatter3d\", \"x\": [4, 1], \"y\": [4, 1], \"z\": [2, 1]}, {\"line\": {\"color\": \"green\", \"width\": 2}, \"mode\": \"lines\", \"type\": \"scatter3d\", \"x\": [4, 1], \"y\": [4, 2], \"z\": [2, 1]}, {\"line\": {\"color\": \"green\", \"width\": 2}, \"mode\": \"lines\", \"type\": \"scatter3d\", \"x\": [4, 1], \"y\": [4, 4], \"z\": [2, 1]}, {\"line\": {\"color\": \"green\", \"width\": 2}, \"mode\": \"lines\", \"type\": \"scatter3d\", \"x\": [4, 2], \"y\": [4, 1], \"z\": [2, 1]}, {\"line\": {\"color\": \"green\", \"width\": 2}, \"mode\": \"lines\", \"type\": \"scatter3d\", \"x\": [4, 2], \"y\": [4, 4], \"z\": [2, 1]}, {\"line\": {\"color\": \"green\", \"width\": 2}, \"mode\": \"lines\", \"type\": \"scatter3d\", \"x\": [4, 3], \"y\": [4, 1], \"z\": [2, 1]}, {\"line\": {\"color\": \"green\", \"width\": 2}, \"mode\": \"lines\", \"type\": \"scatter3d\", \"x\": [4, 3], \"y\": [4, 3], \"z\": [2, 1]}, {\"line\": {\"color\": \"green\", \"width\": 2}, \"mode\": \"lines\", \"type\": \"scatter3d\", \"x\": [4, 3], \"y\": [4, 4], \"z\": [2, 1]}, {\"line\": {\"color\": \"green\", \"width\": 2}, \"mode\": \"lines\", \"type\": \"scatter3d\", \"x\": [4, 4], \"y\": [4, 2], \"z\": [2, 1]}, {\"line\": {\"color\": \"green\", \"width\": 2}, \"mode\": \"lines\", \"type\": \"scatter3d\", \"x\": [4, 4], \"y\": [4, 3], \"z\": [2, 1]}],                        {\"autosize\": true, \"height\": 500, \"margin\": {\"b\": 65, \"l\": 65, \"r\": 50, \"t\": 90}, \"scene\": {\"aspectmode\": \"manual\", \"aspectratio\": {\"x\": 1, \"y\": 1, \"z\": 2}, \"xaxis\": {\"nticks\": 20, \"range\": [0, 5], \"title\": {\"text\": \"X\"}}, \"yaxis\": {\"nticks\": 20, \"range\": [0, 5], \"title\": {\"text\": \"Y\"}}, \"zaxis\": {\"range\": [0, 5], \"title\": {\"text\": \"LEVEL\"}}}, \"showlegend\": false, \"template\": {\"data\": {\"bar\": [{\"error_x\": {\"color\": \"#2a3f5f\"}, \"error_y\": {\"color\": \"#2a3f5f\"}, \"marker\": {\"line\": {\"color\": \"#E5ECF6\", \"width\": 0.5}}, \"type\": \"bar\"}], \"barpolar\": [{\"marker\": {\"line\": {\"color\": \"#E5ECF6\", \"width\": 0.5}}, \"type\": \"barpolar\"}], \"carpet\": [{\"aaxis\": {\"endlinecolor\": \"#2a3f5f\", \"gridcolor\": \"white\", \"linecolor\": \"white\", \"minorgridcolor\": \"white\", \"startlinecolor\": \"#2a3f5f\"}, \"baxis\": {\"endlinecolor\": \"#2a3f5f\", \"gridcolor\": \"white\", \"linecolor\": \"white\", \"minorgridcolor\": \"white\", \"startlinecolor\": \"#2a3f5f\"}, \"type\": \"carpet\"}], \"choropleth\": [{\"colorbar\": {\"outlinewidth\": 0, \"ticks\": \"\"}, \"type\": \"choropleth\"}], \"contour\": [{\"colorbar\": {\"outlinewidth\": 0, \"ticks\": \"\"}, \"colorscale\": [[0.0, \"#0d0887\"], [0.1111111111111111, \"#46039f\"], [0.2222222222222222, \"#7201a8\"], [0.3333333333333333, \"#9c179e\"], [0.4444444444444444, \"#bd3786\"], [0.5555555555555556, \"#d8576b\"], [0.6666666666666666, \"#ed7953\"], [0.7777777777777778, \"#fb9f3a\"], [0.8888888888888888, \"#fdca26\"], [1.0, \"#f0f921\"]], \"type\": \"contour\"}], \"contourcarpet\": [{\"colorbar\": {\"outlinewidth\": 0, \"ticks\": \"\"}, \"type\": \"contourcarpet\"}], \"heatmap\": [{\"colorbar\": {\"outlinewidth\": 0, \"ticks\": \"\"}, \"colorscale\": [[0.0, \"#0d0887\"], [0.1111111111111111, \"#46039f\"], [0.2222222222222222, \"#7201a8\"], [0.3333333333333333, \"#9c179e\"], [0.4444444444444444, \"#bd3786\"], [0.5555555555555556, \"#d8576b\"], [0.6666666666666666, \"#ed7953\"], [0.7777777777777778, \"#fb9f3a\"], [0.8888888888888888, \"#fdca26\"], [1.0, \"#f0f921\"]], \"type\": \"heatmap\"}], \"heatmapgl\": [{\"colorbar\": {\"outlinewidth\": 0, \"ticks\": \"\"}, \"colorscale\": [[0.0, \"#0d0887\"], [0.1111111111111111, \"#46039f\"], [0.2222222222222222, \"#7201a8\"], [0.3333333333333333, \"#9c179e\"], [0.4444444444444444, \"#bd3786\"], [0.5555555555555556, \"#d8576b\"], [0.6666666666666666, \"#ed7953\"], [0.7777777777777778, \"#fb9f3a\"], [0.8888888888888888, \"#fdca26\"], [1.0, \"#f0f921\"]], \"type\": \"heatmapgl\"}], \"histogram\": [{\"marker\": {\"colorbar\": {\"outlinewidth\": 0, \"ticks\": \"\"}}, \"type\": \"histogram\"}], \"histogram2d\": [{\"colorbar\": {\"outlinewidth\": 0, \"ticks\": \"\"}, \"colorscale\": [[0.0, \"#0d0887\"], [0.1111111111111111, \"#46039f\"], [0.2222222222222222, \"#7201a8\"], [0.3333333333333333, \"#9c179e\"], [0.4444444444444444, \"#bd3786\"], [0.5555555555555556, \"#d8576b\"], [0.6666666666666666, \"#ed7953\"], [0.7777777777777778, \"#fb9f3a\"], [0.8888888888888888, \"#fdca26\"], [1.0, \"#f0f921\"]], \"type\": \"histogram2d\"}], \"histogram2dcontour\": [{\"colorbar\": {\"outlinewidth\": 0, \"ticks\": \"\"}, \"colorscale\": [[0.0, \"#0d0887\"], [0.1111111111111111, \"#46039f\"], [0.2222222222222222, \"#7201a8\"], [0.3333333333333333, \"#9c179e\"], [0.4444444444444444, \"#bd3786\"], [0.5555555555555556, \"#d8576b\"], [0.6666666666666666, \"#ed7953\"], [0.7777777777777778, \"#fb9f3a\"], [0.8888888888888888, \"#fdca26\"], [1.0, \"#f0f921\"]], \"type\": \"histogram2dcontour\"}], \"mesh3d\": [{\"colorbar\": {\"outlinewidth\": 0, \"ticks\": \"\"}, \"type\": \"mesh3d\"}], \"parcoords\": [{\"line\": {\"colorbar\": {\"outlinewidth\": 0, \"ticks\": \"\"}}, \"type\": \"parcoords\"}], \"pie\": [{\"automargin\": true, \"type\": \"pie\"}], \"scatter\": [{\"marker\": {\"colorbar\": {\"outlinewidth\": 0, \"ticks\": \"\"}}, \"type\": \"scatter\"}], \"scatter3d\": [{\"line\": {\"colorbar\": {\"outlinewidth\": 0, \"ticks\": \"\"}}, \"marker\": {\"colorbar\": {\"outlinewidth\": 0, \"ticks\": \"\"}}, \"type\": \"scatter3d\"}], \"scattercarpet\": [{\"marker\": {\"colorbar\": {\"outlinewidth\": 0, \"ticks\": \"\"}}, \"type\": \"scattercarpet\"}], \"scattergeo\": [{\"marker\": {\"colorbar\": {\"outlinewidth\": 0, \"ticks\": \"\"}}, \"type\": \"scattergeo\"}], \"scattergl\": [{\"marker\": {\"colorbar\": {\"outlinewidth\": 0, \"ticks\": \"\"}}, \"type\": \"scattergl\"}], \"scattermapbox\": [{\"marker\": {\"colorbar\": {\"outlinewidth\": 0, \"ticks\": \"\"}}, \"type\": \"scattermapbox\"}], \"scatterpolar\": [{\"marker\": {\"colorbar\": {\"outlinewidth\": 0, \"ticks\": \"\"}}, \"type\": \"scatterpolar\"}], \"scatterpolargl\": [{\"marker\": {\"colorbar\": {\"outlinewidth\": 0, \"ticks\": \"\"}}, \"type\": \"scatterpolargl\"}], \"scatterternary\": [{\"marker\": {\"colorbar\": {\"outlinewidth\": 0, \"ticks\": \"\"}}, \"type\": \"scatterternary\"}], \"surface\": [{\"colorbar\": {\"outlinewidth\": 0, \"ticks\": \"\"}, \"colorscale\": [[0.0, \"#0d0887\"], [0.1111111111111111, \"#46039f\"], [0.2222222222222222, \"#7201a8\"], [0.3333333333333333, \"#9c179e\"], [0.4444444444444444, \"#bd3786\"], [0.5555555555555556, \"#d8576b\"], [0.6666666666666666, \"#ed7953\"], [0.7777777777777778, \"#fb9f3a\"], [0.8888888888888888, \"#fdca26\"], [1.0, \"#f0f921\"]], \"type\": \"surface\"}], \"table\": [{\"cells\": {\"fill\": {\"color\": \"#EBF0F8\"}, \"line\": {\"color\": \"white\"}}, \"header\": {\"fill\": {\"color\": \"#C8D4E3\"}, \"line\": {\"color\": \"white\"}}, \"type\": \"table\"}]}, \"layout\": {\"annotationdefaults\": {\"arrowcolor\": \"#2a3f5f\", \"arrowhead\": 0, \"arrowwidth\": 1}, \"autotypenumbers\": \"strict\", \"coloraxis\": {\"colorbar\": {\"outlinewidth\": 0, \"ticks\": \"\"}}, \"colorscale\": {\"diverging\": [[0, \"#8e0152\"], [0.1, \"#c51b7d\"], [0.2, \"#de77ae\"], [0.3, \"#f1b6da\"], [0.4, \"#fde0ef\"], [0.5, \"#f7f7f7\"], [0.6, \"#e6f5d0\"], [0.7, \"#b8e186\"], [0.8, \"#7fbc41\"], [0.9, \"#4d9221\"], [1, \"#276419\"]], \"sequential\": [[0.0, \"#0d0887\"], [0.1111111111111111, \"#46039f\"], [0.2222222222222222, \"#7201a8\"], [0.3333333333333333, \"#9c179e\"], [0.4444444444444444, \"#bd3786\"], [0.5555555555555556, \"#d8576b\"], [0.6666666666666666, \"#ed7953\"], [0.7777777777777778, \"#fb9f3a\"], [0.8888888888888888, \"#fdca26\"], [1.0, \"#f0f921\"]], \"sequentialminus\": [[0.0, \"#0d0887\"], [0.1111111111111111, \"#46039f\"], [0.2222222222222222, \"#7201a8\"], [0.3333333333333333, \"#9c179e\"], [0.4444444444444444, \"#bd3786\"], [0.5555555555555556, \"#d8576b\"], [0.6666666666666666, \"#ed7953\"], [0.7777777777777778, \"#fb9f3a\"], [0.8888888888888888, \"#fdca26\"], [1.0, \"#f0f921\"]]}, \"colorway\": [\"#636efa\", \"#EF553B\", \"#00cc96\", \"#ab63fa\", \"#FFA15A\", \"#19d3f3\", \"#FF6692\", \"#B6E880\", \"#FF97FF\", \"#FECB52\"], \"font\": {\"color\": \"#2a3f5f\"}, \"geo\": {\"bgcolor\": \"white\", \"lakecolor\": \"white\", \"landcolor\": \"#E5ECF6\", \"showlakes\": true, \"showland\": true, \"subunitcolor\": \"white\"}, \"hoverlabel\": {\"align\": \"left\"}, \"hovermode\": \"closest\", \"mapbox\": {\"style\": \"light\"}, \"paper_bgcolor\": \"white\", \"plot_bgcolor\": \"#E5ECF6\", \"polar\": {\"angularaxis\": {\"gridcolor\": \"white\", \"linecolor\": \"white\", \"ticks\": \"\"}, \"bgcolor\": \"#E5ECF6\", \"radialaxis\": {\"gridcolor\": \"white\", \"linecolor\": \"white\", \"ticks\": \"\"}}, \"scene\": {\"xaxis\": {\"backgroundcolor\": \"#E5ECF6\", \"gridcolor\": \"white\", \"gridwidth\": 2, \"linecolor\": \"white\", \"showbackground\": true, \"ticks\": \"\", \"zerolinecolor\": \"white\"}, \"yaxis\": {\"backgroundcolor\": \"#E5ECF6\", \"gridcolor\": \"white\", \"gridwidth\": 2, \"linecolor\": \"white\", \"showbackground\": true, \"ticks\": \"\", \"zerolinecolor\": \"white\"}, \"zaxis\": {\"backgroundcolor\": \"#E5ECF6\", \"gridcolor\": \"white\", \"gridwidth\": 2, \"linecolor\": \"white\", \"showbackground\": true, \"ticks\": \"\", \"zerolinecolor\": \"white\"}}, \"shapedefaults\": {\"line\": {\"color\": \"#2a3f5f\"}}, \"ternary\": {\"aaxis\": {\"gridcolor\": \"white\", \"linecolor\": \"white\", \"ticks\": \"\"}, \"baxis\": {\"gridcolor\": \"white\", \"linecolor\": \"white\", \"ticks\": \"\"}, \"bgcolor\": \"#E5ECF6\", \"caxis\": {\"gridcolor\": \"white\", \"linecolor\": \"white\", \"ticks\": \"\"}}, \"title\": {\"x\": 0.05}, \"xaxis\": {\"automargin\": true, \"gridcolor\": \"white\", \"linecolor\": \"white\", \"ticks\": \"\", \"title\": {\"standoff\": 15}, \"zerolinecolor\": \"white\", \"zerolinewidth\": 2}, \"yaxis\": {\"automargin\": true, \"gridcolor\": \"white\", \"linecolor\": \"white\", \"ticks\": \"\", \"title\": {\"standoff\": 15}, \"zerolinecolor\": \"white\", \"zerolinewidth\": 2}}}, \"title\": {\"text\": \"VISION TREE\"}, \"width\": 500, \"xaxis\": {\"range\": [0.0, 10.0]}},                        {\"responsive\": true}                    ).then(function(){\n",
       "                            \n",
       "var gd = document.getElementById('74be8a05-e0e2-4efd-9fff-ffb14866fdd0');\n",
       "var x = new MutationObserver(function (mutations, observer) {{\n",
       "        var display = window.getComputedStyle(gd).display;\n",
       "        if (!display || display === 'none') {{\n",
       "            console.log([gd, 'removed!']);\n",
       "            Plotly.purge(gd);\n",
       "            observer.disconnect();\n",
       "        }}\n",
       "}});\n",
       "\n",
       "// Listen for the removal of the full notebook cells\n",
       "var notebookContainer = gd.closest('#notebook-container');\n",
       "if (notebookContainer) {{\n",
       "    x.observe(notebookContainer, {childList: true});\n",
       "}}\n",
       "\n",
       "// Listen for the clearing of the current output cell\n",
       "var outputEl = gd.closest('.output');\n",
       "if (outputEl) {{\n",
       "    x.observe(outputEl, {childList: true});\n",
       "}}\n",
       "\n",
       "                        })                };                });            </script>        </div>"
      ]
     },
     "metadata": {},
     "output_type": "display_data"
    }
   ],
   "source": [
    "import plotly.graph_objects as go\n",
    "import numpy as np\n",
    "from utils.visualization import cal_stream\n",
    "\n",
    "\n",
    "# Helix equation\n",
    "fig = go.Figure(data=[go.Scatter3d(x=df['x'], y=df['y'], z=df['level'],\n",
    "                                   mode='markers', marker=dict(\n",
    "                                                            size=12,\n",
    "                                                            color=df['level'],                # set color to an array/list of desired values\n",
    "                                                            colorscale='Viridis',   # choose a colorscale\n",
    "                                                            opacity=1.0))])\n",
    "\n",
    "\n",
    "\n",
    "class_id = 0\n",
    "L4_indice, L3_indice, L2_indice, L1_indice, L4_unique, L3_unique, L2_unique, L1_unique = cal_stream(class0,class_id)\n",
    "\n",
    "\n",
    "for connections in L4_indice:\n",
    "    for sub_id in connections:\n",
    "        sx,sy = L4_feature_positions[class_id]\n",
    "        ix,iy = L3_feature_positions[sub_id]\n",
    "        fig.add_trace(\n",
    "        go.Scatter3d(\n",
    "            x=[sx,ix],\n",
    "            y=[sy,iy],\n",
    "            z=[4,3],\n",
    "            mode='lines',\n",
    "            line=dict(\n",
    "        color='darkblue',\n",
    "        width=2\n",
    "    )))\n",
    "\n",
    "for connections, sf in zip(L3_indice, L4_unique):\n",
    "    for sub_id in connections:\n",
    "        sx,sy = L3_feature_positions[sf]\n",
    "        ix,iy = L2_feature_positions[sub_id]\n",
    "        fig.add_trace(\n",
    "        go.Scatter3d(\n",
    "            x=[sx,ix],\n",
    "            y=[sy,iy],\n",
    "            z=[3,2],\n",
    "            mode='lines',\n",
    "            line=dict(\n",
    "        color='darkblue',\n",
    "        width=2\n",
    "    )))\n",
    "\n",
    "for connections, sf in zip(L2_indice, L3_unique):\n",
    "    for sub_id in connections:\n",
    "        sx,sy = L2_feature_positions[sf]\n",
    "        ix,iy = L1_feature_positions[sub_id]\n",
    "        fig.add_trace(\n",
    "        go.Scatter3d(\n",
    "            x=[sx,ix],\n",
    "            y=[sy,iy],\n",
    "            z=[2,1],\n",
    "            mode='lines',\n",
    "            line=dict(\n",
    "        color='darkblue',\n",
    "        width=2\n",
    "    )))\n",
    "\n",
    "class_id = 1\n",
    "L4_indice, L3_indice, L2_indice, L1_indice, L4_unique, L3_unique, L2_unique, L1_unique = cal_stream(class1,class_id)\n",
    "\n",
    "\n",
    "for connections in L4_indice:\n",
    "    for sub_id in connections:\n",
    "        sx,sy = L4_feature_positions[class_id]\n",
    "        ix,iy = L3_feature_positions[sub_id]\n",
    "        fig.add_trace(\n",
    "        go.Scatter3d(\n",
    "            x=[sx,ix],\n",
    "            y=[sy,iy],\n",
    "            z=[4,3],\n",
    "            mode='lines',\n",
    "            line=dict(\n",
    "        color='yellow',\n",
    "        width=2\n",
    "    )))\n",
    "\n",
    "for connections, sf in zip(L3_indice, L4_unique):\n",
    "    for sub_id in connections:\n",
    "        sx,sy = L3_feature_positions[sf]\n",
    "        ix,iy = L2_feature_positions[sub_id]\n",
    "        fig.add_trace(\n",
    "        go.Scatter3d(\n",
    "            x=[sx,ix],\n",
    "            y=[sy,iy],\n",
    "            z=[3,2],\n",
    "            mode='lines',\n",
    "            line=dict(\n",
    "        color='yellow',\n",
    "        width=2\n",
    "    )))\n",
    "\n",
    "for connections, sf in zip(L2_indice, L3_unique):\n",
    "    for sub_id in connections:\n",
    "        sx,sy = L2_feature_positions[sf]\n",
    "        ix,iy = L1_feature_positions[sub_id]\n",
    "        fig.add_trace(\n",
    "        go.Scatter3d(\n",
    "            x=[sx,ix],\n",
    "            y=[sy,iy],\n",
    "            z=[2,1],\n",
    "            mode='lines',\n",
    "            line=dict(\n",
    "        color='yellow',\n",
    "        width=2\n",
    "    )))\n",
    "        \n",
    "class_id = 2\n",
    "L4_indice, L3_indice, L2_indice, L1_indice, L4_unique, L3_unique, L2_unique, L1_unique = cal_stream(class2,class_id)\n",
    "\n",
    "\n",
    "for connections in L4_indice:\n",
    "    for sub_id in connections:\n",
    "        sx,sy = L4_feature_positions[class_id]\n",
    "        ix,iy = L3_feature_positions[sub_id]\n",
    "        fig.add_trace(\n",
    "        go.Scatter3d(\n",
    "            x=[sx,ix],\n",
    "            y=[sy,iy],\n",
    "            z=[4,3],\n",
    "            mode='lines',\n",
    "            line=dict(\n",
    "        color='green',\n",
    "        width=2\n",
    "    )))\n",
    "\n",
    "for connections, sf in zip(L3_indice, L4_unique):\n",
    "    for sub_id in connections:\n",
    "        sx,sy = L3_feature_positions[sf]\n",
    "        ix,iy = L2_feature_positions[sub_id]\n",
    "        fig.add_trace(\n",
    "        go.Scatter3d(\n",
    "            x=[sx,ix],\n",
    "            y=[sy,iy],\n",
    "            z=[3,2],\n",
    "            mode='lines',\n",
    "            line=dict(\n",
    "        color='green',\n",
    "        width=2\n",
    "    )))\n",
    "\n",
    "for connections, sf in zip(L2_indice, L3_unique):\n",
    "    for sub_id in connections:\n",
    "        sx,sy = L2_feature_positions[sf]\n",
    "        ix,iy = L1_feature_positions[sub_id]\n",
    "        fig.add_trace(\n",
    "        go.Scatter3d(\n",
    "            x=[sx,ix],\n",
    "            y=[sy,iy],\n",
    "            z=[2,1],\n",
    "            mode='lines',\n",
    "            line=dict(\n",
    "        color='green',\n",
    "        width=2\n",
    "    )))\n",
    "        \n",
    "\n",
    "fig.update_layout(\n",
    "    title='VISION TREE', \n",
    "    autosize=True,\n",
    "    width=500, \n",
    "    height=500,\n",
    "    xaxis=dict(range=[0.,10.]),\n",
    "    margin=dict(l=65, r=50, b=65, t=90),\n",
    "    scene_aspectmode='manual',\n",
    "    scene_aspectratio=dict(x=1, y=1, z=2),\n",
    "    scene=dict(\n",
    "        xaxis= dict(range=[0,5], nticks=20),\n",
    "        yaxis= dict(range=[0,5], nticks=20),\n",
    "        zaxis= dict(range=[0,5]),\n",
    "        xaxis_title='X',\n",
    "        yaxis_title='Y',\n",
    "        zaxis_title='LEVEL',\n",
    "    ))\n",
    "fig.update_layout(showlegend=False)\n",
    "fig.show()"
   ]
  },
  {
   "cell_type": "code",
   "execution_count": null,
   "metadata": {},
   "outputs": [],
   "source": []
  }
 ],
 "metadata": {
  "kernelspec": {
   "display_name": "Python 3",
   "language": "python",
   "name": "python3"
  },
  "language_info": {
   "codemirror_mode": {
    "name": "ipython",
    "version": 3
   },
   "file_extension": ".py",
   "mimetype": "text/x-python",
   "name": "python",
   "nbconvert_exporter": "python",
   "pygments_lexer": "ipython3",
   "version": "3.6.9"
  }
 },
 "nbformat": 4,
 "nbformat_minor": 4
}
