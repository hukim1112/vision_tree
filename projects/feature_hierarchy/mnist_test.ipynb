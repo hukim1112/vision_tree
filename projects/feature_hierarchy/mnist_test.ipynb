{
 "cells": [
  {
   "cell_type": "code",
   "execution_count": 1,
   "metadata": {},
   "outputs": [],
   "source": [
    "import os, sys\n",
    "sys.path.append(\"/home/files/feature_orthogonality\")\n",
    "from utils.session_config import setup_gpus"
   ]
  },
  {
   "cell_type": "code",
   "execution_count": 2,
   "metadata": {},
   "outputs": [],
   "source": [
    "import tensorflow as tf\n",
    "import cv2\n",
    "import numpy as np\n",
    "from matplotlib import pyplot as plt\n",
    "import seaborn as sns"
   ]
  },
  {
   "cell_type": "code",
   "execution_count": 3,
   "metadata": {},
   "outputs": [
    {
     "name": "stdout",
     "output_type": "stream",
     "text": [
      "1 Physical GPUs, 1 Logical GPUs\n"
     ]
    }
   ],
   "source": [
    "os.environ[\"CUDA_VISIBLE_DEVICES\"]=\"1\"\n",
    "setup_gpus(memory_fraction=0.2)"
   ]
  },
  {
   "cell_type": "markdown",
   "metadata": {},
   "source": [
    "# Load mnist images"
   ]
  },
  {
   "cell_type": "code",
   "execution_count": 4,
   "metadata": {},
   "outputs": [],
   "source": [
    "data_0 = np.load(\"0.npy\")\n",
    "label_0 = np.zeros(len(data_0), np.int32)\n",
    "data_5 = np.load(\"5.npy\")\n",
    "label_5 = np.ones(len(data_5), np.int32)\n",
    "data_7 = np.load(\"7.npy\")\n",
    "label_7 = np.ones(len(data_7), np.int32)*2"
   ]
  },
  {
   "cell_type": "code",
   "execution_count": 5,
   "metadata": {},
   "outputs": [],
   "source": [
    "train_x = tf.concat([data_0, data_5, data_7], axis=0)\n",
    "train_x = tf.cast(train_x, tf.float32)\n",
    "train_x = train_x[:,:,:,tf.newaxis]/255.\n",
    "train_y = tf.concat([label_0, label_5, label_7], axis=0)"
   ]
  },
  {
   "cell_type": "code",
   "execution_count": 6,
   "metadata": {},
   "outputs": [
    {
     "name": "stdout",
     "output_type": "stream",
     "text": [
      "(17609, 28, 28, 1)\n",
      "(17609,)\n"
     ]
    }
   ],
   "source": [
    "print(train_x.shape)\n",
    "print(train_y.shape)"
   ]
  },
  {
   "cell_type": "code",
   "execution_count": 7,
   "metadata": {},
   "outputs": [],
   "source": [
    "#(train_x, train_y), (test_x, test_y) = tf.keras.datasets.mnist.load_data()\n",
    "# train_x = train_x[:,:,:,tf.newaxis]/255.\n",
    "# test_x = test_x[:,:,:,tf.newaxis]/255.\n",
    "# print(train_x.shape)\n",
    "# print(test_x.shape)"
   ]
  },
  {
   "cell_type": "markdown",
   "metadata": {},
   "source": [
    "# Build Model"
   ]
  },
  {
   "cell_type": "code",
   "execution_count": 7,
   "metadata": {},
   "outputs": [],
   "source": [
    "from tensorflow.keras.layers import Conv2D, MaxPool2D, Flatten, Dense\n",
    "\n",
    "model = tf.keras.Sequential()\n",
    "model.add(Conv2D(32, (3,3), activation='relu'))\n",
    "model.add(MaxPool2D())\n",
    "model.add(Conv2D(64, (3,3), activation='relu'))\n",
    "model.add(MaxPool2D())\n",
    "model.add(Flatten())\n",
    "model.add(Dense(32, activation='relu'))\n",
    "model.add(Dense(10, activation='softmax'))\n"
   ]
  },
  {
   "cell_type": "code",
   "execution_count": 8,
   "metadata": {},
   "outputs": [
    {
     "name": "stdout",
     "output_type": "stream",
     "text": [
      "Epoch 1/10\n",
      "551/551 [==============================] - 1s 2ms/step - loss: 0.0856 - acc: 0.9718\n",
      "Epoch 2/10\n",
      "551/551 [==============================] - 1s 2ms/step - loss: 0.0118 - acc: 0.9960\n",
      "Epoch 3/10\n",
      "551/551 [==============================] - 1s 2ms/step - loss: 0.0051 - acc: 0.9981\n",
      "Epoch 4/10\n",
      "551/551 [==============================] - 1s 2ms/step - loss: 0.0046 - acc: 0.9985\n",
      "Epoch 5/10\n",
      "551/551 [==============================] - 1s 2ms/step - loss: 0.0026 - acc: 0.9990\n",
      "Epoch 6/10\n",
      "551/551 [==============================] - 1s 2ms/step - loss: 0.0018 - acc: 0.9995\n",
      "Epoch 7/10\n",
      "551/551 [==============================] - 1s 2ms/step - loss: 0.0023 - acc: 0.9991\n",
      "Epoch 8/10\n",
      "551/551 [==============================] - 1s 2ms/step - loss: 0.0020 - acc: 0.9992\n",
      "Epoch 9/10\n",
      "551/551 [==============================] - 1s 2ms/step - loss: 0.0011 - acc: 0.9997\n",
      "Epoch 10/10\n",
      "551/551 [==============================] - 1s 2ms/step - loss: 4.0680e-04 - acc: 0.9998\n"
     ]
    },
    {
     "data": {
      "text/plain": [
       "<tensorflow.python.keras.callbacks.History at 0x7faa704f1908>"
      ]
     },
     "execution_count": 8,
     "metadata": {},
     "output_type": "execute_result"
    }
   ],
   "source": [
    "model.compile(optimizer='Adam', loss=tf.keras.losses.SparseCategoricalCrossentropy(), metrics=['acc'])\n",
    "model.fit(train_x, train_y, epochs=10)"
   ]
  },
  {
   "cell_type": "code",
   "execution_count": 9,
   "metadata": {},
   "outputs": [
    {
     "data": {
      "text/plain": [
       "[<tensorflow.python.keras.layers.convolutional.Conv2D at 0x7faa705dc358>,\n",
       " <tensorflow.python.keras.layers.pooling.MaxPooling2D at 0x7faa705dc5f8>,\n",
       " <tensorflow.python.keras.layers.convolutional.Conv2D at 0x7faa705dc860>,\n",
       " <tensorflow.python.keras.layers.pooling.MaxPooling2D at 0x7faa705dca90>,\n",
       " <tensorflow.python.keras.layers.core.Flatten at 0x7faa705dcac8>,\n",
       " <tensorflow.python.keras.layers.core.Dense at 0x7faa705dccf8>,\n",
       " <tensorflow.python.keras.layers.core.Dense at 0x7faa705dce80>]"
      ]
     },
     "execution_count": 9,
     "metadata": {},
     "output_type": "execute_result"
    }
   ],
   "source": [
    "model.layers"
   ]
  },
  {
   "cell_type": "code",
   "execution_count": 14,
   "metadata": {},
   "outputs": [
    {
     "data": {
      "text/plain": [
       "array([-0.00837162,  0.01268043, -0.01906341,  0.00834394,  0.02072056,\n",
       "        0.01945855, -0.00402998,  0.02504837,  0.0271862 , -0.00940461,\n",
       "       -0.03340371,  0.0162708 , -0.03813823, -0.00859336,  0.01771883,\n",
       "       -0.00686041,  0.01806572, -0.038187  , -0.00607036, -0.00743724,\n",
       "       -0.0086609 , -0.01248649, -0.00616797,  0.01870752, -0.0071583 ,\n",
       "        0.02267759,  0.01688812,  0.02647537,  0.0142962 ,  0.01497921,\n",
       "       -0.00600793,  0.01715473], dtype=float32)"
      ]
     },
     "execution_count": 14,
     "metadata": {},
     "output_type": "execute_result"
    }
   ],
   "source": [
    "model.layers[-2].get_weights()[1]"
   ]
  },
  {
   "cell_type": "code",
   "execution_count": 15,
   "metadata": {},
   "outputs": [
    {
     "name": "stdout",
     "output_type": "stream",
     "text": [
      "551/551 [==============================] - 1s 2ms/step - loss: 2.1446e-04 - acc: 0.9999\n"
     ]
    },
    {
     "data": {
      "text/plain": [
       "<tensorflow.python.keras.callbacks.History at 0x7faa702f6ba8>"
      ]
     },
     "execution_count": 15,
     "metadata": {},
     "output_type": "execute_result"
    }
   ],
   "source": [
    "model.fit(train_x, train_y, epochs=1)"
   ]
  },
  {
   "cell_type": "code",
   "execution_count": 26,
   "metadata": {},
   "outputs": [
    {
     "data": {
      "text/plain": [
       "array([[1., 1., 1., ..., 1., 1., 1.],\n",
       "       [1., 1., 1., ..., 1., 1., 1.],\n",
       "       [1., 1., 1., ..., 1., 1., 1.],\n",
       "       ...,\n",
       "       [1., 1., 1., ..., 1., 1., 1.],\n",
       "       [1., 1., 1., ..., 1., 1., 1.],\n",
       "       [1., 1., 1., ..., 1., 1., 1.]], dtype=float32)"
      ]
     },
     "execution_count": 26,
     "metadata": {},
     "output_type": "execute_result"
    }
   ],
   "source": [
    "model.layers[-2].get_weights()[0]"
   ]
  },
  {
   "cell_type": "code",
   "execution_count": null,
   "metadata": {},
   "outputs": [],
   "source": []
  },
  {
   "cell_type": "code",
   "execution_count": null,
   "metadata": {},
   "outputs": [],
   "source": []
  },
  {
   "cell_type": "code",
   "execution_count": 10,
   "metadata": {},
   "outputs": [],
   "source": [
    "new_model = tf.keras.Model(model.input, model.layers[-2].output)"
   ]
  },
  {
   "cell_type": "code",
   "execution_count": 11,
   "metadata": {},
   "outputs": [
    {
     "data": {
      "text/plain": [
       "[<tensorflow.python.keras.engine.input_layer.InputLayer at 0x7faa7047c3c8>,\n",
       " <tensorflow.python.keras.layers.convolutional.Conv2D at 0x7faa705dc358>,\n",
       " <tensorflow.python.keras.layers.pooling.MaxPooling2D at 0x7faa705dc5f8>,\n",
       " <tensorflow.python.keras.layers.convolutional.Conv2D at 0x7faa705dc860>,\n",
       " <tensorflow.python.keras.layers.pooling.MaxPooling2D at 0x7faa705dca90>,\n",
       " <tensorflow.python.keras.layers.core.Flatten at 0x7faa705dcac8>,\n",
       " <tensorflow.python.keras.layers.core.Dense at 0x7faa705dccf8>]"
      ]
     },
     "execution_count": 11,
     "metadata": {},
     "output_type": "execute_result"
    }
   ],
   "source": [
    "new_model.layers"
   ]
  },
  {
   "cell_type": "code",
   "execution_count": 22,
   "metadata": {},
   "outputs": [
    {
     "data": {
      "text/plain": [
       "(1600, 32)"
      ]
     },
     "execution_count": 22,
     "metadata": {},
     "output_type": "execute_result"
    }
   ],
   "source": [
    "new_model.layers[-1].get_weights()[0]"
   ]
  },
  {
   "cell_type": "code",
   "execution_count": 23,
   "metadata": {},
   "outputs": [],
   "source": [
    "new_model.layers[-1].set_weights([tf.ones([1600,32], tf.float32), tf.ones([32], tf.float32)])"
   ]
  },
  {
   "cell_type": "code",
   "execution_count": null,
   "metadata": {},
   "outputs": [],
   "source": []
  },
  {
   "cell_type": "code",
   "execution_count": 24,
   "metadata": {},
   "outputs": [
    {
     "data": {
      "text/plain": [
       "array([1., 1., 1., 1., 1., 1., 1., 1., 1., 1., 1., 1., 1., 1., 1., 1., 1.,\n",
       "       1., 1., 1., 1., 1., 1., 1., 1., 1., 1., 1., 1., 1., 1., 1.],\n",
       "      dtype=float32)"
      ]
     },
     "execution_count": 24,
     "metadata": {},
     "output_type": "execute_result"
    }
   ],
   "source": [
    "new_model.layers[-1].get_weights()[1]"
   ]
  },
  {
   "cell_type": "code",
   "execution_count": 17,
   "metadata": {},
   "outputs": [
    {
     "data": {
      "text/plain": [
       "array([-0.00837162,  0.01362524, -0.01852702,  0.00769823,  0.02287077,\n",
       "        0.02361904, -0.00402998,  0.02381487,  0.02467142, -0.00742251,\n",
       "       -0.03340371,  0.01672162, -0.03791286, -0.00859336,  0.01908844,\n",
       "       -0.00686041,  0.01770509, -0.038187  , -0.00607036, -0.00743724,\n",
       "       -0.0086609 , -0.01248649, -0.00616797,  0.01930858, -0.0071583 ,\n",
       "        0.0224361 ,  0.01676522,  0.02594074,  0.01343621,  0.01536536,\n",
       "       -0.00600793,  0.01591624], dtype=float32)"
      ]
     },
     "execution_count": 17,
     "metadata": {},
     "output_type": "execute_result"
    }
   ],
   "source": [
    "new_model.layers[-1].get_weights()[1]"
   ]
  },
  {
   "cell_type": "code",
   "execution_count": 18,
   "metadata": {},
   "outputs": [],
   "source": [
    "new_model.save(\"temp.h5\")"
   ]
  },
  {
   "cell_type": "code",
   "execution_count": 20,
   "metadata": {},
   "outputs": [
    {
     "name": "stdout",
     "output_type": "stream",
     "text": [
      "WARNING:tensorflow:No training configuration found in the save file, so the model was *not* compiled. Compile it manually.\n"
     ]
    },
    {
     "data": {
      "text/plain": [
       "[<tensorflow.python.keras.engine.input_layer.InputLayer at 0x7faa105ed7b8>,\n",
       " <tensorflow.python.keras.layers.convolutional.Conv2D at 0x7faa105ed978>,\n",
       " <tensorflow.python.keras.layers.pooling.MaxPooling2D at 0x7faa105edc88>,\n",
       " <tensorflow.python.keras.layers.convolutional.Conv2D at 0x7faa1070e080>,\n",
       " <tensorflow.python.keras.layers.pooling.MaxPooling2D at 0x7faa1070e390>,\n",
       " <tensorflow.python.keras.layers.core.Flatten at 0x7faa1070e588>,\n",
       " <tensorflow.python.keras.layers.core.Dense at 0x7faa1070e748>]"
      ]
     },
     "execution_count": 20,
     "metadata": {},
     "output_type": "execute_result"
    }
   ],
   "source": [
    "newnew_model = tf.keras.models.load_model(\"temp.h5\")\n",
    "newnew_model.layers"
   ]
  },
  {
   "cell_type": "markdown",
   "metadata": {},
   "source": [
    "# Visualization"
   ]
  },
  {
   "cell_type": "code",
   "execution_count": null,
   "metadata": {},
   "outputs": [],
   "source": [
    "tf.keras.utils.plot_model(model, show_shapes=True)"
   ]
  },
  {
   "cell_type": "code",
   "execution_count": null,
   "metadata": {},
   "outputs": [],
   "source": [
    "def get_weight_cosine_similarity(weight):\n",
    "    w = weight\n",
    "    if len(w.shape) == 4: #convolution\n",
    "        H,W,C,N = w.shape\n",
    "        row_dims = H*W*C\n",
    "        col_dims = N\n",
    "    else: #dense\n",
    "        D,N = w.shape\n",
    "        row_dims = D\n",
    "        col_dims = N\n",
    "    w = tf.reshape(w, (row_dims, col_dims))\n",
    "    norm = tf.norm(w, axis=0)\n",
    "    w = w/norm #normalize\n",
    "    wT = tf.transpose(w)\n",
    "    correlations = tf.matmul(wT,w)\n",
    "    return correlations\n",
    "\n",
    "def get_weight_l2norm(weight):\n",
    "    w = weight\n",
    "    if len(w.shape) == 4: #convolution\n",
    "        H,W,C,N = w.shape\n",
    "        row_dims = H*W*C\n",
    "        col_dims = N\n",
    "    else: #dense\n",
    "        D,N = w.shape\n",
    "        row_dims = D\n",
    "        col_dims = N\n",
    "    w = tf.reshape(w, (row_dims, col_dims))\n",
    "    norm = tf.norm(w, axis=0)\n",
    "    return norm"
   ]
  },
  {
   "cell_type": "code",
   "execution_count": null,
   "metadata": {},
   "outputs": [],
   "source": [
    "weight = model.get_layer(\"conv2d\").get_weights()[0]\n",
    "correlations = get_weight_cosine_similarity(weight)"
   ]
  },
  {
   "cell_type": "code",
   "execution_count": null,
   "metadata": {},
   "outputs": [],
   "source": [
    "import matplotlib as mpl\n",
    "mpl.rcParams['figure.dpi'] = 800\n",
    "sns.heatmap(correlations, vmin=-1, vmax=1, cmap='RdBu_r', center=0, annot=True, fmt='.1f',xticklabels=False, yticklabels=False,annot_kws={\"size\": 4})"
   ]
  },
  {
   "cell_type": "code",
   "execution_count": null,
   "metadata": {},
   "outputs": [],
   "source": [
    "norm = get_weight_l2norm(weight)\n",
    "plt.bar(range(correlations.shape[0]), norm)\n",
    "plt.title('Norm of weights', fontsize=20)\n",
    "plt.show()"
   ]
  },
  {
   "cell_type": "code",
   "execution_count": null,
   "metadata": {},
   "outputs": [],
   "source": [
    "norm"
   ]
  },
  {
   "cell_type": "code",
   "execution_count": null,
   "metadata": {},
   "outputs": [],
   "source": []
  }
 ],
 "metadata": {
  "kernelspec": {
   "display_name": "Python 3",
   "language": "python",
   "name": "python3"
  },
  "language_info": {
   "codemirror_mode": {
    "name": "ipython",
    "version": 3
   },
   "file_extension": ".py",
   "mimetype": "text/x-python",
   "name": "python",
   "nbconvert_exporter": "python",
   "pygments_lexer": "ipython3",
   "version": "3.6.9"
  }
 },
 "nbformat": 4,
 "nbformat_minor": 4
}
